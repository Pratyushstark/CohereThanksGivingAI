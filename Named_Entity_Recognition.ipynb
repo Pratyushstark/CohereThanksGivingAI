{
  "nbformat": 4,
  "nbformat_minor": 0,
  "metadata": {
    "colab": {
      "provenance": [],
      "collapsed_sections": [
        "Ddu1f6cLxlaT",
        "5M0Ayx9eG80X",
        "zFYXgoggHHOw",
        "8hmjwJ-5xlaZ",
        "N48liRFCxlaZ",
        "gkBXlQaYIJjX",
        "9_tPQtJWIcGG",
        "eAAUx7QKInfP",
        "iVxNPEd4JQ-c"
      ]
    },
    "kernelspec": {
      "name": "python3",
      "display_name": "Python 3"
    },
    "language_info": {
      "name": "python"
    },
    "accelerator": "GPU",
    "gpuClass": "standard",
    "widgets": {
      "application/vnd.jupyter.widget-state+json": {
        "f839c84331834b6b9ec15b93cb9ac101": {
          "model_module": "@jupyter-widgets/controls",
          "model_name": "HBoxModel",
          "model_module_version": "1.5.0",
          "state": {
            "_dom_classes": [],
            "_model_module": "@jupyter-widgets/controls",
            "_model_module_version": "1.5.0",
            "_model_name": "HBoxModel",
            "_view_count": null,
            "_view_module": "@jupyter-widgets/controls",
            "_view_module_version": "1.5.0",
            "_view_name": "HBoxView",
            "box_style": "",
            "children": [
              "IPY_MODEL_ed2c462ff43b491abda4951ec755e3a5",
              "IPY_MODEL_45b212a182c646db89030390af75aa8b",
              "IPY_MODEL_ce9b97ee817c464e9291fd70b1ed4b4c"
            ],
            "layout": "IPY_MODEL_2e129869be654dee868b8d8dd6500823"
          }
        },
        "ed2c462ff43b491abda4951ec755e3a5": {
          "model_module": "@jupyter-widgets/controls",
          "model_name": "HTMLModel",
          "model_module_version": "1.5.0",
          "state": {
            "_dom_classes": [],
            "_model_module": "@jupyter-widgets/controls",
            "_model_module_version": "1.5.0",
            "_model_name": "HTMLModel",
            "_view_count": null,
            "_view_module": "@jupyter-widgets/controls",
            "_view_module_version": "1.5.0",
            "_view_name": "HTMLView",
            "description": "",
            "description_tooltip": null,
            "layout": "IPY_MODEL_b021d7d919c34f119e38b805e5349a6c",
            "placeholder": "​",
            "style": "IPY_MODEL_8e3416a6dc984edb91dff9da194ebe42",
            "value": "100%"
          }
        },
        "45b212a182c646db89030390af75aa8b": {
          "model_module": "@jupyter-widgets/controls",
          "model_name": "FloatProgressModel",
          "model_module_version": "1.5.0",
          "state": {
            "_dom_classes": [],
            "_model_module": "@jupyter-widgets/controls",
            "_model_module_version": "1.5.0",
            "_model_name": "FloatProgressModel",
            "_view_count": null,
            "_view_module": "@jupyter-widgets/controls",
            "_view_module_version": "1.5.0",
            "_view_name": "ProgressView",
            "bar_style": "success",
            "description": "",
            "description_tooltip": null,
            "layout": "IPY_MODEL_df5be997703541c4aad351ef3ef56272",
            "max": 3,
            "min": 0,
            "orientation": "horizontal",
            "style": "IPY_MODEL_81409d7bfba84a50b2afc318e6a094a6",
            "value": 3
          }
        },
        "ce9b97ee817c464e9291fd70b1ed4b4c": {
          "model_module": "@jupyter-widgets/controls",
          "model_name": "HTMLModel",
          "model_module_version": "1.5.0",
          "state": {
            "_dom_classes": [],
            "_model_module": "@jupyter-widgets/controls",
            "_model_module_version": "1.5.0",
            "_model_name": "HTMLModel",
            "_view_count": null,
            "_view_module": "@jupyter-widgets/controls",
            "_view_module_version": "1.5.0",
            "_view_name": "HTMLView",
            "description": "",
            "description_tooltip": null,
            "layout": "IPY_MODEL_11dffc1e16174b1480a80e49ae39240d",
            "placeholder": "​",
            "style": "IPY_MODEL_0b6e129e54dd415ea3674c0c8f061bda",
            "value": " 3/3 [00:24&lt;00:00, 12.86s/it]"
          }
        },
        "2e129869be654dee868b8d8dd6500823": {
          "model_module": "@jupyter-widgets/base",
          "model_name": "LayoutModel",
          "model_module_version": "1.2.0",
          "state": {
            "_model_module": "@jupyter-widgets/base",
            "_model_module_version": "1.2.0",
            "_model_name": "LayoutModel",
            "_view_count": null,
            "_view_module": "@jupyter-widgets/base",
            "_view_module_version": "1.2.0",
            "_view_name": "LayoutView",
            "align_content": null,
            "align_items": null,
            "align_self": null,
            "border": null,
            "bottom": null,
            "display": null,
            "flex": null,
            "flex_flow": null,
            "grid_area": null,
            "grid_auto_columns": null,
            "grid_auto_flow": null,
            "grid_auto_rows": null,
            "grid_column": null,
            "grid_gap": null,
            "grid_row": null,
            "grid_template_areas": null,
            "grid_template_columns": null,
            "grid_template_rows": null,
            "height": null,
            "justify_content": null,
            "justify_items": null,
            "left": null,
            "margin": null,
            "max_height": null,
            "max_width": null,
            "min_height": null,
            "min_width": null,
            "object_fit": null,
            "object_position": null,
            "order": null,
            "overflow": null,
            "overflow_x": null,
            "overflow_y": null,
            "padding": null,
            "right": null,
            "top": null,
            "visibility": null,
            "width": null
          }
        },
        "b021d7d919c34f119e38b805e5349a6c": {
          "model_module": "@jupyter-widgets/base",
          "model_name": "LayoutModel",
          "model_module_version": "1.2.0",
          "state": {
            "_model_module": "@jupyter-widgets/base",
            "_model_module_version": "1.2.0",
            "_model_name": "LayoutModel",
            "_view_count": null,
            "_view_module": "@jupyter-widgets/base",
            "_view_module_version": "1.2.0",
            "_view_name": "LayoutView",
            "align_content": null,
            "align_items": null,
            "align_self": null,
            "border": null,
            "bottom": null,
            "display": null,
            "flex": null,
            "flex_flow": null,
            "grid_area": null,
            "grid_auto_columns": null,
            "grid_auto_flow": null,
            "grid_auto_rows": null,
            "grid_column": null,
            "grid_gap": null,
            "grid_row": null,
            "grid_template_areas": null,
            "grid_template_columns": null,
            "grid_template_rows": null,
            "height": null,
            "justify_content": null,
            "justify_items": null,
            "left": null,
            "margin": null,
            "max_height": null,
            "max_width": null,
            "min_height": null,
            "min_width": null,
            "object_fit": null,
            "object_position": null,
            "order": null,
            "overflow": null,
            "overflow_x": null,
            "overflow_y": null,
            "padding": null,
            "right": null,
            "top": null,
            "visibility": null,
            "width": null
          }
        },
        "8e3416a6dc984edb91dff9da194ebe42": {
          "model_module": "@jupyter-widgets/controls",
          "model_name": "DescriptionStyleModel",
          "model_module_version": "1.5.0",
          "state": {
            "_model_module": "@jupyter-widgets/controls",
            "_model_module_version": "1.5.0",
            "_model_name": "DescriptionStyleModel",
            "_view_count": null,
            "_view_module": "@jupyter-widgets/base",
            "_view_module_version": "1.2.0",
            "_view_name": "StyleView",
            "description_width": ""
          }
        },
        "df5be997703541c4aad351ef3ef56272": {
          "model_module": "@jupyter-widgets/base",
          "model_name": "LayoutModel",
          "model_module_version": "1.2.0",
          "state": {
            "_model_module": "@jupyter-widgets/base",
            "_model_module_version": "1.2.0",
            "_model_name": "LayoutModel",
            "_view_count": null,
            "_view_module": "@jupyter-widgets/base",
            "_view_module_version": "1.2.0",
            "_view_name": "LayoutView",
            "align_content": null,
            "align_items": null,
            "align_self": null,
            "border": null,
            "bottom": null,
            "display": null,
            "flex": null,
            "flex_flow": null,
            "grid_area": null,
            "grid_auto_columns": null,
            "grid_auto_flow": null,
            "grid_auto_rows": null,
            "grid_column": null,
            "grid_gap": null,
            "grid_row": null,
            "grid_template_areas": null,
            "grid_template_columns": null,
            "grid_template_rows": null,
            "height": null,
            "justify_content": null,
            "justify_items": null,
            "left": null,
            "margin": null,
            "max_height": null,
            "max_width": null,
            "min_height": null,
            "min_width": null,
            "object_fit": null,
            "object_position": null,
            "order": null,
            "overflow": null,
            "overflow_x": null,
            "overflow_y": null,
            "padding": null,
            "right": null,
            "top": null,
            "visibility": null,
            "width": null
          }
        },
        "81409d7bfba84a50b2afc318e6a094a6": {
          "model_module": "@jupyter-widgets/controls",
          "model_name": "ProgressStyleModel",
          "model_module_version": "1.5.0",
          "state": {
            "_model_module": "@jupyter-widgets/controls",
            "_model_module_version": "1.5.0",
            "_model_name": "ProgressStyleModel",
            "_view_count": null,
            "_view_module": "@jupyter-widgets/base",
            "_view_module_version": "1.2.0",
            "_view_name": "StyleView",
            "bar_color": null,
            "description_width": ""
          }
        },
        "11dffc1e16174b1480a80e49ae39240d": {
          "model_module": "@jupyter-widgets/base",
          "model_name": "LayoutModel",
          "model_module_version": "1.2.0",
          "state": {
            "_model_module": "@jupyter-widgets/base",
            "_model_module_version": "1.2.0",
            "_model_name": "LayoutModel",
            "_view_count": null,
            "_view_module": "@jupyter-widgets/base",
            "_view_module_version": "1.2.0",
            "_view_name": "LayoutView",
            "align_content": null,
            "align_items": null,
            "align_self": null,
            "border": null,
            "bottom": null,
            "display": null,
            "flex": null,
            "flex_flow": null,
            "grid_area": null,
            "grid_auto_columns": null,
            "grid_auto_flow": null,
            "grid_auto_rows": null,
            "grid_column": null,
            "grid_gap": null,
            "grid_row": null,
            "grid_template_areas": null,
            "grid_template_columns": null,
            "grid_template_rows": null,
            "height": null,
            "justify_content": null,
            "justify_items": null,
            "left": null,
            "margin": null,
            "max_height": null,
            "max_width": null,
            "min_height": null,
            "min_width": null,
            "object_fit": null,
            "object_position": null,
            "order": null,
            "overflow": null,
            "overflow_x": null,
            "overflow_y": null,
            "padding": null,
            "right": null,
            "top": null,
            "visibility": null,
            "width": null
          }
        },
        "0b6e129e54dd415ea3674c0c8f061bda": {
          "model_module": "@jupyter-widgets/controls",
          "model_name": "DescriptionStyleModel",
          "model_module_version": "1.5.0",
          "state": {
            "_model_module": "@jupyter-widgets/controls",
            "_model_module_version": "1.5.0",
            "_model_name": "DescriptionStyleModel",
            "_view_count": null,
            "_view_module": "@jupyter-widgets/base",
            "_view_module_version": "1.2.0",
            "_view_name": "StyleView",
            "description_width": ""
          }
        },
        "1c1f6cfae4a246c69d93b4ad55a519f6": {
          "model_module": "@jupyter-widgets/controls",
          "model_name": "HBoxModel",
          "model_module_version": "1.5.0",
          "state": {
            "_dom_classes": [],
            "_model_module": "@jupyter-widgets/controls",
            "_model_module_version": "1.5.0",
            "_model_name": "HBoxModel",
            "_view_count": null,
            "_view_module": "@jupyter-widgets/controls",
            "_view_module_version": "1.5.0",
            "_view_name": "HBoxView",
            "box_style": "",
            "children": [
              "IPY_MODEL_fdb598d6523846c48fc8a317077cc229",
              "IPY_MODEL_b4d40e2334f84457bc61cea109428c40",
              "IPY_MODEL_4044683dcc814a30a4b3eef43f173015"
            ],
            "layout": "IPY_MODEL_c4d109e0e6e14ee399da30b9e6066b63"
          }
        },
        "fdb598d6523846c48fc8a317077cc229": {
          "model_module": "@jupyter-widgets/controls",
          "model_name": "HTMLModel",
          "model_module_version": "1.5.0",
          "state": {
            "_dom_classes": [],
            "_model_module": "@jupyter-widgets/controls",
            "_model_module_version": "1.5.0",
            "_model_name": "HTMLModel",
            "_view_count": null,
            "_view_module": "@jupyter-widgets/controls",
            "_view_module_version": "1.5.0",
            "_view_name": "HTMLView",
            "description": "",
            "description_tooltip": null,
            "layout": "IPY_MODEL_30eedede510f4b0b958d8c5a66586f29",
            "placeholder": "​",
            "style": "IPY_MODEL_c36aeafa4076412481879c6b0c87f684",
            "value": "Epoch 5 of 5: 100%"
          }
        },
        "b4d40e2334f84457bc61cea109428c40": {
          "model_module": "@jupyter-widgets/controls",
          "model_name": "FloatProgressModel",
          "model_module_version": "1.5.0",
          "state": {
            "_dom_classes": [],
            "_model_module": "@jupyter-widgets/controls",
            "_model_module_version": "1.5.0",
            "_model_name": "FloatProgressModel",
            "_view_count": null,
            "_view_module": "@jupyter-widgets/controls",
            "_view_module_version": "1.5.0",
            "_view_name": "ProgressView",
            "bar_style": "success",
            "description": "",
            "description_tooltip": null,
            "layout": "IPY_MODEL_d42837171e794fbcab3e76508f3037d0",
            "max": 5,
            "min": 0,
            "orientation": "horizontal",
            "style": "IPY_MODEL_8fc323d349f44550ab76da14a0628519",
            "value": 5
          }
        },
        "4044683dcc814a30a4b3eef43f173015": {
          "model_module": "@jupyter-widgets/controls",
          "model_name": "HTMLModel",
          "model_module_version": "1.5.0",
          "state": {
            "_dom_classes": [],
            "_model_module": "@jupyter-widgets/controls",
            "_model_module_version": "1.5.0",
            "_model_name": "HTMLModel",
            "_view_count": null,
            "_view_module": "@jupyter-widgets/controls",
            "_view_module_version": "1.5.0",
            "_view_name": "HTMLView",
            "description": "",
            "description_tooltip": null,
            "layout": "IPY_MODEL_190a8a8a72ce4eb8a12ad593287c6e57",
            "placeholder": "​",
            "style": "IPY_MODEL_e81243c3c9be47bfb312018ad84dfb1f",
            "value": " 5/5 [01:25&lt;00:00, 17.16s/it]"
          }
        },
        "c4d109e0e6e14ee399da30b9e6066b63": {
          "model_module": "@jupyter-widgets/base",
          "model_name": "LayoutModel",
          "model_module_version": "1.2.0",
          "state": {
            "_model_module": "@jupyter-widgets/base",
            "_model_module_version": "1.2.0",
            "_model_name": "LayoutModel",
            "_view_count": null,
            "_view_module": "@jupyter-widgets/base",
            "_view_module_version": "1.2.0",
            "_view_name": "LayoutView",
            "align_content": null,
            "align_items": null,
            "align_self": null,
            "border": null,
            "bottom": null,
            "display": null,
            "flex": null,
            "flex_flow": null,
            "grid_area": null,
            "grid_auto_columns": null,
            "grid_auto_flow": null,
            "grid_auto_rows": null,
            "grid_column": null,
            "grid_gap": null,
            "grid_row": null,
            "grid_template_areas": null,
            "grid_template_columns": null,
            "grid_template_rows": null,
            "height": null,
            "justify_content": null,
            "justify_items": null,
            "left": null,
            "margin": null,
            "max_height": null,
            "max_width": null,
            "min_height": null,
            "min_width": null,
            "object_fit": null,
            "object_position": null,
            "order": null,
            "overflow": null,
            "overflow_x": null,
            "overflow_y": null,
            "padding": null,
            "right": null,
            "top": null,
            "visibility": null,
            "width": null
          }
        },
        "30eedede510f4b0b958d8c5a66586f29": {
          "model_module": "@jupyter-widgets/base",
          "model_name": "LayoutModel",
          "model_module_version": "1.2.0",
          "state": {
            "_model_module": "@jupyter-widgets/base",
            "_model_module_version": "1.2.0",
            "_model_name": "LayoutModel",
            "_view_count": null,
            "_view_module": "@jupyter-widgets/base",
            "_view_module_version": "1.2.0",
            "_view_name": "LayoutView",
            "align_content": null,
            "align_items": null,
            "align_self": null,
            "border": null,
            "bottom": null,
            "display": null,
            "flex": null,
            "flex_flow": null,
            "grid_area": null,
            "grid_auto_columns": null,
            "grid_auto_flow": null,
            "grid_auto_rows": null,
            "grid_column": null,
            "grid_gap": null,
            "grid_row": null,
            "grid_template_areas": null,
            "grid_template_columns": null,
            "grid_template_rows": null,
            "height": null,
            "justify_content": null,
            "justify_items": null,
            "left": null,
            "margin": null,
            "max_height": null,
            "max_width": null,
            "min_height": null,
            "min_width": null,
            "object_fit": null,
            "object_position": null,
            "order": null,
            "overflow": null,
            "overflow_x": null,
            "overflow_y": null,
            "padding": null,
            "right": null,
            "top": null,
            "visibility": null,
            "width": null
          }
        },
        "c36aeafa4076412481879c6b0c87f684": {
          "model_module": "@jupyter-widgets/controls",
          "model_name": "DescriptionStyleModel",
          "model_module_version": "1.5.0",
          "state": {
            "_model_module": "@jupyter-widgets/controls",
            "_model_module_version": "1.5.0",
            "_model_name": "DescriptionStyleModel",
            "_view_count": null,
            "_view_module": "@jupyter-widgets/base",
            "_view_module_version": "1.2.0",
            "_view_name": "StyleView",
            "description_width": ""
          }
        },
        "d42837171e794fbcab3e76508f3037d0": {
          "model_module": "@jupyter-widgets/base",
          "model_name": "LayoutModel",
          "model_module_version": "1.2.0",
          "state": {
            "_model_module": "@jupyter-widgets/base",
            "_model_module_version": "1.2.0",
            "_model_name": "LayoutModel",
            "_view_count": null,
            "_view_module": "@jupyter-widgets/base",
            "_view_module_version": "1.2.0",
            "_view_name": "LayoutView",
            "align_content": null,
            "align_items": null,
            "align_self": null,
            "border": null,
            "bottom": null,
            "display": null,
            "flex": null,
            "flex_flow": null,
            "grid_area": null,
            "grid_auto_columns": null,
            "grid_auto_flow": null,
            "grid_auto_rows": null,
            "grid_column": null,
            "grid_gap": null,
            "grid_row": null,
            "grid_template_areas": null,
            "grid_template_columns": null,
            "grid_template_rows": null,
            "height": null,
            "justify_content": null,
            "justify_items": null,
            "left": null,
            "margin": null,
            "max_height": null,
            "max_width": null,
            "min_height": null,
            "min_width": null,
            "object_fit": null,
            "object_position": null,
            "order": null,
            "overflow": null,
            "overflow_x": null,
            "overflow_y": null,
            "padding": null,
            "right": null,
            "top": null,
            "visibility": null,
            "width": null
          }
        },
        "8fc323d349f44550ab76da14a0628519": {
          "model_module": "@jupyter-widgets/controls",
          "model_name": "ProgressStyleModel",
          "model_module_version": "1.5.0",
          "state": {
            "_model_module": "@jupyter-widgets/controls",
            "_model_module_version": "1.5.0",
            "_model_name": "ProgressStyleModel",
            "_view_count": null,
            "_view_module": "@jupyter-widgets/base",
            "_view_module_version": "1.2.0",
            "_view_name": "StyleView",
            "bar_color": null,
            "description_width": ""
          }
        },
        "190a8a8a72ce4eb8a12ad593287c6e57": {
          "model_module": "@jupyter-widgets/base",
          "model_name": "LayoutModel",
          "model_module_version": "1.2.0",
          "state": {
            "_model_module": "@jupyter-widgets/base",
            "_model_module_version": "1.2.0",
            "_model_name": "LayoutModel",
            "_view_count": null,
            "_view_module": "@jupyter-widgets/base",
            "_view_module_version": "1.2.0",
            "_view_name": "LayoutView",
            "align_content": null,
            "align_items": null,
            "align_self": null,
            "border": null,
            "bottom": null,
            "display": null,
            "flex": null,
            "flex_flow": null,
            "grid_area": null,
            "grid_auto_columns": null,
            "grid_auto_flow": null,
            "grid_auto_rows": null,
            "grid_column": null,
            "grid_gap": null,
            "grid_row": null,
            "grid_template_areas": null,
            "grid_template_columns": null,
            "grid_template_rows": null,
            "height": null,
            "justify_content": null,
            "justify_items": null,
            "left": null,
            "margin": null,
            "max_height": null,
            "max_width": null,
            "min_height": null,
            "min_width": null,
            "object_fit": null,
            "object_position": null,
            "order": null,
            "overflow": null,
            "overflow_x": null,
            "overflow_y": null,
            "padding": null,
            "right": null,
            "top": null,
            "visibility": null,
            "width": null
          }
        },
        "e81243c3c9be47bfb312018ad84dfb1f": {
          "model_module": "@jupyter-widgets/controls",
          "model_name": "DescriptionStyleModel",
          "model_module_version": "1.5.0",
          "state": {
            "_model_module": "@jupyter-widgets/controls",
            "_model_module_version": "1.5.0",
            "_model_name": "DescriptionStyleModel",
            "_view_count": null,
            "_view_module": "@jupyter-widgets/base",
            "_view_module_version": "1.2.0",
            "_view_name": "StyleView",
            "description_width": ""
          }
        },
        "db0164f4ab5e4ae28d36bc63b6d769ca": {
          "model_module": "@jupyter-widgets/controls",
          "model_name": "HBoxModel",
          "model_module_version": "1.5.0",
          "state": {
            "_dom_classes": [],
            "_model_module": "@jupyter-widgets/controls",
            "_model_module_version": "1.5.0",
            "_model_name": "HBoxModel",
            "_view_count": null,
            "_view_module": "@jupyter-widgets/controls",
            "_view_module_version": "1.5.0",
            "_view_name": "HBoxView",
            "box_style": "",
            "children": [
              "IPY_MODEL_cafdb34b805549b1a9969149d43ab112",
              "IPY_MODEL_ad4d3ac54fec4b1b895cbcd35bfb613d",
              "IPY_MODEL_039b26d935ab4fd2863e908c9a7b250a"
            ],
            "layout": "IPY_MODEL_f08e05adedbd46debef3bce8e4685519"
          }
        },
        "cafdb34b805549b1a9969149d43ab112": {
          "model_module": "@jupyter-widgets/controls",
          "model_name": "HTMLModel",
          "model_module_version": "1.5.0",
          "state": {
            "_dom_classes": [],
            "_model_module": "@jupyter-widgets/controls",
            "_model_module_version": "1.5.0",
            "_model_name": "HTMLModel",
            "_view_count": null,
            "_view_module": "@jupyter-widgets/controls",
            "_view_module_version": "1.5.0",
            "_view_name": "HTMLView",
            "description": "",
            "description_tooltip": null,
            "layout": "IPY_MODEL_9930a7db3acd4910b3407c09d5556854",
            "placeholder": "​",
            "style": "IPY_MODEL_0183717e5ecf430abbea8e517b1eaa0d",
            "value": "Epochs 0/5. Running Loss:    0.4204: 100%"
          }
        },
        "ad4d3ac54fec4b1b895cbcd35bfb613d": {
          "model_module": "@jupyter-widgets/controls",
          "model_name": "FloatProgressModel",
          "model_module_version": "1.5.0",
          "state": {
            "_dom_classes": [],
            "_model_module": "@jupyter-widgets/controls",
            "_model_module_version": "1.5.0",
            "_model_name": "FloatProgressModel",
            "_view_count": null,
            "_view_module": "@jupyter-widgets/controls",
            "_view_module_version": "1.5.0",
            "_view_name": "ProgressView",
            "bar_style": "success",
            "description": "",
            "description_tooltip": null,
            "layout": "IPY_MODEL_059be03ea8e94f0795e6e6b406a309ae",
            "max": 55,
            "min": 0,
            "orientation": "horizontal",
            "style": "IPY_MODEL_4af11aee42b642c2915aefe336cc3d9c",
            "value": 55
          }
        },
        "039b26d935ab4fd2863e908c9a7b250a": {
          "model_module": "@jupyter-widgets/controls",
          "model_name": "HTMLModel",
          "model_module_version": "1.5.0",
          "state": {
            "_dom_classes": [],
            "_model_module": "@jupyter-widgets/controls",
            "_model_module_version": "1.5.0",
            "_model_name": "HTMLModel",
            "_view_count": null,
            "_view_module": "@jupyter-widgets/controls",
            "_view_module_version": "1.5.0",
            "_view_name": "HTMLView",
            "description": "",
            "description_tooltip": null,
            "layout": "IPY_MODEL_23103fbc1c474615ae6df08063bcc3ff",
            "placeholder": "​",
            "style": "IPY_MODEL_8fa55fbe1cae4285889ef11905d6b672",
            "value": " 55/55 [00:12&lt;00:00,  4.77it/s]"
          }
        },
        "f08e05adedbd46debef3bce8e4685519": {
          "model_module": "@jupyter-widgets/base",
          "model_name": "LayoutModel",
          "model_module_version": "1.2.0",
          "state": {
            "_model_module": "@jupyter-widgets/base",
            "_model_module_version": "1.2.0",
            "_model_name": "LayoutModel",
            "_view_count": null,
            "_view_module": "@jupyter-widgets/base",
            "_view_module_version": "1.2.0",
            "_view_name": "LayoutView",
            "align_content": null,
            "align_items": null,
            "align_self": null,
            "border": null,
            "bottom": null,
            "display": null,
            "flex": null,
            "flex_flow": null,
            "grid_area": null,
            "grid_auto_columns": null,
            "grid_auto_flow": null,
            "grid_auto_rows": null,
            "grid_column": null,
            "grid_gap": null,
            "grid_row": null,
            "grid_template_areas": null,
            "grid_template_columns": null,
            "grid_template_rows": null,
            "height": null,
            "justify_content": null,
            "justify_items": null,
            "left": null,
            "margin": null,
            "max_height": null,
            "max_width": null,
            "min_height": null,
            "min_width": null,
            "object_fit": null,
            "object_position": null,
            "order": null,
            "overflow": null,
            "overflow_x": null,
            "overflow_y": null,
            "padding": null,
            "right": null,
            "top": null,
            "visibility": null,
            "width": null
          }
        },
        "9930a7db3acd4910b3407c09d5556854": {
          "model_module": "@jupyter-widgets/base",
          "model_name": "LayoutModel",
          "model_module_version": "1.2.0",
          "state": {
            "_model_module": "@jupyter-widgets/base",
            "_model_module_version": "1.2.0",
            "_model_name": "LayoutModel",
            "_view_count": null,
            "_view_module": "@jupyter-widgets/base",
            "_view_module_version": "1.2.0",
            "_view_name": "LayoutView",
            "align_content": null,
            "align_items": null,
            "align_self": null,
            "border": null,
            "bottom": null,
            "display": null,
            "flex": null,
            "flex_flow": null,
            "grid_area": null,
            "grid_auto_columns": null,
            "grid_auto_flow": null,
            "grid_auto_rows": null,
            "grid_column": null,
            "grid_gap": null,
            "grid_row": null,
            "grid_template_areas": null,
            "grid_template_columns": null,
            "grid_template_rows": null,
            "height": null,
            "justify_content": null,
            "justify_items": null,
            "left": null,
            "margin": null,
            "max_height": null,
            "max_width": null,
            "min_height": null,
            "min_width": null,
            "object_fit": null,
            "object_position": null,
            "order": null,
            "overflow": null,
            "overflow_x": null,
            "overflow_y": null,
            "padding": null,
            "right": null,
            "top": null,
            "visibility": null,
            "width": null
          }
        },
        "0183717e5ecf430abbea8e517b1eaa0d": {
          "model_module": "@jupyter-widgets/controls",
          "model_name": "DescriptionStyleModel",
          "model_module_version": "1.5.0",
          "state": {
            "_model_module": "@jupyter-widgets/controls",
            "_model_module_version": "1.5.0",
            "_model_name": "DescriptionStyleModel",
            "_view_count": null,
            "_view_module": "@jupyter-widgets/base",
            "_view_module_version": "1.2.0",
            "_view_name": "StyleView",
            "description_width": ""
          }
        },
        "059be03ea8e94f0795e6e6b406a309ae": {
          "model_module": "@jupyter-widgets/base",
          "model_name": "LayoutModel",
          "model_module_version": "1.2.0",
          "state": {
            "_model_module": "@jupyter-widgets/base",
            "_model_module_version": "1.2.0",
            "_model_name": "LayoutModel",
            "_view_count": null,
            "_view_module": "@jupyter-widgets/base",
            "_view_module_version": "1.2.0",
            "_view_name": "LayoutView",
            "align_content": null,
            "align_items": null,
            "align_self": null,
            "border": null,
            "bottom": null,
            "display": null,
            "flex": null,
            "flex_flow": null,
            "grid_area": null,
            "grid_auto_columns": null,
            "grid_auto_flow": null,
            "grid_auto_rows": null,
            "grid_column": null,
            "grid_gap": null,
            "grid_row": null,
            "grid_template_areas": null,
            "grid_template_columns": null,
            "grid_template_rows": null,
            "height": null,
            "justify_content": null,
            "justify_items": null,
            "left": null,
            "margin": null,
            "max_height": null,
            "max_width": null,
            "min_height": null,
            "min_width": null,
            "object_fit": null,
            "object_position": null,
            "order": null,
            "overflow": null,
            "overflow_x": null,
            "overflow_y": null,
            "padding": null,
            "right": null,
            "top": null,
            "visibility": null,
            "width": null
          }
        },
        "4af11aee42b642c2915aefe336cc3d9c": {
          "model_module": "@jupyter-widgets/controls",
          "model_name": "ProgressStyleModel",
          "model_module_version": "1.5.0",
          "state": {
            "_model_module": "@jupyter-widgets/controls",
            "_model_module_version": "1.5.0",
            "_model_name": "ProgressStyleModel",
            "_view_count": null,
            "_view_module": "@jupyter-widgets/base",
            "_view_module_version": "1.2.0",
            "_view_name": "StyleView",
            "bar_color": null,
            "description_width": ""
          }
        },
        "23103fbc1c474615ae6df08063bcc3ff": {
          "model_module": "@jupyter-widgets/base",
          "model_name": "LayoutModel",
          "model_module_version": "1.2.0",
          "state": {
            "_model_module": "@jupyter-widgets/base",
            "_model_module_version": "1.2.0",
            "_model_name": "LayoutModel",
            "_view_count": null,
            "_view_module": "@jupyter-widgets/base",
            "_view_module_version": "1.2.0",
            "_view_name": "LayoutView",
            "align_content": null,
            "align_items": null,
            "align_self": null,
            "border": null,
            "bottom": null,
            "display": null,
            "flex": null,
            "flex_flow": null,
            "grid_area": null,
            "grid_auto_columns": null,
            "grid_auto_flow": null,
            "grid_auto_rows": null,
            "grid_column": null,
            "grid_gap": null,
            "grid_row": null,
            "grid_template_areas": null,
            "grid_template_columns": null,
            "grid_template_rows": null,
            "height": null,
            "justify_content": null,
            "justify_items": null,
            "left": null,
            "margin": null,
            "max_height": null,
            "max_width": null,
            "min_height": null,
            "min_width": null,
            "object_fit": null,
            "object_position": null,
            "order": null,
            "overflow": null,
            "overflow_x": null,
            "overflow_y": null,
            "padding": null,
            "right": null,
            "top": null,
            "visibility": null,
            "width": null
          }
        },
        "8fa55fbe1cae4285889ef11905d6b672": {
          "model_module": "@jupyter-widgets/controls",
          "model_name": "DescriptionStyleModel",
          "model_module_version": "1.5.0",
          "state": {
            "_model_module": "@jupyter-widgets/controls",
            "_model_module_version": "1.5.0",
            "_model_name": "DescriptionStyleModel",
            "_view_count": null,
            "_view_module": "@jupyter-widgets/base",
            "_view_module_version": "1.2.0",
            "_view_name": "StyleView",
            "description_width": ""
          }
        },
        "20f2ddaf701e45e2b9be51d8e685f1d4": {
          "model_module": "@jupyter-widgets/controls",
          "model_name": "HBoxModel",
          "model_module_version": "1.5.0",
          "state": {
            "_dom_classes": [],
            "_model_module": "@jupyter-widgets/controls",
            "_model_module_version": "1.5.0",
            "_model_name": "HBoxModel",
            "_view_count": null,
            "_view_module": "@jupyter-widgets/controls",
            "_view_module_version": "1.5.0",
            "_view_name": "HBoxView",
            "box_style": "",
            "children": [
              "IPY_MODEL_96d0d031bbdc4d1fbe82a684e72dd336",
              "IPY_MODEL_e489101e439f4c169c991e32ca66801c",
              "IPY_MODEL_91a9f8f56e994d0a8c9020126bedb22b"
            ],
            "layout": "IPY_MODEL_0d119b1be7e44a348e0a585f349f070f"
          }
        },
        "96d0d031bbdc4d1fbe82a684e72dd336": {
          "model_module": "@jupyter-widgets/controls",
          "model_name": "HTMLModel",
          "model_module_version": "1.5.0",
          "state": {
            "_dom_classes": [],
            "_model_module": "@jupyter-widgets/controls",
            "_model_module_version": "1.5.0",
            "_model_name": "HTMLModel",
            "_view_count": null,
            "_view_module": "@jupyter-widgets/controls",
            "_view_module_version": "1.5.0",
            "_view_name": "HTMLView",
            "description": "",
            "description_tooltip": null,
            "layout": "IPY_MODEL_e199190152354e819ed661cc25ade8bf",
            "placeholder": "​",
            "style": "IPY_MODEL_76197cd698724fb092362fe067acc89e",
            "value": "Epochs 1/5. Running Loss:    0.4088: 100%"
          }
        },
        "e489101e439f4c169c991e32ca66801c": {
          "model_module": "@jupyter-widgets/controls",
          "model_name": "FloatProgressModel",
          "model_module_version": "1.5.0",
          "state": {
            "_dom_classes": [],
            "_model_module": "@jupyter-widgets/controls",
            "_model_module_version": "1.5.0",
            "_model_name": "FloatProgressModel",
            "_view_count": null,
            "_view_module": "@jupyter-widgets/controls",
            "_view_module_version": "1.5.0",
            "_view_name": "ProgressView",
            "bar_style": "success",
            "description": "",
            "description_tooltip": null,
            "layout": "IPY_MODEL_2f137288b60f46c4ad05a519a383ab78",
            "max": 55,
            "min": 0,
            "orientation": "horizontal",
            "style": "IPY_MODEL_824a5a174d22496ba153506394d583f5",
            "value": 55
          }
        },
        "91a9f8f56e994d0a8c9020126bedb22b": {
          "model_module": "@jupyter-widgets/controls",
          "model_name": "HTMLModel",
          "model_module_version": "1.5.0",
          "state": {
            "_dom_classes": [],
            "_model_module": "@jupyter-widgets/controls",
            "_model_module_version": "1.5.0",
            "_model_name": "HTMLModel",
            "_view_count": null,
            "_view_module": "@jupyter-widgets/controls",
            "_view_module_version": "1.5.0",
            "_view_name": "HTMLView",
            "description": "",
            "description_tooltip": null,
            "layout": "IPY_MODEL_13e337fe09064c3c9bf41509166e6b8c",
            "placeholder": "​",
            "style": "IPY_MODEL_d1d83b0dbef447e9beef643ae760ffa9",
            "value": " 55/55 [00:12&lt;00:00,  4.72it/s]"
          }
        },
        "0d119b1be7e44a348e0a585f349f070f": {
          "model_module": "@jupyter-widgets/base",
          "model_name": "LayoutModel",
          "model_module_version": "1.2.0",
          "state": {
            "_model_module": "@jupyter-widgets/base",
            "_model_module_version": "1.2.0",
            "_model_name": "LayoutModel",
            "_view_count": null,
            "_view_module": "@jupyter-widgets/base",
            "_view_module_version": "1.2.0",
            "_view_name": "LayoutView",
            "align_content": null,
            "align_items": null,
            "align_self": null,
            "border": null,
            "bottom": null,
            "display": null,
            "flex": null,
            "flex_flow": null,
            "grid_area": null,
            "grid_auto_columns": null,
            "grid_auto_flow": null,
            "grid_auto_rows": null,
            "grid_column": null,
            "grid_gap": null,
            "grid_row": null,
            "grid_template_areas": null,
            "grid_template_columns": null,
            "grid_template_rows": null,
            "height": null,
            "justify_content": null,
            "justify_items": null,
            "left": null,
            "margin": null,
            "max_height": null,
            "max_width": null,
            "min_height": null,
            "min_width": null,
            "object_fit": null,
            "object_position": null,
            "order": null,
            "overflow": null,
            "overflow_x": null,
            "overflow_y": null,
            "padding": null,
            "right": null,
            "top": null,
            "visibility": null,
            "width": null
          }
        },
        "e199190152354e819ed661cc25ade8bf": {
          "model_module": "@jupyter-widgets/base",
          "model_name": "LayoutModel",
          "model_module_version": "1.2.0",
          "state": {
            "_model_module": "@jupyter-widgets/base",
            "_model_module_version": "1.2.0",
            "_model_name": "LayoutModel",
            "_view_count": null,
            "_view_module": "@jupyter-widgets/base",
            "_view_module_version": "1.2.0",
            "_view_name": "LayoutView",
            "align_content": null,
            "align_items": null,
            "align_self": null,
            "border": null,
            "bottom": null,
            "display": null,
            "flex": null,
            "flex_flow": null,
            "grid_area": null,
            "grid_auto_columns": null,
            "grid_auto_flow": null,
            "grid_auto_rows": null,
            "grid_column": null,
            "grid_gap": null,
            "grid_row": null,
            "grid_template_areas": null,
            "grid_template_columns": null,
            "grid_template_rows": null,
            "height": null,
            "justify_content": null,
            "justify_items": null,
            "left": null,
            "margin": null,
            "max_height": null,
            "max_width": null,
            "min_height": null,
            "min_width": null,
            "object_fit": null,
            "object_position": null,
            "order": null,
            "overflow": null,
            "overflow_x": null,
            "overflow_y": null,
            "padding": null,
            "right": null,
            "top": null,
            "visibility": null,
            "width": null
          }
        },
        "76197cd698724fb092362fe067acc89e": {
          "model_module": "@jupyter-widgets/controls",
          "model_name": "DescriptionStyleModel",
          "model_module_version": "1.5.0",
          "state": {
            "_model_module": "@jupyter-widgets/controls",
            "_model_module_version": "1.5.0",
            "_model_name": "DescriptionStyleModel",
            "_view_count": null,
            "_view_module": "@jupyter-widgets/base",
            "_view_module_version": "1.2.0",
            "_view_name": "StyleView",
            "description_width": ""
          }
        },
        "2f137288b60f46c4ad05a519a383ab78": {
          "model_module": "@jupyter-widgets/base",
          "model_name": "LayoutModel",
          "model_module_version": "1.2.0",
          "state": {
            "_model_module": "@jupyter-widgets/base",
            "_model_module_version": "1.2.0",
            "_model_name": "LayoutModel",
            "_view_count": null,
            "_view_module": "@jupyter-widgets/base",
            "_view_module_version": "1.2.0",
            "_view_name": "LayoutView",
            "align_content": null,
            "align_items": null,
            "align_self": null,
            "border": null,
            "bottom": null,
            "display": null,
            "flex": null,
            "flex_flow": null,
            "grid_area": null,
            "grid_auto_columns": null,
            "grid_auto_flow": null,
            "grid_auto_rows": null,
            "grid_column": null,
            "grid_gap": null,
            "grid_row": null,
            "grid_template_areas": null,
            "grid_template_columns": null,
            "grid_template_rows": null,
            "height": null,
            "justify_content": null,
            "justify_items": null,
            "left": null,
            "margin": null,
            "max_height": null,
            "max_width": null,
            "min_height": null,
            "min_width": null,
            "object_fit": null,
            "object_position": null,
            "order": null,
            "overflow": null,
            "overflow_x": null,
            "overflow_y": null,
            "padding": null,
            "right": null,
            "top": null,
            "visibility": null,
            "width": null
          }
        },
        "824a5a174d22496ba153506394d583f5": {
          "model_module": "@jupyter-widgets/controls",
          "model_name": "ProgressStyleModel",
          "model_module_version": "1.5.0",
          "state": {
            "_model_module": "@jupyter-widgets/controls",
            "_model_module_version": "1.5.0",
            "_model_name": "ProgressStyleModel",
            "_view_count": null,
            "_view_module": "@jupyter-widgets/base",
            "_view_module_version": "1.2.0",
            "_view_name": "StyleView",
            "bar_color": null,
            "description_width": ""
          }
        },
        "13e337fe09064c3c9bf41509166e6b8c": {
          "model_module": "@jupyter-widgets/base",
          "model_name": "LayoutModel",
          "model_module_version": "1.2.0",
          "state": {
            "_model_module": "@jupyter-widgets/base",
            "_model_module_version": "1.2.0",
            "_model_name": "LayoutModel",
            "_view_count": null,
            "_view_module": "@jupyter-widgets/base",
            "_view_module_version": "1.2.0",
            "_view_name": "LayoutView",
            "align_content": null,
            "align_items": null,
            "align_self": null,
            "border": null,
            "bottom": null,
            "display": null,
            "flex": null,
            "flex_flow": null,
            "grid_area": null,
            "grid_auto_columns": null,
            "grid_auto_flow": null,
            "grid_auto_rows": null,
            "grid_column": null,
            "grid_gap": null,
            "grid_row": null,
            "grid_template_areas": null,
            "grid_template_columns": null,
            "grid_template_rows": null,
            "height": null,
            "justify_content": null,
            "justify_items": null,
            "left": null,
            "margin": null,
            "max_height": null,
            "max_width": null,
            "min_height": null,
            "min_width": null,
            "object_fit": null,
            "object_position": null,
            "order": null,
            "overflow": null,
            "overflow_x": null,
            "overflow_y": null,
            "padding": null,
            "right": null,
            "top": null,
            "visibility": null,
            "width": null
          }
        },
        "d1d83b0dbef447e9beef643ae760ffa9": {
          "model_module": "@jupyter-widgets/controls",
          "model_name": "DescriptionStyleModel",
          "model_module_version": "1.5.0",
          "state": {
            "_model_module": "@jupyter-widgets/controls",
            "_model_module_version": "1.5.0",
            "_model_name": "DescriptionStyleModel",
            "_view_count": null,
            "_view_module": "@jupyter-widgets/base",
            "_view_module_version": "1.2.0",
            "_view_name": "StyleView",
            "description_width": ""
          }
        },
        "094823e924874580b1acb11786908514": {
          "model_module": "@jupyter-widgets/controls",
          "model_name": "HBoxModel",
          "model_module_version": "1.5.0",
          "state": {
            "_dom_classes": [],
            "_model_module": "@jupyter-widgets/controls",
            "_model_module_version": "1.5.0",
            "_model_name": "HBoxModel",
            "_view_count": null,
            "_view_module": "@jupyter-widgets/controls",
            "_view_module_version": "1.5.0",
            "_view_name": "HBoxView",
            "box_style": "",
            "children": [
              "IPY_MODEL_1a5a08e31c4c4a4ea8c4aa2ffed8d19b",
              "IPY_MODEL_6eade302fde840008df4e9d119ebaea8",
              "IPY_MODEL_bdbbe6f8cd664b53b1b21cb80529af58"
            ],
            "layout": "IPY_MODEL_818c2d9d6df6433cb0201b585e422d83"
          }
        },
        "1a5a08e31c4c4a4ea8c4aa2ffed8d19b": {
          "model_module": "@jupyter-widgets/controls",
          "model_name": "HTMLModel",
          "model_module_version": "1.5.0",
          "state": {
            "_dom_classes": [],
            "_model_module": "@jupyter-widgets/controls",
            "_model_module_version": "1.5.0",
            "_model_name": "HTMLModel",
            "_view_count": null,
            "_view_module": "@jupyter-widgets/controls",
            "_view_module_version": "1.5.0",
            "_view_name": "HTMLView",
            "description": "",
            "description_tooltip": null,
            "layout": "IPY_MODEL_512d204526a547d5a6fced7ed055ae35",
            "placeholder": "​",
            "style": "IPY_MODEL_70f32a9bcc574142892656c337b1249e",
            "value": "Epochs 2/5. Running Loss:    0.3586: 100%"
          }
        },
        "6eade302fde840008df4e9d119ebaea8": {
          "model_module": "@jupyter-widgets/controls",
          "model_name": "FloatProgressModel",
          "model_module_version": "1.5.0",
          "state": {
            "_dom_classes": [],
            "_model_module": "@jupyter-widgets/controls",
            "_model_module_version": "1.5.0",
            "_model_name": "FloatProgressModel",
            "_view_count": null,
            "_view_module": "@jupyter-widgets/controls",
            "_view_module_version": "1.5.0",
            "_view_name": "ProgressView",
            "bar_style": "success",
            "description": "",
            "description_tooltip": null,
            "layout": "IPY_MODEL_85ca34fe66c44d06aa06a9c87a6ff278",
            "max": 55,
            "min": 0,
            "orientation": "horizontal",
            "style": "IPY_MODEL_6b8b3994d50e479897a8e08e293ca057",
            "value": 55
          }
        },
        "bdbbe6f8cd664b53b1b21cb80529af58": {
          "model_module": "@jupyter-widgets/controls",
          "model_name": "HTMLModel",
          "model_module_version": "1.5.0",
          "state": {
            "_dom_classes": [],
            "_model_module": "@jupyter-widgets/controls",
            "_model_module_version": "1.5.0",
            "_model_name": "HTMLModel",
            "_view_count": null,
            "_view_module": "@jupyter-widgets/controls",
            "_view_module_version": "1.5.0",
            "_view_name": "HTMLView",
            "description": "",
            "description_tooltip": null,
            "layout": "IPY_MODEL_eec9efce52024f1096260dae18b1b082",
            "placeholder": "​",
            "style": "IPY_MODEL_ba304c759d1d4976ab28a2a0aa08c050",
            "value": " 55/55 [00:12&lt;00:00,  4.69it/s]"
          }
        },
        "818c2d9d6df6433cb0201b585e422d83": {
          "model_module": "@jupyter-widgets/base",
          "model_name": "LayoutModel",
          "model_module_version": "1.2.0",
          "state": {
            "_model_module": "@jupyter-widgets/base",
            "_model_module_version": "1.2.0",
            "_model_name": "LayoutModel",
            "_view_count": null,
            "_view_module": "@jupyter-widgets/base",
            "_view_module_version": "1.2.0",
            "_view_name": "LayoutView",
            "align_content": null,
            "align_items": null,
            "align_self": null,
            "border": null,
            "bottom": null,
            "display": null,
            "flex": null,
            "flex_flow": null,
            "grid_area": null,
            "grid_auto_columns": null,
            "grid_auto_flow": null,
            "grid_auto_rows": null,
            "grid_column": null,
            "grid_gap": null,
            "grid_row": null,
            "grid_template_areas": null,
            "grid_template_columns": null,
            "grid_template_rows": null,
            "height": null,
            "justify_content": null,
            "justify_items": null,
            "left": null,
            "margin": null,
            "max_height": null,
            "max_width": null,
            "min_height": null,
            "min_width": null,
            "object_fit": null,
            "object_position": null,
            "order": null,
            "overflow": null,
            "overflow_x": null,
            "overflow_y": null,
            "padding": null,
            "right": null,
            "top": null,
            "visibility": null,
            "width": null
          }
        },
        "512d204526a547d5a6fced7ed055ae35": {
          "model_module": "@jupyter-widgets/base",
          "model_name": "LayoutModel",
          "model_module_version": "1.2.0",
          "state": {
            "_model_module": "@jupyter-widgets/base",
            "_model_module_version": "1.2.0",
            "_model_name": "LayoutModel",
            "_view_count": null,
            "_view_module": "@jupyter-widgets/base",
            "_view_module_version": "1.2.0",
            "_view_name": "LayoutView",
            "align_content": null,
            "align_items": null,
            "align_self": null,
            "border": null,
            "bottom": null,
            "display": null,
            "flex": null,
            "flex_flow": null,
            "grid_area": null,
            "grid_auto_columns": null,
            "grid_auto_flow": null,
            "grid_auto_rows": null,
            "grid_column": null,
            "grid_gap": null,
            "grid_row": null,
            "grid_template_areas": null,
            "grid_template_columns": null,
            "grid_template_rows": null,
            "height": null,
            "justify_content": null,
            "justify_items": null,
            "left": null,
            "margin": null,
            "max_height": null,
            "max_width": null,
            "min_height": null,
            "min_width": null,
            "object_fit": null,
            "object_position": null,
            "order": null,
            "overflow": null,
            "overflow_x": null,
            "overflow_y": null,
            "padding": null,
            "right": null,
            "top": null,
            "visibility": null,
            "width": null
          }
        },
        "70f32a9bcc574142892656c337b1249e": {
          "model_module": "@jupyter-widgets/controls",
          "model_name": "DescriptionStyleModel",
          "model_module_version": "1.5.0",
          "state": {
            "_model_module": "@jupyter-widgets/controls",
            "_model_module_version": "1.5.0",
            "_model_name": "DescriptionStyleModel",
            "_view_count": null,
            "_view_module": "@jupyter-widgets/base",
            "_view_module_version": "1.2.0",
            "_view_name": "StyleView",
            "description_width": ""
          }
        },
        "85ca34fe66c44d06aa06a9c87a6ff278": {
          "model_module": "@jupyter-widgets/base",
          "model_name": "LayoutModel",
          "model_module_version": "1.2.0",
          "state": {
            "_model_module": "@jupyter-widgets/base",
            "_model_module_version": "1.2.0",
            "_model_name": "LayoutModel",
            "_view_count": null,
            "_view_module": "@jupyter-widgets/base",
            "_view_module_version": "1.2.0",
            "_view_name": "LayoutView",
            "align_content": null,
            "align_items": null,
            "align_self": null,
            "border": null,
            "bottom": null,
            "display": null,
            "flex": null,
            "flex_flow": null,
            "grid_area": null,
            "grid_auto_columns": null,
            "grid_auto_flow": null,
            "grid_auto_rows": null,
            "grid_column": null,
            "grid_gap": null,
            "grid_row": null,
            "grid_template_areas": null,
            "grid_template_columns": null,
            "grid_template_rows": null,
            "height": null,
            "justify_content": null,
            "justify_items": null,
            "left": null,
            "margin": null,
            "max_height": null,
            "max_width": null,
            "min_height": null,
            "min_width": null,
            "object_fit": null,
            "object_position": null,
            "order": null,
            "overflow": null,
            "overflow_x": null,
            "overflow_y": null,
            "padding": null,
            "right": null,
            "top": null,
            "visibility": null,
            "width": null
          }
        },
        "6b8b3994d50e479897a8e08e293ca057": {
          "model_module": "@jupyter-widgets/controls",
          "model_name": "ProgressStyleModel",
          "model_module_version": "1.5.0",
          "state": {
            "_model_module": "@jupyter-widgets/controls",
            "_model_module_version": "1.5.0",
            "_model_name": "ProgressStyleModel",
            "_view_count": null,
            "_view_module": "@jupyter-widgets/base",
            "_view_module_version": "1.2.0",
            "_view_name": "StyleView",
            "bar_color": null,
            "description_width": ""
          }
        },
        "eec9efce52024f1096260dae18b1b082": {
          "model_module": "@jupyter-widgets/base",
          "model_name": "LayoutModel",
          "model_module_version": "1.2.0",
          "state": {
            "_model_module": "@jupyter-widgets/base",
            "_model_module_version": "1.2.0",
            "_model_name": "LayoutModel",
            "_view_count": null,
            "_view_module": "@jupyter-widgets/base",
            "_view_module_version": "1.2.0",
            "_view_name": "LayoutView",
            "align_content": null,
            "align_items": null,
            "align_self": null,
            "border": null,
            "bottom": null,
            "display": null,
            "flex": null,
            "flex_flow": null,
            "grid_area": null,
            "grid_auto_columns": null,
            "grid_auto_flow": null,
            "grid_auto_rows": null,
            "grid_column": null,
            "grid_gap": null,
            "grid_row": null,
            "grid_template_areas": null,
            "grid_template_columns": null,
            "grid_template_rows": null,
            "height": null,
            "justify_content": null,
            "justify_items": null,
            "left": null,
            "margin": null,
            "max_height": null,
            "max_width": null,
            "min_height": null,
            "min_width": null,
            "object_fit": null,
            "object_position": null,
            "order": null,
            "overflow": null,
            "overflow_x": null,
            "overflow_y": null,
            "padding": null,
            "right": null,
            "top": null,
            "visibility": null,
            "width": null
          }
        },
        "ba304c759d1d4976ab28a2a0aa08c050": {
          "model_module": "@jupyter-widgets/controls",
          "model_name": "DescriptionStyleModel",
          "model_module_version": "1.5.0",
          "state": {
            "_model_module": "@jupyter-widgets/controls",
            "_model_module_version": "1.5.0",
            "_model_name": "DescriptionStyleModel",
            "_view_count": null,
            "_view_module": "@jupyter-widgets/base",
            "_view_module_version": "1.2.0",
            "_view_name": "StyleView",
            "description_width": ""
          }
        },
        "276ee7a908954edd86acea6ce07c70fc": {
          "model_module": "@jupyter-widgets/controls",
          "model_name": "HBoxModel",
          "model_module_version": "1.5.0",
          "state": {
            "_dom_classes": [],
            "_model_module": "@jupyter-widgets/controls",
            "_model_module_version": "1.5.0",
            "_model_name": "HBoxModel",
            "_view_count": null,
            "_view_module": "@jupyter-widgets/controls",
            "_view_module_version": "1.5.0",
            "_view_name": "HBoxView",
            "box_style": "",
            "children": [
              "IPY_MODEL_77c94f6b9b4d447fb0a73cde83ff3f73",
              "IPY_MODEL_60fa3f66749e4914a1532c3f6ef3855b",
              "IPY_MODEL_f657ffe624af4ef0bf6aa6854b28a6e2"
            ],
            "layout": "IPY_MODEL_687dc659d9a2483b8ac07cd89bbf561a"
          }
        },
        "77c94f6b9b4d447fb0a73cde83ff3f73": {
          "model_module": "@jupyter-widgets/controls",
          "model_name": "HTMLModel",
          "model_module_version": "1.5.0",
          "state": {
            "_dom_classes": [],
            "_model_module": "@jupyter-widgets/controls",
            "_model_module_version": "1.5.0",
            "_model_name": "HTMLModel",
            "_view_count": null,
            "_view_module": "@jupyter-widgets/controls",
            "_view_module_version": "1.5.0",
            "_view_name": "HTMLView",
            "description": "",
            "description_tooltip": null,
            "layout": "IPY_MODEL_3483bd92fed446278b4feace81c70611",
            "placeholder": "​",
            "style": "IPY_MODEL_0c5e93abb3124cceac129bd85425789a",
            "value": "Epochs 3/5. Running Loss:    0.2376: 100%"
          }
        },
        "60fa3f66749e4914a1532c3f6ef3855b": {
          "model_module": "@jupyter-widgets/controls",
          "model_name": "FloatProgressModel",
          "model_module_version": "1.5.0",
          "state": {
            "_dom_classes": [],
            "_model_module": "@jupyter-widgets/controls",
            "_model_module_version": "1.5.0",
            "_model_name": "FloatProgressModel",
            "_view_count": null,
            "_view_module": "@jupyter-widgets/controls",
            "_view_module_version": "1.5.0",
            "_view_name": "ProgressView",
            "bar_style": "success",
            "description": "",
            "description_tooltip": null,
            "layout": "IPY_MODEL_ea9a207370714f5b9a1fd45e5d8ccd68",
            "max": 55,
            "min": 0,
            "orientation": "horizontal",
            "style": "IPY_MODEL_3cfee86079f9483fbcb02c1c695db3bb",
            "value": 55
          }
        },
        "f657ffe624af4ef0bf6aa6854b28a6e2": {
          "model_module": "@jupyter-widgets/controls",
          "model_name": "HTMLModel",
          "model_module_version": "1.5.0",
          "state": {
            "_dom_classes": [],
            "_model_module": "@jupyter-widgets/controls",
            "_model_module_version": "1.5.0",
            "_model_name": "HTMLModel",
            "_view_count": null,
            "_view_module": "@jupyter-widgets/controls",
            "_view_module_version": "1.5.0",
            "_view_name": "HTMLView",
            "description": "",
            "description_tooltip": null,
            "layout": "IPY_MODEL_1cefe42d25634f5d8af6d5947176031d",
            "placeholder": "​",
            "style": "IPY_MODEL_1afe05de275f424fb2fea7d73d2834db",
            "value": " 55/55 [00:12&lt;00:00,  4.69it/s]"
          }
        },
        "687dc659d9a2483b8ac07cd89bbf561a": {
          "model_module": "@jupyter-widgets/base",
          "model_name": "LayoutModel",
          "model_module_version": "1.2.0",
          "state": {
            "_model_module": "@jupyter-widgets/base",
            "_model_module_version": "1.2.0",
            "_model_name": "LayoutModel",
            "_view_count": null,
            "_view_module": "@jupyter-widgets/base",
            "_view_module_version": "1.2.0",
            "_view_name": "LayoutView",
            "align_content": null,
            "align_items": null,
            "align_self": null,
            "border": null,
            "bottom": null,
            "display": null,
            "flex": null,
            "flex_flow": null,
            "grid_area": null,
            "grid_auto_columns": null,
            "grid_auto_flow": null,
            "grid_auto_rows": null,
            "grid_column": null,
            "grid_gap": null,
            "grid_row": null,
            "grid_template_areas": null,
            "grid_template_columns": null,
            "grid_template_rows": null,
            "height": null,
            "justify_content": null,
            "justify_items": null,
            "left": null,
            "margin": null,
            "max_height": null,
            "max_width": null,
            "min_height": null,
            "min_width": null,
            "object_fit": null,
            "object_position": null,
            "order": null,
            "overflow": null,
            "overflow_x": null,
            "overflow_y": null,
            "padding": null,
            "right": null,
            "top": null,
            "visibility": null,
            "width": null
          }
        },
        "3483bd92fed446278b4feace81c70611": {
          "model_module": "@jupyter-widgets/base",
          "model_name": "LayoutModel",
          "model_module_version": "1.2.0",
          "state": {
            "_model_module": "@jupyter-widgets/base",
            "_model_module_version": "1.2.0",
            "_model_name": "LayoutModel",
            "_view_count": null,
            "_view_module": "@jupyter-widgets/base",
            "_view_module_version": "1.2.0",
            "_view_name": "LayoutView",
            "align_content": null,
            "align_items": null,
            "align_self": null,
            "border": null,
            "bottom": null,
            "display": null,
            "flex": null,
            "flex_flow": null,
            "grid_area": null,
            "grid_auto_columns": null,
            "grid_auto_flow": null,
            "grid_auto_rows": null,
            "grid_column": null,
            "grid_gap": null,
            "grid_row": null,
            "grid_template_areas": null,
            "grid_template_columns": null,
            "grid_template_rows": null,
            "height": null,
            "justify_content": null,
            "justify_items": null,
            "left": null,
            "margin": null,
            "max_height": null,
            "max_width": null,
            "min_height": null,
            "min_width": null,
            "object_fit": null,
            "object_position": null,
            "order": null,
            "overflow": null,
            "overflow_x": null,
            "overflow_y": null,
            "padding": null,
            "right": null,
            "top": null,
            "visibility": null,
            "width": null
          }
        },
        "0c5e93abb3124cceac129bd85425789a": {
          "model_module": "@jupyter-widgets/controls",
          "model_name": "DescriptionStyleModel",
          "model_module_version": "1.5.0",
          "state": {
            "_model_module": "@jupyter-widgets/controls",
            "_model_module_version": "1.5.0",
            "_model_name": "DescriptionStyleModel",
            "_view_count": null,
            "_view_module": "@jupyter-widgets/base",
            "_view_module_version": "1.2.0",
            "_view_name": "StyleView",
            "description_width": ""
          }
        },
        "ea9a207370714f5b9a1fd45e5d8ccd68": {
          "model_module": "@jupyter-widgets/base",
          "model_name": "LayoutModel",
          "model_module_version": "1.2.0",
          "state": {
            "_model_module": "@jupyter-widgets/base",
            "_model_module_version": "1.2.0",
            "_model_name": "LayoutModel",
            "_view_count": null,
            "_view_module": "@jupyter-widgets/base",
            "_view_module_version": "1.2.0",
            "_view_name": "LayoutView",
            "align_content": null,
            "align_items": null,
            "align_self": null,
            "border": null,
            "bottom": null,
            "display": null,
            "flex": null,
            "flex_flow": null,
            "grid_area": null,
            "grid_auto_columns": null,
            "grid_auto_flow": null,
            "grid_auto_rows": null,
            "grid_column": null,
            "grid_gap": null,
            "grid_row": null,
            "grid_template_areas": null,
            "grid_template_columns": null,
            "grid_template_rows": null,
            "height": null,
            "justify_content": null,
            "justify_items": null,
            "left": null,
            "margin": null,
            "max_height": null,
            "max_width": null,
            "min_height": null,
            "min_width": null,
            "object_fit": null,
            "object_position": null,
            "order": null,
            "overflow": null,
            "overflow_x": null,
            "overflow_y": null,
            "padding": null,
            "right": null,
            "top": null,
            "visibility": null,
            "width": null
          }
        },
        "3cfee86079f9483fbcb02c1c695db3bb": {
          "model_module": "@jupyter-widgets/controls",
          "model_name": "ProgressStyleModel",
          "model_module_version": "1.5.0",
          "state": {
            "_model_module": "@jupyter-widgets/controls",
            "_model_module_version": "1.5.0",
            "_model_name": "ProgressStyleModel",
            "_view_count": null,
            "_view_module": "@jupyter-widgets/base",
            "_view_module_version": "1.2.0",
            "_view_name": "StyleView",
            "bar_color": null,
            "description_width": ""
          }
        },
        "1cefe42d25634f5d8af6d5947176031d": {
          "model_module": "@jupyter-widgets/base",
          "model_name": "LayoutModel",
          "model_module_version": "1.2.0",
          "state": {
            "_model_module": "@jupyter-widgets/base",
            "_model_module_version": "1.2.0",
            "_model_name": "LayoutModel",
            "_view_count": null,
            "_view_module": "@jupyter-widgets/base",
            "_view_module_version": "1.2.0",
            "_view_name": "LayoutView",
            "align_content": null,
            "align_items": null,
            "align_self": null,
            "border": null,
            "bottom": null,
            "display": null,
            "flex": null,
            "flex_flow": null,
            "grid_area": null,
            "grid_auto_columns": null,
            "grid_auto_flow": null,
            "grid_auto_rows": null,
            "grid_column": null,
            "grid_gap": null,
            "grid_row": null,
            "grid_template_areas": null,
            "grid_template_columns": null,
            "grid_template_rows": null,
            "height": null,
            "justify_content": null,
            "justify_items": null,
            "left": null,
            "margin": null,
            "max_height": null,
            "max_width": null,
            "min_height": null,
            "min_width": null,
            "object_fit": null,
            "object_position": null,
            "order": null,
            "overflow": null,
            "overflow_x": null,
            "overflow_y": null,
            "padding": null,
            "right": null,
            "top": null,
            "visibility": null,
            "width": null
          }
        },
        "1afe05de275f424fb2fea7d73d2834db": {
          "model_module": "@jupyter-widgets/controls",
          "model_name": "DescriptionStyleModel",
          "model_module_version": "1.5.0",
          "state": {
            "_model_module": "@jupyter-widgets/controls",
            "_model_module_version": "1.5.0",
            "_model_name": "DescriptionStyleModel",
            "_view_count": null,
            "_view_module": "@jupyter-widgets/base",
            "_view_module_version": "1.2.0",
            "_view_name": "StyleView",
            "description_width": ""
          }
        },
        "83c6bf4ca62842a8bdaa5fae4e1821a9": {
          "model_module": "@jupyter-widgets/controls",
          "model_name": "HBoxModel",
          "model_module_version": "1.5.0",
          "state": {
            "_dom_classes": [],
            "_model_module": "@jupyter-widgets/controls",
            "_model_module_version": "1.5.0",
            "_model_name": "HBoxModel",
            "_view_count": null,
            "_view_module": "@jupyter-widgets/controls",
            "_view_module_version": "1.5.0",
            "_view_name": "HBoxView",
            "box_style": "",
            "children": [
              "IPY_MODEL_85815c9dc0a84f00b5f78e09ad009f56",
              "IPY_MODEL_0b4e495b9c3e4ee79e6caec87540781f",
              "IPY_MODEL_8af8c7cc7d624f20b7f0bdf8b5ea170a"
            ],
            "layout": "IPY_MODEL_994c5c7b7b4645c4befdb91eb42a6546"
          }
        },
        "85815c9dc0a84f00b5f78e09ad009f56": {
          "model_module": "@jupyter-widgets/controls",
          "model_name": "HTMLModel",
          "model_module_version": "1.5.0",
          "state": {
            "_dom_classes": [],
            "_model_module": "@jupyter-widgets/controls",
            "_model_module_version": "1.5.0",
            "_model_name": "HTMLModel",
            "_view_count": null,
            "_view_module": "@jupyter-widgets/controls",
            "_view_module_version": "1.5.0",
            "_view_name": "HTMLView",
            "description": "",
            "description_tooltip": null,
            "layout": "IPY_MODEL_c1be37e6f3a84616bcdb74fcbc10fa41",
            "placeholder": "​",
            "style": "IPY_MODEL_a31ee622a86d4b0ab6b80a1fdc00d636",
            "value": "Epochs 4/5. Running Loss:    0.3440: 100%"
          }
        },
        "0b4e495b9c3e4ee79e6caec87540781f": {
          "model_module": "@jupyter-widgets/controls",
          "model_name": "FloatProgressModel",
          "model_module_version": "1.5.0",
          "state": {
            "_dom_classes": [],
            "_model_module": "@jupyter-widgets/controls",
            "_model_module_version": "1.5.0",
            "_model_name": "FloatProgressModel",
            "_view_count": null,
            "_view_module": "@jupyter-widgets/controls",
            "_view_module_version": "1.5.0",
            "_view_name": "ProgressView",
            "bar_style": "success",
            "description": "",
            "description_tooltip": null,
            "layout": "IPY_MODEL_44f00af88bba4f19aaa3163a6b1e0d2b",
            "max": 55,
            "min": 0,
            "orientation": "horizontal",
            "style": "IPY_MODEL_d0cff8b038d54a57a1235c60146f8ff6",
            "value": 55
          }
        },
        "8af8c7cc7d624f20b7f0bdf8b5ea170a": {
          "model_module": "@jupyter-widgets/controls",
          "model_name": "HTMLModel",
          "model_module_version": "1.5.0",
          "state": {
            "_dom_classes": [],
            "_model_module": "@jupyter-widgets/controls",
            "_model_module_version": "1.5.0",
            "_model_name": "HTMLModel",
            "_view_count": null,
            "_view_module": "@jupyter-widgets/controls",
            "_view_module_version": "1.5.0",
            "_view_name": "HTMLView",
            "description": "",
            "description_tooltip": null,
            "layout": "IPY_MODEL_287d3fdc37b9476daf4729215bdb8abf",
            "placeholder": "​",
            "style": "IPY_MODEL_5e4dc63a7ee943b7bb479242cb759531",
            "value": " 55/55 [00:12&lt;00:00,  4.64it/s]"
          }
        },
        "994c5c7b7b4645c4befdb91eb42a6546": {
          "model_module": "@jupyter-widgets/base",
          "model_name": "LayoutModel",
          "model_module_version": "1.2.0",
          "state": {
            "_model_module": "@jupyter-widgets/base",
            "_model_module_version": "1.2.0",
            "_model_name": "LayoutModel",
            "_view_count": null,
            "_view_module": "@jupyter-widgets/base",
            "_view_module_version": "1.2.0",
            "_view_name": "LayoutView",
            "align_content": null,
            "align_items": null,
            "align_self": null,
            "border": null,
            "bottom": null,
            "display": null,
            "flex": null,
            "flex_flow": null,
            "grid_area": null,
            "grid_auto_columns": null,
            "grid_auto_flow": null,
            "grid_auto_rows": null,
            "grid_column": null,
            "grid_gap": null,
            "grid_row": null,
            "grid_template_areas": null,
            "grid_template_columns": null,
            "grid_template_rows": null,
            "height": null,
            "justify_content": null,
            "justify_items": null,
            "left": null,
            "margin": null,
            "max_height": null,
            "max_width": null,
            "min_height": null,
            "min_width": null,
            "object_fit": null,
            "object_position": null,
            "order": null,
            "overflow": null,
            "overflow_x": null,
            "overflow_y": null,
            "padding": null,
            "right": null,
            "top": null,
            "visibility": null,
            "width": null
          }
        },
        "c1be37e6f3a84616bcdb74fcbc10fa41": {
          "model_module": "@jupyter-widgets/base",
          "model_name": "LayoutModel",
          "model_module_version": "1.2.0",
          "state": {
            "_model_module": "@jupyter-widgets/base",
            "_model_module_version": "1.2.0",
            "_model_name": "LayoutModel",
            "_view_count": null,
            "_view_module": "@jupyter-widgets/base",
            "_view_module_version": "1.2.0",
            "_view_name": "LayoutView",
            "align_content": null,
            "align_items": null,
            "align_self": null,
            "border": null,
            "bottom": null,
            "display": null,
            "flex": null,
            "flex_flow": null,
            "grid_area": null,
            "grid_auto_columns": null,
            "grid_auto_flow": null,
            "grid_auto_rows": null,
            "grid_column": null,
            "grid_gap": null,
            "grid_row": null,
            "grid_template_areas": null,
            "grid_template_columns": null,
            "grid_template_rows": null,
            "height": null,
            "justify_content": null,
            "justify_items": null,
            "left": null,
            "margin": null,
            "max_height": null,
            "max_width": null,
            "min_height": null,
            "min_width": null,
            "object_fit": null,
            "object_position": null,
            "order": null,
            "overflow": null,
            "overflow_x": null,
            "overflow_y": null,
            "padding": null,
            "right": null,
            "top": null,
            "visibility": null,
            "width": null
          }
        },
        "a31ee622a86d4b0ab6b80a1fdc00d636": {
          "model_module": "@jupyter-widgets/controls",
          "model_name": "DescriptionStyleModel",
          "model_module_version": "1.5.0",
          "state": {
            "_model_module": "@jupyter-widgets/controls",
            "_model_module_version": "1.5.0",
            "_model_name": "DescriptionStyleModel",
            "_view_count": null,
            "_view_module": "@jupyter-widgets/base",
            "_view_module_version": "1.2.0",
            "_view_name": "StyleView",
            "description_width": ""
          }
        },
        "44f00af88bba4f19aaa3163a6b1e0d2b": {
          "model_module": "@jupyter-widgets/base",
          "model_name": "LayoutModel",
          "model_module_version": "1.2.0",
          "state": {
            "_model_module": "@jupyter-widgets/base",
            "_model_module_version": "1.2.0",
            "_model_name": "LayoutModel",
            "_view_count": null,
            "_view_module": "@jupyter-widgets/base",
            "_view_module_version": "1.2.0",
            "_view_name": "LayoutView",
            "align_content": null,
            "align_items": null,
            "align_self": null,
            "border": null,
            "bottom": null,
            "display": null,
            "flex": null,
            "flex_flow": null,
            "grid_area": null,
            "grid_auto_columns": null,
            "grid_auto_flow": null,
            "grid_auto_rows": null,
            "grid_column": null,
            "grid_gap": null,
            "grid_row": null,
            "grid_template_areas": null,
            "grid_template_columns": null,
            "grid_template_rows": null,
            "height": null,
            "justify_content": null,
            "justify_items": null,
            "left": null,
            "margin": null,
            "max_height": null,
            "max_width": null,
            "min_height": null,
            "min_width": null,
            "object_fit": null,
            "object_position": null,
            "order": null,
            "overflow": null,
            "overflow_x": null,
            "overflow_y": null,
            "padding": null,
            "right": null,
            "top": null,
            "visibility": null,
            "width": null
          }
        },
        "d0cff8b038d54a57a1235c60146f8ff6": {
          "model_module": "@jupyter-widgets/controls",
          "model_name": "ProgressStyleModel",
          "model_module_version": "1.5.0",
          "state": {
            "_model_module": "@jupyter-widgets/controls",
            "_model_module_version": "1.5.0",
            "_model_name": "ProgressStyleModel",
            "_view_count": null,
            "_view_module": "@jupyter-widgets/base",
            "_view_module_version": "1.2.0",
            "_view_name": "StyleView",
            "bar_color": null,
            "description_width": ""
          }
        },
        "287d3fdc37b9476daf4729215bdb8abf": {
          "model_module": "@jupyter-widgets/base",
          "model_name": "LayoutModel",
          "model_module_version": "1.2.0",
          "state": {
            "_model_module": "@jupyter-widgets/base",
            "_model_module_version": "1.2.0",
            "_model_name": "LayoutModel",
            "_view_count": null,
            "_view_module": "@jupyter-widgets/base",
            "_view_module_version": "1.2.0",
            "_view_name": "LayoutView",
            "align_content": null,
            "align_items": null,
            "align_self": null,
            "border": null,
            "bottom": null,
            "display": null,
            "flex": null,
            "flex_flow": null,
            "grid_area": null,
            "grid_auto_columns": null,
            "grid_auto_flow": null,
            "grid_auto_rows": null,
            "grid_column": null,
            "grid_gap": null,
            "grid_row": null,
            "grid_template_areas": null,
            "grid_template_columns": null,
            "grid_template_rows": null,
            "height": null,
            "justify_content": null,
            "justify_items": null,
            "left": null,
            "margin": null,
            "max_height": null,
            "max_width": null,
            "min_height": null,
            "min_width": null,
            "object_fit": null,
            "object_position": null,
            "order": null,
            "overflow": null,
            "overflow_x": null,
            "overflow_y": null,
            "padding": null,
            "right": null,
            "top": null,
            "visibility": null,
            "width": null
          }
        },
        "5e4dc63a7ee943b7bb479242cb759531": {
          "model_module": "@jupyter-widgets/controls",
          "model_name": "DescriptionStyleModel",
          "model_module_version": "1.5.0",
          "state": {
            "_model_module": "@jupyter-widgets/controls",
            "_model_module_version": "1.5.0",
            "_model_name": "DescriptionStyleModel",
            "_view_count": null,
            "_view_module": "@jupyter-widgets/base",
            "_view_module_version": "1.2.0",
            "_view_name": "StyleView",
            "description_width": ""
          }
        },
        "20876b9e90584bb3be765148060925f5": {
          "model_module": "@jupyter-widgets/controls",
          "model_name": "HBoxModel",
          "model_module_version": "1.5.0",
          "state": {
            "_dom_classes": [],
            "_model_module": "@jupyter-widgets/controls",
            "_model_module_version": "1.5.0",
            "_model_name": "HBoxModel",
            "_view_count": null,
            "_view_module": "@jupyter-widgets/controls",
            "_view_module_version": "1.5.0",
            "_view_name": "HBoxView",
            "box_style": "",
            "children": [
              "IPY_MODEL_a58658b8c7ef48df86e8da56423e3bca",
              "IPY_MODEL_5835022b0ecb459995862f19629cde69",
              "IPY_MODEL_85844e63a46241cea19823e7f2eece55"
            ],
            "layout": "IPY_MODEL_d70fb1265fb0464e84340b1a4c92a6b2"
          }
        },
        "a58658b8c7ef48df86e8da56423e3bca": {
          "model_module": "@jupyter-widgets/controls",
          "model_name": "HTMLModel",
          "model_module_version": "1.5.0",
          "state": {
            "_dom_classes": [],
            "_model_module": "@jupyter-widgets/controls",
            "_model_module_version": "1.5.0",
            "_model_name": "HTMLModel",
            "_view_count": null,
            "_view_module": "@jupyter-widgets/controls",
            "_view_module_version": "1.5.0",
            "_view_name": "HTMLView",
            "description": "",
            "description_tooltip": null,
            "layout": "IPY_MODEL_f34963f1227e49bda1d951302d320aa5",
            "placeholder": "​",
            "style": "IPY_MODEL_42767f6d5e034891be7407a40afa1c0a",
            "value": "100%"
          }
        },
        "5835022b0ecb459995862f19629cde69": {
          "model_module": "@jupyter-widgets/controls",
          "model_name": "FloatProgressModel",
          "model_module_version": "1.5.0",
          "state": {
            "_dom_classes": [],
            "_model_module": "@jupyter-widgets/controls",
            "_model_module_version": "1.5.0",
            "_model_name": "FloatProgressModel",
            "_view_count": null,
            "_view_module": "@jupyter-widgets/controls",
            "_view_module_version": "1.5.0",
            "_view_name": "ProgressView",
            "bar_style": "success",
            "description": "",
            "description_tooltip": null,
            "layout": "IPY_MODEL_be4f797778144914a7b1c9541e5919d8",
            "max": 3,
            "min": 0,
            "orientation": "horizontal",
            "style": "IPY_MODEL_8828633a25344994b63462b1e31ffd80",
            "value": 3
          }
        },
        "85844e63a46241cea19823e7f2eece55": {
          "model_module": "@jupyter-widgets/controls",
          "model_name": "HTMLModel",
          "model_module_version": "1.5.0",
          "state": {
            "_dom_classes": [],
            "_model_module": "@jupyter-widgets/controls",
            "_model_module_version": "1.5.0",
            "_model_name": "HTMLModel",
            "_view_count": null,
            "_view_module": "@jupyter-widgets/controls",
            "_view_module_version": "1.5.0",
            "_view_name": "HTMLView",
            "description": "",
            "description_tooltip": null,
            "layout": "IPY_MODEL_641b3259237044279b0ecc047e5ad033",
            "placeholder": "​",
            "style": "IPY_MODEL_aa1bfdd1ac3c45b2ba760ad45a6438ec",
            "value": " 3/3 [00:07&lt;00:00,  3.93s/it]"
          }
        },
        "d70fb1265fb0464e84340b1a4c92a6b2": {
          "model_module": "@jupyter-widgets/base",
          "model_name": "LayoutModel",
          "model_module_version": "1.2.0",
          "state": {
            "_model_module": "@jupyter-widgets/base",
            "_model_module_version": "1.2.0",
            "_model_name": "LayoutModel",
            "_view_count": null,
            "_view_module": "@jupyter-widgets/base",
            "_view_module_version": "1.2.0",
            "_view_name": "LayoutView",
            "align_content": null,
            "align_items": null,
            "align_self": null,
            "border": null,
            "bottom": null,
            "display": null,
            "flex": null,
            "flex_flow": null,
            "grid_area": null,
            "grid_auto_columns": null,
            "grid_auto_flow": null,
            "grid_auto_rows": null,
            "grid_column": null,
            "grid_gap": null,
            "grid_row": null,
            "grid_template_areas": null,
            "grid_template_columns": null,
            "grid_template_rows": null,
            "height": null,
            "justify_content": null,
            "justify_items": null,
            "left": null,
            "margin": null,
            "max_height": null,
            "max_width": null,
            "min_height": null,
            "min_width": null,
            "object_fit": null,
            "object_position": null,
            "order": null,
            "overflow": null,
            "overflow_x": null,
            "overflow_y": null,
            "padding": null,
            "right": null,
            "top": null,
            "visibility": null,
            "width": null
          }
        },
        "f34963f1227e49bda1d951302d320aa5": {
          "model_module": "@jupyter-widgets/base",
          "model_name": "LayoutModel",
          "model_module_version": "1.2.0",
          "state": {
            "_model_module": "@jupyter-widgets/base",
            "_model_module_version": "1.2.0",
            "_model_name": "LayoutModel",
            "_view_count": null,
            "_view_module": "@jupyter-widgets/base",
            "_view_module_version": "1.2.0",
            "_view_name": "LayoutView",
            "align_content": null,
            "align_items": null,
            "align_self": null,
            "border": null,
            "bottom": null,
            "display": null,
            "flex": null,
            "flex_flow": null,
            "grid_area": null,
            "grid_auto_columns": null,
            "grid_auto_flow": null,
            "grid_auto_rows": null,
            "grid_column": null,
            "grid_gap": null,
            "grid_row": null,
            "grid_template_areas": null,
            "grid_template_columns": null,
            "grid_template_rows": null,
            "height": null,
            "justify_content": null,
            "justify_items": null,
            "left": null,
            "margin": null,
            "max_height": null,
            "max_width": null,
            "min_height": null,
            "min_width": null,
            "object_fit": null,
            "object_position": null,
            "order": null,
            "overflow": null,
            "overflow_x": null,
            "overflow_y": null,
            "padding": null,
            "right": null,
            "top": null,
            "visibility": null,
            "width": null
          }
        },
        "42767f6d5e034891be7407a40afa1c0a": {
          "model_module": "@jupyter-widgets/controls",
          "model_name": "DescriptionStyleModel",
          "model_module_version": "1.5.0",
          "state": {
            "_model_module": "@jupyter-widgets/controls",
            "_model_module_version": "1.5.0",
            "_model_name": "DescriptionStyleModel",
            "_view_count": null,
            "_view_module": "@jupyter-widgets/base",
            "_view_module_version": "1.2.0",
            "_view_name": "StyleView",
            "description_width": ""
          }
        },
        "be4f797778144914a7b1c9541e5919d8": {
          "model_module": "@jupyter-widgets/base",
          "model_name": "LayoutModel",
          "model_module_version": "1.2.0",
          "state": {
            "_model_module": "@jupyter-widgets/base",
            "_model_module_version": "1.2.0",
            "_model_name": "LayoutModel",
            "_view_count": null,
            "_view_module": "@jupyter-widgets/base",
            "_view_module_version": "1.2.0",
            "_view_name": "LayoutView",
            "align_content": null,
            "align_items": null,
            "align_self": null,
            "border": null,
            "bottom": null,
            "display": null,
            "flex": null,
            "flex_flow": null,
            "grid_area": null,
            "grid_auto_columns": null,
            "grid_auto_flow": null,
            "grid_auto_rows": null,
            "grid_column": null,
            "grid_gap": null,
            "grid_row": null,
            "grid_template_areas": null,
            "grid_template_columns": null,
            "grid_template_rows": null,
            "height": null,
            "justify_content": null,
            "justify_items": null,
            "left": null,
            "margin": null,
            "max_height": null,
            "max_width": null,
            "min_height": null,
            "min_width": null,
            "object_fit": null,
            "object_position": null,
            "order": null,
            "overflow": null,
            "overflow_x": null,
            "overflow_y": null,
            "padding": null,
            "right": null,
            "top": null,
            "visibility": null,
            "width": null
          }
        },
        "8828633a25344994b63462b1e31ffd80": {
          "model_module": "@jupyter-widgets/controls",
          "model_name": "ProgressStyleModel",
          "model_module_version": "1.5.0",
          "state": {
            "_model_module": "@jupyter-widgets/controls",
            "_model_module_version": "1.5.0",
            "_model_name": "ProgressStyleModel",
            "_view_count": null,
            "_view_module": "@jupyter-widgets/base",
            "_view_module_version": "1.2.0",
            "_view_name": "StyleView",
            "bar_color": null,
            "description_width": ""
          }
        },
        "641b3259237044279b0ecc047e5ad033": {
          "model_module": "@jupyter-widgets/base",
          "model_name": "LayoutModel",
          "model_module_version": "1.2.0",
          "state": {
            "_model_module": "@jupyter-widgets/base",
            "_model_module_version": "1.2.0",
            "_model_name": "LayoutModel",
            "_view_count": null,
            "_view_module": "@jupyter-widgets/base",
            "_view_module_version": "1.2.0",
            "_view_name": "LayoutView",
            "align_content": null,
            "align_items": null,
            "align_self": null,
            "border": null,
            "bottom": null,
            "display": null,
            "flex": null,
            "flex_flow": null,
            "grid_area": null,
            "grid_auto_columns": null,
            "grid_auto_flow": null,
            "grid_auto_rows": null,
            "grid_column": null,
            "grid_gap": null,
            "grid_row": null,
            "grid_template_areas": null,
            "grid_template_columns": null,
            "grid_template_rows": null,
            "height": null,
            "justify_content": null,
            "justify_items": null,
            "left": null,
            "margin": null,
            "max_height": null,
            "max_width": null,
            "min_height": null,
            "min_width": null,
            "object_fit": null,
            "object_position": null,
            "order": null,
            "overflow": null,
            "overflow_x": null,
            "overflow_y": null,
            "padding": null,
            "right": null,
            "top": null,
            "visibility": null,
            "width": null
          }
        },
        "aa1bfdd1ac3c45b2ba760ad45a6438ec": {
          "model_module": "@jupyter-widgets/controls",
          "model_name": "DescriptionStyleModel",
          "model_module_version": "1.5.0",
          "state": {
            "_model_module": "@jupyter-widgets/controls",
            "_model_module_version": "1.5.0",
            "_model_name": "DescriptionStyleModel",
            "_view_count": null,
            "_view_module": "@jupyter-widgets/base",
            "_view_module_version": "1.2.0",
            "_view_name": "StyleView",
            "description_width": ""
          }
        },
        "440731ea40f44b07af101f7c3b020d22": {
          "model_module": "@jupyter-widgets/controls",
          "model_name": "HBoxModel",
          "model_module_version": "1.5.0",
          "state": {
            "_dom_classes": [],
            "_model_module": "@jupyter-widgets/controls",
            "_model_module_version": "1.5.0",
            "_model_name": "HBoxModel",
            "_view_count": null,
            "_view_module": "@jupyter-widgets/controls",
            "_view_module_version": "1.5.0",
            "_view_name": "HBoxView",
            "box_style": "",
            "children": [
              "IPY_MODEL_51b48df9d9214e2cbe864b181dfcc8a7",
              "IPY_MODEL_7d99371a3b83405dbf40c1da04b756f8",
              "IPY_MODEL_d090237adbc04bd7bf657b899418ebda"
            ],
            "layout": "IPY_MODEL_4bd19ddbf7cf4b77b7a5488fc70552d8"
          }
        },
        "51b48df9d9214e2cbe864b181dfcc8a7": {
          "model_module": "@jupyter-widgets/controls",
          "model_name": "HTMLModel",
          "model_module_version": "1.5.0",
          "state": {
            "_dom_classes": [],
            "_model_module": "@jupyter-widgets/controls",
            "_model_module_version": "1.5.0",
            "_model_name": "HTMLModel",
            "_view_count": null,
            "_view_module": "@jupyter-widgets/controls",
            "_view_module_version": "1.5.0",
            "_view_name": "HTMLView",
            "description": "",
            "description_tooltip": null,
            "layout": "IPY_MODEL_8fd71378c1fe4cf2b28d59a72d226dc9",
            "placeholder": "​",
            "style": "IPY_MODEL_e9fe9adc63804e63a315dca197be7277",
            "value": "Running Evaluation: 100%"
          }
        },
        "7d99371a3b83405dbf40c1da04b756f8": {
          "model_module": "@jupyter-widgets/controls",
          "model_name": "FloatProgressModel",
          "model_module_version": "1.5.0",
          "state": {
            "_dom_classes": [],
            "_model_module": "@jupyter-widgets/controls",
            "_model_module_version": "1.5.0",
            "_model_name": "FloatProgressModel",
            "_view_count": null,
            "_view_module": "@jupyter-widgets/controls",
            "_view_module_version": "1.5.0",
            "_view_name": "ProgressView",
            "bar_style": "success",
            "description": "",
            "description_tooltip": null,
            "layout": "IPY_MODEL_41134daaa84b4800987e8b1c2b291907",
            "max": 55,
            "min": 0,
            "orientation": "horizontal",
            "style": "IPY_MODEL_a74b9c32847d459e953c6bf3ea2b9f67",
            "value": 55
          }
        },
        "d090237adbc04bd7bf657b899418ebda": {
          "model_module": "@jupyter-widgets/controls",
          "model_name": "HTMLModel",
          "model_module_version": "1.5.0",
          "state": {
            "_dom_classes": [],
            "_model_module": "@jupyter-widgets/controls",
            "_model_module_version": "1.5.0",
            "_model_name": "HTMLModel",
            "_view_count": null,
            "_view_module": "@jupyter-widgets/controls",
            "_view_module_version": "1.5.0",
            "_view_name": "HTMLView",
            "description": "",
            "description_tooltip": null,
            "layout": "IPY_MODEL_a1032111619242fab319401ca7013b67",
            "placeholder": "​",
            "style": "IPY_MODEL_92f5f1ced62049028609a9a50d499af7",
            "value": " 55/55 [00:03&lt;00:00, 14.60it/s]"
          }
        },
        "4bd19ddbf7cf4b77b7a5488fc70552d8": {
          "model_module": "@jupyter-widgets/base",
          "model_name": "LayoutModel",
          "model_module_version": "1.2.0",
          "state": {
            "_model_module": "@jupyter-widgets/base",
            "_model_module_version": "1.2.0",
            "_model_name": "LayoutModel",
            "_view_count": null,
            "_view_module": "@jupyter-widgets/base",
            "_view_module_version": "1.2.0",
            "_view_name": "LayoutView",
            "align_content": null,
            "align_items": null,
            "align_self": null,
            "border": null,
            "bottom": null,
            "display": null,
            "flex": null,
            "flex_flow": null,
            "grid_area": null,
            "grid_auto_columns": null,
            "grid_auto_flow": null,
            "grid_auto_rows": null,
            "grid_column": null,
            "grid_gap": null,
            "grid_row": null,
            "grid_template_areas": null,
            "grid_template_columns": null,
            "grid_template_rows": null,
            "height": null,
            "justify_content": null,
            "justify_items": null,
            "left": null,
            "margin": null,
            "max_height": null,
            "max_width": null,
            "min_height": null,
            "min_width": null,
            "object_fit": null,
            "object_position": null,
            "order": null,
            "overflow": null,
            "overflow_x": null,
            "overflow_y": null,
            "padding": null,
            "right": null,
            "top": null,
            "visibility": null,
            "width": null
          }
        },
        "8fd71378c1fe4cf2b28d59a72d226dc9": {
          "model_module": "@jupyter-widgets/base",
          "model_name": "LayoutModel",
          "model_module_version": "1.2.0",
          "state": {
            "_model_module": "@jupyter-widgets/base",
            "_model_module_version": "1.2.0",
            "_model_name": "LayoutModel",
            "_view_count": null,
            "_view_module": "@jupyter-widgets/base",
            "_view_module_version": "1.2.0",
            "_view_name": "LayoutView",
            "align_content": null,
            "align_items": null,
            "align_self": null,
            "border": null,
            "bottom": null,
            "display": null,
            "flex": null,
            "flex_flow": null,
            "grid_area": null,
            "grid_auto_columns": null,
            "grid_auto_flow": null,
            "grid_auto_rows": null,
            "grid_column": null,
            "grid_gap": null,
            "grid_row": null,
            "grid_template_areas": null,
            "grid_template_columns": null,
            "grid_template_rows": null,
            "height": null,
            "justify_content": null,
            "justify_items": null,
            "left": null,
            "margin": null,
            "max_height": null,
            "max_width": null,
            "min_height": null,
            "min_width": null,
            "object_fit": null,
            "object_position": null,
            "order": null,
            "overflow": null,
            "overflow_x": null,
            "overflow_y": null,
            "padding": null,
            "right": null,
            "top": null,
            "visibility": null,
            "width": null
          }
        },
        "e9fe9adc63804e63a315dca197be7277": {
          "model_module": "@jupyter-widgets/controls",
          "model_name": "DescriptionStyleModel",
          "model_module_version": "1.5.0",
          "state": {
            "_model_module": "@jupyter-widgets/controls",
            "_model_module_version": "1.5.0",
            "_model_name": "DescriptionStyleModel",
            "_view_count": null,
            "_view_module": "@jupyter-widgets/base",
            "_view_module_version": "1.2.0",
            "_view_name": "StyleView",
            "description_width": ""
          }
        },
        "41134daaa84b4800987e8b1c2b291907": {
          "model_module": "@jupyter-widgets/base",
          "model_name": "LayoutModel",
          "model_module_version": "1.2.0",
          "state": {
            "_model_module": "@jupyter-widgets/base",
            "_model_module_version": "1.2.0",
            "_model_name": "LayoutModel",
            "_view_count": null,
            "_view_module": "@jupyter-widgets/base",
            "_view_module_version": "1.2.0",
            "_view_name": "LayoutView",
            "align_content": null,
            "align_items": null,
            "align_self": null,
            "border": null,
            "bottom": null,
            "display": null,
            "flex": null,
            "flex_flow": null,
            "grid_area": null,
            "grid_auto_columns": null,
            "grid_auto_flow": null,
            "grid_auto_rows": null,
            "grid_column": null,
            "grid_gap": null,
            "grid_row": null,
            "grid_template_areas": null,
            "grid_template_columns": null,
            "grid_template_rows": null,
            "height": null,
            "justify_content": null,
            "justify_items": null,
            "left": null,
            "margin": null,
            "max_height": null,
            "max_width": null,
            "min_height": null,
            "min_width": null,
            "object_fit": null,
            "object_position": null,
            "order": null,
            "overflow": null,
            "overflow_x": null,
            "overflow_y": null,
            "padding": null,
            "right": null,
            "top": null,
            "visibility": null,
            "width": null
          }
        },
        "a74b9c32847d459e953c6bf3ea2b9f67": {
          "model_module": "@jupyter-widgets/controls",
          "model_name": "ProgressStyleModel",
          "model_module_version": "1.5.0",
          "state": {
            "_model_module": "@jupyter-widgets/controls",
            "_model_module_version": "1.5.0",
            "_model_name": "ProgressStyleModel",
            "_view_count": null,
            "_view_module": "@jupyter-widgets/base",
            "_view_module_version": "1.2.0",
            "_view_name": "StyleView",
            "bar_color": null,
            "description_width": ""
          }
        },
        "a1032111619242fab319401ca7013b67": {
          "model_module": "@jupyter-widgets/base",
          "model_name": "LayoutModel",
          "model_module_version": "1.2.0",
          "state": {
            "_model_module": "@jupyter-widgets/base",
            "_model_module_version": "1.2.0",
            "_model_name": "LayoutModel",
            "_view_count": null,
            "_view_module": "@jupyter-widgets/base",
            "_view_module_version": "1.2.0",
            "_view_name": "LayoutView",
            "align_content": null,
            "align_items": null,
            "align_self": null,
            "border": null,
            "bottom": null,
            "display": null,
            "flex": null,
            "flex_flow": null,
            "grid_area": null,
            "grid_auto_columns": null,
            "grid_auto_flow": null,
            "grid_auto_rows": null,
            "grid_column": null,
            "grid_gap": null,
            "grid_row": null,
            "grid_template_areas": null,
            "grid_template_columns": null,
            "grid_template_rows": null,
            "height": null,
            "justify_content": null,
            "justify_items": null,
            "left": null,
            "margin": null,
            "max_height": null,
            "max_width": null,
            "min_height": null,
            "min_width": null,
            "object_fit": null,
            "object_position": null,
            "order": null,
            "overflow": null,
            "overflow_x": null,
            "overflow_y": null,
            "padding": null,
            "right": null,
            "top": null,
            "visibility": null,
            "width": null
          }
        },
        "92f5f1ced62049028609a9a50d499af7": {
          "model_module": "@jupyter-widgets/controls",
          "model_name": "DescriptionStyleModel",
          "model_module_version": "1.5.0",
          "state": {
            "_model_module": "@jupyter-widgets/controls",
            "_model_module_version": "1.5.0",
            "_model_name": "DescriptionStyleModel",
            "_view_count": null,
            "_view_module": "@jupyter-widgets/base",
            "_view_module_version": "1.2.0",
            "_view_name": "StyleView",
            "description_width": ""
          }
        },
        "07951d1fe0c84d2a9bd4aee65f621e81": {
          "model_module": "@jupyter-widgets/controls",
          "model_name": "HBoxModel",
          "model_module_version": "1.5.0",
          "state": {
            "_dom_classes": [],
            "_model_module": "@jupyter-widgets/controls",
            "_model_module_version": "1.5.0",
            "_model_name": "HBoxModel",
            "_view_count": null,
            "_view_module": "@jupyter-widgets/controls",
            "_view_module_version": "1.5.0",
            "_view_name": "HBoxView",
            "box_style": "",
            "children": [
              "IPY_MODEL_0454d5ce0966471f974ae275ea48b1da",
              "IPY_MODEL_3bb644f6b8ff4eba9276092509a10889",
              "IPY_MODEL_d44d0b0f90ad4a2d810da58d32d132a6"
            ],
            "layout": "IPY_MODEL_edfc228713af46b18cd16461d2ca5cd4"
          }
        },
        "0454d5ce0966471f974ae275ea48b1da": {
          "model_module": "@jupyter-widgets/controls",
          "model_name": "HTMLModel",
          "model_module_version": "1.5.0",
          "state": {
            "_dom_classes": [],
            "_model_module": "@jupyter-widgets/controls",
            "_model_module_version": "1.5.0",
            "_model_name": "HTMLModel",
            "_view_count": null,
            "_view_module": "@jupyter-widgets/controls",
            "_view_module_version": "1.5.0",
            "_view_name": "HTMLView",
            "description": "",
            "description_tooltip": null,
            "layout": "IPY_MODEL_42baf498d63d4e1998026548abc79008",
            "placeholder": "​",
            "style": "IPY_MODEL_3d6072c259aa46138cc831bd78aec102",
            "value": "100%"
          }
        },
        "3bb644f6b8ff4eba9276092509a10889": {
          "model_module": "@jupyter-widgets/controls",
          "model_name": "FloatProgressModel",
          "model_module_version": "1.5.0",
          "state": {
            "_dom_classes": [],
            "_model_module": "@jupyter-widgets/controls",
            "_model_module_version": "1.5.0",
            "_model_name": "FloatProgressModel",
            "_view_count": null,
            "_view_module": "@jupyter-widgets/controls",
            "_view_module_version": "1.5.0",
            "_view_name": "ProgressView",
            "bar_style": "success",
            "description": "",
            "description_tooltip": null,
            "layout": "IPY_MODEL_b8c7028f59ce40e1a225e93f04ff80b6",
            "max": 3,
            "min": 0,
            "orientation": "horizontal",
            "style": "IPY_MODEL_6948be5bfa304ec99eb385fd60035c76",
            "value": 3
          }
        },
        "d44d0b0f90ad4a2d810da58d32d132a6": {
          "model_module": "@jupyter-widgets/controls",
          "model_name": "HTMLModel",
          "model_module_version": "1.5.0",
          "state": {
            "_dom_classes": [],
            "_model_module": "@jupyter-widgets/controls",
            "_model_module_version": "1.5.0",
            "_model_name": "HTMLModel",
            "_view_count": null,
            "_view_module": "@jupyter-widgets/controls",
            "_view_module_version": "1.5.0",
            "_view_name": "HTMLView",
            "description": "",
            "description_tooltip": null,
            "layout": "IPY_MODEL_bbacd8fa335c446e95442aedd868383e",
            "placeholder": "​",
            "style": "IPY_MODEL_11c9a0776c3544959dc4eecf9cb363dd",
            "value": " 3/3 [00:14&lt;00:00,  6.78s/it]"
          }
        },
        "edfc228713af46b18cd16461d2ca5cd4": {
          "model_module": "@jupyter-widgets/base",
          "model_name": "LayoutModel",
          "model_module_version": "1.2.0",
          "state": {
            "_model_module": "@jupyter-widgets/base",
            "_model_module_version": "1.2.0",
            "_model_name": "LayoutModel",
            "_view_count": null,
            "_view_module": "@jupyter-widgets/base",
            "_view_module_version": "1.2.0",
            "_view_name": "LayoutView",
            "align_content": null,
            "align_items": null,
            "align_self": null,
            "border": null,
            "bottom": null,
            "display": null,
            "flex": null,
            "flex_flow": null,
            "grid_area": null,
            "grid_auto_columns": null,
            "grid_auto_flow": null,
            "grid_auto_rows": null,
            "grid_column": null,
            "grid_gap": null,
            "grid_row": null,
            "grid_template_areas": null,
            "grid_template_columns": null,
            "grid_template_rows": null,
            "height": null,
            "justify_content": null,
            "justify_items": null,
            "left": null,
            "margin": null,
            "max_height": null,
            "max_width": null,
            "min_height": null,
            "min_width": null,
            "object_fit": null,
            "object_position": null,
            "order": null,
            "overflow": null,
            "overflow_x": null,
            "overflow_y": null,
            "padding": null,
            "right": null,
            "top": null,
            "visibility": null,
            "width": null
          }
        },
        "42baf498d63d4e1998026548abc79008": {
          "model_module": "@jupyter-widgets/base",
          "model_name": "LayoutModel",
          "model_module_version": "1.2.0",
          "state": {
            "_model_module": "@jupyter-widgets/base",
            "_model_module_version": "1.2.0",
            "_model_name": "LayoutModel",
            "_view_count": null,
            "_view_module": "@jupyter-widgets/base",
            "_view_module_version": "1.2.0",
            "_view_name": "LayoutView",
            "align_content": null,
            "align_items": null,
            "align_self": null,
            "border": null,
            "bottom": null,
            "display": null,
            "flex": null,
            "flex_flow": null,
            "grid_area": null,
            "grid_auto_columns": null,
            "grid_auto_flow": null,
            "grid_auto_rows": null,
            "grid_column": null,
            "grid_gap": null,
            "grid_row": null,
            "grid_template_areas": null,
            "grid_template_columns": null,
            "grid_template_rows": null,
            "height": null,
            "justify_content": null,
            "justify_items": null,
            "left": null,
            "margin": null,
            "max_height": null,
            "max_width": null,
            "min_height": null,
            "min_width": null,
            "object_fit": null,
            "object_position": null,
            "order": null,
            "overflow": null,
            "overflow_x": null,
            "overflow_y": null,
            "padding": null,
            "right": null,
            "top": null,
            "visibility": null,
            "width": null
          }
        },
        "3d6072c259aa46138cc831bd78aec102": {
          "model_module": "@jupyter-widgets/controls",
          "model_name": "DescriptionStyleModel",
          "model_module_version": "1.5.0",
          "state": {
            "_model_module": "@jupyter-widgets/controls",
            "_model_module_version": "1.5.0",
            "_model_name": "DescriptionStyleModel",
            "_view_count": null,
            "_view_module": "@jupyter-widgets/base",
            "_view_module_version": "1.2.0",
            "_view_name": "StyleView",
            "description_width": ""
          }
        },
        "b8c7028f59ce40e1a225e93f04ff80b6": {
          "model_module": "@jupyter-widgets/base",
          "model_name": "LayoutModel",
          "model_module_version": "1.2.0",
          "state": {
            "_model_module": "@jupyter-widgets/base",
            "_model_module_version": "1.2.0",
            "_model_name": "LayoutModel",
            "_view_count": null,
            "_view_module": "@jupyter-widgets/base",
            "_view_module_version": "1.2.0",
            "_view_name": "LayoutView",
            "align_content": null,
            "align_items": null,
            "align_self": null,
            "border": null,
            "bottom": null,
            "display": null,
            "flex": null,
            "flex_flow": null,
            "grid_area": null,
            "grid_auto_columns": null,
            "grid_auto_flow": null,
            "grid_auto_rows": null,
            "grid_column": null,
            "grid_gap": null,
            "grid_row": null,
            "grid_template_areas": null,
            "grid_template_columns": null,
            "grid_template_rows": null,
            "height": null,
            "justify_content": null,
            "justify_items": null,
            "left": null,
            "margin": null,
            "max_height": null,
            "max_width": null,
            "min_height": null,
            "min_width": null,
            "object_fit": null,
            "object_position": null,
            "order": null,
            "overflow": null,
            "overflow_x": null,
            "overflow_y": null,
            "padding": null,
            "right": null,
            "top": null,
            "visibility": null,
            "width": null
          }
        },
        "6948be5bfa304ec99eb385fd60035c76": {
          "model_module": "@jupyter-widgets/controls",
          "model_name": "ProgressStyleModel",
          "model_module_version": "1.5.0",
          "state": {
            "_model_module": "@jupyter-widgets/controls",
            "_model_module_version": "1.5.0",
            "_model_name": "ProgressStyleModel",
            "_view_count": null,
            "_view_module": "@jupyter-widgets/base",
            "_view_module_version": "1.2.0",
            "_view_name": "StyleView",
            "bar_color": null,
            "description_width": ""
          }
        },
        "bbacd8fa335c446e95442aedd868383e": {
          "model_module": "@jupyter-widgets/base",
          "model_name": "LayoutModel",
          "model_module_version": "1.2.0",
          "state": {
            "_model_module": "@jupyter-widgets/base",
            "_model_module_version": "1.2.0",
            "_model_name": "LayoutModel",
            "_view_count": null,
            "_view_module": "@jupyter-widgets/base",
            "_view_module_version": "1.2.0",
            "_view_name": "LayoutView",
            "align_content": null,
            "align_items": null,
            "align_self": null,
            "border": null,
            "bottom": null,
            "display": null,
            "flex": null,
            "flex_flow": null,
            "grid_area": null,
            "grid_auto_columns": null,
            "grid_auto_flow": null,
            "grid_auto_rows": null,
            "grid_column": null,
            "grid_gap": null,
            "grid_row": null,
            "grid_template_areas": null,
            "grid_template_columns": null,
            "grid_template_rows": null,
            "height": null,
            "justify_content": null,
            "justify_items": null,
            "left": null,
            "margin": null,
            "max_height": null,
            "max_width": null,
            "min_height": null,
            "min_width": null,
            "object_fit": null,
            "object_position": null,
            "order": null,
            "overflow": null,
            "overflow_x": null,
            "overflow_y": null,
            "padding": null,
            "right": null,
            "top": null,
            "visibility": null,
            "width": null
          }
        },
        "11c9a0776c3544959dc4eecf9cb363dd": {
          "model_module": "@jupyter-widgets/controls",
          "model_name": "DescriptionStyleModel",
          "model_module_version": "1.5.0",
          "state": {
            "_model_module": "@jupyter-widgets/controls",
            "_model_module_version": "1.5.0",
            "_model_name": "DescriptionStyleModel",
            "_view_count": null,
            "_view_module": "@jupyter-widgets/base",
            "_view_module_version": "1.2.0",
            "_view_name": "StyleView",
            "description_width": ""
          }
        },
        "22cdebc54bfe452887bfaf2d5976ba8e": {
          "model_module": "@jupyter-widgets/controls",
          "model_name": "HBoxModel",
          "model_module_version": "1.5.0",
          "state": {
            "_dom_classes": [],
            "_model_module": "@jupyter-widgets/controls",
            "_model_module_version": "1.5.0",
            "_model_name": "HBoxModel",
            "_view_count": null,
            "_view_module": "@jupyter-widgets/controls",
            "_view_module_version": "1.5.0",
            "_view_name": "HBoxView",
            "box_style": "",
            "children": [
              "IPY_MODEL_4fbd79d54b9b4efcbc4fb8553bb2c4cb",
              "IPY_MODEL_85af33b87caf4fa3a0a56c1deb41601f",
              "IPY_MODEL_66144e0d6b234f6c8cc6cc2c0071d05f"
            ],
            "layout": "IPY_MODEL_5c9130b798ea4bd0bcb2ddb85eb10266"
          }
        },
        "4fbd79d54b9b4efcbc4fb8553bb2c4cb": {
          "model_module": "@jupyter-widgets/controls",
          "model_name": "HTMLModel",
          "model_module_version": "1.5.0",
          "state": {
            "_dom_classes": [],
            "_model_module": "@jupyter-widgets/controls",
            "_model_module_version": "1.5.0",
            "_model_name": "HTMLModel",
            "_view_count": null,
            "_view_module": "@jupyter-widgets/controls",
            "_view_module_version": "1.5.0",
            "_view_name": "HTMLView",
            "description": "",
            "description_tooltip": null,
            "layout": "IPY_MODEL_bae9e8b15e314746bc649bef5c22abb3",
            "placeholder": "​",
            "style": "IPY_MODEL_c7b7aac9a4f8467b971b16214cac8edc",
            "value": "Running Prediction: 100%"
          }
        },
        "85af33b87caf4fa3a0a56c1deb41601f": {
          "model_module": "@jupyter-widgets/controls",
          "model_name": "FloatProgressModel",
          "model_module_version": "1.5.0",
          "state": {
            "_dom_classes": [],
            "_model_module": "@jupyter-widgets/controls",
            "_model_module_version": "1.5.0",
            "_model_name": "FloatProgressModel",
            "_view_count": null,
            "_view_module": "@jupyter-widgets/controls",
            "_view_module_version": "1.5.0",
            "_view_name": "ProgressView",
            "bar_style": "success",
            "description": "",
            "description_tooltip": null,
            "layout": "IPY_MODEL_5102cf0d2fc14e0bb6af5b01bc5cf46d",
            "max": 3583,
            "min": 0,
            "orientation": "horizontal",
            "style": "IPY_MODEL_79bb12c151924acaa3a72833da3daf55",
            "value": 3583
          }
        },
        "66144e0d6b234f6c8cc6cc2c0071d05f": {
          "model_module": "@jupyter-widgets/controls",
          "model_name": "HTMLModel",
          "model_module_version": "1.5.0",
          "state": {
            "_dom_classes": [],
            "_model_module": "@jupyter-widgets/controls",
            "_model_module_version": "1.5.0",
            "_model_name": "HTMLModel",
            "_view_count": null,
            "_view_module": "@jupyter-widgets/controls",
            "_view_module_version": "1.5.0",
            "_view_name": "HTMLView",
            "description": "",
            "description_tooltip": null,
            "layout": "IPY_MODEL_632761c6d5c441e5b9cf45fad72e3a7f",
            "placeholder": "​",
            "style": "IPY_MODEL_37b24d74af7148d193f957f549096c52",
            "value": " 3583/3583 [23:39&lt;00:00,  1.43it/s]"
          }
        },
        "5c9130b798ea4bd0bcb2ddb85eb10266": {
          "model_module": "@jupyter-widgets/base",
          "model_name": "LayoutModel",
          "model_module_version": "1.2.0",
          "state": {
            "_model_module": "@jupyter-widgets/base",
            "_model_module_version": "1.2.0",
            "_model_name": "LayoutModel",
            "_view_count": null,
            "_view_module": "@jupyter-widgets/base",
            "_view_module_version": "1.2.0",
            "_view_name": "LayoutView",
            "align_content": null,
            "align_items": null,
            "align_self": null,
            "border": null,
            "bottom": null,
            "display": null,
            "flex": null,
            "flex_flow": null,
            "grid_area": null,
            "grid_auto_columns": null,
            "grid_auto_flow": null,
            "grid_auto_rows": null,
            "grid_column": null,
            "grid_gap": null,
            "grid_row": null,
            "grid_template_areas": null,
            "grid_template_columns": null,
            "grid_template_rows": null,
            "height": null,
            "justify_content": null,
            "justify_items": null,
            "left": null,
            "margin": null,
            "max_height": null,
            "max_width": null,
            "min_height": null,
            "min_width": null,
            "object_fit": null,
            "object_position": null,
            "order": null,
            "overflow": null,
            "overflow_x": null,
            "overflow_y": null,
            "padding": null,
            "right": null,
            "top": null,
            "visibility": null,
            "width": null
          }
        },
        "bae9e8b15e314746bc649bef5c22abb3": {
          "model_module": "@jupyter-widgets/base",
          "model_name": "LayoutModel",
          "model_module_version": "1.2.0",
          "state": {
            "_model_module": "@jupyter-widgets/base",
            "_model_module_version": "1.2.0",
            "_model_name": "LayoutModel",
            "_view_count": null,
            "_view_module": "@jupyter-widgets/base",
            "_view_module_version": "1.2.0",
            "_view_name": "LayoutView",
            "align_content": null,
            "align_items": null,
            "align_self": null,
            "border": null,
            "bottom": null,
            "display": null,
            "flex": null,
            "flex_flow": null,
            "grid_area": null,
            "grid_auto_columns": null,
            "grid_auto_flow": null,
            "grid_auto_rows": null,
            "grid_column": null,
            "grid_gap": null,
            "grid_row": null,
            "grid_template_areas": null,
            "grid_template_columns": null,
            "grid_template_rows": null,
            "height": null,
            "justify_content": null,
            "justify_items": null,
            "left": null,
            "margin": null,
            "max_height": null,
            "max_width": null,
            "min_height": null,
            "min_width": null,
            "object_fit": null,
            "object_position": null,
            "order": null,
            "overflow": null,
            "overflow_x": null,
            "overflow_y": null,
            "padding": null,
            "right": null,
            "top": null,
            "visibility": null,
            "width": null
          }
        },
        "c7b7aac9a4f8467b971b16214cac8edc": {
          "model_module": "@jupyter-widgets/controls",
          "model_name": "DescriptionStyleModel",
          "model_module_version": "1.5.0",
          "state": {
            "_model_module": "@jupyter-widgets/controls",
            "_model_module_version": "1.5.0",
            "_model_name": "DescriptionStyleModel",
            "_view_count": null,
            "_view_module": "@jupyter-widgets/base",
            "_view_module_version": "1.2.0",
            "_view_name": "StyleView",
            "description_width": ""
          }
        },
        "5102cf0d2fc14e0bb6af5b01bc5cf46d": {
          "model_module": "@jupyter-widgets/base",
          "model_name": "LayoutModel",
          "model_module_version": "1.2.0",
          "state": {
            "_model_module": "@jupyter-widgets/base",
            "_model_module_version": "1.2.0",
            "_model_name": "LayoutModel",
            "_view_count": null,
            "_view_module": "@jupyter-widgets/base",
            "_view_module_version": "1.2.0",
            "_view_name": "LayoutView",
            "align_content": null,
            "align_items": null,
            "align_self": null,
            "border": null,
            "bottom": null,
            "display": null,
            "flex": null,
            "flex_flow": null,
            "grid_area": null,
            "grid_auto_columns": null,
            "grid_auto_flow": null,
            "grid_auto_rows": null,
            "grid_column": null,
            "grid_gap": null,
            "grid_row": null,
            "grid_template_areas": null,
            "grid_template_columns": null,
            "grid_template_rows": null,
            "height": null,
            "justify_content": null,
            "justify_items": null,
            "left": null,
            "margin": null,
            "max_height": null,
            "max_width": null,
            "min_height": null,
            "min_width": null,
            "object_fit": null,
            "object_position": null,
            "order": null,
            "overflow": null,
            "overflow_x": null,
            "overflow_y": null,
            "padding": null,
            "right": null,
            "top": null,
            "visibility": null,
            "width": null
          }
        },
        "79bb12c151924acaa3a72833da3daf55": {
          "model_module": "@jupyter-widgets/controls",
          "model_name": "ProgressStyleModel",
          "model_module_version": "1.5.0",
          "state": {
            "_model_module": "@jupyter-widgets/controls",
            "_model_module_version": "1.5.0",
            "_model_name": "ProgressStyleModel",
            "_view_count": null,
            "_view_module": "@jupyter-widgets/base",
            "_view_module_version": "1.2.0",
            "_view_name": "StyleView",
            "bar_color": null,
            "description_width": ""
          }
        },
        "632761c6d5c441e5b9cf45fad72e3a7f": {
          "model_module": "@jupyter-widgets/base",
          "model_name": "LayoutModel",
          "model_module_version": "1.2.0",
          "state": {
            "_model_module": "@jupyter-widgets/base",
            "_model_module_version": "1.2.0",
            "_model_name": "LayoutModel",
            "_view_count": null,
            "_view_module": "@jupyter-widgets/base",
            "_view_module_version": "1.2.0",
            "_view_name": "LayoutView",
            "align_content": null,
            "align_items": null,
            "align_self": null,
            "border": null,
            "bottom": null,
            "display": null,
            "flex": null,
            "flex_flow": null,
            "grid_area": null,
            "grid_auto_columns": null,
            "grid_auto_flow": null,
            "grid_auto_rows": null,
            "grid_column": null,
            "grid_gap": null,
            "grid_row": null,
            "grid_template_areas": null,
            "grid_template_columns": null,
            "grid_template_rows": null,
            "height": null,
            "justify_content": null,
            "justify_items": null,
            "left": null,
            "margin": null,
            "max_height": null,
            "max_width": null,
            "min_height": null,
            "min_width": null,
            "object_fit": null,
            "object_position": null,
            "order": null,
            "overflow": null,
            "overflow_x": null,
            "overflow_y": null,
            "padding": null,
            "right": null,
            "top": null,
            "visibility": null,
            "width": null
          }
        },
        "37b24d74af7148d193f957f549096c52": {
          "model_module": "@jupyter-widgets/controls",
          "model_name": "DescriptionStyleModel",
          "model_module_version": "1.5.0",
          "state": {
            "_model_module": "@jupyter-widgets/controls",
            "_model_module_version": "1.5.0",
            "_model_name": "DescriptionStyleModel",
            "_view_count": null,
            "_view_module": "@jupyter-widgets/base",
            "_view_module_version": "1.2.0",
            "_view_name": "StyleView",
            "description_width": ""
          }
        },
        "7d5e275014384787b9f11d9af2f6f804": {
          "model_module": "@jupyter-widgets/controls",
          "model_name": "HBoxModel",
          "model_module_version": "1.5.0",
          "state": {
            "_dom_classes": [],
            "_model_module": "@jupyter-widgets/controls",
            "_model_module_version": "1.5.0",
            "_model_name": "HBoxModel",
            "_view_count": null,
            "_view_module": "@jupyter-widgets/controls",
            "_view_module_version": "1.5.0",
            "_view_name": "HBoxView",
            "box_style": "",
            "children": [
              "IPY_MODEL_82283700a9ba401fbc5453e2424e8278",
              "IPY_MODEL_9d95ac32b996424ca86e22c39165ca9a",
              "IPY_MODEL_50fbc8653c0944e7b7ef395e78e9ba00"
            ],
            "layout": "IPY_MODEL_6e2e4d064c464ce08b86a93bfc07f4ac"
          }
        },
        "82283700a9ba401fbc5453e2424e8278": {
          "model_module": "@jupyter-widgets/controls",
          "model_name": "HTMLModel",
          "model_module_version": "1.5.0",
          "state": {
            "_dom_classes": [],
            "_model_module": "@jupyter-widgets/controls",
            "_model_module_version": "1.5.0",
            "_model_name": "HTMLModel",
            "_view_count": null,
            "_view_module": "@jupyter-widgets/controls",
            "_view_module_version": "1.5.0",
            "_view_name": "HTMLView",
            "description": "",
            "description_tooltip": null,
            "layout": "IPY_MODEL_6bfdc22ace514fd2a421d34dbfe1e86b",
            "placeholder": "​",
            "style": "IPY_MODEL_d7fe8e3f561c472c8a1b23f263d31c6e",
            "value": "100%"
          }
        },
        "9d95ac32b996424ca86e22c39165ca9a": {
          "model_module": "@jupyter-widgets/controls",
          "model_name": "FloatProgressModel",
          "model_module_version": "1.5.0",
          "state": {
            "_dom_classes": [],
            "_model_module": "@jupyter-widgets/controls",
            "_model_module_version": "1.5.0",
            "_model_name": "FloatProgressModel",
            "_view_count": null,
            "_view_module": "@jupyter-widgets/controls",
            "_view_module_version": "1.5.0",
            "_view_name": "ProgressView",
            "bar_style": "success",
            "description": "",
            "description_tooltip": null,
            "layout": "IPY_MODEL_16caac149dbd4a469ae534e7c71595de",
            "max": 1,
            "min": 0,
            "orientation": "horizontal",
            "style": "IPY_MODEL_ad5138f27c814c90a4ae112441d7ef54",
            "value": 1
          }
        },
        "50fbc8653c0944e7b7ef395e78e9ba00": {
          "model_module": "@jupyter-widgets/controls",
          "model_name": "HTMLModel",
          "model_module_version": "1.5.0",
          "state": {
            "_dom_classes": [],
            "_model_module": "@jupyter-widgets/controls",
            "_model_module_version": "1.5.0",
            "_model_name": "HTMLModel",
            "_view_count": null,
            "_view_module": "@jupyter-widgets/controls",
            "_view_module_version": "1.5.0",
            "_view_name": "HTMLView",
            "description": "",
            "description_tooltip": null,
            "layout": "IPY_MODEL_e3411a7fab1d49ffb795bc77557a9cd8",
            "placeholder": "​",
            "style": "IPY_MODEL_35c3c46fa14e4ebc9e5c1fd420025962",
            "value": " 1/1 [00:00&lt;00:00, 10.49it/s]"
          }
        },
        "6e2e4d064c464ce08b86a93bfc07f4ac": {
          "model_module": "@jupyter-widgets/base",
          "model_name": "LayoutModel",
          "model_module_version": "1.2.0",
          "state": {
            "_model_module": "@jupyter-widgets/base",
            "_model_module_version": "1.2.0",
            "_model_name": "LayoutModel",
            "_view_count": null,
            "_view_module": "@jupyter-widgets/base",
            "_view_module_version": "1.2.0",
            "_view_name": "LayoutView",
            "align_content": null,
            "align_items": null,
            "align_self": null,
            "border": null,
            "bottom": null,
            "display": null,
            "flex": null,
            "flex_flow": null,
            "grid_area": null,
            "grid_auto_columns": null,
            "grid_auto_flow": null,
            "grid_auto_rows": null,
            "grid_column": null,
            "grid_gap": null,
            "grid_row": null,
            "grid_template_areas": null,
            "grid_template_columns": null,
            "grid_template_rows": null,
            "height": null,
            "justify_content": null,
            "justify_items": null,
            "left": null,
            "margin": null,
            "max_height": null,
            "max_width": null,
            "min_height": null,
            "min_width": null,
            "object_fit": null,
            "object_position": null,
            "order": null,
            "overflow": null,
            "overflow_x": null,
            "overflow_y": null,
            "padding": null,
            "right": null,
            "top": null,
            "visibility": null,
            "width": null
          }
        },
        "6bfdc22ace514fd2a421d34dbfe1e86b": {
          "model_module": "@jupyter-widgets/base",
          "model_name": "LayoutModel",
          "model_module_version": "1.2.0",
          "state": {
            "_model_module": "@jupyter-widgets/base",
            "_model_module_version": "1.2.0",
            "_model_name": "LayoutModel",
            "_view_count": null,
            "_view_module": "@jupyter-widgets/base",
            "_view_module_version": "1.2.0",
            "_view_name": "LayoutView",
            "align_content": null,
            "align_items": null,
            "align_self": null,
            "border": null,
            "bottom": null,
            "display": null,
            "flex": null,
            "flex_flow": null,
            "grid_area": null,
            "grid_auto_columns": null,
            "grid_auto_flow": null,
            "grid_auto_rows": null,
            "grid_column": null,
            "grid_gap": null,
            "grid_row": null,
            "grid_template_areas": null,
            "grid_template_columns": null,
            "grid_template_rows": null,
            "height": null,
            "justify_content": null,
            "justify_items": null,
            "left": null,
            "margin": null,
            "max_height": null,
            "max_width": null,
            "min_height": null,
            "min_width": null,
            "object_fit": null,
            "object_position": null,
            "order": null,
            "overflow": null,
            "overflow_x": null,
            "overflow_y": null,
            "padding": null,
            "right": null,
            "top": null,
            "visibility": null,
            "width": null
          }
        },
        "d7fe8e3f561c472c8a1b23f263d31c6e": {
          "model_module": "@jupyter-widgets/controls",
          "model_name": "DescriptionStyleModel",
          "model_module_version": "1.5.0",
          "state": {
            "_model_module": "@jupyter-widgets/controls",
            "_model_module_version": "1.5.0",
            "_model_name": "DescriptionStyleModel",
            "_view_count": null,
            "_view_module": "@jupyter-widgets/base",
            "_view_module_version": "1.2.0",
            "_view_name": "StyleView",
            "description_width": ""
          }
        },
        "16caac149dbd4a469ae534e7c71595de": {
          "model_module": "@jupyter-widgets/base",
          "model_name": "LayoutModel",
          "model_module_version": "1.2.0",
          "state": {
            "_model_module": "@jupyter-widgets/base",
            "_model_module_version": "1.2.0",
            "_model_name": "LayoutModel",
            "_view_count": null,
            "_view_module": "@jupyter-widgets/base",
            "_view_module_version": "1.2.0",
            "_view_name": "LayoutView",
            "align_content": null,
            "align_items": null,
            "align_self": null,
            "border": null,
            "bottom": null,
            "display": null,
            "flex": null,
            "flex_flow": null,
            "grid_area": null,
            "grid_auto_columns": null,
            "grid_auto_flow": null,
            "grid_auto_rows": null,
            "grid_column": null,
            "grid_gap": null,
            "grid_row": null,
            "grid_template_areas": null,
            "grid_template_columns": null,
            "grid_template_rows": null,
            "height": null,
            "justify_content": null,
            "justify_items": null,
            "left": null,
            "margin": null,
            "max_height": null,
            "max_width": null,
            "min_height": null,
            "min_width": null,
            "object_fit": null,
            "object_position": null,
            "order": null,
            "overflow": null,
            "overflow_x": null,
            "overflow_y": null,
            "padding": null,
            "right": null,
            "top": null,
            "visibility": null,
            "width": null
          }
        },
        "ad5138f27c814c90a4ae112441d7ef54": {
          "model_module": "@jupyter-widgets/controls",
          "model_name": "ProgressStyleModel",
          "model_module_version": "1.5.0",
          "state": {
            "_model_module": "@jupyter-widgets/controls",
            "_model_module_version": "1.5.0",
            "_model_name": "ProgressStyleModel",
            "_view_count": null,
            "_view_module": "@jupyter-widgets/base",
            "_view_module_version": "1.2.0",
            "_view_name": "StyleView",
            "bar_color": null,
            "description_width": ""
          }
        },
        "e3411a7fab1d49ffb795bc77557a9cd8": {
          "model_module": "@jupyter-widgets/base",
          "model_name": "LayoutModel",
          "model_module_version": "1.2.0",
          "state": {
            "_model_module": "@jupyter-widgets/base",
            "_model_module_version": "1.2.0",
            "_model_name": "LayoutModel",
            "_view_count": null,
            "_view_module": "@jupyter-widgets/base",
            "_view_module_version": "1.2.0",
            "_view_name": "LayoutView",
            "align_content": null,
            "align_items": null,
            "align_self": null,
            "border": null,
            "bottom": null,
            "display": null,
            "flex": null,
            "flex_flow": null,
            "grid_area": null,
            "grid_auto_columns": null,
            "grid_auto_flow": null,
            "grid_auto_rows": null,
            "grid_column": null,
            "grid_gap": null,
            "grid_row": null,
            "grid_template_areas": null,
            "grid_template_columns": null,
            "grid_template_rows": null,
            "height": null,
            "justify_content": null,
            "justify_items": null,
            "left": null,
            "margin": null,
            "max_height": null,
            "max_width": null,
            "min_height": null,
            "min_width": null,
            "object_fit": null,
            "object_position": null,
            "order": null,
            "overflow": null,
            "overflow_x": null,
            "overflow_y": null,
            "padding": null,
            "right": null,
            "top": null,
            "visibility": null,
            "width": null
          }
        },
        "35c3c46fa14e4ebc9e5c1fd420025962": {
          "model_module": "@jupyter-widgets/controls",
          "model_name": "DescriptionStyleModel",
          "model_module_version": "1.5.0",
          "state": {
            "_model_module": "@jupyter-widgets/controls",
            "_model_module_version": "1.5.0",
            "_model_name": "DescriptionStyleModel",
            "_view_count": null,
            "_view_module": "@jupyter-widgets/base",
            "_view_module_version": "1.2.0",
            "_view_name": "StyleView",
            "description_width": ""
          }
        },
        "974301de53d64d738ec417a6edf4d215": {
          "model_module": "@jupyter-widgets/controls",
          "model_name": "HBoxModel",
          "model_module_version": "1.5.0",
          "state": {
            "_dom_classes": [],
            "_model_module": "@jupyter-widgets/controls",
            "_model_module_version": "1.5.0",
            "_model_name": "HBoxModel",
            "_view_count": null,
            "_view_module": "@jupyter-widgets/controls",
            "_view_module_version": "1.5.0",
            "_view_name": "HBoxView",
            "box_style": "",
            "children": [
              "IPY_MODEL_71e3b616c92840f09e8ef638339a182c",
              "IPY_MODEL_025d0ca2341149919d2f679980149f1d",
              "IPY_MODEL_0a1a11282b1240ab8b163fea67d585f2"
            ],
            "layout": "IPY_MODEL_68159dfd56b548fa83fb8cd4f2b07ad6"
          }
        },
        "71e3b616c92840f09e8ef638339a182c": {
          "model_module": "@jupyter-widgets/controls",
          "model_name": "HTMLModel",
          "model_module_version": "1.5.0",
          "state": {
            "_dom_classes": [],
            "_model_module": "@jupyter-widgets/controls",
            "_model_module_version": "1.5.0",
            "_model_name": "HTMLModel",
            "_view_count": null,
            "_view_module": "@jupyter-widgets/controls",
            "_view_module_version": "1.5.0",
            "_view_name": "HTMLView",
            "description": "",
            "description_tooltip": null,
            "layout": "IPY_MODEL_47c9d9891fea49669e06850fd81d1b09",
            "placeholder": "​",
            "style": "IPY_MODEL_d2fde5d1ba814441948c4be9bbe791e4",
            "value": "Running Prediction: 100%"
          }
        },
        "025d0ca2341149919d2f679980149f1d": {
          "model_module": "@jupyter-widgets/controls",
          "model_name": "FloatProgressModel",
          "model_module_version": "1.5.0",
          "state": {
            "_dom_classes": [],
            "_model_module": "@jupyter-widgets/controls",
            "_model_module_version": "1.5.0",
            "_model_name": "FloatProgressModel",
            "_view_count": null,
            "_view_module": "@jupyter-widgets/controls",
            "_view_module_version": "1.5.0",
            "_view_name": "ProgressView",
            "bar_style": "success",
            "description": "",
            "description_tooltip": null,
            "layout": "IPY_MODEL_6ee1dd99820b45d2bd7b85c257ea2a7b",
            "max": 1,
            "min": 0,
            "orientation": "horizontal",
            "style": "IPY_MODEL_bee73225063147a8a84e3320529aae8a",
            "value": 1
          }
        },
        "0a1a11282b1240ab8b163fea67d585f2": {
          "model_module": "@jupyter-widgets/controls",
          "model_name": "HTMLModel",
          "model_module_version": "1.5.0",
          "state": {
            "_dom_classes": [],
            "_model_module": "@jupyter-widgets/controls",
            "_model_module_version": "1.5.0",
            "_model_name": "HTMLModel",
            "_view_count": null,
            "_view_module": "@jupyter-widgets/controls",
            "_view_module_version": "1.5.0",
            "_view_name": "HTMLView",
            "description": "",
            "description_tooltip": null,
            "layout": "IPY_MODEL_37141805f24941a3a8364ca42918db3a",
            "placeholder": "​",
            "style": "IPY_MODEL_0243c18c3f2744c896dd6b4e7768daf9",
            "value": " 1/1 [00:00&lt;00:00, 11.13it/s]"
          }
        },
        "68159dfd56b548fa83fb8cd4f2b07ad6": {
          "model_module": "@jupyter-widgets/base",
          "model_name": "LayoutModel",
          "model_module_version": "1.2.0",
          "state": {
            "_model_module": "@jupyter-widgets/base",
            "_model_module_version": "1.2.0",
            "_model_name": "LayoutModel",
            "_view_count": null,
            "_view_module": "@jupyter-widgets/base",
            "_view_module_version": "1.2.0",
            "_view_name": "LayoutView",
            "align_content": null,
            "align_items": null,
            "align_self": null,
            "border": null,
            "bottom": null,
            "display": null,
            "flex": null,
            "flex_flow": null,
            "grid_area": null,
            "grid_auto_columns": null,
            "grid_auto_flow": null,
            "grid_auto_rows": null,
            "grid_column": null,
            "grid_gap": null,
            "grid_row": null,
            "grid_template_areas": null,
            "grid_template_columns": null,
            "grid_template_rows": null,
            "height": null,
            "justify_content": null,
            "justify_items": null,
            "left": null,
            "margin": null,
            "max_height": null,
            "max_width": null,
            "min_height": null,
            "min_width": null,
            "object_fit": null,
            "object_position": null,
            "order": null,
            "overflow": null,
            "overflow_x": null,
            "overflow_y": null,
            "padding": null,
            "right": null,
            "top": null,
            "visibility": null,
            "width": null
          }
        },
        "47c9d9891fea49669e06850fd81d1b09": {
          "model_module": "@jupyter-widgets/base",
          "model_name": "LayoutModel",
          "model_module_version": "1.2.0",
          "state": {
            "_model_module": "@jupyter-widgets/base",
            "_model_module_version": "1.2.0",
            "_model_name": "LayoutModel",
            "_view_count": null,
            "_view_module": "@jupyter-widgets/base",
            "_view_module_version": "1.2.0",
            "_view_name": "LayoutView",
            "align_content": null,
            "align_items": null,
            "align_self": null,
            "border": null,
            "bottom": null,
            "display": null,
            "flex": null,
            "flex_flow": null,
            "grid_area": null,
            "grid_auto_columns": null,
            "grid_auto_flow": null,
            "grid_auto_rows": null,
            "grid_column": null,
            "grid_gap": null,
            "grid_row": null,
            "grid_template_areas": null,
            "grid_template_columns": null,
            "grid_template_rows": null,
            "height": null,
            "justify_content": null,
            "justify_items": null,
            "left": null,
            "margin": null,
            "max_height": null,
            "max_width": null,
            "min_height": null,
            "min_width": null,
            "object_fit": null,
            "object_position": null,
            "order": null,
            "overflow": null,
            "overflow_x": null,
            "overflow_y": null,
            "padding": null,
            "right": null,
            "top": null,
            "visibility": null,
            "width": null
          }
        },
        "d2fde5d1ba814441948c4be9bbe791e4": {
          "model_module": "@jupyter-widgets/controls",
          "model_name": "DescriptionStyleModel",
          "model_module_version": "1.5.0",
          "state": {
            "_model_module": "@jupyter-widgets/controls",
            "_model_module_version": "1.5.0",
            "_model_name": "DescriptionStyleModel",
            "_view_count": null,
            "_view_module": "@jupyter-widgets/base",
            "_view_module_version": "1.2.0",
            "_view_name": "StyleView",
            "description_width": ""
          }
        },
        "6ee1dd99820b45d2bd7b85c257ea2a7b": {
          "model_module": "@jupyter-widgets/base",
          "model_name": "LayoutModel",
          "model_module_version": "1.2.0",
          "state": {
            "_model_module": "@jupyter-widgets/base",
            "_model_module_version": "1.2.0",
            "_model_name": "LayoutModel",
            "_view_count": null,
            "_view_module": "@jupyter-widgets/base",
            "_view_module_version": "1.2.0",
            "_view_name": "LayoutView",
            "align_content": null,
            "align_items": null,
            "align_self": null,
            "border": null,
            "bottom": null,
            "display": null,
            "flex": null,
            "flex_flow": null,
            "grid_area": null,
            "grid_auto_columns": null,
            "grid_auto_flow": null,
            "grid_auto_rows": null,
            "grid_column": null,
            "grid_gap": null,
            "grid_row": null,
            "grid_template_areas": null,
            "grid_template_columns": null,
            "grid_template_rows": null,
            "height": null,
            "justify_content": null,
            "justify_items": null,
            "left": null,
            "margin": null,
            "max_height": null,
            "max_width": null,
            "min_height": null,
            "min_width": null,
            "object_fit": null,
            "object_position": null,
            "order": null,
            "overflow": null,
            "overflow_x": null,
            "overflow_y": null,
            "padding": null,
            "right": null,
            "top": null,
            "visibility": null,
            "width": null
          }
        },
        "bee73225063147a8a84e3320529aae8a": {
          "model_module": "@jupyter-widgets/controls",
          "model_name": "ProgressStyleModel",
          "model_module_version": "1.5.0",
          "state": {
            "_model_module": "@jupyter-widgets/controls",
            "_model_module_version": "1.5.0",
            "_model_name": "ProgressStyleModel",
            "_view_count": null,
            "_view_module": "@jupyter-widgets/base",
            "_view_module_version": "1.2.0",
            "_view_name": "StyleView",
            "bar_color": null,
            "description_width": ""
          }
        },
        "37141805f24941a3a8364ca42918db3a": {
          "model_module": "@jupyter-widgets/base",
          "model_name": "LayoutModel",
          "model_module_version": "1.2.0",
          "state": {
            "_model_module": "@jupyter-widgets/base",
            "_model_module_version": "1.2.0",
            "_model_name": "LayoutModel",
            "_view_count": null,
            "_view_module": "@jupyter-widgets/base",
            "_view_module_version": "1.2.0",
            "_view_name": "LayoutView",
            "align_content": null,
            "align_items": null,
            "align_self": null,
            "border": null,
            "bottom": null,
            "display": null,
            "flex": null,
            "flex_flow": null,
            "grid_area": null,
            "grid_auto_columns": null,
            "grid_auto_flow": null,
            "grid_auto_rows": null,
            "grid_column": null,
            "grid_gap": null,
            "grid_row": null,
            "grid_template_areas": null,
            "grid_template_columns": null,
            "grid_template_rows": null,
            "height": null,
            "justify_content": null,
            "justify_items": null,
            "left": null,
            "margin": null,
            "max_height": null,
            "max_width": null,
            "min_height": null,
            "min_width": null,
            "object_fit": null,
            "object_position": null,
            "order": null,
            "overflow": null,
            "overflow_x": null,
            "overflow_y": null,
            "padding": null,
            "right": null,
            "top": null,
            "visibility": null,
            "width": null
          }
        },
        "0243c18c3f2744c896dd6b4e7768daf9": {
          "model_module": "@jupyter-widgets/controls",
          "model_name": "DescriptionStyleModel",
          "model_module_version": "1.5.0",
          "state": {
            "_model_module": "@jupyter-widgets/controls",
            "_model_module_version": "1.5.0",
            "_model_name": "DescriptionStyleModel",
            "_view_count": null,
            "_view_module": "@jupyter-widgets/base",
            "_view_module_version": "1.2.0",
            "_view_name": "StyleView",
            "description_width": ""
          }
        },
        "cf289e25f484464a9e9d3b56e9dfd80b": {
          "model_module": "@jupyter-widgets/controls",
          "model_name": "HBoxModel",
          "model_module_version": "1.5.0",
          "state": {
            "_dom_classes": [],
            "_model_module": "@jupyter-widgets/controls",
            "_model_module_version": "1.5.0",
            "_model_name": "HBoxModel",
            "_view_count": null,
            "_view_module": "@jupyter-widgets/controls",
            "_view_module_version": "1.5.0",
            "_view_name": "HBoxView",
            "box_style": "",
            "children": [
              "IPY_MODEL_7e25468bcdc84074a59a708bcc9e66f7",
              "IPY_MODEL_caed330752964124bfaf896f75314e07",
              "IPY_MODEL_c5ae8981b21b498d92283bcedf6b81c3"
            ],
            "layout": "IPY_MODEL_bc2342ed5c9a4f148515b34d55c65b5b"
          }
        },
        "7e25468bcdc84074a59a708bcc9e66f7": {
          "model_module": "@jupyter-widgets/controls",
          "model_name": "HTMLModel",
          "model_module_version": "1.5.0",
          "state": {
            "_dom_classes": [],
            "_model_module": "@jupyter-widgets/controls",
            "_model_module_version": "1.5.0",
            "_model_name": "HTMLModel",
            "_view_count": null,
            "_view_module": "@jupyter-widgets/controls",
            "_view_module_version": "1.5.0",
            "_view_name": "HTMLView",
            "description": "",
            "description_tooltip": null,
            "layout": "IPY_MODEL_8eed676c827a49029a0d803e1b3ab3cd",
            "placeholder": "​",
            "style": "IPY_MODEL_88b7937a7cf942c584cdea1e20cd3ddc",
            "value": "100%"
          }
        },
        "caed330752964124bfaf896f75314e07": {
          "model_module": "@jupyter-widgets/controls",
          "model_name": "FloatProgressModel",
          "model_module_version": "1.5.0",
          "state": {
            "_dom_classes": [],
            "_model_module": "@jupyter-widgets/controls",
            "_model_module_version": "1.5.0",
            "_model_name": "FloatProgressModel",
            "_view_count": null,
            "_view_module": "@jupyter-widgets/controls",
            "_view_module_version": "1.5.0",
            "_view_name": "ProgressView",
            "bar_style": "success",
            "description": "",
            "description_tooltip": null,
            "layout": "IPY_MODEL_0753c55294f945c68945423cb8f259de",
            "max": 3,
            "min": 0,
            "orientation": "horizontal",
            "style": "IPY_MODEL_5a8bfc133f6a4349bd1c3a826b46012e",
            "value": 3
          }
        },
        "c5ae8981b21b498d92283bcedf6b81c3": {
          "model_module": "@jupyter-widgets/controls",
          "model_name": "HTMLModel",
          "model_module_version": "1.5.0",
          "state": {
            "_dom_classes": [],
            "_model_module": "@jupyter-widgets/controls",
            "_model_module_version": "1.5.0",
            "_model_name": "HTMLModel",
            "_view_count": null,
            "_view_module": "@jupyter-widgets/controls",
            "_view_module_version": "1.5.0",
            "_view_name": "HTMLView",
            "description": "",
            "description_tooltip": null,
            "layout": "IPY_MODEL_88da45a482ba4fb09d0f103a85873813",
            "placeholder": "​",
            "style": "IPY_MODEL_a12fa758665844a7925c286f075d6213",
            "value": " 3/3 [00:15&lt;00:00,  7.67s/it]"
          }
        },
        "bc2342ed5c9a4f148515b34d55c65b5b": {
          "model_module": "@jupyter-widgets/base",
          "model_name": "LayoutModel",
          "model_module_version": "1.2.0",
          "state": {
            "_model_module": "@jupyter-widgets/base",
            "_model_module_version": "1.2.0",
            "_model_name": "LayoutModel",
            "_view_count": null,
            "_view_module": "@jupyter-widgets/base",
            "_view_module_version": "1.2.0",
            "_view_name": "LayoutView",
            "align_content": null,
            "align_items": null,
            "align_self": null,
            "border": null,
            "bottom": null,
            "display": null,
            "flex": null,
            "flex_flow": null,
            "grid_area": null,
            "grid_auto_columns": null,
            "grid_auto_flow": null,
            "grid_auto_rows": null,
            "grid_column": null,
            "grid_gap": null,
            "grid_row": null,
            "grid_template_areas": null,
            "grid_template_columns": null,
            "grid_template_rows": null,
            "height": null,
            "justify_content": null,
            "justify_items": null,
            "left": null,
            "margin": null,
            "max_height": null,
            "max_width": null,
            "min_height": null,
            "min_width": null,
            "object_fit": null,
            "object_position": null,
            "order": null,
            "overflow": null,
            "overflow_x": null,
            "overflow_y": null,
            "padding": null,
            "right": null,
            "top": null,
            "visibility": null,
            "width": null
          }
        },
        "8eed676c827a49029a0d803e1b3ab3cd": {
          "model_module": "@jupyter-widgets/base",
          "model_name": "LayoutModel",
          "model_module_version": "1.2.0",
          "state": {
            "_model_module": "@jupyter-widgets/base",
            "_model_module_version": "1.2.0",
            "_model_name": "LayoutModel",
            "_view_count": null,
            "_view_module": "@jupyter-widgets/base",
            "_view_module_version": "1.2.0",
            "_view_name": "LayoutView",
            "align_content": null,
            "align_items": null,
            "align_self": null,
            "border": null,
            "bottom": null,
            "display": null,
            "flex": null,
            "flex_flow": null,
            "grid_area": null,
            "grid_auto_columns": null,
            "grid_auto_flow": null,
            "grid_auto_rows": null,
            "grid_column": null,
            "grid_gap": null,
            "grid_row": null,
            "grid_template_areas": null,
            "grid_template_columns": null,
            "grid_template_rows": null,
            "height": null,
            "justify_content": null,
            "justify_items": null,
            "left": null,
            "margin": null,
            "max_height": null,
            "max_width": null,
            "min_height": null,
            "min_width": null,
            "object_fit": null,
            "object_position": null,
            "order": null,
            "overflow": null,
            "overflow_x": null,
            "overflow_y": null,
            "padding": null,
            "right": null,
            "top": null,
            "visibility": null,
            "width": null
          }
        },
        "88b7937a7cf942c584cdea1e20cd3ddc": {
          "model_module": "@jupyter-widgets/controls",
          "model_name": "DescriptionStyleModel",
          "model_module_version": "1.5.0",
          "state": {
            "_model_module": "@jupyter-widgets/controls",
            "_model_module_version": "1.5.0",
            "_model_name": "DescriptionStyleModel",
            "_view_count": null,
            "_view_module": "@jupyter-widgets/base",
            "_view_module_version": "1.2.0",
            "_view_name": "StyleView",
            "description_width": ""
          }
        },
        "0753c55294f945c68945423cb8f259de": {
          "model_module": "@jupyter-widgets/base",
          "model_name": "LayoutModel",
          "model_module_version": "1.2.0",
          "state": {
            "_model_module": "@jupyter-widgets/base",
            "_model_module_version": "1.2.0",
            "_model_name": "LayoutModel",
            "_view_count": null,
            "_view_module": "@jupyter-widgets/base",
            "_view_module_version": "1.2.0",
            "_view_name": "LayoutView",
            "align_content": null,
            "align_items": null,
            "align_self": null,
            "border": null,
            "bottom": null,
            "display": null,
            "flex": null,
            "flex_flow": null,
            "grid_area": null,
            "grid_auto_columns": null,
            "grid_auto_flow": null,
            "grid_auto_rows": null,
            "grid_column": null,
            "grid_gap": null,
            "grid_row": null,
            "grid_template_areas": null,
            "grid_template_columns": null,
            "grid_template_rows": null,
            "height": null,
            "justify_content": null,
            "justify_items": null,
            "left": null,
            "margin": null,
            "max_height": null,
            "max_width": null,
            "min_height": null,
            "min_width": null,
            "object_fit": null,
            "object_position": null,
            "order": null,
            "overflow": null,
            "overflow_x": null,
            "overflow_y": null,
            "padding": null,
            "right": null,
            "top": null,
            "visibility": null,
            "width": null
          }
        },
        "5a8bfc133f6a4349bd1c3a826b46012e": {
          "model_module": "@jupyter-widgets/controls",
          "model_name": "ProgressStyleModel",
          "model_module_version": "1.5.0",
          "state": {
            "_model_module": "@jupyter-widgets/controls",
            "_model_module_version": "1.5.0",
            "_model_name": "ProgressStyleModel",
            "_view_count": null,
            "_view_module": "@jupyter-widgets/base",
            "_view_module_version": "1.2.0",
            "_view_name": "StyleView",
            "bar_color": null,
            "description_width": ""
          }
        },
        "88da45a482ba4fb09d0f103a85873813": {
          "model_module": "@jupyter-widgets/base",
          "model_name": "LayoutModel",
          "model_module_version": "1.2.0",
          "state": {
            "_model_module": "@jupyter-widgets/base",
            "_model_module_version": "1.2.0",
            "_model_name": "LayoutModel",
            "_view_count": null,
            "_view_module": "@jupyter-widgets/base",
            "_view_module_version": "1.2.0",
            "_view_name": "LayoutView",
            "align_content": null,
            "align_items": null,
            "align_self": null,
            "border": null,
            "bottom": null,
            "display": null,
            "flex": null,
            "flex_flow": null,
            "grid_area": null,
            "grid_auto_columns": null,
            "grid_auto_flow": null,
            "grid_auto_rows": null,
            "grid_column": null,
            "grid_gap": null,
            "grid_row": null,
            "grid_template_areas": null,
            "grid_template_columns": null,
            "grid_template_rows": null,
            "height": null,
            "justify_content": null,
            "justify_items": null,
            "left": null,
            "margin": null,
            "max_height": null,
            "max_width": null,
            "min_height": null,
            "min_width": null,
            "object_fit": null,
            "object_position": null,
            "order": null,
            "overflow": null,
            "overflow_x": null,
            "overflow_y": null,
            "padding": null,
            "right": null,
            "top": null,
            "visibility": null,
            "width": null
          }
        },
        "a12fa758665844a7925c286f075d6213": {
          "model_module": "@jupyter-widgets/controls",
          "model_name": "DescriptionStyleModel",
          "model_module_version": "1.5.0",
          "state": {
            "_model_module": "@jupyter-widgets/controls",
            "_model_module_version": "1.5.0",
            "_model_name": "DescriptionStyleModel",
            "_view_count": null,
            "_view_module": "@jupyter-widgets/base",
            "_view_module_version": "1.2.0",
            "_view_name": "StyleView",
            "description_width": ""
          }
        },
        "6dab9d0b869a45dc8ac6bf2a162750e4": {
          "model_module": "@jupyter-widgets/controls",
          "model_name": "HBoxModel",
          "model_module_version": "1.5.0",
          "state": {
            "_dom_classes": [],
            "_model_module": "@jupyter-widgets/controls",
            "_model_module_version": "1.5.0",
            "_model_name": "HBoxModel",
            "_view_count": null,
            "_view_module": "@jupyter-widgets/controls",
            "_view_module_version": "1.5.0",
            "_view_name": "HBoxView",
            "box_style": "",
            "children": [
              "IPY_MODEL_4dd71c06b4ad45ec9bb04ef095f6b196",
              "IPY_MODEL_5eca17664a4447fda145587997415e10",
              "IPY_MODEL_b4efddcd58e0409db6f38df2d9dcc65f"
            ],
            "layout": "IPY_MODEL_4975c1f9c89d4243826acbc7f4f6eaab"
          }
        },
        "4dd71c06b4ad45ec9bb04ef095f6b196": {
          "model_module": "@jupyter-widgets/controls",
          "model_name": "HTMLModel",
          "model_module_version": "1.5.0",
          "state": {
            "_dom_classes": [],
            "_model_module": "@jupyter-widgets/controls",
            "_model_module_version": "1.5.0",
            "_model_name": "HTMLModel",
            "_view_count": null,
            "_view_module": "@jupyter-widgets/controls",
            "_view_module_version": "1.5.0",
            "_view_name": "HTMLView",
            "description": "",
            "description_tooltip": null,
            "layout": "IPY_MODEL_24272a3e051f4ce298772e3ce6e22f3c",
            "placeholder": "​",
            "style": "IPY_MODEL_f28813a6731b48428e9be97a13e78409",
            "value": "Running Prediction:  99%"
          }
        },
        "5eca17664a4447fda145587997415e10": {
          "model_module": "@jupyter-widgets/controls",
          "model_name": "FloatProgressModel",
          "model_module_version": "1.5.0",
          "state": {
            "_dom_classes": [],
            "_model_module": "@jupyter-widgets/controls",
            "_model_module_version": "1.5.0",
            "_model_name": "FloatProgressModel",
            "_view_count": null,
            "_view_module": "@jupyter-widgets/controls",
            "_view_module_version": "1.5.0",
            "_view_name": "ProgressView",
            "bar_style": "",
            "description": "",
            "description_tooltip": null,
            "layout": "IPY_MODEL_90217bdb5393471c920e51068011347f",
            "max": 3583,
            "min": 0,
            "orientation": "horizontal",
            "style": "IPY_MODEL_6d0c4b69d9a3471fae824aa28dfad136",
            "value": 3562
          }
        },
        "b4efddcd58e0409db6f38df2d9dcc65f": {
          "model_module": "@jupyter-widgets/controls",
          "model_name": "HTMLModel",
          "model_module_version": "1.5.0",
          "state": {
            "_dom_classes": [],
            "_model_module": "@jupyter-widgets/controls",
            "_model_module_version": "1.5.0",
            "_model_name": "HTMLModel",
            "_view_count": null,
            "_view_module": "@jupyter-widgets/controls",
            "_view_module_version": "1.5.0",
            "_view_name": "HTMLView",
            "description": "",
            "description_tooltip": null,
            "layout": "IPY_MODEL_48fc5354e77f4ed7b8e6158408c2edae",
            "placeholder": "​",
            "style": "IPY_MODEL_c61b2b86447745679f542a17ddf44a2c",
            "value": " 3562/3583 [24:50&lt;00:15,  1.36it/s]"
          }
        },
        "4975c1f9c89d4243826acbc7f4f6eaab": {
          "model_module": "@jupyter-widgets/base",
          "model_name": "LayoutModel",
          "model_module_version": "1.2.0",
          "state": {
            "_model_module": "@jupyter-widgets/base",
            "_model_module_version": "1.2.0",
            "_model_name": "LayoutModel",
            "_view_count": null,
            "_view_module": "@jupyter-widgets/base",
            "_view_module_version": "1.2.0",
            "_view_name": "LayoutView",
            "align_content": null,
            "align_items": null,
            "align_self": null,
            "border": null,
            "bottom": null,
            "display": null,
            "flex": null,
            "flex_flow": null,
            "grid_area": null,
            "grid_auto_columns": null,
            "grid_auto_flow": null,
            "grid_auto_rows": null,
            "grid_column": null,
            "grid_gap": null,
            "grid_row": null,
            "grid_template_areas": null,
            "grid_template_columns": null,
            "grid_template_rows": null,
            "height": null,
            "justify_content": null,
            "justify_items": null,
            "left": null,
            "margin": null,
            "max_height": null,
            "max_width": null,
            "min_height": null,
            "min_width": null,
            "object_fit": null,
            "object_position": null,
            "order": null,
            "overflow": null,
            "overflow_x": null,
            "overflow_y": null,
            "padding": null,
            "right": null,
            "top": null,
            "visibility": null,
            "width": null
          }
        },
        "24272a3e051f4ce298772e3ce6e22f3c": {
          "model_module": "@jupyter-widgets/base",
          "model_name": "LayoutModel",
          "model_module_version": "1.2.0",
          "state": {
            "_model_module": "@jupyter-widgets/base",
            "_model_module_version": "1.2.0",
            "_model_name": "LayoutModel",
            "_view_count": null,
            "_view_module": "@jupyter-widgets/base",
            "_view_module_version": "1.2.0",
            "_view_name": "LayoutView",
            "align_content": null,
            "align_items": null,
            "align_self": null,
            "border": null,
            "bottom": null,
            "display": null,
            "flex": null,
            "flex_flow": null,
            "grid_area": null,
            "grid_auto_columns": null,
            "grid_auto_flow": null,
            "grid_auto_rows": null,
            "grid_column": null,
            "grid_gap": null,
            "grid_row": null,
            "grid_template_areas": null,
            "grid_template_columns": null,
            "grid_template_rows": null,
            "height": null,
            "justify_content": null,
            "justify_items": null,
            "left": null,
            "margin": null,
            "max_height": null,
            "max_width": null,
            "min_height": null,
            "min_width": null,
            "object_fit": null,
            "object_position": null,
            "order": null,
            "overflow": null,
            "overflow_x": null,
            "overflow_y": null,
            "padding": null,
            "right": null,
            "top": null,
            "visibility": null,
            "width": null
          }
        },
        "f28813a6731b48428e9be97a13e78409": {
          "model_module": "@jupyter-widgets/controls",
          "model_name": "DescriptionStyleModel",
          "model_module_version": "1.5.0",
          "state": {
            "_model_module": "@jupyter-widgets/controls",
            "_model_module_version": "1.5.0",
            "_model_name": "DescriptionStyleModel",
            "_view_count": null,
            "_view_module": "@jupyter-widgets/base",
            "_view_module_version": "1.2.0",
            "_view_name": "StyleView",
            "description_width": ""
          }
        },
        "90217bdb5393471c920e51068011347f": {
          "model_module": "@jupyter-widgets/base",
          "model_name": "LayoutModel",
          "model_module_version": "1.2.0",
          "state": {
            "_model_module": "@jupyter-widgets/base",
            "_model_module_version": "1.2.0",
            "_model_name": "LayoutModel",
            "_view_count": null,
            "_view_module": "@jupyter-widgets/base",
            "_view_module_version": "1.2.0",
            "_view_name": "LayoutView",
            "align_content": null,
            "align_items": null,
            "align_self": null,
            "border": null,
            "bottom": null,
            "display": null,
            "flex": null,
            "flex_flow": null,
            "grid_area": null,
            "grid_auto_columns": null,
            "grid_auto_flow": null,
            "grid_auto_rows": null,
            "grid_column": null,
            "grid_gap": null,
            "grid_row": null,
            "grid_template_areas": null,
            "grid_template_columns": null,
            "grid_template_rows": null,
            "height": null,
            "justify_content": null,
            "justify_items": null,
            "left": null,
            "margin": null,
            "max_height": null,
            "max_width": null,
            "min_height": null,
            "min_width": null,
            "object_fit": null,
            "object_position": null,
            "order": null,
            "overflow": null,
            "overflow_x": null,
            "overflow_y": null,
            "padding": null,
            "right": null,
            "top": null,
            "visibility": null,
            "width": null
          }
        },
        "6d0c4b69d9a3471fae824aa28dfad136": {
          "model_module": "@jupyter-widgets/controls",
          "model_name": "ProgressStyleModel",
          "model_module_version": "1.5.0",
          "state": {
            "_model_module": "@jupyter-widgets/controls",
            "_model_module_version": "1.5.0",
            "_model_name": "ProgressStyleModel",
            "_view_count": null,
            "_view_module": "@jupyter-widgets/base",
            "_view_module_version": "1.2.0",
            "_view_name": "StyleView",
            "bar_color": null,
            "description_width": ""
          }
        },
        "48fc5354e77f4ed7b8e6158408c2edae": {
          "model_module": "@jupyter-widgets/base",
          "model_name": "LayoutModel",
          "model_module_version": "1.2.0",
          "state": {
            "_model_module": "@jupyter-widgets/base",
            "_model_module_version": "1.2.0",
            "_model_name": "LayoutModel",
            "_view_count": null,
            "_view_module": "@jupyter-widgets/base",
            "_view_module_version": "1.2.0",
            "_view_name": "LayoutView",
            "align_content": null,
            "align_items": null,
            "align_self": null,
            "border": null,
            "bottom": null,
            "display": null,
            "flex": null,
            "flex_flow": null,
            "grid_area": null,
            "grid_auto_columns": null,
            "grid_auto_flow": null,
            "grid_auto_rows": null,
            "grid_column": null,
            "grid_gap": null,
            "grid_row": null,
            "grid_template_areas": null,
            "grid_template_columns": null,
            "grid_template_rows": null,
            "height": null,
            "justify_content": null,
            "justify_items": null,
            "left": null,
            "margin": null,
            "max_height": null,
            "max_width": null,
            "min_height": null,
            "min_width": null,
            "object_fit": null,
            "object_position": null,
            "order": null,
            "overflow": null,
            "overflow_x": null,
            "overflow_y": null,
            "padding": null,
            "right": null,
            "top": null,
            "visibility": null,
            "width": null
          }
        },
        "c61b2b86447745679f542a17ddf44a2c": {
          "model_module": "@jupyter-widgets/controls",
          "model_name": "DescriptionStyleModel",
          "model_module_version": "1.5.0",
          "state": {
            "_model_module": "@jupyter-widgets/controls",
            "_model_module_version": "1.5.0",
            "_model_name": "DescriptionStyleModel",
            "_view_count": null,
            "_view_module": "@jupyter-widgets/base",
            "_view_module_version": "1.2.0",
            "_view_name": "StyleView",
            "description_width": ""
          }
        }
      }
    }
  },
  "cells": [
    {
      "cell_type": "markdown",
      "metadata": {
        "id": "3VCOKvkxxlaK"
      },
      "source": [
        "# __Information Extraction From Scientific Publication__\n"
      ]
    },
    {
      "cell_type": "markdown",
      "source": [
        "## Team's Name:\n",
        "**aimeetscybersecurity**\n",
        "\n",
        "## Team Members Name:\n",
        "**RIBENCE KADEL**\n",
        "\n",
        "**PRATYUSH PATTNAIK**\n",
        "\n",
        "**PHAM NHAT HAO**\n",
        "\n",
        "**MUTHUKUMARAN AZHAGESAN**\n",
        "\n",
        "**PAUL WOJTANEK**"
      ],
      "metadata": {
        "id": "ST5nIz8Ud8Sd"
      }
    },
    {
      "cell_type": "markdown",
      "metadata": {
        "id": "InxwWPsCxlaN"
      },
      "source": [
        "## Introduction:"
      ]
    },
    {
      "cell_type": "markdown",
      "source": [
        "![Blue White Simple Business Linkedln Banner.jpg](https://i.postimg.cc/TP6rn7Mk/Blue-White-Simple-Business-Linkedln-Banner.png)"
      ],
      "metadata": {
        "id": "4mbHe9NLEsAb"
      }
    },
    {
      "cell_type": "markdown",
      "metadata": {
        "id": "SFys6a5lxlaO"
      },
      "source": [
        "### NER (Named Entity Recognition) is the task of identifying and classifying crucial data (entities) in text. It is also known as entity stacking, retrieval, or identification. Any term or a group of words that continuously refers to the same thing can be considered an entity. Every detected entity is assigned to one of several categories."
      ]
    },
    {
      "cell_type": "markdown",
      "metadata": {
        "id": "-HjLzCeHxlaO"
      },
      "source": [
        "# Abstract"
      ]
    },
    {
      "cell_type": "markdown",
      "metadata": {
        "id": "Wva4VWcqxlaP"
      },
      "source": [
        "\n",
        "Datasets with text fragments from astrophysics papers, provided by the NASA Astrophysics Data System with manually tagged astronomical facilities and other entities of interest."
      ]
    },
    {
      "cell_type": "markdown",
      "metadata": {
        "id": "OozLyrvAxlaS"
      },
      "source": [
        "## Problem Statement :<br>\n",
        "### We have to build a Name Entity Recognition Model that seeks to locate and classify named entities mentioned in unstructured text into predefined categories in the WIESP dataset. <br>\n",
        "\n",
        "## Steps to take : <br>\n",
        "<b>Step A</b>: Taking a look at the data and data pre-processing.<br>\n",
        "<b>Step B</b>: Building different models using RNN.<br>\n",
        "<b>Step C</b>: Applying tranfer learning.<br>\n",
        "<b>Step D</b>: Comaring results and conclusion.<br>"
      ]
    },
    {
      "cell_type": "markdown",
      "metadata": {
        "id": "Ddu1f6cLxlaT"
      },
      "source": [
        "## Step A : Taking a look at the data and data pre-processing :"
      ]
    },
    {
      "cell_type": "code",
      "execution_count": null,
      "metadata": {
        "id": "FW7gTJ81GtsV"
      },
      "outputs": [],
      "source": [
        "# Import necessary libraries\n",
        "import numpy as np\n",
        "import pandas as pd\n",
        "import numpy as np\n",
        "import matplotlib.pyplot as plt\n",
        "import pickle\n",
        "import json\n",
        "# Tensorflow imports\n",
        "import tensorflow as tf\n",
        "from tensorflow import keras\n",
        "from tensorflow.python.keras import backend as K\n",
        "from tensorflow.keras.models import Model\n",
        "\n",
        "from pandas import json_normalize"
      ]
    },
    {
      "cell_type": "code",
      "source": [
        "import re"
      ],
      "metadata": {
        "id": "-hebhSLIGtsV"
      },
      "execution_count": null,
      "outputs": []
    },
    {
      "cell_type": "code",
      "source": [
        "from sklearn.model_selection import train_test_split"
      ],
      "metadata": {
        "id": "RlAaa87WGtsV"
      },
      "execution_count": null,
      "outputs": []
    },
    {
      "cell_type": "code",
      "source": [
        "from google.colab import drive\n",
        "\n",
        "drive.mount('/content/gdrive/', force_remount=True)"
      ],
      "metadata": {
        "colab": {
          "base_uri": "https://localhost:8080/"
        },
        "outputId": "2d2cb442-5d92-4de6-c100-8e76fbfb2512",
        "id": "90qD8EKoGtsW"
      },
      "execution_count": null,
      "outputs": [
        {
          "output_type": "stream",
          "name": "stdout",
          "text": [
            "Mounted at /content/gdrive/\n"
          ]
        }
      ]
    },
    {
      "cell_type": "markdown",
      "source": [
        "### Data loading"
      ],
      "metadata": {
        "id": "5M0Ayx9eG80X"
      }
    },
    {
      "cell_type": "code",
      "source": [
        "with open(\"/content/gdrive/MyDrive/AI3 Project/A13/WIESP2022-NER-DEV.jsonl\", 'r') as f:\n",
        "  wiesp_dev_json = [json.loads(l) for l in list(f)]\n"
      ],
      "metadata": {
        "id": "KjLbkDt7G80X"
      },
      "execution_count": null,
      "outputs": []
    },
    {
      "cell_type": "code",
      "source": [
        "with open(\"/content/gdrive/MyDrive/AI3 Project/A13/WIESP2022-NER-TRAINING.jsonl\", 'r') as f:\n",
        "  wiesp_traning_json = [json.loads(l) for l in list(f)]"
      ],
      "metadata": {
        "id": "DKleTtWjG80X"
      },
      "execution_count": null,
      "outputs": []
    },
    {
      "cell_type": "code",
      "source": [
        "with open(\"/content/gdrive/MyDrive/AI3 Project/A13/WIESP2022-NER-VALIDATION-NO-LABELS.jsonl\", 'r') as f:\n",
        "  wiesp_val_json = [json.loads(l) for l in list(f)]"
      ],
      "metadata": {
        "id": "5g6zfKz9G80X"
      },
      "execution_count": null,
      "outputs": []
    },
    {
      "cell_type": "code",
      "source": [
        "with open('/content/gdrive/MyDrive/AI3 Project/A13/ner_tags.json','r') as json_file:\n",
        "    tag_dict = json.load(json_file)"
      ],
      "metadata": {
        "id": "9c_w9lieG80X"
      },
      "execution_count": null,
      "outputs": []
    },
    {
      "cell_type": "code",
      "source": [
        "from sklearn.preprocessing import LabelEncoder\n",
        "from sklearn.model_selection import train_test_split\n",
        "from sklearn.metrics import accuracy_score"
      ],
      "metadata": {
        "id": "ypaitn6rG80Y"
      },
      "execution_count": null,
      "outputs": []
    },
    {
      "cell_type": "markdown",
      "source": [
        "### Processing and cleaning the data"
      ],
      "metadata": {
        "id": "zFYXgoggHHOw"
      }
    },
    {
      "cell_type": "code",
      "source": [
        "df_dev = json_normalize(wiesp_dev_json)\n",
        "df_dev.head(5)"
      ],
      "metadata": {
        "colab": {
          "base_uri": "https://localhost:8080/"
        },
        "outputId": "fed50a86-92c1-4f7e-bb34-1ae7374924e9",
        "id": "DzRw17FbHHOx"
      },
      "execution_count": null,
      "outputs": [
        {
          "output_type": "execute_result",
          "data": {
            "text/plain": [
              "               bibcode  label_studio_id  \\\n",
              "0  2019MNRAS.486.5558S              487   \n",
              "1  2018MNRAS.480.3062L             1086   \n",
              "2  2019MNRAS.482L...9B              559   \n",
              "3  2018A&A...617A..26D             1307   \n",
              "4  2017ApJ...840...33S              465   \n",
              "\n",
              "                                             ner_ids  \\\n",
              "0  [62, 62, 62, 62, 62, 62, 62, 15, 62, 62, 62, 6...   \n",
              "1  [62, 62, 62, 62, 62, 62, 62, 62, 62, 62, 62, 6...   \n",
              "2  [62, 62, 62, 22, 53, 22, 53, 22, 53, 22, 53, 2...   \n",
              "3  [4, 35, 62, 62, 62, 62, 62, 62, 62, 62, 62, 62...   \n",
              "4  [62, 62, 62, 62, 62, 62, 62, 62, 62, 62, 62, 6...   \n",
              "\n",
              "                                            ner_tags          section  \\\n",
              "0  [O, O, O, O, O, O, O, B-Instrument, O, O, O, O...         fulltext   \n",
              "1  [O, O, O, O, O, O, O, O, O, O, O, O, O, O, O, ...  acknowledgments   \n",
              "2  [O, O, O, B-Person, I-Person, B-Person, I-Pers...  acknowledgments   \n",
              "3  [B-Citation, I-Citation, O, O, O, O, O, O, O, ...         fulltext   \n",
              "4  [O, O, O, O, O, O, O, O, O, O, O, O, O, O, O, ...         fulltext   \n",
              "\n",
              "                                              tokens  \\\n",
              "0  [Whilst, a, reasonable, harmonic, fit, to, the...   \n",
              "1  [ACKNOWLEDGEMENTS, The, authors, thank, an, an...   \n",
              "2  [ACKNOWLEDGEMENTS, We, thank, Dougal, Mackey,,...   \n",
              "3  [Lasota, (2007), have, updated, this, work,, f...   \n",
              "4  [an, antenna, with, cos, 2, beam, would, have,...   \n",
              "\n",
              "                                  unique_id  \n",
              "0          fulltext_487_2019MNRAS.486.5558S  \n",
              "1  acknowledgments_1086_2018MNRAS.480.3062L  \n",
              "2   acknowledgments_559_2019MNRAS.482L...9B  \n",
              "3         fulltext_1307_2018A&A...617A..26D  \n",
              "4          fulltext_465_2017ApJ...840...33S  "
            ],
            "text/html": [
              "\n",
              "  <div id=\"df-6cadc3bb-49bd-47c0-bd68-17e15fdb6637\">\n",
              "    <div class=\"colab-df-container\">\n",
              "      <div>\n",
              "<style scoped>\n",
              "    .dataframe tbody tr th:only-of-type {\n",
              "        vertical-align: middle;\n",
              "    }\n",
              "\n",
              "    .dataframe tbody tr th {\n",
              "        vertical-align: top;\n",
              "    }\n",
              "\n",
              "    .dataframe thead th {\n",
              "        text-align: right;\n",
              "    }\n",
              "</style>\n",
              "<table border=\"1\" class=\"dataframe\">\n",
              "  <thead>\n",
              "    <tr style=\"text-align: right;\">\n",
              "      <th></th>\n",
              "      <th>bibcode</th>\n",
              "      <th>label_studio_id</th>\n",
              "      <th>ner_ids</th>\n",
              "      <th>ner_tags</th>\n",
              "      <th>section</th>\n",
              "      <th>tokens</th>\n",
              "      <th>unique_id</th>\n",
              "    </tr>\n",
              "  </thead>\n",
              "  <tbody>\n",
              "    <tr>\n",
              "      <th>0</th>\n",
              "      <td>2019MNRAS.486.5558S</td>\n",
              "      <td>487</td>\n",
              "      <td>[62, 62, 62, 62, 62, 62, 62, 15, 62, 62, 62, 6...</td>\n",
              "      <td>[O, O, O, O, O, O, O, B-Instrument, O, O, O, O...</td>\n",
              "      <td>fulltext</td>\n",
              "      <td>[Whilst, a, reasonable, harmonic, fit, to, the...</td>\n",
              "      <td>fulltext_487_2019MNRAS.486.5558S</td>\n",
              "    </tr>\n",
              "    <tr>\n",
              "      <th>1</th>\n",
              "      <td>2018MNRAS.480.3062L</td>\n",
              "      <td>1086</td>\n",
              "      <td>[62, 62, 62, 62, 62, 62, 62, 62, 62, 62, 62, 6...</td>\n",
              "      <td>[O, O, O, O, O, O, O, O, O, O, O, O, O, O, O, ...</td>\n",
              "      <td>acknowledgments</td>\n",
              "      <td>[ACKNOWLEDGEMENTS, The, authors, thank, an, an...</td>\n",
              "      <td>acknowledgments_1086_2018MNRAS.480.3062L</td>\n",
              "    </tr>\n",
              "    <tr>\n",
              "      <th>2</th>\n",
              "      <td>2019MNRAS.482L...9B</td>\n",
              "      <td>559</td>\n",
              "      <td>[62, 62, 62, 22, 53, 22, 53, 22, 53, 22, 53, 2...</td>\n",
              "      <td>[O, O, O, B-Person, I-Person, B-Person, I-Pers...</td>\n",
              "      <td>acknowledgments</td>\n",
              "      <td>[ACKNOWLEDGEMENTS, We, thank, Dougal, Mackey,,...</td>\n",
              "      <td>acknowledgments_559_2019MNRAS.482L...9B</td>\n",
              "    </tr>\n",
              "    <tr>\n",
              "      <th>3</th>\n",
              "      <td>2018A&amp;A...617A..26D</td>\n",
              "      <td>1307</td>\n",
              "      <td>[4, 35, 62, 62, 62, 62, 62, 62, 62, 62, 62, 62...</td>\n",
              "      <td>[B-Citation, I-Citation, O, O, O, O, O, O, O, ...</td>\n",
              "      <td>fulltext</td>\n",
              "      <td>[Lasota, (2007), have, updated, this, work,, f...</td>\n",
              "      <td>fulltext_1307_2018A&amp;A...617A..26D</td>\n",
              "    </tr>\n",
              "    <tr>\n",
              "      <th>4</th>\n",
              "      <td>2017ApJ...840...33S</td>\n",
              "      <td>465</td>\n",
              "      <td>[62, 62, 62, 62, 62, 62, 62, 62, 62, 62, 62, 6...</td>\n",
              "      <td>[O, O, O, O, O, O, O, O, O, O, O, O, O, O, O, ...</td>\n",
              "      <td>fulltext</td>\n",
              "      <td>[an, antenna, with, cos, 2, beam, would, have,...</td>\n",
              "      <td>fulltext_465_2017ApJ...840...33S</td>\n",
              "    </tr>\n",
              "  </tbody>\n",
              "</table>\n",
              "</div>\n",
              "      <button class=\"colab-df-convert\" onclick=\"convertToInteractive('df-6cadc3bb-49bd-47c0-bd68-17e15fdb6637')\"\n",
              "              title=\"Convert this dataframe to an interactive table.\"\n",
              "              style=\"display:none;\">\n",
              "        \n",
              "  <svg xmlns=\"http://www.w3.org/2000/svg\" height=\"24px\"viewBox=\"0 0 24 24\"\n",
              "       width=\"24px\">\n",
              "    <path d=\"M0 0h24v24H0V0z\" fill=\"none\"/>\n",
              "    <path d=\"M18.56 5.44l.94 2.06.94-2.06 2.06-.94-2.06-.94-.94-2.06-.94 2.06-2.06.94zm-11 1L8.5 8.5l.94-2.06 2.06-.94-2.06-.94L8.5 2.5l-.94 2.06-2.06.94zm10 10l.94 2.06.94-2.06 2.06-.94-2.06-.94-.94-2.06-.94 2.06-2.06.94z\"/><path d=\"M17.41 7.96l-1.37-1.37c-.4-.4-.92-.59-1.43-.59-.52 0-1.04.2-1.43.59L10.3 9.45l-7.72 7.72c-.78.78-.78 2.05 0 2.83L4 21.41c.39.39.9.59 1.41.59.51 0 1.02-.2 1.41-.59l7.78-7.78 2.81-2.81c.8-.78.8-2.07 0-2.86zM5.41 20L4 18.59l7.72-7.72 1.47 1.35L5.41 20z\"/>\n",
              "  </svg>\n",
              "      </button>\n",
              "      \n",
              "  <style>\n",
              "    .colab-df-container {\n",
              "      display:flex;\n",
              "      flex-wrap:wrap;\n",
              "      gap: 12px;\n",
              "    }\n",
              "\n",
              "    .colab-df-convert {\n",
              "      background-color: #E8F0FE;\n",
              "      border: none;\n",
              "      border-radius: 50%;\n",
              "      cursor: pointer;\n",
              "      display: none;\n",
              "      fill: #1967D2;\n",
              "      height: 32px;\n",
              "      padding: 0 0 0 0;\n",
              "      width: 32px;\n",
              "    }\n",
              "\n",
              "    .colab-df-convert:hover {\n",
              "      background-color: #E2EBFA;\n",
              "      box-shadow: 0px 1px 2px rgba(60, 64, 67, 0.3), 0px 1px 3px 1px rgba(60, 64, 67, 0.15);\n",
              "      fill: #174EA6;\n",
              "    }\n",
              "\n",
              "    [theme=dark] .colab-df-convert {\n",
              "      background-color: #3B4455;\n",
              "      fill: #D2E3FC;\n",
              "    }\n",
              "\n",
              "    [theme=dark] .colab-df-convert:hover {\n",
              "      background-color: #434B5C;\n",
              "      box-shadow: 0px 1px 3px 1px rgba(0, 0, 0, 0.15);\n",
              "      filter: drop-shadow(0px 1px 2px rgba(0, 0, 0, 0.3));\n",
              "      fill: #FFFFFF;\n",
              "    }\n",
              "  </style>\n",
              "\n",
              "      <script>\n",
              "        const buttonEl =\n",
              "          document.querySelector('#df-6cadc3bb-49bd-47c0-bd68-17e15fdb6637 button.colab-df-convert');\n",
              "        buttonEl.style.display =\n",
              "          google.colab.kernel.accessAllowed ? 'block' : 'none';\n",
              "\n",
              "        async function convertToInteractive(key) {\n",
              "          const element = document.querySelector('#df-6cadc3bb-49bd-47c0-bd68-17e15fdb6637');\n",
              "          const dataTable =\n",
              "            await google.colab.kernel.invokeFunction('convertToInteractive',\n",
              "                                                     [key], {});\n",
              "          if (!dataTable) return;\n",
              "\n",
              "          const docLinkHtml = 'Like what you see? Visit the ' +\n",
              "            '<a target=\"_blank\" href=https://colab.research.google.com/notebooks/data_table.ipynb>data table notebook</a>'\n",
              "            + ' to learn more about interactive tables.';\n",
              "          element.innerHTML = '';\n",
              "          dataTable['output_type'] = 'display_data';\n",
              "          await google.colab.output.renderOutput(dataTable, element);\n",
              "          const docLink = document.createElement('div');\n",
              "          docLink.innerHTML = docLinkHtml;\n",
              "          element.appendChild(docLink);\n",
              "        }\n",
              "      </script>\n",
              "    </div>\n",
              "  </div>\n",
              "  "
            ]
          },
          "metadata": {},
          "execution_count": 10
        }
      ]
    },
    {
      "cell_type": "markdown",
      "source": [
        "**As we can see, unique_id is a combination of bibcode, label_studio and section, we can drop the three**"
      ],
      "metadata": {
        "id": "fSliZEbyHHOx"
      }
    },
    {
      "cell_type": "code",
      "source": [
        "df_dev_after_dropping=df_dev.drop(['bibcode','label_studio_id','section'],axis=1)"
      ],
      "metadata": {
        "id": "K0HjkK1QHHOx"
      },
      "execution_count": null,
      "outputs": []
    },
    {
      "cell_type": "code",
      "source": [
        "df_dev_after_dropping.head()"
      ],
      "metadata": {
        "outputId": "b97263c8-6c44-4bef-b240-a802696fdace",
        "colab": {
          "base_uri": "https://localhost:8080/"
        },
        "id": "X7gwbrzNHHOx"
      },
      "execution_count": null,
      "outputs": [
        {
          "output_type": "execute_result",
          "data": {
            "text/plain": [
              "                                             ner_ids  \\\n",
              "0  [62, 62, 62, 62, 62, 62, 62, 15, 62, 62, 62, 6...   \n",
              "1  [62, 62, 62, 62, 62, 62, 62, 62, 62, 62, 62, 6...   \n",
              "2  [62, 62, 62, 22, 53, 22, 53, 22, 53, 22, 53, 2...   \n",
              "3  [4, 35, 62, 62, 62, 62, 62, 62, 62, 62, 62, 62...   \n",
              "4  [62, 62, 62, 62, 62, 62, 62, 62, 62, 62, 62, 6...   \n",
              "\n",
              "                                            ner_tags  \\\n",
              "0  [O, O, O, O, O, O, O, B-Instrument, O, O, O, O...   \n",
              "1  [O, O, O, O, O, O, O, O, O, O, O, O, O, O, O, ...   \n",
              "2  [O, O, O, B-Person, I-Person, B-Person, I-Pers...   \n",
              "3  [B-Citation, I-Citation, O, O, O, O, O, O, O, ...   \n",
              "4  [O, O, O, O, O, O, O, O, O, O, O, O, O, O, O, ...   \n",
              "\n",
              "                                              tokens  \\\n",
              "0  [Whilst, a, reasonable, harmonic, fit, to, the...   \n",
              "1  [ACKNOWLEDGEMENTS, The, authors, thank, an, an...   \n",
              "2  [ACKNOWLEDGEMENTS, We, thank, Dougal, Mackey,,...   \n",
              "3  [Lasota, (2007), have, updated, this, work,, f...   \n",
              "4  [an, antenna, with, cos, 2, beam, would, have,...   \n",
              "\n",
              "                                  unique_id  \n",
              "0          fulltext_487_2019MNRAS.486.5558S  \n",
              "1  acknowledgments_1086_2018MNRAS.480.3062L  \n",
              "2   acknowledgments_559_2019MNRAS.482L...9B  \n",
              "3         fulltext_1307_2018A&A...617A..26D  \n",
              "4          fulltext_465_2017ApJ...840...33S  "
            ],
            "text/html": [
              "\n",
              "  <div id=\"df-1388ef49-300b-4631-ba29-387bc6cbc95c\">\n",
              "    <div class=\"colab-df-container\">\n",
              "      <div>\n",
              "<style scoped>\n",
              "    .dataframe tbody tr th:only-of-type {\n",
              "        vertical-align: middle;\n",
              "    }\n",
              "\n",
              "    .dataframe tbody tr th {\n",
              "        vertical-align: top;\n",
              "    }\n",
              "\n",
              "    .dataframe thead th {\n",
              "        text-align: right;\n",
              "    }\n",
              "</style>\n",
              "<table border=\"1\" class=\"dataframe\">\n",
              "  <thead>\n",
              "    <tr style=\"text-align: right;\">\n",
              "      <th></th>\n",
              "      <th>ner_ids</th>\n",
              "      <th>ner_tags</th>\n",
              "      <th>tokens</th>\n",
              "      <th>unique_id</th>\n",
              "    </tr>\n",
              "  </thead>\n",
              "  <tbody>\n",
              "    <tr>\n",
              "      <th>0</th>\n",
              "      <td>[62, 62, 62, 62, 62, 62, 62, 15, 62, 62, 62, 6...</td>\n",
              "      <td>[O, O, O, O, O, O, O, B-Instrument, O, O, O, O...</td>\n",
              "      <td>[Whilst, a, reasonable, harmonic, fit, to, the...</td>\n",
              "      <td>fulltext_487_2019MNRAS.486.5558S</td>\n",
              "    </tr>\n",
              "    <tr>\n",
              "      <th>1</th>\n",
              "      <td>[62, 62, 62, 62, 62, 62, 62, 62, 62, 62, 62, 6...</td>\n",
              "      <td>[O, O, O, O, O, O, O, O, O, O, O, O, O, O, O, ...</td>\n",
              "      <td>[ACKNOWLEDGEMENTS, The, authors, thank, an, an...</td>\n",
              "      <td>acknowledgments_1086_2018MNRAS.480.3062L</td>\n",
              "    </tr>\n",
              "    <tr>\n",
              "      <th>2</th>\n",
              "      <td>[62, 62, 62, 22, 53, 22, 53, 22, 53, 22, 53, 2...</td>\n",
              "      <td>[O, O, O, B-Person, I-Person, B-Person, I-Pers...</td>\n",
              "      <td>[ACKNOWLEDGEMENTS, We, thank, Dougal, Mackey,,...</td>\n",
              "      <td>acknowledgments_559_2019MNRAS.482L...9B</td>\n",
              "    </tr>\n",
              "    <tr>\n",
              "      <th>3</th>\n",
              "      <td>[4, 35, 62, 62, 62, 62, 62, 62, 62, 62, 62, 62...</td>\n",
              "      <td>[B-Citation, I-Citation, O, O, O, O, O, O, O, ...</td>\n",
              "      <td>[Lasota, (2007), have, updated, this, work,, f...</td>\n",
              "      <td>fulltext_1307_2018A&amp;A...617A..26D</td>\n",
              "    </tr>\n",
              "    <tr>\n",
              "      <th>4</th>\n",
              "      <td>[62, 62, 62, 62, 62, 62, 62, 62, 62, 62, 62, 6...</td>\n",
              "      <td>[O, O, O, O, O, O, O, O, O, O, O, O, O, O, O, ...</td>\n",
              "      <td>[an, antenna, with, cos, 2, beam, would, have,...</td>\n",
              "      <td>fulltext_465_2017ApJ...840...33S</td>\n",
              "    </tr>\n",
              "  </tbody>\n",
              "</table>\n",
              "</div>\n",
              "      <button class=\"colab-df-convert\" onclick=\"convertToInteractive('df-1388ef49-300b-4631-ba29-387bc6cbc95c')\"\n",
              "              title=\"Convert this dataframe to an interactive table.\"\n",
              "              style=\"display:none;\">\n",
              "        \n",
              "  <svg xmlns=\"http://www.w3.org/2000/svg\" height=\"24px\"viewBox=\"0 0 24 24\"\n",
              "       width=\"24px\">\n",
              "    <path d=\"M0 0h24v24H0V0z\" fill=\"none\"/>\n",
              "    <path d=\"M18.56 5.44l.94 2.06.94-2.06 2.06-.94-2.06-.94-.94-2.06-.94 2.06-2.06.94zm-11 1L8.5 8.5l.94-2.06 2.06-.94-2.06-.94L8.5 2.5l-.94 2.06-2.06.94zm10 10l.94 2.06.94-2.06 2.06-.94-2.06-.94-.94-2.06-.94 2.06-2.06.94z\"/><path d=\"M17.41 7.96l-1.37-1.37c-.4-.4-.92-.59-1.43-.59-.52 0-1.04.2-1.43.59L10.3 9.45l-7.72 7.72c-.78.78-.78 2.05 0 2.83L4 21.41c.39.39.9.59 1.41.59.51 0 1.02-.2 1.41-.59l7.78-7.78 2.81-2.81c.8-.78.8-2.07 0-2.86zM5.41 20L4 18.59l7.72-7.72 1.47 1.35L5.41 20z\"/>\n",
              "  </svg>\n",
              "      </button>\n",
              "      \n",
              "  <style>\n",
              "    .colab-df-container {\n",
              "      display:flex;\n",
              "      flex-wrap:wrap;\n",
              "      gap: 12px;\n",
              "    }\n",
              "\n",
              "    .colab-df-convert {\n",
              "      background-color: #E8F0FE;\n",
              "      border: none;\n",
              "      border-radius: 50%;\n",
              "      cursor: pointer;\n",
              "      display: none;\n",
              "      fill: #1967D2;\n",
              "      height: 32px;\n",
              "      padding: 0 0 0 0;\n",
              "      width: 32px;\n",
              "    }\n",
              "\n",
              "    .colab-df-convert:hover {\n",
              "      background-color: #E2EBFA;\n",
              "      box-shadow: 0px 1px 2px rgba(60, 64, 67, 0.3), 0px 1px 3px 1px rgba(60, 64, 67, 0.15);\n",
              "      fill: #174EA6;\n",
              "    }\n",
              "\n",
              "    [theme=dark] .colab-df-convert {\n",
              "      background-color: #3B4455;\n",
              "      fill: #D2E3FC;\n",
              "    }\n",
              "\n",
              "    [theme=dark] .colab-df-convert:hover {\n",
              "      background-color: #434B5C;\n",
              "      box-shadow: 0px 1px 3px 1px rgba(0, 0, 0, 0.15);\n",
              "      filter: drop-shadow(0px 1px 2px rgba(0, 0, 0, 0.3));\n",
              "      fill: #FFFFFF;\n",
              "    }\n",
              "  </style>\n",
              "\n",
              "      <script>\n",
              "        const buttonEl =\n",
              "          document.querySelector('#df-1388ef49-300b-4631-ba29-387bc6cbc95c button.colab-df-convert');\n",
              "        buttonEl.style.display =\n",
              "          google.colab.kernel.accessAllowed ? 'block' : 'none';\n",
              "\n",
              "        async function convertToInteractive(key) {\n",
              "          const element = document.querySelector('#df-1388ef49-300b-4631-ba29-387bc6cbc95c');\n",
              "          const dataTable =\n",
              "            await google.colab.kernel.invokeFunction('convertToInteractive',\n",
              "                                                     [key], {});\n",
              "          if (!dataTable) return;\n",
              "\n",
              "          const docLinkHtml = 'Like what you see? Visit the ' +\n",
              "            '<a target=\"_blank\" href=https://colab.research.google.com/notebooks/data_table.ipynb>data table notebook</a>'\n",
              "            + ' to learn more about interactive tables.';\n",
              "          element.innerHTML = '';\n",
              "          dataTable['output_type'] = 'display_data';\n",
              "          await google.colab.output.renderOutput(dataTable, element);\n",
              "          const docLink = document.createElement('div');\n",
              "          docLink.innerHTML = docLinkHtml;\n",
              "          element.appendChild(docLink);\n",
              "        }\n",
              "      </script>\n",
              "    </div>\n",
              "  </div>\n",
              "  "
            ]
          },
          "metadata": {},
          "execution_count": 12
        }
      ]
    },
    {
      "cell_type": "code",
      "source": [
        "df_training = json_normalize(wiesp_traning_json)\n",
        "df_training.head(5)"
      ],
      "metadata": {
        "colab": {
          "base_uri": "https://localhost:8080/"
        },
        "outputId": "816e5104-3c29-4600-b282-5057075c24ad",
        "id": "_8aFBXoQHHOx"
      },
      "execution_count": null,
      "outputs": [
        {
          "output_type": "execute_result",
          "data": {
            "text/plain": [
              "               bibcode  label_studio_id  \\\n",
              "0  2019MNRAS.486.5558S              487   \n",
              "1  2018MNRAS.478.5533F             1129   \n",
              "2  2018MNRAS.480.3062L             1086   \n",
              "3  2016MNRAS.457.1786M             1135   \n",
              "4  2019MNRAS.482L...9B              559   \n",
              "\n",
              "                                             ner_ids  \\\n",
              "0  [62, 62, 62, 62, 62, 62, 62, 15, 62, 62, 62, 6...   \n",
              "1  [62, 62, 62, 62, 62, 62, 62, 62, 62, 62, 62, 6...   \n",
              "2  [62, 62, 62, 62, 62, 62, 62, 62, 62, 62, 62, 6...   \n",
              "3  [22, 62, 62, 62, 62, 21, 13, 44, 44, 21, 62, 1...   \n",
              "4  [62, 62, 62, 22, 53, 22, 53, 22, 53, 22, 53, 2...   \n",
              "\n",
              "                                            ner_tags          section  \\\n",
              "0  [O, O, O, O, O, O, O, B-Instrument, O, O, O, O...         fulltext   \n",
              "1  [O, O, O, O, O, O, O, O, O, O, O, O, O, O, O, ...         fulltext   \n",
              "2  [O, O, O, O, O, O, O, O, O, O, O, O, O, O, O, ...  acknowledgments   \n",
              "3  [B-Person, O, O, O, O, B-Organization, B-Grant...  acknowledgments   \n",
              "4  [O, O, O, B-Person, I-Person, B-Person, I-Pers...  acknowledgments   \n",
              "\n",
              "                                              tokens  \\\n",
              "0  [Whilst, a, reasonable, harmonic, fit, to, the...   \n",
              "1  [comparison, once, the, angular, positions, of...   \n",
              "2  [ACKNOWLEDGEMENTS, The, authors, thank, an, an...   \n",
              "3  [BDM, gratefully, acknowledges, support, from,...   \n",
              "4  [ACKNOWLEDGEMENTS, We, thank, Dougal, Mackey,,...   \n",
              "\n",
              "                                  unique_id  \n",
              "0          fulltext_487_2019MNRAS.486.5558S  \n",
              "1         fulltext_1129_2018MNRAS.478.5533F  \n",
              "2  acknowledgments_1086_2018MNRAS.480.3062L  \n",
              "3  acknowledgments_1135_2016MNRAS.457.1786M  \n",
              "4   acknowledgments_559_2019MNRAS.482L...9B  "
            ],
            "text/html": [
              "\n",
              "  <div id=\"df-a70d96e1-7910-40f3-b7fd-fea7023ef091\">\n",
              "    <div class=\"colab-df-container\">\n",
              "      <div>\n",
              "<style scoped>\n",
              "    .dataframe tbody tr th:only-of-type {\n",
              "        vertical-align: middle;\n",
              "    }\n",
              "\n",
              "    .dataframe tbody tr th {\n",
              "        vertical-align: top;\n",
              "    }\n",
              "\n",
              "    .dataframe thead th {\n",
              "        text-align: right;\n",
              "    }\n",
              "</style>\n",
              "<table border=\"1\" class=\"dataframe\">\n",
              "  <thead>\n",
              "    <tr style=\"text-align: right;\">\n",
              "      <th></th>\n",
              "      <th>bibcode</th>\n",
              "      <th>label_studio_id</th>\n",
              "      <th>ner_ids</th>\n",
              "      <th>ner_tags</th>\n",
              "      <th>section</th>\n",
              "      <th>tokens</th>\n",
              "      <th>unique_id</th>\n",
              "    </tr>\n",
              "  </thead>\n",
              "  <tbody>\n",
              "    <tr>\n",
              "      <th>0</th>\n",
              "      <td>2019MNRAS.486.5558S</td>\n",
              "      <td>487</td>\n",
              "      <td>[62, 62, 62, 62, 62, 62, 62, 15, 62, 62, 62, 6...</td>\n",
              "      <td>[O, O, O, O, O, O, O, B-Instrument, O, O, O, O...</td>\n",
              "      <td>fulltext</td>\n",
              "      <td>[Whilst, a, reasonable, harmonic, fit, to, the...</td>\n",
              "      <td>fulltext_487_2019MNRAS.486.5558S</td>\n",
              "    </tr>\n",
              "    <tr>\n",
              "      <th>1</th>\n",
              "      <td>2018MNRAS.478.5533F</td>\n",
              "      <td>1129</td>\n",
              "      <td>[62, 62, 62, 62, 62, 62, 62, 62, 62, 62, 62, 6...</td>\n",
              "      <td>[O, O, O, O, O, O, O, O, O, O, O, O, O, O, O, ...</td>\n",
              "      <td>fulltext</td>\n",
              "      <td>[comparison, once, the, angular, positions, of...</td>\n",
              "      <td>fulltext_1129_2018MNRAS.478.5533F</td>\n",
              "    </tr>\n",
              "    <tr>\n",
              "      <th>2</th>\n",
              "      <td>2018MNRAS.480.3062L</td>\n",
              "      <td>1086</td>\n",
              "      <td>[62, 62, 62, 62, 62, 62, 62, 62, 62, 62, 62, 6...</td>\n",
              "      <td>[O, O, O, O, O, O, O, O, O, O, O, O, O, O, O, ...</td>\n",
              "      <td>acknowledgments</td>\n",
              "      <td>[ACKNOWLEDGEMENTS, The, authors, thank, an, an...</td>\n",
              "      <td>acknowledgments_1086_2018MNRAS.480.3062L</td>\n",
              "    </tr>\n",
              "    <tr>\n",
              "      <th>3</th>\n",
              "      <td>2016MNRAS.457.1786M</td>\n",
              "      <td>1135</td>\n",
              "      <td>[22, 62, 62, 62, 62, 21, 13, 44, 44, 21, 62, 1...</td>\n",
              "      <td>[B-Person, O, O, O, O, B-Organization, B-Grant...</td>\n",
              "      <td>acknowledgments</td>\n",
              "      <td>[BDM, gratefully, acknowledges, support, from,...</td>\n",
              "      <td>acknowledgments_1135_2016MNRAS.457.1786M</td>\n",
              "    </tr>\n",
              "    <tr>\n",
              "      <th>4</th>\n",
              "      <td>2019MNRAS.482L...9B</td>\n",
              "      <td>559</td>\n",
              "      <td>[62, 62, 62, 22, 53, 22, 53, 22, 53, 22, 53, 2...</td>\n",
              "      <td>[O, O, O, B-Person, I-Person, B-Person, I-Pers...</td>\n",
              "      <td>acknowledgments</td>\n",
              "      <td>[ACKNOWLEDGEMENTS, We, thank, Dougal, Mackey,,...</td>\n",
              "      <td>acknowledgments_559_2019MNRAS.482L...9B</td>\n",
              "    </tr>\n",
              "  </tbody>\n",
              "</table>\n",
              "</div>\n",
              "      <button class=\"colab-df-convert\" onclick=\"convertToInteractive('df-a70d96e1-7910-40f3-b7fd-fea7023ef091')\"\n",
              "              title=\"Convert this dataframe to an interactive table.\"\n",
              "              style=\"display:none;\">\n",
              "        \n",
              "  <svg xmlns=\"http://www.w3.org/2000/svg\" height=\"24px\"viewBox=\"0 0 24 24\"\n",
              "       width=\"24px\">\n",
              "    <path d=\"M0 0h24v24H0V0z\" fill=\"none\"/>\n",
              "    <path d=\"M18.56 5.44l.94 2.06.94-2.06 2.06-.94-2.06-.94-.94-2.06-.94 2.06-2.06.94zm-11 1L8.5 8.5l.94-2.06 2.06-.94-2.06-.94L8.5 2.5l-.94 2.06-2.06.94zm10 10l.94 2.06.94-2.06 2.06-.94-2.06-.94-.94-2.06-.94 2.06-2.06.94z\"/><path d=\"M17.41 7.96l-1.37-1.37c-.4-.4-.92-.59-1.43-.59-.52 0-1.04.2-1.43.59L10.3 9.45l-7.72 7.72c-.78.78-.78 2.05 0 2.83L4 21.41c.39.39.9.59 1.41.59.51 0 1.02-.2 1.41-.59l7.78-7.78 2.81-2.81c.8-.78.8-2.07 0-2.86zM5.41 20L4 18.59l7.72-7.72 1.47 1.35L5.41 20z\"/>\n",
              "  </svg>\n",
              "      </button>\n",
              "      \n",
              "  <style>\n",
              "    .colab-df-container {\n",
              "      display:flex;\n",
              "      flex-wrap:wrap;\n",
              "      gap: 12px;\n",
              "    }\n",
              "\n",
              "    .colab-df-convert {\n",
              "      background-color: #E8F0FE;\n",
              "      border: none;\n",
              "      border-radius: 50%;\n",
              "      cursor: pointer;\n",
              "      display: none;\n",
              "      fill: #1967D2;\n",
              "      height: 32px;\n",
              "      padding: 0 0 0 0;\n",
              "      width: 32px;\n",
              "    }\n",
              "\n",
              "    .colab-df-convert:hover {\n",
              "      background-color: #E2EBFA;\n",
              "      box-shadow: 0px 1px 2px rgba(60, 64, 67, 0.3), 0px 1px 3px 1px rgba(60, 64, 67, 0.15);\n",
              "      fill: #174EA6;\n",
              "    }\n",
              "\n",
              "    [theme=dark] .colab-df-convert {\n",
              "      background-color: #3B4455;\n",
              "      fill: #D2E3FC;\n",
              "    }\n",
              "\n",
              "    [theme=dark] .colab-df-convert:hover {\n",
              "      background-color: #434B5C;\n",
              "      box-shadow: 0px 1px 3px 1px rgba(0, 0, 0, 0.15);\n",
              "      filter: drop-shadow(0px 1px 2px rgba(0, 0, 0, 0.3));\n",
              "      fill: #FFFFFF;\n",
              "    }\n",
              "  </style>\n",
              "\n",
              "      <script>\n",
              "        const buttonEl =\n",
              "          document.querySelector('#df-a70d96e1-7910-40f3-b7fd-fea7023ef091 button.colab-df-convert');\n",
              "        buttonEl.style.display =\n",
              "          google.colab.kernel.accessAllowed ? 'block' : 'none';\n",
              "\n",
              "        async function convertToInteractive(key) {\n",
              "          const element = document.querySelector('#df-a70d96e1-7910-40f3-b7fd-fea7023ef091');\n",
              "          const dataTable =\n",
              "            await google.colab.kernel.invokeFunction('convertToInteractive',\n",
              "                                                     [key], {});\n",
              "          if (!dataTable) return;\n",
              "\n",
              "          const docLinkHtml = 'Like what you see? Visit the ' +\n",
              "            '<a target=\"_blank\" href=https://colab.research.google.com/notebooks/data_table.ipynb>data table notebook</a>'\n",
              "            + ' to learn more about interactive tables.';\n",
              "          element.innerHTML = '';\n",
              "          dataTable['output_type'] = 'display_data';\n",
              "          await google.colab.output.renderOutput(dataTable, element);\n",
              "          const docLink = document.createElement('div');\n",
              "          docLink.innerHTML = docLinkHtml;\n",
              "          element.appendChild(docLink);\n",
              "        }\n",
              "      </script>\n",
              "    </div>\n",
              "  </div>\n",
              "  "
            ]
          },
          "metadata": {},
          "execution_count": 13
        }
      ]
    },
    {
      "cell_type": "code",
      "source": [
        "df_training_after_dropping=df_training.drop(['bibcode','label_studio_id','section'],axis=1)"
      ],
      "metadata": {
        "id": "fwatE5YvHHOx"
      },
      "execution_count": null,
      "outputs": []
    },
    {
      "cell_type": "code",
      "source": [
        "df_training_after_dropping.head()"
      ],
      "metadata": {
        "colab": {
          "base_uri": "https://localhost:8080/"
        },
        "outputId": "cc5a9d98-f9e5-46bb-89cc-b0531188f91c",
        "id": "xHCTMYyYHHOx"
      },
      "execution_count": null,
      "outputs": [
        {
          "output_type": "execute_result",
          "data": {
            "text/plain": [
              "                                             ner_ids  \\\n",
              "0  [62, 62, 62, 62, 62, 62, 62, 15, 62, 62, 62, 6...   \n",
              "1  [62, 62, 62, 62, 62, 62, 62, 62, 62, 62, 62, 6...   \n",
              "2  [62, 62, 62, 62, 62, 62, 62, 62, 62, 62, 62, 6...   \n",
              "3  [22, 62, 62, 62, 62, 21, 13, 44, 44, 21, 62, 1...   \n",
              "4  [62, 62, 62, 22, 53, 22, 53, 22, 53, 22, 53, 2...   \n",
              "\n",
              "                                            ner_tags  \\\n",
              "0  [O, O, O, O, O, O, O, B-Instrument, O, O, O, O...   \n",
              "1  [O, O, O, O, O, O, O, O, O, O, O, O, O, O, O, ...   \n",
              "2  [O, O, O, O, O, O, O, O, O, O, O, O, O, O, O, ...   \n",
              "3  [B-Person, O, O, O, O, B-Organization, B-Grant...   \n",
              "4  [O, O, O, B-Person, I-Person, B-Person, I-Pers...   \n",
              "\n",
              "                                              tokens  \\\n",
              "0  [Whilst, a, reasonable, harmonic, fit, to, the...   \n",
              "1  [comparison, once, the, angular, positions, of...   \n",
              "2  [ACKNOWLEDGEMENTS, The, authors, thank, an, an...   \n",
              "3  [BDM, gratefully, acknowledges, support, from,...   \n",
              "4  [ACKNOWLEDGEMENTS, We, thank, Dougal, Mackey,,...   \n",
              "\n",
              "                                  unique_id  \n",
              "0          fulltext_487_2019MNRAS.486.5558S  \n",
              "1         fulltext_1129_2018MNRAS.478.5533F  \n",
              "2  acknowledgments_1086_2018MNRAS.480.3062L  \n",
              "3  acknowledgments_1135_2016MNRAS.457.1786M  \n",
              "4   acknowledgments_559_2019MNRAS.482L...9B  "
            ],
            "text/html": [
              "\n",
              "  <div id=\"df-885df9b1-1ba7-42ce-a4e1-ecab3919bd42\">\n",
              "    <div class=\"colab-df-container\">\n",
              "      <div>\n",
              "<style scoped>\n",
              "    .dataframe tbody tr th:only-of-type {\n",
              "        vertical-align: middle;\n",
              "    }\n",
              "\n",
              "    .dataframe tbody tr th {\n",
              "        vertical-align: top;\n",
              "    }\n",
              "\n",
              "    .dataframe thead th {\n",
              "        text-align: right;\n",
              "    }\n",
              "</style>\n",
              "<table border=\"1\" class=\"dataframe\">\n",
              "  <thead>\n",
              "    <tr style=\"text-align: right;\">\n",
              "      <th></th>\n",
              "      <th>ner_ids</th>\n",
              "      <th>ner_tags</th>\n",
              "      <th>tokens</th>\n",
              "      <th>unique_id</th>\n",
              "    </tr>\n",
              "  </thead>\n",
              "  <tbody>\n",
              "    <tr>\n",
              "      <th>0</th>\n",
              "      <td>[62, 62, 62, 62, 62, 62, 62, 15, 62, 62, 62, 6...</td>\n",
              "      <td>[O, O, O, O, O, O, O, B-Instrument, O, O, O, O...</td>\n",
              "      <td>[Whilst, a, reasonable, harmonic, fit, to, the...</td>\n",
              "      <td>fulltext_487_2019MNRAS.486.5558S</td>\n",
              "    </tr>\n",
              "    <tr>\n",
              "      <th>1</th>\n",
              "      <td>[62, 62, 62, 62, 62, 62, 62, 62, 62, 62, 62, 6...</td>\n",
              "      <td>[O, O, O, O, O, O, O, O, O, O, O, O, O, O, O, ...</td>\n",
              "      <td>[comparison, once, the, angular, positions, of...</td>\n",
              "      <td>fulltext_1129_2018MNRAS.478.5533F</td>\n",
              "    </tr>\n",
              "    <tr>\n",
              "      <th>2</th>\n",
              "      <td>[62, 62, 62, 62, 62, 62, 62, 62, 62, 62, 62, 6...</td>\n",
              "      <td>[O, O, O, O, O, O, O, O, O, O, O, O, O, O, O, ...</td>\n",
              "      <td>[ACKNOWLEDGEMENTS, The, authors, thank, an, an...</td>\n",
              "      <td>acknowledgments_1086_2018MNRAS.480.3062L</td>\n",
              "    </tr>\n",
              "    <tr>\n",
              "      <th>3</th>\n",
              "      <td>[22, 62, 62, 62, 62, 21, 13, 44, 44, 21, 62, 1...</td>\n",
              "      <td>[B-Person, O, O, O, O, B-Organization, B-Grant...</td>\n",
              "      <td>[BDM, gratefully, acknowledges, support, from,...</td>\n",
              "      <td>acknowledgments_1135_2016MNRAS.457.1786M</td>\n",
              "    </tr>\n",
              "    <tr>\n",
              "      <th>4</th>\n",
              "      <td>[62, 62, 62, 22, 53, 22, 53, 22, 53, 22, 53, 2...</td>\n",
              "      <td>[O, O, O, B-Person, I-Person, B-Person, I-Pers...</td>\n",
              "      <td>[ACKNOWLEDGEMENTS, We, thank, Dougal, Mackey,,...</td>\n",
              "      <td>acknowledgments_559_2019MNRAS.482L...9B</td>\n",
              "    </tr>\n",
              "  </tbody>\n",
              "</table>\n",
              "</div>\n",
              "      <button class=\"colab-df-convert\" onclick=\"convertToInteractive('df-885df9b1-1ba7-42ce-a4e1-ecab3919bd42')\"\n",
              "              title=\"Convert this dataframe to an interactive table.\"\n",
              "              style=\"display:none;\">\n",
              "        \n",
              "  <svg xmlns=\"http://www.w3.org/2000/svg\" height=\"24px\"viewBox=\"0 0 24 24\"\n",
              "       width=\"24px\">\n",
              "    <path d=\"M0 0h24v24H0V0z\" fill=\"none\"/>\n",
              "    <path d=\"M18.56 5.44l.94 2.06.94-2.06 2.06-.94-2.06-.94-.94-2.06-.94 2.06-2.06.94zm-11 1L8.5 8.5l.94-2.06 2.06-.94-2.06-.94L8.5 2.5l-.94 2.06-2.06.94zm10 10l.94 2.06.94-2.06 2.06-.94-2.06-.94-.94-2.06-.94 2.06-2.06.94z\"/><path d=\"M17.41 7.96l-1.37-1.37c-.4-.4-.92-.59-1.43-.59-.52 0-1.04.2-1.43.59L10.3 9.45l-7.72 7.72c-.78.78-.78 2.05 0 2.83L4 21.41c.39.39.9.59 1.41.59.51 0 1.02-.2 1.41-.59l7.78-7.78 2.81-2.81c.8-.78.8-2.07 0-2.86zM5.41 20L4 18.59l7.72-7.72 1.47 1.35L5.41 20z\"/>\n",
              "  </svg>\n",
              "      </button>\n",
              "      \n",
              "  <style>\n",
              "    .colab-df-container {\n",
              "      display:flex;\n",
              "      flex-wrap:wrap;\n",
              "      gap: 12px;\n",
              "    }\n",
              "\n",
              "    .colab-df-convert {\n",
              "      background-color: #E8F0FE;\n",
              "      border: none;\n",
              "      border-radius: 50%;\n",
              "      cursor: pointer;\n",
              "      display: none;\n",
              "      fill: #1967D2;\n",
              "      height: 32px;\n",
              "      padding: 0 0 0 0;\n",
              "      width: 32px;\n",
              "    }\n",
              "\n",
              "    .colab-df-convert:hover {\n",
              "      background-color: #E2EBFA;\n",
              "      box-shadow: 0px 1px 2px rgba(60, 64, 67, 0.3), 0px 1px 3px 1px rgba(60, 64, 67, 0.15);\n",
              "      fill: #174EA6;\n",
              "    }\n",
              "\n",
              "    [theme=dark] .colab-df-convert {\n",
              "      background-color: #3B4455;\n",
              "      fill: #D2E3FC;\n",
              "    }\n",
              "\n",
              "    [theme=dark] .colab-df-convert:hover {\n",
              "      background-color: #434B5C;\n",
              "      box-shadow: 0px 1px 3px 1px rgba(0, 0, 0, 0.15);\n",
              "      filter: drop-shadow(0px 1px 2px rgba(0, 0, 0, 0.3));\n",
              "      fill: #FFFFFF;\n",
              "    }\n",
              "  </style>\n",
              "\n",
              "      <script>\n",
              "        const buttonEl =\n",
              "          document.querySelector('#df-885df9b1-1ba7-42ce-a4e1-ecab3919bd42 button.colab-df-convert');\n",
              "        buttonEl.style.display =\n",
              "          google.colab.kernel.accessAllowed ? 'block' : 'none';\n",
              "\n",
              "        async function convertToInteractive(key) {\n",
              "          const element = document.querySelector('#df-885df9b1-1ba7-42ce-a4e1-ecab3919bd42');\n",
              "          const dataTable =\n",
              "            await google.colab.kernel.invokeFunction('convertToInteractive',\n",
              "                                                     [key], {});\n",
              "          if (!dataTable) return;\n",
              "\n",
              "          const docLinkHtml = 'Like what you see? Visit the ' +\n",
              "            '<a target=\"_blank\" href=https://colab.research.google.com/notebooks/data_table.ipynb>data table notebook</a>'\n",
              "            + ' to learn more about interactive tables.';\n",
              "          element.innerHTML = '';\n",
              "          dataTable['output_type'] = 'display_data';\n",
              "          await google.colab.output.renderOutput(dataTable, element);\n",
              "          const docLink = document.createElement('div');\n",
              "          docLink.innerHTML = docLinkHtml;\n",
              "          element.appendChild(docLink);\n",
              "        }\n",
              "      </script>\n",
              "    </div>\n",
              "  </div>\n",
              "  "
            ]
          },
          "metadata": {},
          "execution_count": 15
        }
      ]
    },
    {
      "cell_type": "code",
      "source": [
        "df_validation = json_normalize(wiesp_val_json)\n",
        "df_validation.head(5)"
      ],
      "metadata": {
        "colab": {
          "base_uri": "https://localhost:8080/"
        },
        "outputId": "cc6c49b7-9ac4-439d-9149-d4d89f31630f",
        "id": "Hhr4VhhDHHOy"
      },
      "execution_count": null,
      "outputs": [
        {
          "output_type": "execute_result",
          "data": {
            "text/plain": [
              "               bibcode  label_studio_id          section  \\\n",
              "0  2016A&A...586A.140P             1778         fulltext   \n",
              "1  2017ApJ...842..123F             1466         fulltext   \n",
              "2  2019ApJ...882L...1F             1015         fulltext   \n",
              "3  2018MNRAS.475.3029T               72         fulltext   \n",
              "4  2019ApJ...876..136J               57  acknowledgments   \n",
              "\n",
              "                                              tokens  \\\n",
              "0  [that, gas, outside, halos,, not, necessarily,...   \n",
              "1  [that, all, star, formation, within, Upper, Sc...   \n",
              "2  [the, PCs, would, contain, the, changes., Mate...   \n",
              "3  [arcmin, away,, in, a, low, density, environme...   \n",
              "4  [We, are, grateful, to, J., Chen,, J., Delabro...   \n",
              "\n",
              "                                unique_id  \n",
              "0       fulltext_1778_2016A&A...586A.140P  \n",
              "1       fulltext_1466_2017ApJ...842..123F  \n",
              "2       fulltext_1015_2019ApJ...882L...1F  \n",
              "3         fulltext_72_2018MNRAS.475.3029T  \n",
              "4  acknowledgments_57_2019ApJ...876..136J  "
            ],
            "text/html": [
              "\n",
              "  <div id=\"df-980d118a-6594-41c2-b9c5-c493a7f088b6\">\n",
              "    <div class=\"colab-df-container\">\n",
              "      <div>\n",
              "<style scoped>\n",
              "    .dataframe tbody tr th:only-of-type {\n",
              "        vertical-align: middle;\n",
              "    }\n",
              "\n",
              "    .dataframe tbody tr th {\n",
              "        vertical-align: top;\n",
              "    }\n",
              "\n",
              "    .dataframe thead th {\n",
              "        text-align: right;\n",
              "    }\n",
              "</style>\n",
              "<table border=\"1\" class=\"dataframe\">\n",
              "  <thead>\n",
              "    <tr style=\"text-align: right;\">\n",
              "      <th></th>\n",
              "      <th>bibcode</th>\n",
              "      <th>label_studio_id</th>\n",
              "      <th>section</th>\n",
              "      <th>tokens</th>\n",
              "      <th>unique_id</th>\n",
              "    </tr>\n",
              "  </thead>\n",
              "  <tbody>\n",
              "    <tr>\n",
              "      <th>0</th>\n",
              "      <td>2016A&amp;A...586A.140P</td>\n",
              "      <td>1778</td>\n",
              "      <td>fulltext</td>\n",
              "      <td>[that, gas, outside, halos,, not, necessarily,...</td>\n",
              "      <td>fulltext_1778_2016A&amp;A...586A.140P</td>\n",
              "    </tr>\n",
              "    <tr>\n",
              "      <th>1</th>\n",
              "      <td>2017ApJ...842..123F</td>\n",
              "      <td>1466</td>\n",
              "      <td>fulltext</td>\n",
              "      <td>[that, all, star, formation, within, Upper, Sc...</td>\n",
              "      <td>fulltext_1466_2017ApJ...842..123F</td>\n",
              "    </tr>\n",
              "    <tr>\n",
              "      <th>2</th>\n",
              "      <td>2019ApJ...882L...1F</td>\n",
              "      <td>1015</td>\n",
              "      <td>fulltext</td>\n",
              "      <td>[the, PCs, would, contain, the, changes., Mate...</td>\n",
              "      <td>fulltext_1015_2019ApJ...882L...1F</td>\n",
              "    </tr>\n",
              "    <tr>\n",
              "      <th>3</th>\n",
              "      <td>2018MNRAS.475.3029T</td>\n",
              "      <td>72</td>\n",
              "      <td>fulltext</td>\n",
              "      <td>[arcmin, away,, in, a, low, density, environme...</td>\n",
              "      <td>fulltext_72_2018MNRAS.475.3029T</td>\n",
              "    </tr>\n",
              "    <tr>\n",
              "      <th>4</th>\n",
              "      <td>2019ApJ...876..136J</td>\n",
              "      <td>57</td>\n",
              "      <td>acknowledgments</td>\n",
              "      <td>[We, are, grateful, to, J., Chen,, J., Delabro...</td>\n",
              "      <td>acknowledgments_57_2019ApJ...876..136J</td>\n",
              "    </tr>\n",
              "  </tbody>\n",
              "</table>\n",
              "</div>\n",
              "      <button class=\"colab-df-convert\" onclick=\"convertToInteractive('df-980d118a-6594-41c2-b9c5-c493a7f088b6')\"\n",
              "              title=\"Convert this dataframe to an interactive table.\"\n",
              "              style=\"display:none;\">\n",
              "        \n",
              "  <svg xmlns=\"http://www.w3.org/2000/svg\" height=\"24px\"viewBox=\"0 0 24 24\"\n",
              "       width=\"24px\">\n",
              "    <path d=\"M0 0h24v24H0V0z\" fill=\"none\"/>\n",
              "    <path d=\"M18.56 5.44l.94 2.06.94-2.06 2.06-.94-2.06-.94-.94-2.06-.94 2.06-2.06.94zm-11 1L8.5 8.5l.94-2.06 2.06-.94-2.06-.94L8.5 2.5l-.94 2.06-2.06.94zm10 10l.94 2.06.94-2.06 2.06-.94-2.06-.94-.94-2.06-.94 2.06-2.06.94z\"/><path d=\"M17.41 7.96l-1.37-1.37c-.4-.4-.92-.59-1.43-.59-.52 0-1.04.2-1.43.59L10.3 9.45l-7.72 7.72c-.78.78-.78 2.05 0 2.83L4 21.41c.39.39.9.59 1.41.59.51 0 1.02-.2 1.41-.59l7.78-7.78 2.81-2.81c.8-.78.8-2.07 0-2.86zM5.41 20L4 18.59l7.72-7.72 1.47 1.35L5.41 20z\"/>\n",
              "  </svg>\n",
              "      </button>\n",
              "      \n",
              "  <style>\n",
              "    .colab-df-container {\n",
              "      display:flex;\n",
              "      flex-wrap:wrap;\n",
              "      gap: 12px;\n",
              "    }\n",
              "\n",
              "    .colab-df-convert {\n",
              "      background-color: #E8F0FE;\n",
              "      border: none;\n",
              "      border-radius: 50%;\n",
              "      cursor: pointer;\n",
              "      display: none;\n",
              "      fill: #1967D2;\n",
              "      height: 32px;\n",
              "      padding: 0 0 0 0;\n",
              "      width: 32px;\n",
              "    }\n",
              "\n",
              "    .colab-df-convert:hover {\n",
              "      background-color: #E2EBFA;\n",
              "      box-shadow: 0px 1px 2px rgba(60, 64, 67, 0.3), 0px 1px 3px 1px rgba(60, 64, 67, 0.15);\n",
              "      fill: #174EA6;\n",
              "    }\n",
              "\n",
              "    [theme=dark] .colab-df-convert {\n",
              "      background-color: #3B4455;\n",
              "      fill: #D2E3FC;\n",
              "    }\n",
              "\n",
              "    [theme=dark] .colab-df-convert:hover {\n",
              "      background-color: #434B5C;\n",
              "      box-shadow: 0px 1px 3px 1px rgba(0, 0, 0, 0.15);\n",
              "      filter: drop-shadow(0px 1px 2px rgba(0, 0, 0, 0.3));\n",
              "      fill: #FFFFFF;\n",
              "    }\n",
              "  </style>\n",
              "\n",
              "      <script>\n",
              "        const buttonEl =\n",
              "          document.querySelector('#df-980d118a-6594-41c2-b9c5-c493a7f088b6 button.colab-df-convert');\n",
              "        buttonEl.style.display =\n",
              "          google.colab.kernel.accessAllowed ? 'block' : 'none';\n",
              "\n",
              "        async function convertToInteractive(key) {\n",
              "          const element = document.querySelector('#df-980d118a-6594-41c2-b9c5-c493a7f088b6');\n",
              "          const dataTable =\n",
              "            await google.colab.kernel.invokeFunction('convertToInteractive',\n",
              "                                                     [key], {});\n",
              "          if (!dataTable) return;\n",
              "\n",
              "          const docLinkHtml = 'Like what you see? Visit the ' +\n",
              "            '<a target=\"_blank\" href=https://colab.research.google.com/notebooks/data_table.ipynb>data table notebook</a>'\n",
              "            + ' to learn more about interactive tables.';\n",
              "          element.innerHTML = '';\n",
              "          dataTable['output_type'] = 'display_data';\n",
              "          await google.colab.output.renderOutput(dataTable, element);\n",
              "          const docLink = document.createElement('div');\n",
              "          docLink.innerHTML = docLinkHtml;\n",
              "          element.appendChild(docLink);\n",
              "        }\n",
              "      </script>\n",
              "    </div>\n",
              "  </div>\n",
              "  "
            ]
          },
          "metadata": {},
          "execution_count": 16
        }
      ]
    },
    {
      "cell_type": "code",
      "source": [
        "df_validation_after_dropping=df_validation.drop(['bibcode','label_studio_id','section'],axis=1)"
      ],
      "metadata": {
        "id": "bT9zQWz8HHOy"
      },
      "execution_count": null,
      "outputs": []
    },
    {
      "cell_type": "code",
      "source": [
        "df_validation_after_dropping.head()"
      ],
      "metadata": {
        "colab": {
          "base_uri": "https://localhost:8080/"
        },
        "outputId": "8eb52b48-6490-432c-f487-5bf2b3f180cd",
        "id": "W2GjS4DbHHOy"
      },
      "execution_count": null,
      "outputs": [
        {
          "output_type": "execute_result",
          "data": {
            "text/plain": [
              "                                              tokens  \\\n",
              "0  [that, gas, outside, halos,, not, necessarily,...   \n",
              "1  [that, all, star, formation, within, Upper, Sc...   \n",
              "2  [the, PCs, would, contain, the, changes., Mate...   \n",
              "3  [arcmin, away,, in, a, low, density, environme...   \n",
              "4  [We, are, grateful, to, J., Chen,, J., Delabro...   \n",
              "\n",
              "                                unique_id  \n",
              "0       fulltext_1778_2016A&A...586A.140P  \n",
              "1       fulltext_1466_2017ApJ...842..123F  \n",
              "2       fulltext_1015_2019ApJ...882L...1F  \n",
              "3         fulltext_72_2018MNRAS.475.3029T  \n",
              "4  acknowledgments_57_2019ApJ...876..136J  "
            ],
            "text/html": [
              "\n",
              "  <div id=\"df-3e9159b3-06d8-4286-b1c7-919ce32b3452\">\n",
              "    <div class=\"colab-df-container\">\n",
              "      <div>\n",
              "<style scoped>\n",
              "    .dataframe tbody tr th:only-of-type {\n",
              "        vertical-align: middle;\n",
              "    }\n",
              "\n",
              "    .dataframe tbody tr th {\n",
              "        vertical-align: top;\n",
              "    }\n",
              "\n",
              "    .dataframe thead th {\n",
              "        text-align: right;\n",
              "    }\n",
              "</style>\n",
              "<table border=\"1\" class=\"dataframe\">\n",
              "  <thead>\n",
              "    <tr style=\"text-align: right;\">\n",
              "      <th></th>\n",
              "      <th>tokens</th>\n",
              "      <th>unique_id</th>\n",
              "    </tr>\n",
              "  </thead>\n",
              "  <tbody>\n",
              "    <tr>\n",
              "      <th>0</th>\n",
              "      <td>[that, gas, outside, halos,, not, necessarily,...</td>\n",
              "      <td>fulltext_1778_2016A&amp;A...586A.140P</td>\n",
              "    </tr>\n",
              "    <tr>\n",
              "      <th>1</th>\n",
              "      <td>[that, all, star, formation, within, Upper, Sc...</td>\n",
              "      <td>fulltext_1466_2017ApJ...842..123F</td>\n",
              "    </tr>\n",
              "    <tr>\n",
              "      <th>2</th>\n",
              "      <td>[the, PCs, would, contain, the, changes., Mate...</td>\n",
              "      <td>fulltext_1015_2019ApJ...882L...1F</td>\n",
              "    </tr>\n",
              "    <tr>\n",
              "      <th>3</th>\n",
              "      <td>[arcmin, away,, in, a, low, density, environme...</td>\n",
              "      <td>fulltext_72_2018MNRAS.475.3029T</td>\n",
              "    </tr>\n",
              "    <tr>\n",
              "      <th>4</th>\n",
              "      <td>[We, are, grateful, to, J., Chen,, J., Delabro...</td>\n",
              "      <td>acknowledgments_57_2019ApJ...876..136J</td>\n",
              "    </tr>\n",
              "  </tbody>\n",
              "</table>\n",
              "</div>\n",
              "      <button class=\"colab-df-convert\" onclick=\"convertToInteractive('df-3e9159b3-06d8-4286-b1c7-919ce32b3452')\"\n",
              "              title=\"Convert this dataframe to an interactive table.\"\n",
              "              style=\"display:none;\">\n",
              "        \n",
              "  <svg xmlns=\"http://www.w3.org/2000/svg\" height=\"24px\"viewBox=\"0 0 24 24\"\n",
              "       width=\"24px\">\n",
              "    <path d=\"M0 0h24v24H0V0z\" fill=\"none\"/>\n",
              "    <path d=\"M18.56 5.44l.94 2.06.94-2.06 2.06-.94-2.06-.94-.94-2.06-.94 2.06-2.06.94zm-11 1L8.5 8.5l.94-2.06 2.06-.94-2.06-.94L8.5 2.5l-.94 2.06-2.06.94zm10 10l.94 2.06.94-2.06 2.06-.94-2.06-.94-.94-2.06-.94 2.06-2.06.94z\"/><path d=\"M17.41 7.96l-1.37-1.37c-.4-.4-.92-.59-1.43-.59-.52 0-1.04.2-1.43.59L10.3 9.45l-7.72 7.72c-.78.78-.78 2.05 0 2.83L4 21.41c.39.39.9.59 1.41.59.51 0 1.02-.2 1.41-.59l7.78-7.78 2.81-2.81c.8-.78.8-2.07 0-2.86zM5.41 20L4 18.59l7.72-7.72 1.47 1.35L5.41 20z\"/>\n",
              "  </svg>\n",
              "      </button>\n",
              "      \n",
              "  <style>\n",
              "    .colab-df-container {\n",
              "      display:flex;\n",
              "      flex-wrap:wrap;\n",
              "      gap: 12px;\n",
              "    }\n",
              "\n",
              "    .colab-df-convert {\n",
              "      background-color: #E8F0FE;\n",
              "      border: none;\n",
              "      border-radius: 50%;\n",
              "      cursor: pointer;\n",
              "      display: none;\n",
              "      fill: #1967D2;\n",
              "      height: 32px;\n",
              "      padding: 0 0 0 0;\n",
              "      width: 32px;\n",
              "    }\n",
              "\n",
              "    .colab-df-convert:hover {\n",
              "      background-color: #E2EBFA;\n",
              "      box-shadow: 0px 1px 2px rgba(60, 64, 67, 0.3), 0px 1px 3px 1px rgba(60, 64, 67, 0.15);\n",
              "      fill: #174EA6;\n",
              "    }\n",
              "\n",
              "    [theme=dark] .colab-df-convert {\n",
              "      background-color: #3B4455;\n",
              "      fill: #D2E3FC;\n",
              "    }\n",
              "\n",
              "    [theme=dark] .colab-df-convert:hover {\n",
              "      background-color: #434B5C;\n",
              "      box-shadow: 0px 1px 3px 1px rgba(0, 0, 0, 0.15);\n",
              "      filter: drop-shadow(0px 1px 2px rgba(0, 0, 0, 0.3));\n",
              "      fill: #FFFFFF;\n",
              "    }\n",
              "  </style>\n",
              "\n",
              "      <script>\n",
              "        const buttonEl =\n",
              "          document.querySelector('#df-3e9159b3-06d8-4286-b1c7-919ce32b3452 button.colab-df-convert');\n",
              "        buttonEl.style.display =\n",
              "          google.colab.kernel.accessAllowed ? 'block' : 'none';\n",
              "\n",
              "        async function convertToInteractive(key) {\n",
              "          const element = document.querySelector('#df-3e9159b3-06d8-4286-b1c7-919ce32b3452');\n",
              "          const dataTable =\n",
              "            await google.colab.kernel.invokeFunction('convertToInteractive',\n",
              "                                                     [key], {});\n",
              "          if (!dataTable) return;\n",
              "\n",
              "          const docLinkHtml = 'Like what you see? Visit the ' +\n",
              "            '<a target=\"_blank\" href=https://colab.research.google.com/notebooks/data_table.ipynb>data table notebook</a>'\n",
              "            + ' to learn more about interactive tables.';\n",
              "          element.innerHTML = '';\n",
              "          dataTable['output_type'] = 'display_data';\n",
              "          await google.colab.output.renderOutput(dataTable, element);\n",
              "          const docLink = document.createElement('div');\n",
              "          docLink.innerHTML = docLinkHtml;\n",
              "          element.appendChild(docLink);\n",
              "        }\n",
              "      </script>\n",
              "    </div>\n",
              "  </div>\n",
              "  "
            ]
          },
          "metadata": {},
          "execution_count": 18
        }
      ]
    },
    {
      "cell_type": "markdown",
      "source": [
        "**Creating a dataframe of tag dictionary with encodings**"
      ],
      "metadata": {
        "id": "8_M5Pv_ZHHOy"
      }
    },
    {
      "cell_type": "code",
      "source": [
        "tag_dictionary = [{'B-Archive': 0, 'B-CelestialObject': 1, 'B-CelestialObjectRegion': 2, 'B-CelestialRegion': 3, 'B-Citation': 4, 'B-Collaboration': 5, 'B-ComputingFacility': 6, 'B-Database': 7, 'B-Dataset': 8, 'B-EntityOfFutureInterest': 9, 'B-Event': 10, 'B-Fellowship': 11, 'B-Formula': 12, 'B-Grant': 13, 'B-Identifier': 14, 'B-Instrument': 15, 'B-Location': 16, 'B-Mission': 17, 'B-Model': 18, 'B-ObservationalTechniques': 19, 'B-Observatory': 20, 'B-Organization': 21, 'B-Person': 22, 'B-Proposal': 23, 'B-Software': 24, 'B-Survey': 25, 'B-Tag': 26, 'B-Telescope': 27, 'B-TextGarbage': 28, 'B-URL': 29, 'B-Wavelength': 30, 'I-Archive': 31, 'I-CelestialObject': 32, 'I-CelestialObjectRegion': 33, 'I-CelestialRegion': 34, 'I-Citation': 35, 'I-Collaboration': 36, 'I-ComputingFacility': 37, 'I-Database': 38, 'I-Dataset': 39, 'I-EntityOfFutureInterest': 40, 'I-Event': 41, 'I-Fellowship': 42, 'I-Formula': 43, 'I-Grant': 44, 'I-Identifier': 45, 'I-Instrument': 46, 'I-Location': 47, 'I-Mission': 48, 'I-Model': 49, 'I-ObservationalTechniques': 50, 'I-Observatory': 51, 'I-Organization': 52, 'I-Person': 53, 'I-Proposal': 54, 'I-Software': 55, 'I-Survey': 56, 'I-Tag': 57, 'I-Telescope': 58, 'I-TextGarbage': 59, 'I-URL': 60, 'I-Wavelength': 61, 'O': 62}]\n",
        "df_tag_dictionary = pd.DataFrame.from_dict(tag_dictionary)\n",
        "df_tag_dictionary.head(5)"
      ],
      "metadata": {
        "colab": {
          "base_uri": "https://localhost:8080/"
        },
        "outputId": "f123ef9a-8640-4a3b-c296-58b366faac6d",
        "id": "pF3u_EoHHHOy"
      },
      "execution_count": null,
      "outputs": [
        {
          "output_type": "execute_result",
          "data": {
            "text/plain": [
              "   B-Archive  B-CelestialObject  B-CelestialObjectRegion  B-CelestialRegion  \\\n",
              "0          0                  1                        2                  3   \n",
              "\n",
              "   B-Citation  B-Collaboration  B-ComputingFacility  B-Database  B-Dataset  \\\n",
              "0           4                5                    6           7          8   \n",
              "\n",
              "   B-EntityOfFutureInterest  ...  I-Person  I-Proposal  I-Software  I-Survey  \\\n",
              "0                         9  ...        53          54          55        56   \n",
              "\n",
              "   I-Tag  I-Telescope  I-TextGarbage  I-URL  I-Wavelength   O  \n",
              "0     57           58             59     60            61  62  \n",
              "\n",
              "[1 rows x 63 columns]"
            ],
            "text/html": [
              "\n",
              "  <div id=\"df-fcb4f865-3ab5-46b0-91d9-d2363aa59fd6\">\n",
              "    <div class=\"colab-df-container\">\n",
              "      <div>\n",
              "<style scoped>\n",
              "    .dataframe tbody tr th:only-of-type {\n",
              "        vertical-align: middle;\n",
              "    }\n",
              "\n",
              "    .dataframe tbody tr th {\n",
              "        vertical-align: top;\n",
              "    }\n",
              "\n",
              "    .dataframe thead th {\n",
              "        text-align: right;\n",
              "    }\n",
              "</style>\n",
              "<table border=\"1\" class=\"dataframe\">\n",
              "  <thead>\n",
              "    <tr style=\"text-align: right;\">\n",
              "      <th></th>\n",
              "      <th>B-Archive</th>\n",
              "      <th>B-CelestialObject</th>\n",
              "      <th>B-CelestialObjectRegion</th>\n",
              "      <th>B-CelestialRegion</th>\n",
              "      <th>B-Citation</th>\n",
              "      <th>B-Collaboration</th>\n",
              "      <th>B-ComputingFacility</th>\n",
              "      <th>B-Database</th>\n",
              "      <th>B-Dataset</th>\n",
              "      <th>B-EntityOfFutureInterest</th>\n",
              "      <th>...</th>\n",
              "      <th>I-Person</th>\n",
              "      <th>I-Proposal</th>\n",
              "      <th>I-Software</th>\n",
              "      <th>I-Survey</th>\n",
              "      <th>I-Tag</th>\n",
              "      <th>I-Telescope</th>\n",
              "      <th>I-TextGarbage</th>\n",
              "      <th>I-URL</th>\n",
              "      <th>I-Wavelength</th>\n",
              "      <th>O</th>\n",
              "    </tr>\n",
              "  </thead>\n",
              "  <tbody>\n",
              "    <tr>\n",
              "      <th>0</th>\n",
              "      <td>0</td>\n",
              "      <td>1</td>\n",
              "      <td>2</td>\n",
              "      <td>3</td>\n",
              "      <td>4</td>\n",
              "      <td>5</td>\n",
              "      <td>6</td>\n",
              "      <td>7</td>\n",
              "      <td>8</td>\n",
              "      <td>9</td>\n",
              "      <td>...</td>\n",
              "      <td>53</td>\n",
              "      <td>54</td>\n",
              "      <td>55</td>\n",
              "      <td>56</td>\n",
              "      <td>57</td>\n",
              "      <td>58</td>\n",
              "      <td>59</td>\n",
              "      <td>60</td>\n",
              "      <td>61</td>\n",
              "      <td>62</td>\n",
              "    </tr>\n",
              "  </tbody>\n",
              "</table>\n",
              "<p>1 rows × 63 columns</p>\n",
              "</div>\n",
              "      <button class=\"colab-df-convert\" onclick=\"convertToInteractive('df-fcb4f865-3ab5-46b0-91d9-d2363aa59fd6')\"\n",
              "              title=\"Convert this dataframe to an interactive table.\"\n",
              "              style=\"display:none;\">\n",
              "        \n",
              "  <svg xmlns=\"http://www.w3.org/2000/svg\" height=\"24px\"viewBox=\"0 0 24 24\"\n",
              "       width=\"24px\">\n",
              "    <path d=\"M0 0h24v24H0V0z\" fill=\"none\"/>\n",
              "    <path d=\"M18.56 5.44l.94 2.06.94-2.06 2.06-.94-2.06-.94-.94-2.06-.94 2.06-2.06.94zm-11 1L8.5 8.5l.94-2.06 2.06-.94-2.06-.94L8.5 2.5l-.94 2.06-2.06.94zm10 10l.94 2.06.94-2.06 2.06-.94-2.06-.94-.94-2.06-.94 2.06-2.06.94z\"/><path d=\"M17.41 7.96l-1.37-1.37c-.4-.4-.92-.59-1.43-.59-.52 0-1.04.2-1.43.59L10.3 9.45l-7.72 7.72c-.78.78-.78 2.05 0 2.83L4 21.41c.39.39.9.59 1.41.59.51 0 1.02-.2 1.41-.59l7.78-7.78 2.81-2.81c.8-.78.8-2.07 0-2.86zM5.41 20L4 18.59l7.72-7.72 1.47 1.35L5.41 20z\"/>\n",
              "  </svg>\n",
              "      </button>\n",
              "      \n",
              "  <style>\n",
              "    .colab-df-container {\n",
              "      display:flex;\n",
              "      flex-wrap:wrap;\n",
              "      gap: 12px;\n",
              "    }\n",
              "\n",
              "    .colab-df-convert {\n",
              "      background-color: #E8F0FE;\n",
              "      border: none;\n",
              "      border-radius: 50%;\n",
              "      cursor: pointer;\n",
              "      display: none;\n",
              "      fill: #1967D2;\n",
              "      height: 32px;\n",
              "      padding: 0 0 0 0;\n",
              "      width: 32px;\n",
              "    }\n",
              "\n",
              "    .colab-df-convert:hover {\n",
              "      background-color: #E2EBFA;\n",
              "      box-shadow: 0px 1px 2px rgba(60, 64, 67, 0.3), 0px 1px 3px 1px rgba(60, 64, 67, 0.15);\n",
              "      fill: #174EA6;\n",
              "    }\n",
              "\n",
              "    [theme=dark] .colab-df-convert {\n",
              "      background-color: #3B4455;\n",
              "      fill: #D2E3FC;\n",
              "    }\n",
              "\n",
              "    [theme=dark] .colab-df-convert:hover {\n",
              "      background-color: #434B5C;\n",
              "      box-shadow: 0px 1px 3px 1px rgba(0, 0, 0, 0.15);\n",
              "      filter: drop-shadow(0px 1px 2px rgba(0, 0, 0, 0.3));\n",
              "      fill: #FFFFFF;\n",
              "    }\n",
              "  </style>\n",
              "\n",
              "      <script>\n",
              "        const buttonEl =\n",
              "          document.querySelector('#df-fcb4f865-3ab5-46b0-91d9-d2363aa59fd6 button.colab-df-convert');\n",
              "        buttonEl.style.display =\n",
              "          google.colab.kernel.accessAllowed ? 'block' : 'none';\n",
              "\n",
              "        async function convertToInteractive(key) {\n",
              "          const element = document.querySelector('#df-fcb4f865-3ab5-46b0-91d9-d2363aa59fd6');\n",
              "          const dataTable =\n",
              "            await google.colab.kernel.invokeFunction('convertToInteractive',\n",
              "                                                     [key], {});\n",
              "          if (!dataTable) return;\n",
              "\n",
              "          const docLinkHtml = 'Like what you see? Visit the ' +\n",
              "            '<a target=\"_blank\" href=https://colab.research.google.com/notebooks/data_table.ipynb>data table notebook</a>'\n",
              "            + ' to learn more about interactive tables.';\n",
              "          element.innerHTML = '';\n",
              "          dataTable['output_type'] = 'display_data';\n",
              "          await google.colab.output.renderOutput(dataTable, element);\n",
              "          const docLink = document.createElement('div');\n",
              "          docLink.innerHTML = docLinkHtml;\n",
              "          element.appendChild(docLink);\n",
              "        }\n",
              "      </script>\n",
              "    </div>\n",
              "  </div>\n",
              "  "
            ]
          },
          "metadata": {},
          "execution_count": 19
        }
      ]
    },
    {
      "cell_type": "markdown",
      "source": [
        "***Here, we can see that the tags follow IOB2 convention where B- tag if the starting point for every chunk***"
      ],
      "metadata": {
        "id": "4-evF81qHHOy"
      }
    },
    {
      "cell_type": "markdown",
      "source": [
        "Reference: https://datascience.stackexchange.com/questions/37824/difference-between-iob-and-iob2-format"
      ],
      "metadata": {
        "id": "6r73tyMlHHOy"
      }
    },
    {
      "cell_type": "markdown",
      "source": [
        "### Let's explore the data :"
      ],
      "metadata": {
        "id": "DzsuC_bQHQIE"
      }
    },
    {
      "cell_type": "markdown",
      "source": [
        "**Checking the the number of B-,I- and O tags in the tags dataset**"
      ],
      "metadata": {
        "id": "dlY8p3_9HQIE"
      }
    },
    {
      "cell_type": "code",
      "source": [
        "b_tags=0\n",
        "I_tags=0\n",
        "o_tags=0\n",
        "for i in tag_dict.keys():\n",
        "  if(i.split('-')[0]=='B'):\n",
        "    b_tags+=1\n",
        "  elif(i.split('-')[0]=='I'):\n",
        "    I_tags+=1\n",
        "  else:\n",
        "    o_tags+=1\n"
      ],
      "metadata": {
        "id": "8bI3AwBoHQIF"
      },
      "execution_count": null,
      "outputs": []
    },
    {
      "cell_type": "code",
      "source": [
        "print(f'The number of b_tags, i_tags and o-tags are {b_tags},{I_tags},{o_tags}')"
      ],
      "metadata": {
        "colab": {
          "base_uri": "https://localhost:8080/"
        },
        "outputId": "df0a45fa-bfd4-4ba6-9922-548d2efcd5f7",
        "id": "l61IOc4fHQIF"
      },
      "execution_count": null,
      "outputs": [
        {
          "output_type": "stream",
          "name": "stdout",
          "text": [
            "The number of b_tags, i_tags and o-tags are 31,31,1\n"
          ]
        }
      ]
    },
    {
      "cell_type": "markdown",
      "source": [
        "**Checking the distribution of tags in the training dataset**"
      ],
      "metadata": {
        "id": "bHx65WFrHQIF"
      }
    },
    {
      "cell_type": "code",
      "source": [
        "\n",
        "no_of_o_tags=0\n",
        "no_of_b_tags=0\n",
        "no_of_i_tags=0\n",
        "o_per_sentence=[]\n",
        "b_per_sentence=[]\n",
        "i_per_sentence=[]\n",
        "\n",
        "for l in range(len(df_training_after_dropping.ner_tags)):\n",
        "  tag_list=df_training_after_dropping.ner_tags[l]\n",
        "  per_sentence_o=0\n",
        "  per_sentence_b=0\n",
        "  per_sentence_i=0\n",
        "  for t in tag_list:\n",
        "    if t=='O':\n",
        "      per_sentence_o+=1\n",
        "      no_of_o_tags+=1\n",
        "    elif t.split(\"-\")[0]=='B':\n",
        "      per_sentence_b+=1\n",
        "      no_of_b_tags+=1\n",
        "    else:\n",
        "      per_sentence_i+=1\n",
        "      no_of_i_tags+=1\n",
        "  \n",
        "  o_per_sentence.append(per_sentence_o)\n",
        "  b_per_sentence.append(per_sentence_b)\n",
        "  i_per_sentence.append(per_sentence_i)"
      ],
      "metadata": {
        "id": "hdq9rELjHQIF"
      },
      "execution_count": null,
      "outputs": []
    },
    {
      "cell_type": "markdown",
      "source": [
        "**Plotting average number of o tags,b tags , i tags in each sentence**"
      ],
      "metadata": {
        "id": "TqZ1N6BMHQIF"
      }
    },
    {
      "cell_type": "code",
      "source": [
        "plt.bar(['av O tags','av B tags','av I tags'],[int(np.mean(o_per_sentence)),int(np.mean(b_per_sentence)),int(np.mean(i_per_sentence))],color='maroon')\n",
        "plt.title('Average number of tags present in each sentence of the training dataset')"
      ],
      "metadata": {
        "colab": {
          "base_uri": "https://localhost:8080/",
          "height": 298
        },
        "outputId": "cba5b20e-5de1-4a86-c1cd-32d703d0799e",
        "id": "RzBNSQaRHQIF"
      },
      "execution_count": null,
      "outputs": [
        {
          "output_type": "execute_result",
          "data": {
            "text/plain": [
              "Text(0.5, 1.0, 'Average number of tags present in each sentence of the training dataset')"
            ]
          },
          "metadata": {},
          "execution_count": 23
        },
        {
          "output_type": "display_data",
          "data": {
            "text/plain": [
              "<Figure size 432x288 with 1 Axes>"
            ],
            "image/png": "[encoded data removed]"
          },
          "metadata": {
            "needs_background": "light"
          }
        }
      ]
    },
    {
      "cell_type": "markdown",
      "source": [
        "**We have a highly imbalanced dataset because in each sentence, the number of O tags is relatively large as compared to B and I tags**"
      ],
      "metadata": {
        "id": "yakXLo35HQIF"
      }
    },
    {
      "cell_type": "markdown",
      "source": [
        "**We will use proper accuracy metrics for this imbalanced dataset**"
      ],
      "metadata": {
        "id": "4jE_D4nhHQIF"
      }
    },
    {
      "cell_type": "code",
      "source": [
        "df_training_after_dropping.head()"
      ],
      "metadata": {
        "colab": {
          "base_uri": "https://localhost:8080/",
          "height": 337
        },
        "outputId": "8abfbc2f-51b6-4a8c-c54a-f341308e1de2",
        "id": "z2FXww54HQIG"
      },
      "execution_count": null,
      "outputs": [
        {
          "output_type": "execute_result",
          "data": {
            "text/plain": [
              "                                             ner_ids  \\\n",
              "0  [62, 62, 62, 62, 62, 62, 62, 15, 62, 62, 62, 6...   \n",
              "1  [62, 62, 62, 62, 62, 62, 62, 62, 62, 62, 62, 6...   \n",
              "2  [62, 62, 62, 62, 62, 62, 62, 62, 62, 62, 62, 6...   \n",
              "3  [22, 62, 62, 62, 62, 21, 13, 44, 44, 21, 62, 1...   \n",
              "4  [62, 62, 62, 22, 53, 22, 53, 22, 53, 22, 53, 2...   \n",
              "\n",
              "                                            ner_tags  \\\n",
              "0  [O, O, O, O, O, O, O, B-Instrument, O, O, O, O...   \n",
              "1  [O, O, O, O, O, O, O, O, O, O, O, O, O, O, O, ...   \n",
              "2  [O, O, O, O, O, O, O, O, O, O, O, O, O, O, O, ...   \n",
              "3  [B-Person, O, O, O, O, B-Organization, B-Grant...   \n",
              "4  [O, O, O, B-Person, I-Person, B-Person, I-Pers...   \n",
              "\n",
              "                                              tokens  \\\n",
              "0  [Whilst, a, reasonable, harmonic, fit, to, the...   \n",
              "1  [comparison, once, the, angular, positions, of...   \n",
              "2  [ACKNOWLEDGEMENTS, The, authors, thank, an, an...   \n",
              "3  [BDM, gratefully, acknowledges, support, from,...   \n",
              "4  [ACKNOWLEDGEMENTS, We, thank, Dougal, Mackey,,...   \n",
              "\n",
              "                                  unique_id  \n",
              "0          fulltext_487_2019MNRAS.486.5558S  \n",
              "1         fulltext_1129_2018MNRAS.478.5533F  \n",
              "2  acknowledgments_1086_2018MNRAS.480.3062L  \n",
              "3  acknowledgments_1135_2016MNRAS.457.1786M  \n",
              "4   acknowledgments_559_2019MNRAS.482L...9B  "
            ],
            "text/html": [
              "\n",
              "  <div id=\"df-fc03b27e-ecc0-497f-ad3e-122694da3cb7\">\n",
              "    <div class=\"colab-df-container\">\n",
              "      <div>\n",
              "<style scoped>\n",
              "    .dataframe tbody tr th:only-of-type {\n",
              "        vertical-align: middle;\n",
              "    }\n",
              "\n",
              "    .dataframe tbody tr th {\n",
              "        vertical-align: top;\n",
              "    }\n",
              "\n",
              "    .dataframe thead th {\n",
              "        text-align: right;\n",
              "    }\n",
              "</style>\n",
              "<table border=\"1\" class=\"dataframe\">\n",
              "  <thead>\n",
              "    <tr style=\"text-align: right;\">\n",
              "      <th></th>\n",
              "      <th>ner_ids</th>\n",
              "      <th>ner_tags</th>\n",
              "      <th>tokens</th>\n",
              "      <th>unique_id</th>\n",
              "    </tr>\n",
              "  </thead>\n",
              "  <tbody>\n",
              "    <tr>\n",
              "      <th>0</th>\n",
              "      <td>[62, 62, 62, 62, 62, 62, 62, 15, 62, 62, 62, 6...</td>\n",
              "      <td>[O, O, O, O, O, O, O, B-Instrument, O, O, O, O...</td>\n",
              "      <td>[Whilst, a, reasonable, harmonic, fit, to, the...</td>\n",
              "      <td>fulltext_487_2019MNRAS.486.5558S</td>\n",
              "    </tr>\n",
              "    <tr>\n",
              "      <th>1</th>\n",
              "      <td>[62, 62, 62, 62, 62, 62, 62, 62, 62, 62, 62, 6...</td>\n",
              "      <td>[O, O, O, O, O, O, O, O, O, O, O, O, O, O, O, ...</td>\n",
              "      <td>[comparison, once, the, angular, positions, of...</td>\n",
              "      <td>fulltext_1129_2018MNRAS.478.5533F</td>\n",
              "    </tr>\n",
              "    <tr>\n",
              "      <th>2</th>\n",
              "      <td>[62, 62, 62, 62, 62, 62, 62, 62, 62, 62, 62, 6...</td>\n",
              "      <td>[O, O, O, O, O, O, O, O, O, O, O, O, O, O, O, ...</td>\n",
              "      <td>[ACKNOWLEDGEMENTS, The, authors, thank, an, an...</td>\n",
              "      <td>acknowledgments_1086_2018MNRAS.480.3062L</td>\n",
              "    </tr>\n",
              "    <tr>\n",
              "      <th>3</th>\n",
              "      <td>[22, 62, 62, 62, 62, 21, 13, 44, 44, 21, 62, 1...</td>\n",
              "      <td>[B-Person, O, O, O, O, B-Organization, B-Grant...</td>\n",
              "      <td>[BDM, gratefully, acknowledges, support, from,...</td>\n",
              "      <td>acknowledgments_1135_2016MNRAS.457.1786M</td>\n",
              "    </tr>\n",
              "    <tr>\n",
              "      <th>4</th>\n",
              "      <td>[62, 62, 62, 22, 53, 22, 53, 22, 53, 22, 53, 2...</td>\n",
              "      <td>[O, O, O, B-Person, I-Person, B-Person, I-Pers...</td>\n",
              "      <td>[ACKNOWLEDGEMENTS, We, thank, Dougal, Mackey,,...</td>\n",
              "      <td>acknowledgments_559_2019MNRAS.482L...9B</td>\n",
              "    </tr>\n",
              "  </tbody>\n",
              "</table>\n",
              "</div>\n",
              "      <button class=\"colab-df-convert\" onclick=\"convertToInteractive('df-fc03b27e-ecc0-497f-ad3e-122694da3cb7')\"\n",
              "              title=\"Convert this dataframe to an interactive table.\"\n",
              "              style=\"display:none;\">\n",
              "        \n",
              "  <svg xmlns=\"http://www.w3.org/2000/svg\" height=\"24px\"viewBox=\"0 0 24 24\"\n",
              "       width=\"24px\">\n",
              "    <path d=\"M0 0h24v24H0V0z\" fill=\"none\"/>\n",
              "    <path d=\"M18.56 5.44l.94 2.06.94-2.06 2.06-.94-2.06-.94-.94-2.06-.94 2.06-2.06.94zm-11 1L8.5 8.5l.94-2.06 2.06-.94-2.06-.94L8.5 2.5l-.94 2.06-2.06.94zm10 10l.94 2.06.94-2.06 2.06-.94-2.06-.94-.94-2.06-.94 2.06-2.06.94z\"/><path d=\"M17.41 7.96l-1.37-1.37c-.4-.4-.92-.59-1.43-.59-.52 0-1.04.2-1.43.59L10.3 9.45l-7.72 7.72c-.78.78-.78 2.05 0 2.83L4 21.41c.39.39.9.59 1.41.59.51 0 1.02-.2 1.41-.59l7.78-7.78 2.81-2.81c.8-.78.8-2.07 0-2.86zM5.41 20L4 18.59l7.72-7.72 1.47 1.35L5.41 20z\"/>\n",
              "  </svg>\n",
              "      </button>\n",
              "      \n",
              "  <style>\n",
              "    .colab-df-container {\n",
              "      display:flex;\n",
              "      flex-wrap:wrap;\n",
              "      gap: 12px;\n",
              "    }\n",
              "\n",
              "    .colab-df-convert {\n",
              "      background-color: #E8F0FE;\n",
              "      border: none;\n",
              "      border-radius: 50%;\n",
              "      cursor: pointer;\n",
              "      display: none;\n",
              "      fill: #1967D2;\n",
              "      height: 32px;\n",
              "      padding: 0 0 0 0;\n",
              "      width: 32px;\n",
              "    }\n",
              "\n",
              "    .colab-df-convert:hover {\n",
              "      background-color: #E2EBFA;\n",
              "      box-shadow: 0px 1px 2px rgba(60, 64, 67, 0.3), 0px 1px 3px 1px rgba(60, 64, 67, 0.15);\n",
              "      fill: #174EA6;\n",
              "    }\n",
              "\n",
              "    [theme=dark] .colab-df-convert {\n",
              "      background-color: #3B4455;\n",
              "      fill: #D2E3FC;\n",
              "    }\n",
              "\n",
              "    [theme=dark] .colab-df-convert:hover {\n",
              "      background-color: #434B5C;\n",
              "      box-shadow: 0px 1px 3px 1px rgba(0, 0, 0, 0.15);\n",
              "      filter: drop-shadow(0px 1px 2px rgba(0, 0, 0, 0.3));\n",
              "      fill: #FFFFFF;\n",
              "    }\n",
              "  </style>\n",
              "\n",
              "      <script>\n",
              "        const buttonEl =\n",
              "          document.querySelector('#df-fc03b27e-ecc0-497f-ad3e-122694da3cb7 button.colab-df-convert');\n",
              "        buttonEl.style.display =\n",
              "          google.colab.kernel.accessAllowed ? 'block' : 'none';\n",
              "\n",
              "        async function convertToInteractive(key) {\n",
              "          const element = document.querySelector('#df-fc03b27e-ecc0-497f-ad3e-122694da3cb7');\n",
              "          const dataTable =\n",
              "            await google.colab.kernel.invokeFunction('convertToInteractive',\n",
              "                                                     [key], {});\n",
              "          if (!dataTable) return;\n",
              "\n",
              "          const docLinkHtml = 'Like what you see? Visit the ' +\n",
              "            '<a target=\"_blank\" href=https://colab.research.google.com/notebooks/data_table.ipynb>data table notebook</a>'\n",
              "            + ' to learn more about interactive tables.';\n",
              "          element.innerHTML = '';\n",
              "          dataTable['output_type'] = 'display_data';\n",
              "          await google.colab.output.renderOutput(dataTable, element);\n",
              "          const docLink = document.createElement('div');\n",
              "          docLink.innerHTML = docLinkHtml;\n",
              "          element.appendChild(docLink);\n",
              "        }\n",
              "      </script>\n",
              "    </div>\n",
              "  </div>\n",
              "  "
            ]
          },
          "metadata": {},
          "execution_count": 24
        }
      ]
    },
    {
      "cell_type": "markdown",
      "source": [
        "**Investigating the frequency of different ner tags in the dataset**"
      ],
      "metadata": {
        "id": "Q2spC7OLHQIG"
      }
    },
    {
      "cell_type": "code",
      "source": [
        "dict_tags_ner={}\n",
        "\n",
        "for row in df_training_after_dropping.ner_tags:\n",
        "  for item in row:\n",
        "    if item not in dict_tags_ner.keys():\n",
        "      dict_tags_ner[item]=1\n",
        "    else:\n",
        "      dict_tags_ner[item]+=1"
      ],
      "metadata": {
        "id": "V5WdPpgkHQIG"
      },
      "execution_count": null,
      "outputs": []
    },
    {
      "cell_type": "code",
      "source": [
        "dict_tags_ner"
      ],
      "metadata": {
        "colab": {
          "base_uri": "https://localhost:8080/"
        },
        "outputId": "c047141e-8b06-44fa-dd70-ea354e787edb",
        "id": "M99ngLAcHQIG"
      },
      "execution_count": null,
      "outputs": [
        {
          "output_type": "execute_result",
          "data": {
            "text/plain": [
              "{'O': 472307,\n",
              " 'B-Instrument': 714,\n",
              " 'B-Mission': 110,\n",
              " 'B-Citation': 6360,\n",
              " 'I-Citation': 18402,\n",
              " 'B-Telescope': 1573,\n",
              " 'B-Wavelength': 3384,\n",
              " 'I-Wavelength': 1583,\n",
              " 'B-Model': 1800,\n",
              " 'I-Model': 1244,\n",
              " 'B-Software': 1017,\n",
              " 'I-Software': 472,\n",
              " 'B-Formula': 2088,\n",
              " 'I-Formula': 8433,\n",
              " 'B-Person': 3916,\n",
              " 'B-Organization': 7448,\n",
              " 'I-Organization': 14211,\n",
              " 'B-Fellowship': 411,\n",
              " 'I-Fellowship': 1015,\n",
              " 'B-Grant': 3478,\n",
              " 'I-Grant': 4080,\n",
              " 'I-Person': 2206,\n",
              " 'B-Location': 1404,\n",
              " 'I-Location': 467,\n",
              " 'B-Event': 45,\n",
              " 'I-Event': 176,\n",
              " 'B-URL': 294,\n",
              " 'B-Collaboration': 306,\n",
              " 'I-Collaboration': 598,\n",
              " 'B-CelestialObject': 2940,\n",
              " 'I-CelestialObject': 1691,\n",
              " 'B-Dataset': 328,\n",
              " 'I-Dataset': 368,\n",
              " 'B-CelestialObjectRegion': 265,\n",
              " 'I-CelestialObjectRegion': 223,\n",
              " 'B-TextGarbage': 52,\n",
              " 'I-TextGarbage': 54,\n",
              " 'B-Survey': 885,\n",
              " 'B-ObservationalTechniques': 124,\n",
              " 'I-ObservationalTechniques': 74,\n",
              " 'B-ComputingFacility': 399,\n",
              " 'I-ComputingFacility': 809,\n",
              " 'I-Survey': 573,\n",
              " 'I-Telescope': 607,\n",
              " 'B-Observatory': 873,\n",
              " 'B-CelestialRegion': 158,\n",
              " 'I-CelestialRegion': 240,\n",
              " 'B-Archive': 192,\n",
              " 'I-Archive': 466,\n",
              " 'B-Proposal': 100,\n",
              " 'I-Observatory': 1035,\n",
              " 'B-Database': 256,\n",
              " 'I-Database': 259,\n",
              " 'B-Tag': 66,\n",
              " 'B-Identifier': 112,\n",
              " 'I-Identifier': 31,\n",
              " 'I-Mission': 27,\n",
              " 'I-URL': 12,\n",
              " 'I-Tag': 54,\n",
              " 'I-Proposal': 100,\n",
              " 'I-Instrument': 140,\n",
              " 'B-EntityOfFutureInterest': 61,\n",
              " 'I-EntityOfFutureInterest': 16}"
            ]
          },
          "metadata": {},
          "execution_count": 26
        }
      ]
    },
    {
      "cell_type": "code",
      "source": [
        "dict_tags_ner_without_o=dict_tags_ner.copy()"
      ],
      "metadata": {
        "id": "xB4fvpnqHQIG"
      },
      "execution_count": null,
      "outputs": []
    },
    {
      "cell_type": "code",
      "source": [
        "del dict_tags_ner_without_o['O']"
      ],
      "metadata": {
        "id": "zxtjyFmdHQIG"
      },
      "execution_count": null,
      "outputs": []
    },
    {
      "cell_type": "code",
      "source": [
        "dict_tags_ner_without_o={k: v for k, v in sorted(dict_tags_ner_without_o.items(), key=lambda item: item[1],reverse=True)}"
      ],
      "metadata": {
        "id": "lGqDUb1mHQIG"
      },
      "execution_count": null,
      "outputs": []
    },
    {
      "cell_type": "code",
      "source": [
        "# We want to see the frequency of different tags present in our training set\n",
        "plt.subplots(1,1,figsize=(40,20))\n",
        "plt.bar(dict_tags_ner_without_o.keys(), dict_tags_ner_without_o.values(),color=\"maroon\")\n",
        "plt.xticks(rotation = 50)\n",
        "plt.title('Frequency of tags present in the training set',fontsize=20)"
      ],
      "metadata": {
        "colab": {
          "base_uri": "https://localhost:8080/",
          "height": 709
        },
        "outputId": "1bd70ff3-536d-423b-ae81-8d7ec218f38c",
        "id": "cledf0JAHQIG"
      },
      "execution_count": null,
      "outputs": [
        {
          "output_type": "execute_result",
          "data": {
            "text/plain": [
              "Text(0.5, 1.0, 'Frequency of tags present in the training set')"
            ]
          },
          "metadata": {},
          "execution_count": 30
        },
        {
          "output_type": "display_data",
          "data": {
            "text/plain": [
              "<Figure size 2880x1440 with 1 Axes>"
            ],
            "image/png": "[encoded data removed]"
          },
          "metadata": {
            "needs_background": "light"
          }
        }
      ]
    },
    {
      "cell_type": "markdown",
      "source": [
        "**Creating a vocabulary out of the tokens in the training dataset**"
      ],
      "metadata": {
        "id": "r-1y4q3jHQIG"
      }
    },
    {
      "cell_type": "code",
      "source": [
        "vocabulary=[]\n",
        "\n",
        "for row in df_training_after_dropping.tokens:\n",
        "  for i in row:\n",
        "    vocabulary.append(i.lower())\n",
        "\n"
      ],
      "metadata": {
        "id": "UWdH4bBKHQIG"
      },
      "execution_count": null,
      "outputs": []
    },
    {
      "cell_type": "code",
      "source": [
        "len(vocabulary)"
      ],
      "metadata": {
        "colab": {
          "base_uri": "https://localhost:8080/"
        },
        "outputId": "479d8458-2ff8-4bc8-d6a2-37e9ef1e6228",
        "id": "p67z2qACHQIH"
      },
      "execution_count": null,
      "outputs": [
        {
          "output_type": "execute_result",
          "data": {
            "text/plain": [
              "573132"
            ]
          },
          "metadata": {},
          "execution_count": 32
        }
      ]
    },
    {
      "cell_type": "code",
      "source": [
        "unique_vocab=list(set(vocabulary))"
      ],
      "metadata": {
        "id": "7qf5NEXBHQIH"
      },
      "execution_count": null,
      "outputs": []
    },
    {
      "cell_type": "code",
      "source": [
        "len(unique_vocab)"
      ],
      "metadata": {
        "colab": {
          "base_uri": "https://localhost:8080/"
        },
        "outputId": "b8e33899-71f3-4219-f48d-76b069cddf60",
        "id": "TRAhverNHQIH"
      },
      "execution_count": null,
      "outputs": [
        {
          "output_type": "execute_result",
          "data": {
            "text/plain": [
              "45753"
            ]
          },
          "metadata": {},
          "execution_count": 34
        }
      ]
    },
    {
      "cell_type": "code",
      "source": [
        "appended_unique_vocab=unique_vocab.copy()"
      ],
      "metadata": {
        "id": "7h7h_8WtHQIH"
      },
      "execution_count": null,
      "outputs": []
    },
    {
      "cell_type": "code",
      "source": [
        "appended_unique_vocab.append(\"endpad\")"
      ],
      "metadata": {
        "id": "WL-QKz_5HQIH"
      },
      "execution_count": null,
      "outputs": []
    },
    {
      "cell_type": "code",
      "source": [
        "len(appended_unique_vocab)"
      ],
      "metadata": {
        "colab": {
          "base_uri": "https://localhost:8080/"
        },
        "outputId": "a803aaeb-8994-49d4-e4e3-2a023f9e3098",
        "id": "rdtExangHQIH"
      },
      "execution_count": null,
      "outputs": [
        {
          "output_type": "execute_result",
          "data": {
            "text/plain": [
              "45754"
            ]
          },
          "metadata": {},
          "execution_count": 37
        }
      ]
    },
    {
      "cell_type": "markdown",
      "source": [
        "**Our vocab contains 45753 unique words**"
      ],
      "metadata": {
        "id": "8_cUYhjeHQIH"
      }
    },
    {
      "cell_type": "code",
      "source": [
        "# Creating a lookup dictionary to convert from index to word and word to index\n",
        "idx2token = {(idx+2):token for  idx, token in enumerate(unique_vocab)}\n",
        "token2idx = {token:(idx+2) for  idx, token in enumerate(unique_vocab)}"
      ],
      "metadata": {
        "id": "GxUZxUusHQIH"
      },
      "execution_count": null,
      "outputs": []
    },
    {
      "cell_type": "markdown",
      "source": [
        "**Creating tokenizers to convert into numerical representation**"
      ],
      "metadata": {
        "id": "0arIcrgSHQIH"
      }
    },
    {
      "cell_type": "code",
      "source": [
        "# Since the tokens are strings,we will convert each row in the tokens column of our dataset into sequences of numbers\n",
        "Tokenizer_for_tokens = tf.keras.preprocessing.text.Tokenizer(num_words=len(unique_vocab),filters= None,lower=True,char_level=False,oov_token=None)"
      ],
      "metadata": {
        "id": "mywBZyESHQII"
      },
      "execution_count": null,
      "outputs": []
    },
    {
      "cell_type": "code",
      "source": [
        "Tokenizer_for_tokens.fit_on_texts(df_training_after_dropping.tokens)"
      ],
      "metadata": {
        "id": "0duxMzJuHQII"
      },
      "execution_count": null,
      "outputs": []
    },
    {
      "cell_type": "code",
      "source": [
        "# Since the ner_tags are strings,we will convert each row in the ner_tags column of our dataset into sequences of numbers\n",
        "Tokenizer_for_tags = tf.keras.preprocessing.text.Tokenizer(num_words=len(dict_tags_ner),filters= None,lower=True,char_level=False,oov_token=None)"
      ],
      "metadata": {
        "id": "LZQ1Uai7HQII"
      },
      "execution_count": null,
      "outputs": []
    },
    {
      "cell_type": "code",
      "source": [
        "Tokenizer_for_tags.fit_on_texts(df_training_after_dropping.ner_tags)"
      ],
      "metadata": {
        "id": "NkZdTvZIHQII"
      },
      "execution_count": null,
      "outputs": []
    },
    {
      "cell_type": "code",
      "source": [
        "token_sequences = Tokenizer_for_tokens.texts_to_sequences(df_training_after_dropping.tokens)\n",
        "ner_tag_seqeunces = Tokenizer_for_tags.texts_to_sequences(df_training_after_dropping.ner_tags)\n"
      ],
      "metadata": {
        "id": "a9KNDyLvHQII"
      },
      "execution_count": null,
      "outputs": []
    },
    {
      "cell_type": "markdown",
      "source": [
        "**We will choose the max length of sequences which we want to pass into our model and that will be the average length of all lengths in our training dataset**"
      ],
      "metadata": {
        "id": "iar9T2ZYHQII"
      }
    },
    {
      "cell_type": "markdown",
      "source": [
        "**Finding maximum length first**"
      ],
      "metadata": {
        "id": "olUMcR8iHQII"
      }
    },
    {
      "cell_type": "code",
      "source": [
        "maxlength=df_training_after_dropping['tokens'].str.len().agg(['max'])"
      ],
      "metadata": {
        "id": "oVrf0eVxHQII"
      },
      "execution_count": null,
      "outputs": []
    },
    {
      "cell_type": "markdown",
      "source": [
        "**Let's keep the maxlen while padding equal to 400 which is approximately half the maxlength**"
      ],
      "metadata": {
        "id": "uU6LnOKGHQII"
      }
    },
    {
      "cell_type": "code",
      "source": [
        "padding_token = tf.keras.preprocessing.sequence.pad_sequences(token_sequences, maxlen=400, padding='post', truncating='post').reshape(-1,400)\n",
        "padding_ner= tf.keras.preprocessing.sequence.pad_sequences(ner_tag_seqeunces, maxlen=400, padding='post', truncating='post').reshape(-1,400)"
      ],
      "metadata": {
        "id": "7nxmyJUlHQII"
      },
      "execution_count": null,
      "outputs": []
    },
    {
      "cell_type": "code",
      "source": [
        "x_train,x_test,y_train,y_test=train_test_split(padding_token,padding_ner,test_size=0.3,random_state=42)"
      ],
      "metadata": {
        "id": "0CbxpVhjHQIJ"
      },
      "execution_count": null,
      "outputs": []
    },
    {
      "cell_type": "code",
      "source": [
        "x_train.shape"
      ],
      "metadata": {
        "colab": {
          "base_uri": "https://localhost:8080/"
        },
        "outputId": "9a364ec2-0411-4e85-aa84-75d560b9b50e",
        "id": "uWEAsPJpHQIJ"
      },
      "execution_count": null,
      "outputs": [
        {
          "output_type": "execute_result",
          "data": {
            "text/plain": [
              "(1227, 400)"
            ]
          },
          "metadata": {},
          "execution_count": 47
        }
      ]
    },
    {
      "cell_type": "code",
      "source": [
        "df_training_after_dropping.head()"
      ],
      "metadata": {
        "colab": {
          "base_uri": "https://localhost:8080/",
          "height": 337
        },
        "id": "AN7hUx0E4bVM",
        "outputId": "bd7bf402-6b7d-4a6e-fe98-5b306eb1a9c1"
      },
      "execution_count": null,
      "outputs": [
        {
          "output_type": "execute_result",
          "data": {
            "text/plain": [
              "                                             ner_ids  \\\n",
              "0  [62, 62, 62, 62, 62, 62, 62, 15, 62, 62, 62, 6...   \n",
              "1  [62, 62, 62, 62, 62, 62, 62, 62, 62, 62, 62, 6...   \n",
              "2  [62, 62, 62, 62, 62, 62, 62, 62, 62, 62, 62, 6...   \n",
              "3  [22, 62, 62, 62, 62, 21, 13, 44, 44, 21, 62, 1...   \n",
              "4  [62, 62, 62, 22, 53, 22, 53, 22, 53, 22, 53, 2...   \n",
              "\n",
              "                                            ner_tags  \\\n",
              "0  [O, O, O, O, O, O, O, B-Instrument, O, O, O, O...   \n",
              "1  [O, O, O, O, O, O, O, O, O, O, O, O, O, O, O, ...   \n",
              "2  [O, O, O, O, O, O, O, O, O, O, O, O, O, O, O, ...   \n",
              "3  [B-Person, O, O, O, O, B-Organization, B-Grant...   \n",
              "4  [O, O, O, B-Person, I-Person, B-Person, I-Pers...   \n",
              "\n",
              "                                              tokens  \\\n",
              "0  [Whilst, a, reasonable, harmonic, fit, to, the...   \n",
              "1  [comparison, once, the, angular, positions, of...   \n",
              "2  [ACKNOWLEDGEMENTS, The, authors, thank, an, an...   \n",
              "3  [BDM, gratefully, acknowledges, support, from,...   \n",
              "4  [ACKNOWLEDGEMENTS, We, thank, Dougal, Mackey,,...   \n",
              "\n",
              "                                  unique_id  \n",
              "0          fulltext_487_2019MNRAS.486.5558S  \n",
              "1         fulltext_1129_2018MNRAS.478.5533F  \n",
              "2  acknowledgments_1086_2018MNRAS.480.3062L  \n",
              "3  acknowledgments_1135_2016MNRAS.457.1786M  \n",
              "4   acknowledgments_559_2019MNRAS.482L...9B  "
            ],
            "text/html": [
              "\n",
              "  <div id=\"df-25ce22e0-f9bc-42b4-93ae-e1fc59fa8c5d\">\n",
              "    <div class=\"colab-df-container\">\n",
              "      <div>\n",
              "<style scoped>\n",
              "    .dataframe tbody tr th:only-of-type {\n",
              "        vertical-align: middle;\n",
              "    }\n",
              "\n",
              "    .dataframe tbody tr th {\n",
              "        vertical-align: top;\n",
              "    }\n",
              "\n",
              "    .dataframe thead th {\n",
              "        text-align: right;\n",
              "    }\n",
              "</style>\n",
              "<table border=\"1\" class=\"dataframe\">\n",
              "  <thead>\n",
              "    <tr style=\"text-align: right;\">\n",
              "      <th></th>\n",
              "      <th>ner_ids</th>\n",
              "      <th>ner_tags</th>\n",
              "      <th>tokens</th>\n",
              "      <th>unique_id</th>\n",
              "    </tr>\n",
              "  </thead>\n",
              "  <tbody>\n",
              "    <tr>\n",
              "      <th>0</th>\n",
              "      <td>[62, 62, 62, 62, 62, 62, 62, 15, 62, 62, 62, 6...</td>\n",
              "      <td>[O, O, O, O, O, O, O, B-Instrument, O, O, O, O...</td>\n",
              "      <td>[Whilst, a, reasonable, harmonic, fit, to, the...</td>\n",
              "      <td>fulltext_487_2019MNRAS.486.5558S</td>\n",
              "    </tr>\n",
              "    <tr>\n",
              "      <th>1</th>\n",
              "      <td>[62, 62, 62, 62, 62, 62, 62, 62, 62, 62, 62, 6...</td>\n",
              "      <td>[O, O, O, O, O, O, O, O, O, O, O, O, O, O, O, ...</td>\n",
              "      <td>[comparison, once, the, angular, positions, of...</td>\n",
              "      <td>fulltext_1129_2018MNRAS.478.5533F</td>\n",
              "    </tr>\n",
              "    <tr>\n",
              "      <th>2</th>\n",
              "      <td>[62, 62, 62, 62, 62, 62, 62, 62, 62, 62, 62, 6...</td>\n",
              "      <td>[O, O, O, O, O, O, O, O, O, O, O, O, O, O, O, ...</td>\n",
              "      <td>[ACKNOWLEDGEMENTS, The, authors, thank, an, an...</td>\n",
              "      <td>acknowledgments_1086_2018MNRAS.480.3062L</td>\n",
              "    </tr>\n",
              "    <tr>\n",
              "      <th>3</th>\n",
              "      <td>[22, 62, 62, 62, 62, 21, 13, 44, 44, 21, 62, 1...</td>\n",
              "      <td>[B-Person, O, O, O, O, B-Organization, B-Grant...</td>\n",
              "      <td>[BDM, gratefully, acknowledges, support, from,...</td>\n",
              "      <td>acknowledgments_1135_2016MNRAS.457.1786M</td>\n",
              "    </tr>\n",
              "    <tr>\n",
              "      <th>4</th>\n",
              "      <td>[62, 62, 62, 22, 53, 22, 53, 22, 53, 22, 53, 2...</td>\n",
              "      <td>[O, O, O, B-Person, I-Person, B-Person, I-Pers...</td>\n",
              "      <td>[ACKNOWLEDGEMENTS, We, thank, Dougal, Mackey,,...</td>\n",
              "      <td>acknowledgments_559_2019MNRAS.482L...9B</td>\n",
              "    </tr>\n",
              "  </tbody>\n",
              "</table>\n",
              "</div>\n",
              "      <button class=\"colab-df-convert\" onclick=\"convertToInteractive('df-25ce22e0-f9bc-42b4-93ae-e1fc59fa8c5d')\"\n",
              "              title=\"Convert this dataframe to an interactive table.\"\n",
              "              style=\"display:none;\">\n",
              "        \n",
              "  <svg xmlns=\"http://www.w3.org/2000/svg\" height=\"24px\"viewBox=\"0 0 24 24\"\n",
              "       width=\"24px\">\n",
              "    <path d=\"M0 0h24v24H0V0z\" fill=\"none\"/>\n",
              "    <path d=\"M18.56 5.44l.94 2.06.94-2.06 2.06-.94-2.06-.94-.94-2.06-.94 2.06-2.06.94zm-11 1L8.5 8.5l.94-2.06 2.06-.94-2.06-.94L8.5 2.5l-.94 2.06-2.06.94zm10 10l.94 2.06.94-2.06 2.06-.94-2.06-.94-.94-2.06-.94 2.06-2.06.94z\"/><path d=\"M17.41 7.96l-1.37-1.37c-.4-.4-.92-.59-1.43-.59-.52 0-1.04.2-1.43.59L10.3 9.45l-7.72 7.72c-.78.78-.78 2.05 0 2.83L4 21.41c.39.39.9.59 1.41.59.51 0 1.02-.2 1.41-.59l7.78-7.78 2.81-2.81c.8-.78.8-2.07 0-2.86zM5.41 20L4 18.59l7.72-7.72 1.47 1.35L5.41 20z\"/>\n",
              "  </svg>\n",
              "      </button>\n",
              "      \n",
              "  <style>\n",
              "    .colab-df-container {\n",
              "      display:flex;\n",
              "      flex-wrap:wrap;\n",
              "      gap: 12px;\n",
              "    }\n",
              "\n",
              "    .colab-df-convert {\n",
              "      background-color: #E8F0FE;\n",
              "      border: none;\n",
              "      border-radius: 50%;\n",
              "      cursor: pointer;\n",
              "      display: none;\n",
              "      fill: #1967D2;\n",
              "      height: 32px;\n",
              "      padding: 0 0 0 0;\n",
              "      width: 32px;\n",
              "    }\n",
              "\n",
              "    .colab-df-convert:hover {\n",
              "      background-color: #E2EBFA;\n",
              "      box-shadow: 0px 1px 2px rgba(60, 64, 67, 0.3), 0px 1px 3px 1px rgba(60, 64, 67, 0.15);\n",
              "      fill: #174EA6;\n",
              "    }\n",
              "\n",
              "    [theme=dark] .colab-df-convert {\n",
              "      background-color: #3B4455;\n",
              "      fill: #D2E3FC;\n",
              "    }\n",
              "\n",
              "    [theme=dark] .colab-df-convert:hover {\n",
              "      background-color: #434B5C;\n",
              "      box-shadow: 0px 1px 3px 1px rgba(0, 0, 0, 0.15);\n",
              "      filter: drop-shadow(0px 1px 2px rgba(0, 0, 0, 0.3));\n",
              "      fill: #FFFFFF;\n",
              "    }\n",
              "  </style>\n",
              "\n",
              "      <script>\n",
              "        const buttonEl =\n",
              "          document.querySelector('#df-25ce22e0-f9bc-42b4-93ae-e1fc59fa8c5d button.colab-df-convert');\n",
              "        buttonEl.style.display =\n",
              "          google.colab.kernel.accessAllowed ? 'block' : 'none';\n",
              "\n",
              "        async function convertToInteractive(key) {\n",
              "          const element = document.querySelector('#df-25ce22e0-f9bc-42b4-93ae-e1fc59fa8c5d');\n",
              "          const dataTable =\n",
              "            await google.colab.kernel.invokeFunction('convertToInteractive',\n",
              "                                                     [key], {});\n",
              "          if (!dataTable) return;\n",
              "\n",
              "          const docLinkHtml = 'Like what you see? Visit the ' +\n",
              "            '<a target=\"_blank\" href=https://colab.research.google.com/notebooks/data_table.ipynb>data table notebook</a>'\n",
              "            + ' to learn more about interactive tables.';\n",
              "          element.innerHTML = '';\n",
              "          dataTable['output_type'] = 'display_data';\n",
              "          await google.colab.output.renderOutput(dataTable, element);\n",
              "          const docLink = document.createElement('div');\n",
              "          docLink.innerHTML = docLinkHtml;\n",
              "          element.appendChild(docLink);\n",
              "        }\n",
              "      </script>\n",
              "    </div>\n",
              "  </div>\n",
              "  "
            ]
          },
          "metadata": {},
          "execution_count": 48
        }
      ]
    },
    {
      "cell_type": "code",
      "source": [
        "! pip install cohere"
      ],
      "metadata": {
        "colab": {
          "base_uri": "https://localhost:8080/"
        },
        "id": "VG--Gp0PpFQa",
        "outputId": "a057cbfa-79e5-473e-da50-6152d8b59d2e"
      },
      "execution_count": null,
      "outputs": [
        {
          "output_type": "stream",
          "name": "stdout",
          "text": [
            "Looking in indexes: https://pypi.org/simple, https://us-python.pkg.dev/colab-wheels/public/simple/\n",
            "Collecting cohere\n",
            "  Downloading cohere-2.8.0.tar.gz (9.9 kB)\n",
            "Requirement already satisfied: requests in /usr/local/lib/python3.7/dist-packages (from cohere) (2.23.0)\n",
            "Requirement already satisfied: certifi>=2017.4.17 in /usr/local/lib/python3.7/dist-packages (from requests->cohere) (2022.9.24)\n",
            "Requirement already satisfied: chardet<4,>=3.0.2 in /usr/local/lib/python3.7/dist-packages (from requests->cohere) (3.0.4)\n",
            "Requirement already satisfied: urllib3!=1.25.0,!=1.25.1,<1.26,>=1.21.1 in /usr/local/lib/python3.7/dist-packages (from requests->cohere) (1.24.3)\n",
            "Requirement already satisfied: idna<3,>=2.5 in /usr/local/lib/python3.7/dist-packages (from requests->cohere) (2.10)\n",
            "Building wheels for collected packages: cohere\n",
            "  Building wheel for cohere (setup.py) ... \u001b[?25l\u001b[?25hdone\n",
            "  Created wheel for cohere: filename=cohere-2.8.0-cp37-cp37m-linux_x86_64.whl size=10956 sha256=3ffe58fcbd9c33243126a93915236d25748cc159bbd2ea6aa8b919d7f04264b5\n",
            "  Stored in directory: /root/.cache/pip/wheels/85/bd/8e/65048fd92114861be1984d02d48bf68b8f2475185178600024\n",
            "Successfully built cohere\n",
            "Installing collected packages: cohere\n",
            "Successfully installed cohere-2.8.0\n"
          ]
        }
      ]
    },
    {
      "cell_type": "code",
      "source": [
        "!pip install cohere requests tqdm"
      ],
      "metadata": {
        "colab": {
          "base_uri": "https://localhost:8080/"
        },
        "id": "c-X7GhuzpIJZ",
        "outputId": "88dcbd5a-e3f7-40ef-fa39-e3514bd74d42"
      },
      "execution_count": null,
      "outputs": [
        {
          "output_type": "stream",
          "name": "stdout",
          "text": [
            "Looking in indexes: https://pypi.org/simple, https://us-python.pkg.dev/colab-wheels/public/simple/\n",
            "Requirement already satisfied: cohere in /usr/local/lib/python3.7/dist-packages (2.8.0)\n",
            "Requirement already satisfied: requests in /usr/local/lib/python3.7/dist-packages (2.23.0)\n",
            "Requirement already satisfied: tqdm in /usr/local/lib/python3.7/dist-packages (4.64.1)\n",
            "Requirement already satisfied: chardet<4,>=3.0.2 in /usr/local/lib/python3.7/dist-packages (from requests) (3.0.4)\n",
            "Requirement already satisfied: urllib3!=1.25.0,!=1.25.1,<1.26,>=1.21.1 in /usr/local/lib/python3.7/dist-packages (from requests) (1.24.3)\n",
            "Requirement already satisfied: idna<3,>=2.5 in /usr/local/lib/python3.7/dist-packages (from requests) (2.10)\n",
            "Requirement already satisfied: certifi>=2017.4.17 in /usr/local/lib/python3.7/dist-packages (from requests) (2022.9.24)\n"
          ]
        }
      ]
    },
    {
      "cell_type": "code",
      "source": [
        "api_key = \"A86CHp8yaRIkK8dLkHzNz32OapbKNp0LHRxgR58A\""
      ],
      "metadata": {
        "id": "L0nNeHmS0tD1"
      },
      "execution_count": null,
      "outputs": []
    },
    {
      "cell_type": "code",
      "source": [
        "import cohere\n",
        "co = cohere.Client(api_key)"
      ],
      "metadata": {
        "id": "jhDLqyu5qGZq"
      },
      "execution_count": null,
      "outputs": []
    },
    {
      "cell_type": "code",
      "source": [
        "# Collate the examples via the Example module\n",
        "from cohere.classify import Example\n",
        "examples = list()\n",
        "for txt, lbl in zip(ex_texts,ex_labels):\n",
        "  examples.append(Example(txt,lbl))\n",
        "  \n",
        "# Perform classification\n",
        "def classify_text(text,examples):\n",
        "  classifications = co.classify(\n",
        "    model='medium',\n",
        "    inputs=[text],\n",
        "    examples=examples\n",
        "    )\n",
        "  return classifications.classifications[0].prediction\n"
      ],
      "metadata": {
        "id": "DD651gLh1brE"
      },
      "execution_count": null,
      "outputs": []
    },
    {
      "cell_type": "markdown",
      "metadata": {
        "id": "8hmjwJ-5xlaZ"
      },
      "source": [
        "## Step B: Building Different models :"
      ]
    },
    {
      "cell_type": "markdown",
      "metadata": {
        "id": "N48liRFCxlaZ"
      },
      "source": [
        "### Trying simple RNN model:"
      ]
    },
    {
      "cell_type": "code",
      "source": [
        "from tensorflow.keras import layers"
      ],
      "metadata": {
        "id": "0YZ2xlSjH_2M"
      },
      "execution_count": null,
      "outputs": []
    },
    {
      "cell_type": "code",
      "source": [
        "inputs_to_base=tf.keras.Input((400,))\n",
        "embedding_layer=tf.keras.layers.Embedding(input_dim=len(unique_vocab)+1,output_dim=400,mask_zero=True)(inputs_to_base)\n",
        "first_rnn_layer=tf.keras.layers.SimpleRNN(400,return_sequences=True)(embedding_layer)\n",
        "second_rnn_layer=tf.keras.layers.SimpleRNN(400,return_sequences=True)(first_rnn_layer)\n",
        "outputs_from_base=tf.keras.layers.Dense(63,activation='softmax')(second_rnn_layer)\n",
        "model=tf.keras.Model(inputs_to_base,outputs_from_base)\n",
        "model.summary()"
      ],
      "metadata": {
        "colab": {
          "base_uri": "https://localhost:8080/"
        },
        "outputId": "b2cb3249-b873-4512-f836-a5e414086319",
        "id": "LoLoA6z4H_2M"
      },
      "execution_count": null,
      "outputs": [
        {
          "output_type": "stream",
          "name": "stdout",
          "text": [
            "Model: \"model\"\n",
            "_________________________________________________________________\n",
            " Layer (type)                Output Shape              Param #   \n",
            "=================================================================\n",
            " input_2 (InputLayer)        [(None, 400)]             0         \n",
            "                                                                 \n",
            " embedding (Embedding)       (None, 400, 400)          18301600  \n",
            "                                                                 \n",
            " simple_rnn (SimpleRNN)      (None, 400, 400)          320400    \n",
            "                                                                 \n",
            " simple_rnn_1 (SimpleRNN)    (None, 400, 400)          320400    \n",
            "                                                                 \n",
            " dense (Dense)               (None, 400, 63)           25263     \n",
            "                                                                 \n",
            "=================================================================\n",
            "Total params: 18,967,663\n",
            "Trainable params: 18,967,663\n",
            "Non-trainable params: 0\n",
            "_________________________________________________________________\n"
          ]
        }
      ]
    },
    {
      "cell_type": "code",
      "source": [
        "tf.keras.utils.plot_model(model,show_shapes=True)"
      ],
      "metadata": {
        "colab": {
          "base_uri": "https://localhost:8080/",
          "height": 533
        },
        "outputId": "b486d6fc-3f5f-43da-d721-1ca1906fea48",
        "id": "5zV30rfBH_2M"
      },
      "execution_count": null,
      "outputs": [
        {
          "output_type": "execute_result",
          "data": {
            "text/plain": [
              "<IPython.core.display.Image object>"
            ],
            "image/png": "[encoded data removed]"
          },
          "metadata": {},
          "execution_count": 396
        }
      ]
    },
    {
      "cell_type": "code",
      "source": [
        "\n",
        "model.compile(optimizer='adam', loss='sparse_categorical_crossentropy',metrics=['accuracy'])"
      ],
      "metadata": {
        "id": "pWYkTAP8H_2N"
      },
      "execution_count": null,
      "outputs": []
    },
    {
      "cell_type": "code",
      "source": [
        "my_callbacks = [\n",
        "    tf.keras.callbacks.EarlyStopping(patience=5,restore_best_weights=True)]"
      ],
      "metadata": {
        "id": "5pppjqfgH_2N"
      },
      "execution_count": null,
      "outputs": []
    },
    {
      "cell_type": "code",
      "source": [
        "x_train.shape,y_train.shape,x_test.shape,y_test.shape"
      ],
      "metadata": {
        "colab": {
          "base_uri": "https://localhost:8080/"
        },
        "outputId": "0f6e24a7-855f-4159-d48f-2fc4b8c2f044",
        "id": "pR34nbikH_2N"
      },
      "execution_count": null,
      "outputs": [
        {
          "output_type": "execute_result",
          "data": {
            "text/plain": [
              "((1227, 400), (1227, 400), (526, 400), (526, 400))"
            ]
          },
          "metadata": {},
          "execution_count": 401
        }
      ]
    },
    {
      "cell_type": "code",
      "source": [
        "history = model.fit(x_train,y_train,epochs=40,batch_size=40,validation_split=0.2,callbacks=my_callbacks)"
      ],
      "metadata": {
        "colab": {
          "base_uri": "https://localhost:8080/"
        },
        "outputId": "12910880-bc89-4728-9070-4c77822b0cba",
        "id": "ibPwlyTaH_2N"
      },
      "execution_count": null,
      "outputs": [
        {
          "output_type": "stream",
          "name": "stdout",
          "text": [
            "Epoch 1/40\n",
            "25/25 [==============================] - 132s 3s/step - loss: 0.8797 - accuracy: 0.7800 - val_loss: 0.6864 - val_accuracy: 0.8204\n",
            "Epoch 2/40\n",
            "25/25 [==============================] - 81s 3s/step - loss: 0.7299 - accuracy: 0.8084 - val_loss: 0.7030 - val_accuracy: 0.8167\n",
            "Epoch 3/40\n",
            "25/25 [==============================] - 80s 3s/step - loss: 0.7744 - accuracy: 0.7974 - val_loss: 0.7792 - val_accuracy: 0.7977\n",
            "Epoch 4/40\n",
            "25/25 [==============================] - 80s 3s/step - loss: 0.6455 - accuracy: 0.8162 - val_loss: 0.4695 - val_accuracy: 0.8537\n",
            "Epoch 5/40\n",
            "25/25 [==============================] - 84s 3s/step - loss: 0.4207 - accuracy: 0.8561 - val_loss: 0.4163 - val_accuracy: 0.8629\n",
            "Epoch 6/40\n",
            "25/25 [==============================] - 80s 3s/step - loss: 0.3556 - accuracy: 0.8726 - val_loss: 0.3898 - val_accuracy: 0.8697\n",
            "Epoch 7/40\n",
            "25/25 [==============================] - 79s 3s/step - loss: 0.3104 - accuracy: 0.8866 - val_loss: 0.3703 - val_accuracy: 0.8784\n",
            "Epoch 8/40\n",
            "25/25 [==============================] - 80s 3s/step - loss: 0.2694 - accuracy: 0.9044 - val_loss: 0.3594 - val_accuracy: 0.8787\n",
            "Epoch 9/40\n",
            "25/25 [==============================] - 79s 3s/step - loss: 0.2386 - accuracy: 0.9126 - val_loss: 0.3324 - val_accuracy: 0.8899\n",
            "Epoch 10/40\n",
            "25/25 [==============================] - 79s 3s/step - loss: 0.1985 - accuracy: 0.9281 - val_loss: 0.3388 - val_accuracy: 0.8856\n",
            "Epoch 11/40\n",
            "25/25 [==============================] - 79s 3s/step - loss: 0.1772 - accuracy: 0.9344 - val_loss: 0.3313 - val_accuracy: 0.8876\n",
            "Epoch 12/40\n",
            "25/25 [==============================] - 80s 3s/step - loss: 0.1625 - accuracy: 0.9386 - val_loss: 0.3272 - val_accuracy: 0.8912\n",
            "Epoch 13/40\n",
            "25/25 [==============================] - 81s 3s/step - loss: 0.1406 - accuracy: 0.9473 - val_loss: 0.3063 - val_accuracy: 0.9038\n",
            "Epoch 14/40\n",
            "25/25 [==============================] - 80s 3s/step - loss: 0.1167 - accuracy: 0.9566 - val_loss: 0.3139 - val_accuracy: 0.9057\n",
            "Epoch 15/40\n",
            "25/25 [==============================] - 79s 3s/step - loss: 0.0968 - accuracy: 0.9652 - val_loss: 0.3209 - val_accuracy: 0.9012\n",
            "Epoch 16/40\n",
            "25/25 [==============================] - 80s 3s/step - loss: 0.0811 - accuracy: 0.9712 - val_loss: 0.3218 - val_accuracy: 0.9073\n",
            "Epoch 17/40\n",
            "25/25 [==============================] - 80s 3s/step - loss: 0.0681 - accuracy: 0.9762 - val_loss: 0.3341 - val_accuracy: 0.9066\n",
            "Epoch 18/40\n",
            "25/25 [==============================] - 78s 3s/step - loss: 0.0567 - accuracy: 0.9804 - val_loss: 0.3499 - val_accuracy: 0.9078\n"
          ]
        }
      ]
    },
    {
      "cell_type": "code",
      "source": [
        "# Helper function to plot the data\n",
        "# Plot the loss of the model\n",
        "plt.rcParams[\"figure.figsize\"] = (10,8)\n",
        "plt.title(\"Early stop model\")\n",
        "plt.semilogy(history.history['loss'], label='Train Loss', color='#FF9A98', linewidth=2)\n",
        "plt.semilogy(history.history['val_loss'],  label='Validation Loss', color='#75B594', linewidth=2)\n",
        "plt.legend()\n",
        "\n",
        "# Set the axes labels\n",
        "plt.xlabel('Epochs')\n",
        "plt.ylabel('Log MSE Loss')\n",
        "plt.legend()\n",
        "plt.show()"
      ],
      "metadata": {
        "colab": {
          "base_uri": "https://localhost:8080/",
          "height": 513
        },
        "outputId": "8884c3ba-516a-4dd0-fcaf-38762914ca56",
        "id": "caW32Y27H_2N"
      },
      "execution_count": null,
      "outputs": [
        {
          "output_type": "display_data",
          "data": {
            "text/plain": [
              "<Figure size 720x576 with 1 Axes>"
            ],
            "image/png": "[encoded data removed]"
          },
          "metadata": {
            "needs_background": "light"
          }
        }
      ]
    },
    {
      "cell_type": "code",
      "source": [
        "# Helper function to plot the data\n",
        "# Plot the accuracy of the model\n",
        "plt.rcParams[\"figure.figsize\"] = (10,8)\n",
        "plt.title(\"Early stop model\")\n",
        "plt.semilogy(history.history['accuracy'], label='Train Loss', color='#FF9A98', linewidth=2)\n",
        "plt.semilogy(history.history['val_accuracy'],  label='Validation Loss', color='#75B594', linewidth=2)\n",
        "plt.legend()\n",
        "\n",
        "# Set the axes labels\n",
        "plt.xlabel('Epochs')\n",
        "plt.ylabel('accuracy')\n",
        "plt.legend()\n",
        "plt.show()"
      ],
      "metadata": {
        "colab": {
          "base_uri": "https://localhost:8080/",
          "height": 513
        },
        "outputId": "f96a232f-6354-4cca-8a72-d108a04172de",
        "id": "NcAwSuqxH_2N"
      },
      "execution_count": null,
      "outputs": [
        {
          "output_type": "display_data",
          "data": {
            "text/plain": [
              "<Figure size 720x576 with 1 Axes>"
            ],
            "image/png": "[encoded data removed]"
          },
          "metadata": {
            "needs_background": "light"
          }
        }
      ]
    },
    {
      "cell_type": "code",
      "source": [
        "model.save_weights('/content/gdrive/MyDrive/AI3 Project/A13/base_model_63_nodes.h5')"
      ],
      "metadata": {
        "id": "KD9od7jnH_2N"
      },
      "execution_count": null,
      "outputs": []
    },
    {
      "cell_type": "code",
      "source": [
        "model.load_weights('/content/gdrive/MyDrive/AI3 Project/A13/base_model_63_nodes.h5')"
      ],
      "metadata": {
        "id": "0VVHoygmH_2N"
      },
      "execution_count": null,
      "outputs": []
    },
    {
      "cell_type": "code",
      "source": [
        "# Evaluating on test set\n",
        "model.evaluate(x_test,y_test)"
      ],
      "metadata": {
        "colab": {
          "base_uri": "https://localhost:8080/"
        },
        "outputId": "9ae313e5-bbac-458b-ef48-ddbf581a61f2",
        "id": "LwoSZRccH_2O"
      },
      "execution_count": null,
      "outputs": [
        {
          "output_type": "stream",
          "name": "stdout",
          "text": [
            "17/17 [==============================] - 11s 653ms/step - loss: 0.2942 - accuracy: 0.9034\n"
          ]
        },
        {
          "output_type": "execute_result",
          "data": {
            "text/plain": [
              "[0.29420366883277893, 0.9033576250076294]"
            ]
          },
          "metadata": {},
          "execution_count": 405
        }
      ]
    },
    {
      "cell_type": "markdown",
      "source": [
        "**Comparing the orginal and predicted ner_tags**"
      ],
      "metadata": {
        "id": "kIXQyv-XH_2O"
      }
    },
    {
      "cell_type": "code",
      "source": [
        "for i in range(5):\n",
        "  y_pred = model.predict(np.array([x_test[i]]))\n",
        "  pred = np.argmax(np.array(y_pred), axis=-1)\n",
        "  print(\"Original  : \",[*map(Tokenizer_for_tags.index_word.get, y_test[i])])\n",
        "  print(\"predicted : \",[*map(Tokenizer_for_tags.index_word.get, pred[0])])\n",
        "  print(\"-\"*100)"
      ],
      "metadata": {
        "colab": {
          "base_uri": "https://localhost:8080/"
        },
        "outputId": "835eaf9e-440e-4de1-8c40-21c08bc00c07",
        "id": "y67zbxNOH_2O"
      },
      "execution_count": null,
      "outputs": [
        {
          "output_type": "stream",
          "name": "stdout",
          "text": [
            "Original  :  ['o', 'o', 'o', 'o', 'o', 'o', 'o', 'o', 'o', 'o', 'o', 'o', 'o', 'o', 'o', 'o', 'b-celestialobject', 'o', 'o', 'o', 'o', 'o', 'o', 'o', 'o', 'o', 'o', 'o', 'o', 'o', 'o', 'o', 'o', 'o', 'o', 'o', 'o', 'o', 'o', 'o', 'o', 'o', 'o', 'o', 'o', 'o', 'o', 'o', 'o', 'o', 'o', 'o', 'o', 'o', 'o', 'o', 'o', 'o', 'o', 'o', 'o', 'o', 'o', 'o', 'o', 'o', 'o', 'o', 'o', 'o', 'o', 'o', 'b-model', 'i-model', 'o', 'o', 'o', 'o', 'o', 'o', 'o', 'o', 'o', 'o', 'o', 'o', 'o', 'o', 'o', 'o', 'o', 'o', 'o', 'o', 'o', 'o', 'o', 'o', 'o', 'o', 'o', 'o', 'o', 'o', 'o', 'o', 'o', 'o', 'o', 'o', 'o', 'o', 'o', 'o', 'o', 'o', 'o', 'o', 'o', 'o', 'o', 'o', 'o', 'o', 'o', 'o', 'o', 'o', 'o', 'o', 'o', 'o', 'o', 'o', 'o', 'o', 'o', 'o', 'o', 'o', 'o', 'o', 'o', 'o', 'o', 'o', 'o', 'o', 'o', 'o', 'o', 'o', 'o', 'o', 'o', 'o', 'o', 'o', 'o', 'o', 'o', 'o', 'o', 'o', 'o', 'o', 'o', 'o', 'o', 'o', 'o', 'o', 'o', 'o', 'o', 'o', 'o', 'o', 'o', 'o', 'o', 'o', 'o', 'o', 'o', 'o', 'o', 'o', 'o', 'o', 'o', 'o', 'o', 'o', 'o', 'o', 'o', 'o', 'o', 'o', 'o', 'o', 'o', 'o', 'o', 'o', 'o', 'o', 'o', 'o', 'o', 'o', 'o', 'o', 'o', 'o', 'o', 'o', 'o', 'o', 'o', 'o', 'o', 'o', 'o', 'o', 'o', 'o', 'o', 'o', 'o', 'o', 'o', 'o', 'o', 'o', 'o', 'o', 'b-celestialobject', 'o', 'o', 'o', 'o', 'o', 'o', 'o', 'o', 'o', 'o', 'b-celestialobject', 'o', 'o', 'o', 'b-citation', 'i-citation', 'i-citation', 'i-citation', 'o', 'b-citation', 'i-citation', 'i-citation', 'i-citation', 'o', 'b-citation', 'i-citation', 'i-citation', 'i-citation', 'o', 'o', 'o', 'o', 'o', 'o', 'o', 'o', 'o', 'o', 'o', 'o', 'o', 'o', 'o', 'o', 'o', 'b-celestialobject', 'i-celestialobject', 'o', 'o', 'o', 'o', 'o', 'o', 'o', 'b-telescope', 'i-telescope', 'i-telescope', 'i-telescope', 'b-telescope', 'o', 'b-telescope', 'i-telescope', 'i-telescope', 'b-telescope', 'o', 'o', 'b-location', 'b-telescope', 'i-telescope', 'i-telescope', 'i-telescope', 'i-telescope', 'i-telescope', 'b-telescope', 'o', 'o', 'o', 'o', 'o', 'o', 'o', 'b-citation', 'i-citation', 'i-citation', 'i-citation', 'o', 'o', 'o', 'o', 'o', 'o', 'o', 'o', 'o', 'o', 'o', 'o', 'o', 'o', 'o', 'o', 'o', 'o', 'o', 'o', 'o', 'o', 'o', 'o', 'o', 'o', 'o', 'o', 'o', 'o', 'o', 'o', 'o', 'o', 'o', 'o', 'o', 'o', 'b-celestialobjectregion', 'i-celestialobjectregion', 'o', 'o', 'o', 'o', 'o', 'o', 'o', 'o', 'o', 'o', 'o', 'o', 'o', 'o', 'o', 'o', 'o', 'b-celestialobjectregion', 'i-celestialobjectregion', 'o', 'o', 'o', 'o', 'o', 'o', 'o', 'o', 'o', 'o', 'o', 'o', 'b-celestialregion', 'i-celestialregion', 'i-celestialregion', 'i-celestialregion', 'i-celestialregion']\n",
            "predicted :  ['o', 'o', 'o', 'o', 'o', 'o', 'o', 'o', 'o', 'o', 'o', 'o', 'o', 'o', 'o', 'o', 'o', 'o', 'o', 'o', 'o', 'o', 'o', 'o', 'o', 'o', 'o', 'o', 'o', 'o', 'o', 'o', 'o', 'o', 'o', 'o', 'o', 'o', 'o', 'o', 'o', 'o', 'o', 'o', 'o', 'o', 'o', 'o', 'b-model', 'o', 'b-wavelength', 'o', 'o', 'o', 'o', 'o', 'o', 'o', 'o', 'i-wavelength', 'o', 'o', 'o', 'o', 'o', 'o', 'o', 'o', 'o', 'o', 'o', 'o', 'b-organization', 'o', 'o', 'o', 'o', 'o', 'o', 'o', 'o', 'o', 'o', 'o', 'o', 'o', 'o', 'o', 'o', 'b-model', 'o', 'b-wavelength', 'o', 'o', 'o', 'o', 'o', 'o', 'o', 'o', 'o', 'o', 'o', 'o', 'o', 'o', 'o', 'o', 'o', 'o', 'o', 'o', 'o', 'o', 'o', 'o', 'o', 'o', 'o', 'o', 'o', 'o', 'o', 'o', 'o', 'o', 'o', 'o', 'o', 'o', 'o', 'o', 'o', 'o', 'o', 'o', 'o', 'o', 'o', 'o', 'o', 'o', 'o', 'o', 'o', 'o', 'o', 'i-wavelength', 'o', 'o', 'o', 'o', 'o', 'o', 'o', 'o', 'o', 'o', 'o', 'o', 'o', 'o', 'o', 'o', 'o', 'o', 'o', 'o', 'o', 'o', 'o', 'o', 'o', 'i-wavelength', 'o', 'o', 'o', 'o', 'o', 'o', 'o', 'o', 'o', 'o', 'o', 'o', 'o', 'o', 'o', 'o', 'o', 'o', 'o', 'o', 'o', 'o', 'o', 'o', 'o', 'i-wavelength', 'o', 'o', 'o', 'o', 'o', 'o', 'o', 'o', 'o', 'o', 'o', 'o', 'o', 'o', 'o', 'o', 'o', 'o', 'o', 'o', 'o', 'o', 'o', 'o', 'i-wavelength', 'o', 'o', 'o', 'o', 'o', 'o', 'o', 'o', 'o', 'o', 'o', 'o', 'o', 'o', 'i-telescope', 'o', 'o', 'o', 'o', 'o', 'o', 'o', 'o', 'o', 'o', 'b-wavelength', 'o', 'o', 'b-citation', 'i-citation', 'i-citation', 'i-citation', 'o', 'b-citation', 'i-citation', 'i-citation', 'i-citation', 'o', 'b-citation', 'i-citation', 'i-citation', 'i-citation', 'o', 'o', 'o', 'o', 'o', 'o', 'o', 'o', 'o', 'o', 'o', 'o', 'o', 'o', 'o', 'o', 'o', 'b-celestialobject', 'i-celestialobject', 'o', 'o', 'o', 'o', 'o', 'o', 'o', 'o', 'o', 'o', 'i-model', 'i-model', 'o', 'b-citation', 'i-citation', 'i-archive', 'i-archive', 'o', 'o', 'b-organization', 'i-organization', 'o', 'o', 'b-location', 'i-organization', 'o', 'b-grant', 'o', 'b-organization', 'o', 'o', 'o', 'o', 'o', 'b-software', 'i-citation', 'i-citation', 'i-citation', 'o', 'o', 'o', 'o', 'o', 'o', 'o', 'o', 'o', 'o', 'o', 'o', 'o', 'o', 'o', 'o', 'o', 'o', 'o', 'o', 'o', 'o', 'o', 'o', 'o', 'o', 'o', 'o', 'o', 'o', 'o', 'o', 'o', 'o', 'o', 'o', 'o', 'o', 'o', 'o', 'o', 'o', 'o', 'o', 'o', 'o', 'o', 'o', 'o', 'o', 'o', 'o', 'o', 'o', 'o', 'o', 'o', 'o', 'o', 'o', 'o', 'o', 'o', 'o', 'o', 'o', 'o', 'o', 'o', 'o', 'o', 'o', 'o', 'o', 'i-formula', 'o']\n",
            "----------------------------------------------------------------------------------------------------\n",
            "Original  :  ['o', 'o', 'o', 'o', 'o', 'o', 'o', 'o', 'o', 'o', 'o', 'o', 'o', 'o', 'o', 'o', 'o', 'o', 'o', 'o', 'o', 'o', 'o', 'o', 'o', 'o', 'o', 'o', 'b-citation', 'i-citation', 'i-citation', 'i-citation', 'o', 'b-citation', 'i-citation', 'i-citation', 'o', 'o', 'o', 'o', 'o', 'o', 'o', 'o', 'o', 'o', 'o', 'o', 'o', 'b-celestialobject', 'o', 'o', 'o', 'o', 'o', 'o', 'o', 'o', 'o', 'o', 'o', 'o', 'o', 'o', 'o', 'o', 'o', 'o', 'o', 'o', 'o', 'o', 'o', 'o', 'o', 'b-celestialobject', 'i-celestialobject', 'o', 'o', 'o', 'o', 'b-celestialobject', 'i-celestialobject', 'o', 'o', 'o', 'o', 'b-celestialobject', 'o', 'b-celestialobject', 'o', 'o', 'o', 'o', 'o', 'o', 'o', 'o', 'o', 'o', 'o', 'o', 'o', 'o', 'o', 'o', 'o', 'o', 'o', 'o', 'b-celestialobject', 'i-celestialobject', 'o', 'o', 'o', 'o', 'o', 'o', 'o', 'o', 'o', 'o', 'o', 'o', 'o', 'o', 'o', 'b-celestialobject', 'o', 'o', 'o', 'o', 'o', 'o', 'o', 'o', 'o', 'o', 'b-celestialobject', 'o', 'o', 'o', 'o', 'o', 'b-celestialobject', 'o', 'o', 'o', 'o', 'o', 'o', 'b-celestialobject', 'i-celestialobject', 'o', 'o', 'o', 'o', 'o', 'o', 'o', 'o', 'o', 'o', 'o', 'o', 'o', 'o', 'o', 'o', 'o', 'o', 'o', 'b-celestialobject', 'i-celestialobject', 'o', 'o', 'o', 'o', 'o', 'o', 'o', 'o', 'o', 'b-celestialobject', 'o', 'o', 'o', 'o', 'o', 'o', 'o', 'o', 'b-celestialobject', 'i-celestialobject', 'o', 'o', 'o', 'o', 'o', 'b-celestialobject', 'o', 'o', 'o', 'b-citation', 'i-citation', 'i-citation', 'o', 'b-citation', 'i-citation', 'i-citation', 'o', 'o', 'o', 'b-celestialobject', 'o', 'o', 'o', 'o', 'o', 'o', 'o', 'o', 'o', 'o', 'b-celestialobject', 'o', 'o', 'o', 'o', 'o', 'o', 'o', 'o', 'o', 'o', 'o', 'o', 'o', 'o', 'o', 'o', 'o', 'o', 'o', 'o', 'o', 'o', 'b-celestialobject', 'b-citation', 'i-citation', 'i-citation', 'o', 'o', 'o', 'o', 'o', 'o', 'o', 'o', 'b-celestialobject', 'i-celestialobject', 'o', 'o', 'o', 'o', 'o', 'o', 'o', 'o', 'o', 'o', 'o', 'o', 'o', 'o', 'o', 'o', 'o', 'o', 'o', 'o', 'o', 'o', 'o', 'o', 'o', 'o', 'o', 'o', 'o', 'o', 'o', 'o', 'o', 'b-celestialobject', 'o', 'o', 'o', 'o', 'o', 'o', 'o', 'o', 'o', 'o', 'o', 'o', 'o', 'b-celestialobject', 'i-celestialobject', 'o', 'o', 'o', 'o', 'o', 'o', 'o', 'o', 'o', 'o', 'o', 'o', 'o', 'o', 'o', 'o', 'o', 'o', 'o', 'o', 'o', 'o', 'o', 'o', 'o', 'o', 'o', 'o', 'o', 'o', 'o', 'o', 'o', 'o', 'o', 'o', 'o', 'o', 'o', 'o', 'o', 'o', 'o', 'o', 'o', 'o', 'o', 'o', 'o', 'o', 'o', 'o', 'o', 'o', 'o', 'o', 'o', 'o', 'o', 'b-celestialobject', 'i-celestialobject', 'o', 'o', 'o', 'o', 'o', 'o', 'o', 'o', 'o', 'o', 'b-celestialobject', 'o', 'o', 'o', 'o', 'o', 'o', 'o', 'o', 'o', 'o', 'o', 'b-celestialobject', 'i-celestialobject', 'b-citation', 'i-citation', 'i-citation', 'i-citation', 'o']\n",
            "predicted :  ['o', 'o', 'o', 'o', 'o', 'o', 'o', 'o', 'o', 'o', 'o', 'o', 'o', 'o', 'o', 'o', 'o', 'o', 'o', 'o', 'o', 'o', 'o', 'o', 'o', 'o', 'o', 'o', 'b-citation', 'i-citation', 'i-citation', 'i-citation', 'o', 'b-citation', 'i-citation', 'i-citation', 'o', 'o', 'o', 'o', 'o', 'o', 'o', 'o', 'o', 'o', 'o', 'o', 'o', 'b-model', 'o', 'o', 'o', 'o', 'o', 'o', 'o', 'o', 'o', 'o', 'o', 'o', 'o', 'o', 'o', 'o', 'o', 'o', 'o', 'o', 'o', 'o', 'o', 'o', 'o', 'b-telescope', 'o', 'o', 'o', 'o', 'o', 'b-wavelength', 'o', 'o', 'o', 'o', 'o', 'b-celestialobject', 'o', 'b-celestialobject', 'o', 'o', 'o', 'o', 'o', 'o', 'o', 'o', 'o', 'o', 'o', 'o', 'o', 'o', 'o', 'o', 'o', 'o', 'o', 'o', 'b-wavelength', 'o', 'o', 'o', 'o', 'o', 'o', 'o', 'o', 'o', 'o', 'o', 'o', 'o', 'o', 'o', 'o', 'i-wavelength', 'o', 'o', 'o', 'o', 'o', 'o', 'o', 'o', 'o', 'o', 'b-celestialobject', 'o', 'o', 'o', 'o', 'o', 'b-model', 'o', 'o', 'o', 'o', 'o', 'o', 'b-wavelength', 'o', 'o', 'o', 'o', 'o', 'o', 'o', 'o', 'o', 'o', 'o', 'o', 'o', 'o', 'o', 'o', 'o', 'o', 'o', 'o', 'b-wavelength', 'o', 'o', 'o', 'o', 'o', 'o', 'o', 'o', 'o', 'o', 'b-celestialobject', 'o', 'o', 'o', 'o', 'o', 'o', 'o', 'o', 'o', 'o', 'o', 'o', 'o', 'o', 'o', 'b-celestialobject', 'o', 'o', 'o', 'b-wavelength', 'i-model', 'i-telescope', 'o', 'b-citation', 'i-citation', 'i-citation', 'o', 'o', 'o', 'b-celestialobject', 'o', 'o', 'o', 'o', 'o', 'o', 'o', 'o', 'o', 'o', 'b-celestialobject', 'o', 'o', 'o', 'o', 'o', 'o', 'o', 'o', 'o', 'o', 'o', 'o', 'o', 'o', 'o', 'o', 'o', 'o', 'o', 'o', 'o', 'o', 'b-celestialobject', 'o', 'o', 'b-wavelength', 'o', 'o', 'o', 'o', 'o', 'o', 'o', 'o', 'o', 'o', 'o', 'o', 'o', 'o', 'o', 'o', 'o', 'o', 'o', 'o', 'o', 'i-formula', 'i-formula', 'i-formula', 'i-formula', 'i-formula', 'o', 'o', 'o', 'o', 'o', 'o', 'o', 'o', 'o', 'o', 'o', 'o', 'o', 'o', 'o', 'o', 'o', 'b-model', 'i-model', 'o', 'o', 'o', 'o', 'o', 'o', 'o', 'o', 'o', 'o', 'o', 'o', 'b-wavelength', 'o', 'o', 'o', 'o', 'o', 'o', 'o', 'o', 'o', 'o', 'o', 'o', 'o', 'o', 'o', 'o', 'o', 'o', 'o', 'o', 'o', 'o', 'o', 'o', 'o', 'o', 'o', 'o', 'o', 'o', 'o', 'o', 'o', 'o', 'o', 'o', 'o', 'o', 'o', 'o', 'o', 'o', 'o', 'o', 'o', 'o', 'o', 'o', 'o', 'o', 'o', 'o', 'o', 'o', 'o', 'o', 'o', 'o', 'o', 'o', 'b-wavelength', 'i-model', 'o', 'o', 'o', 'o', 'o', 'o', 'o', 'o', 'o', 'o', 'b-wavelength', 'o', 'o', 'o', 'o', 'o', 'o', 'o', 'o', 'o', 'o', 'o', 'b-celestialobject', 'i-celestialobject', 'i-telescope', 'i-citation', 'i-citation', 'i-citation', 'o']\n",
            "----------------------------------------------------------------------------------------------------\n",
            "Original  :  ['b-person', 'b-person', 'o', 'b-person', 'o', 'o', 'o', 'o', 'o', 'o', 'b-organization', 'o', 'o', 'b-grant', 'i-grant', 'i-grant', 'i-grant', 'i-grant', 'i-grant', 'o', 'b-grant', 'i-grant', 'b-grant', 'i-grant', 'o', 'b-grant', 'i-grant', 'b-person', 'o', 'o', 'b-organization', 'i-organization', 'i-organization', 'i-organization', 'i-organization', 'i-organization', 'o', 'o', 'o', 'b-organization', 'i-organization', 'i-organization', 'i-organization', 'b-person', 'o', 'o', 'o', 'o', 'o', 'b-organization', 'o', 'o', 'o', 'b-grant', 'o', 'o', 'o', 'b-grant', 'i-grant', 'i-grant', 'i-grant', 'i-grant', 'i-grant', 'i-grant', 'o', 'o', 'b-grant', 'b-person', 'o', 'o', 'o', 'o', 'o', 'b-grant', 'i-grant', 'i-grant', 'o', 'o', 'b-person', 'o', 'o', 'o', 'o', 'o', 'o', 'o', 'b-organization', 'i-organization', 'i-organization', 'i-organization', 'i-organization', 'b-organization', 'o', 'o', 'o', 'o', 'o', 'o', 'o', 'b-person', 'i-person', 'b-person', 'i-person', 'o', 'b-person', 'i-person', 'o', 'o', 'o', 'o', 'o', 'o', 'o', 'o', 'o', 'o', 'b-person', 'i-person', 'o', 'o', 'o', 'o', 'o', 'o', 'o', 'o', 'o', 'o', 'o', 'o', 'o', 'o', 'o', 'o', 'o', 'o', 'b-organization', 'i-organization', 'i-organization', 'o', 'o', 'o', 'b-organization', 'b-grant', 'o', 'o', 'o', 'o', 'o', 'o', 'o', 'o', 'o', 'o', 'o', 'b-software', 'i-software', 'b-citation', 'i-citation', 'i-citation', 'i-citation', 'o', 'o', 'o', 'o', 'o', 'o', 'o', 'o', 'b-computingfacility', 'i-computingfacility', 'i-computingfacility', 'o', 'o', 'o', 'b-grant', None, None, None, None, None, None, None, None, None, None, None, None, None, None, None, None, None, None, None, None, None, None, None, None, None, None, None, None, None, None, None, None, None, None, None, None, None, None, None, None, None, None, None, None, None, None, None, None, None, None, None, None, None, None, None, None, None, None, None, None, None, None, None, None, None, None, None, None, None, None, None, None, None, None, None, None, None, None, None, None, None, None, None, None, None, None, None, None, None, None, None, None, None, None, None, None, None, None, None, None, None, None, None, None, None, None, None, None, None, None, None, None, None, None, None, None, None, None, None, None, None, None, None, None, None, None, None, None, None, None, None, None, None, None, None, None, None, None, None, None, None, None, None, None, None, None, None, None, None, None, None, None, None, None, None, None, None, None, None, None, None, None, None, None, None, None, None, None, None, None, None, None, None, None, None, None, None, None, None, None, None, None, None, None, None, None, None, None, None, None, None, None, None, None, None, None, None, None, None, None, None, None, None, None, None, None, None, None, None, None, None, None, None, None, None, None, None, None, None, None, None, None, None, None]\n",
            "predicted :  ['b-person', 'b-person', 'o', 'b-person', 'o', 'o', 'o', 'o', 'o', 'o', 'b-organization', 'i-grant', 'i-grant', 'i-grant', 'i-grant', 'i-grant', 'o', 'i-grant', 'i-grant', 'o', 'b-grant', 'i-grant', 'b-grant', 'i-grant', 'i-grant', 'b-grant', 'i-grant', 'b-person', 'o', 'o', 'b-organization', 'i-organization', 'i-organization', 'o', 'i-organization', 'i-organization', 'o', 'o', 'o', 'b-organization', 'i-organization', 'i-organization', 'i-organization', 'b-person', 'o', 'o', 'o', 'o', 'o', 'b-organization', 'o', 'o', 'o', 'b-grant', 'o', 'o', 'o', 'b-grant', 'i-grant', 'i-grant', 'i-grant', 'i-grant', 'i-grant', 'i-grant', 'o', 'i-grant', 'b-grant', 'b-person', 'o', 'o', 'o', 'o', 'o', 'b-grant', 'i-grant', 'i-grant', 'o', 'o', 'b-person', 'o', 'o', 'o', 'o', 'o', 'o', 'o', 'b-organization', 'i-organization', 'i-organization', 'i-organization', 'i-organization', 'b-organization', 'o', 'o', 'o', 'o', 'o', 'o', 'o', 'b-person', 'i-person', 'b-person', 'i-person', 'o', 'b-person', 'i-person', 'o', 'o', 'o', 'o', 'o', 'o', 'o', 'o', 'o', 'o', 'b-person', 'i-person', 'o', 'o', 'o', 'o', 'o', 'o', 'o', 'o', 'o', 'o', 'o', 'o', 'o', 'o', 'o', 'o', 'o', 'o', 'b-organization', 'i-organization', 'i-organization', 'o', 'o', 'o', 'b-organization', 'b-grant', 'o', 'o', 'o', 'o', 'o', 'o', 'o', 'o', 'o', 'o', 'o', 'b-telescope', 'i-survey', 'b-citation', 'i-citation', 'i-citation', 'i-citation', 'o', 'o', 'o', 'o', 'o', 'o', 'o', 'o', 'b-telescope', 'i-telescope', 'i-telescope', 'o', 'o', 'o', 'b-grant', 'b-grant', 'b-grant', 'b-grant', 'b-grant', 'b-grant', 'b-grant', 'b-grant', 'b-grant', 'b-grant', 'b-grant', 'b-grant', 'b-grant', 'b-grant', 'b-grant', 'b-grant', 'b-grant', 'b-grant', 'b-grant', 'b-grant', 'b-grant', 'b-grant', 'b-grant', 'b-grant', 'b-grant', 'b-grant', 'b-grant', 'b-grant', 'b-grant', 'b-grant', 'b-grant', 'b-grant', 'b-grant', 'b-grant', 'b-grant', 'b-grant', 'b-grant', 'b-grant', 'b-grant', 'b-grant', 'b-grant', 'b-grant', 'b-grant', 'b-grant', 'b-grant', 'b-grant', 'b-grant', 'b-grant', 'b-grant', 'b-grant', 'b-grant', 'b-grant', 'b-grant', 'b-grant', 'b-grant', 'b-grant', 'b-grant', 'b-grant', 'b-grant', 'b-grant', 'b-grant', 'b-grant', 'b-grant', 'b-grant', 'b-grant', 'b-grant', 'b-grant', 'b-grant', 'b-grant', 'b-grant', 'b-grant', 'b-grant', 'b-grant', 'b-grant', 'b-grant', 'b-grant', 'b-grant', 'b-grant', 'b-grant', 'b-grant', 'b-grant', 'b-grant', 'b-grant', 'b-grant', 'b-grant', 'b-grant', 'b-grant', 'b-grant', 'b-grant', 'b-grant', 'b-grant', 'b-grant', 'b-grant', 'b-grant', 'b-grant', 'b-grant', 'b-grant', 'b-grant', 'b-grant', 'b-grant', 'b-grant', 'b-grant', 'b-grant', 'b-grant', 'b-grant', 'b-grant', 'b-grant', 'b-grant', 'b-grant', 'b-grant', 'b-grant', 'b-grant', 'b-grant', 'b-grant', 'b-grant', 'b-grant', 'b-grant', 'b-grant', 'b-grant', 'b-grant', 'b-grant', 'b-grant', 'b-grant', 'b-grant', 'b-grant', 'b-grant', 'b-grant', 'b-grant', 'b-grant', 'b-grant', 'b-grant', 'b-grant', 'b-grant', 'b-grant', 'b-grant', 'b-grant', 'b-grant', 'b-grant', 'b-grant', 'b-grant', 'b-grant', 'b-grant', 'b-grant', 'b-grant', 'b-grant', 'b-grant', 'b-grant', 'b-grant', 'b-grant', 'b-grant', 'b-grant', 'b-grant', 'b-grant', 'b-grant', 'b-grant', 'b-grant', 'b-grant', 'b-grant', 'b-grant', 'b-grant', 'b-grant', 'b-grant', 'b-grant', 'b-grant', 'b-grant', 'b-grant', 'b-grant', 'b-grant', 'b-grant', 'b-grant', 'b-grant', 'b-grant', 'b-grant', 'b-grant', 'b-grant', 'b-grant', 'b-grant', 'b-grant', 'b-grant', 'b-grant', 'b-grant', 'b-grant', 'b-grant', 'b-grant', 'b-grant', 'b-grant', 'b-grant', 'b-grant', 'b-grant', 'b-grant', 'b-grant', 'b-grant', 'b-grant', 'b-grant', 'b-grant', 'b-grant', 'b-grant', 'b-grant', 'b-grant', 'b-grant', 'b-grant', 'b-grant', 'b-grant', 'b-grant', 'b-grant', 'b-grant', 'b-grant', 'b-grant', 'b-grant', 'b-grant', 'b-grant', 'b-grant', 'b-grant', 'b-grant', 'b-grant', 'b-grant', 'b-grant', 'b-grant', 'b-grant', 'b-grant', 'b-grant', 'b-grant', 'b-grant', 'b-grant', 'b-grant']\n",
            "----------------------------------------------------------------------------------------------------\n",
            "Original  :  ['o', 'o', 'o', 'o', 'o', 'b-organization', 'o', 'b-grant', 'i-grant', 'i-grant', 'i-grant', 'i-grant', 'o', 'b-grant', 'o', 'o', 'o', 'o', 'o', 'o', 'o', 'o', 'o', 'o', 'o', 'o', 'o', 'o', 'o', 'o', 'o', 'o', None, None, None, None, None, None, None, None, None, None, None, None, None, None, None, None, None, None, None, None, None, None, None, None, None, None, None, None, None, None, None, None, None, None, None, None, None, None, None, None, None, None, None, None, None, None, None, None, None, None, None, None, None, None, None, None, None, None, None, None, None, None, None, None, None, None, None, None, None, None, None, None, None, None, None, None, None, None, None, None, None, None, None, None, None, None, None, None, None, None, None, None, None, None, None, None, None, None, None, None, None, None, None, None, None, None, None, None, None, None, None, None, None, None, None, None, None, None, None, None, None, None, None, None, None, None, None, None, None, None, None, None, None, None, None, None, None, None, None, None, None, None, None, None, None, None, None, None, None, None, None, None, None, None, None, None, None, None, None, None, None, None, None, None, None, None, None, None, None, None, None, None, None, None, None, None, None, None, None, None, None, None, None, None, None, None, None, None, None, None, None, None, None, None, None, None, None, None, None, None, None, None, None, None, None, None, None, None, None, None, None, None, None, None, None, None, None, None, None, None, None, None, None, None, None, None, None, None, None, None, None, None, None, None, None, None, None, None, None, None, None, None, None, None, None, None, None, None, None, None, None, None, None, None, None, None, None, None, None, None, None, None, None, None, None, None, None, None, None, None, None, None, None, None, None, None, None, None, None, None, None, None, None, None, None, None, None, None, None, None, None, None, None, None, None, None, None, None, None, None, None, None, None, None, None, None, None, None, None, None, None, None, None, None, None, None, None, None, None, None, None, None, None, None, None, None, None, None, None, None, None, None, None, None, None, None, None, None, None, None, None, None, None, None, None, None, None, None, None, None, None, None, None, None, None, None, None, None, None, None, None, None, None, None, None, None, None, None]\n",
            "predicted :  ['o', 'o', 'o', 'o', 'o', 'b-organization', 'o', 'i-organization', 'i-grant', 'i-grant', 'i-grant', 'b-grant', 'o', 'b-grant', 'o', 'o', 'o', 'o', 'o', 'o', 'o', 'o', 'o', 'o', 'o', 'o', 'o', 'o', 'o', 'o', 'o', 'o', 'o', 'o', 'o', 'o', 'o', 'o', 'o', 'o', 'o', 'o', 'o', 'o', 'o', 'o', 'o', 'o', 'o', 'o', 'o', 'o', 'o', 'o', 'o', 'o', 'o', 'o', 'o', 'o', 'o', 'o', 'o', 'o', 'o', 'o', 'o', 'o', 'o', 'o', 'o', 'o', 'o', 'o', 'o', 'o', 'o', 'o', 'o', 'o', 'o', 'o', 'o', 'o', 'o', 'o', 'o', 'o', 'o', 'o', 'o', 'o', 'o', 'o', 'o', 'o', 'o', 'o', 'o', 'o', 'o', 'o', 'o', 'o', 'o', 'o', 'o', 'o', 'o', 'o', 'o', 'o', 'o', 'o', 'o', 'o', 'o', 'o', 'o', 'o', 'o', 'o', 'o', 'o', 'o', 'o', 'o', 'o', 'o', 'o', 'o', 'o', 'o', 'o', 'o', 'o', 'o', 'o', 'o', 'o', 'o', 'o', 'o', 'o', 'o', 'o', 'o', 'o', 'o', 'o', 'o', 'o', 'o', 'o', 'o', 'o', 'o', 'o', 'o', 'o', 'o', 'o', 'o', 'o', 'o', 'o', 'o', 'o', 'o', 'o', 'o', 'o', 'o', 'o', 'o', 'o', 'o', 'o', 'o', 'o', 'o', 'o', 'o', 'o', 'o', 'o', 'o', 'o', 'o', 'o', 'o', 'o', 'o', 'o', 'o', 'o', 'o', 'o', 'o', 'o', 'o', 'o', 'o', 'o', 'o', 'o', 'o', 'o', 'o', 'o', 'o', 'o', 'o', 'o', 'o', 'o', 'o', 'o', 'o', 'o', 'o', 'o', 'o', 'o', 'o', 'o', 'o', 'o', 'o', 'o', 'o', 'o', 'o', 'o', 'o', 'o', 'o', 'o', 'o', 'o', 'o', 'o', 'o', 'o', 'o', 'o', 'o', 'o', 'o', 'o', 'o', 'o', 'o', 'o', 'o', 'o', 'o', 'o', 'o', 'o', 'o', 'o', 'o', 'o', 'o', 'o', 'o', 'o', 'o', 'o', 'o', 'o', 'o', 'o', 'o', 'o', 'o', 'o', 'o', 'o', 'o', 'o', 'o', 'o', 'o', 'o', 'o', 'o', 'o', 'o', 'o', 'o', 'o', 'o', 'o', 'o', 'o', 'o', 'o', 'o', 'o', 'o', 'o', 'o', 'o', 'o', 'o', 'o', 'o', 'o', 'o', 'o', 'o', 'o', 'o', 'o', 'o', 'o', 'o', 'o', 'o', 'o', 'o', 'o', 'o', 'o', 'o', 'o', 'o', 'o', 'o', 'o', 'o', 'o', 'o', 'o', 'o', 'o', 'o', 'o', 'o', 'o', 'o', 'o', 'o', 'o', 'o', 'o', 'o', 'o', 'o', 'o', 'o', 'o', 'o', 'o', 'o', 'o', 'o', 'o', 'o', 'o', 'o', 'o', 'o', 'o', 'o', 'o', 'o', 'o', 'o', 'o', 'o', 'o', 'o', 'o', 'o', 'o', 'o', 'o', 'o', 'o', 'o', 'o', 'o', 'o', 'o', 'o', 'o', 'o', 'o', 'o', 'o', 'o', 'o', 'o', 'o', 'o', 'o', 'o']\n",
            "----------------------------------------------------------------------------------------------------\n",
            "Original  :  ['o', 'o', 'o', 'o', 'o', 'o', 'o', 'o', 'o', 'o', 'o', 'o', 'o', 'o', 'b-database', 'i-database', 'i-database', 'o', 'o', 'o', 'o', 'o', 'o', 'b-organization', 'o', 'o', 'o', 'o', 'o', 'o', 'o', 'o', 'o', 'o', 'o', 'o', 'o', 'o', 'o', 'o', 'o', 'b-archive', 'i-archive', 'i-archive', 'i-archive', 'o', 'o', 'o', 'o', 'o', 'o', 'o', 'o', 'b-person', 'i-person', 'b-person', 'i-person', 'b-person', 'i-person', 'b-person', 'i-person', 'b-person', 'i-person', 'b-person', 'i-person', 'b-person', 'i-person', 'b-person', 'i-person', 'b-person', 'i-person', 'b-person', 'i-person', 'b-person', 'i-person', 'b-person', 'i-person', 'o', 'b-person', 'i-person', 'o', 'o', 'o', 'o', 'o', 'o', 'o', 'o', 'o', 'o', 'o', 'o', 'b-person', 'i-person', 'i-person', 'o', 'o', 'o', 'o', 'o', 'o', 'o', 'o', 'o', 'o', 'o', 'o', 'o', None, None, None, None, None, None, None, None, None, None, None, None, None, None, None, None, None, None, None, None, None, None, None, None, None, None, None, None, None, None, None, None, None, None, None, None, None, None, None, None, None, None, None, None, None, None, None, None, None, None, None, None, None, None, None, None, None, None, None, None, None, None, None, None, None, None, None, None, None, None, None, None, None, None, None, None, None, None, None, None, None, None, None, None, None, None, None, None, None, None, None, None, None, None, None, None, None, None, None, None, None, None, None, None, None, None, None, None, None, None, None, None, None, None, None, None, None, None, None, None, None, None, None, None, None, None, None, None, None, None, None, None, None, None, None, None, None, None, None, None, None, None, None, None, None, None, None, None, None, None, None, None, None, None, None, None, None, None, None, None, None, None, None, None, None, None, None, None, None, None, None, None, None, None, None, None, None, None, None, None, None, None, None, None, None, None, None, None, None, None, None, None, None, None, None, None, None, None, None, None, None, None, None, None, None, None, None, None, None, None, None, None, None, None, None, None, None, None, None, None, None, None, None, None, None, None, None, None, None, None, None, None, None, None, None, None, None, None, None, None, None, None, None, None, None, None, None, None, None, None, None, None, None, None, None, None, None, None, None, None, None, None, None, None, None, None, None, None, None, None, None, None, None, None, None, None, None, None, None, None, None, None, None, None, None, None, None, None, None, None, None, None]\n",
            "predicted :  ['o', 'o', 'o', 'o', 'o', 'o', 'o', 'o', 'o', 'o', 'o', 'o', 'o', 'o', 'b-person', 'i-location', 'i-telescope', 'o', 'o', 'o', 'o', 'o', 'o', 'b-person', 'o', 'o', 'o', 'o', 'o', 'o', 'o', 'o', 'o', 'o', 'o', 'o', 'o', 'o', 'o', 'o', 'o', 'b-telescope', 'o', 'i-archive', 'i-archive', 'o', 'o', 'o', 'o', 'o', 'o', 'o', 'o', 'b-person', 'i-person', 'b-person', 'i-person', 'b-person', 'i-person', 'b-person', 'i-person', 'b-person', 'i-person', 'b-person', 'i-person', 'b-person', 'i-person', 'b-person', 'i-person', 'b-person', 'i-person', 'b-person', 'i-person', 'b-person', 'i-person', 'b-person', 'i-person', 'o', 'b-person', 'i-person', 'o', 'o', 'o', 'o', 'o', 'o', 'o', 'o', 'o', 'o', 'o', 'o', 'b-person', 'i-person', 'i-person', 'o', 'o', 'o', 'o', 'o', 'o', 'o', 'o', 'o', 'o', 'o', 'o', 'o', 'o', 'o', 'o', 'o', 'o', 'o', 'o', 'o', 'o', 'o', 'o', 'o', 'o', 'o', 'o', 'o', 'o', 'o', 'o', 'o', 'o', 'o', 'o', 'o', 'o', 'o', 'o', 'o', 'o', 'o', 'o', 'o', 'o', 'o', 'o', 'o', 'o', 'o', 'o', 'o', 'o', 'o', 'o', 'o', 'o', 'o', 'o', 'o', 'o', 'o', 'o', 'o', 'o', 'o', 'o', 'o', 'o', 'o', 'o', 'o', 'o', 'o', 'o', 'o', 'o', 'o', 'o', 'o', 'o', 'o', 'o', 'o', 'o', 'o', 'o', 'o', 'o', 'o', 'o', 'o', 'o', 'o', 'o', 'o', 'o', 'o', 'o', 'o', 'o', 'o', 'o', 'o', 'o', 'o', 'o', 'o', 'o', 'o', 'o', 'o', 'o', 'o', 'o', 'o', 'o', 'o', 'o', 'o', 'o', 'o', 'o', 'o', 'o', 'o', 'o', 'o', 'o', 'o', 'o', 'o', 'o', 'o', 'o', 'o', 'o', 'o', 'o', 'o', 'o', 'o', 'o', 'o', 'o', 'o', 'o', 'o', 'o', 'o', 'o', 'o', 'o', 'o', 'o', 'o', 'o', 'o', 'o', 'o', 'o', 'o', 'o', 'o', 'o', 'o', 'o', 'o', 'o', 'o', 'o', 'o', 'o', 'o', 'o', 'o', 'o', 'o', 'o', 'o', 'o', 'o', 'o', 'o', 'o', 'o', 'o', 'o', 'o', 'o', 'o', 'o', 'o', 'o', 'o', 'o', 'o', 'o', 'o', 'o', 'o', 'o', 'o', 'o', 'o', 'o', 'o', 'o', 'o', 'o', 'o', 'o', 'o', 'o', 'o', 'o', 'o', 'o', 'o', 'o', 'o', 'o', 'o', 'o', 'o', 'o', 'o', 'o', 'o', 'o', 'o', 'o', 'o', 'o', 'o', 'o', 'o', 'o', 'o', 'o', 'o', 'o', 'o', 'o', 'o', 'o', 'o', 'o', 'o', 'o', 'o', 'o', 'o', 'o', 'o', 'o', 'o', 'o', 'o', 'o', 'o', 'o', 'o', 'o', 'o', 'o', 'o', 'o', 'o', 'o', 'o', 'o', 'o', 'o', 'o', 'o', 'o', 'o', 'o', 'o', 'o', 'o', 'o', 'o', 'o', 'o', 'o', 'o', 'o', 'o', 'o', 'o', 'o', 'o', 'o', 'o', 'o', 'o', 'o', 'o', 'o', 'o', 'o', 'o']\n",
            "----------------------------------------------------------------------------------------------------\n"
          ]
        }
      ]
    },
    {
      "cell_type": "markdown",
      "source": [
        "### BI-Directional LSTM :"
      ],
      "metadata": {
        "id": "gkBXlQaYIJjX"
      }
    },
    {
      "cell_type": "markdown",
      "source": [
        "https://www.kaggle.com/code/shahad001/named-entity-recognition-ner"
      ],
      "metadata": {
        "id": "jQQwTra7Iaoq"
      }
    },
    {
      "cell_type": "code",
      "source": [
        "model_bidirectional_lstm = tf.keras.models.Sequential([\n",
        "    tf.keras.layers.Embedding(input_dim=len(unique_vocab)+1,output_dim=400,mask_zero=True),\n",
        "    tf.keras.layers.Bidirectional(tf.keras.layers.LSTM(units=100, activation='tanh', return_sequences=True)),\n",
        "    tf.keras.layers.Bidirectional(tf.keras.layers.LSTM(units=100, activation='tanh', return_sequences=True)),\n",
        "    tf.keras.layers.TimeDistributed(tf.keras.layers.Dense(63, activation='softmax'))\n",
        "])"
      ],
      "metadata": {
        "id": "F2qHJq1NIaoq"
      },
      "execution_count": null,
      "outputs": []
    },
    {
      "cell_type": "code",
      "source": [
        "model_bidirectional_lstm.summary()"
      ],
      "metadata": {
        "colab": {
          "base_uri": "https://localhost:8080/"
        },
        "outputId": "5f11e830-c0ca-4dd7-e509-c23786be4a00",
        "id": "6CJFyVR4Iaoq"
      },
      "execution_count": null,
      "outputs": [
        {
          "output_type": "stream",
          "name": "stdout",
          "text": [
            "Model: \"sequential\"\n",
            "_________________________________________________________________\n",
            " Layer (type)                Output Shape              Param #   \n",
            "=================================================================\n",
            " embedding_1 (Embedding)     (None, None, 400)         18301600  \n",
            "                                                                 \n",
            " bidirectional (Bidirectiona  (None, None, 200)        400800    \n",
            " l)                                                              \n",
            "                                                                 \n",
            " bidirectional_1 (Bidirectio  (None, None, 200)        240800    \n",
            " nal)                                                            \n",
            "                                                                 \n",
            " time_distributed (TimeDistr  (None, None, 63)         12663     \n",
            " ibuted)                                                         \n",
            "                                                                 \n",
            "=================================================================\n",
            "Total params: 18,955,863\n",
            "Trainable params: 18,955,863\n",
            "Non-trainable params: 0\n",
            "_________________________________________________________________\n"
          ]
        }
      ]
    },
    {
      "cell_type": "code",
      "source": [
        "model_bidirectional_lstm.compile(loss='sparse_categorical_crossentropy',\n",
        "              optimizer='adam',\n",
        "              metrics=['accuracy'])"
      ],
      "metadata": {
        "id": "w7UJ-MQDIaoq"
      },
      "execution_count": null,
      "outputs": []
    },
    {
      "cell_type": "code",
      "source": [
        "history_bidirectional_lstm = model_bidirectional_lstm.fit(x_train,y_train,epochs=40,batch_size=40,validation_split=0.2,callbacks=my_callbacks)"
      ],
      "metadata": {
        "colab": {
          "base_uri": "https://localhost:8080/"
        },
        "outputId": "5dac27ff-3850-42fa-c735-8701e888afe6",
        "id": "o6w-BrgcIaoq"
      },
      "execution_count": null,
      "outputs": [
        {
          "output_type": "stream",
          "name": "stdout",
          "text": [
            "Epoch 1/40\n",
            "25/25 [==============================] - 128s 4s/step - loss: 1.3018 - accuracy: 0.7741 - val_loss: 0.6948 - val_accuracy: 0.8205\n",
            "Epoch 2/40\n",
            "25/25 [==============================] - 100s 4s/step - loss: 0.7168 - accuracy: 0.8096 - val_loss: 0.6660 - val_accuracy: 0.8205\n",
            "Epoch 3/40\n",
            "25/25 [==============================] - 100s 4s/step - loss: 0.6781 - accuracy: 0.8097 - val_loss: 0.5901 - val_accuracy: 0.8213\n",
            "Epoch 4/40\n",
            "25/25 [==============================] - 101s 4s/step - loss: 0.5676 - accuracy: 0.8168 - val_loss: 0.4866 - val_accuracy: 0.8371\n",
            "Epoch 5/40\n",
            "25/25 [==============================] - 100s 4s/step - loss: 0.4443 - accuracy: 0.8511 - val_loss: 0.3929 - val_accuracy: 0.8637\n",
            "Epoch 6/40\n",
            "25/25 [==============================] - 101s 4s/step - loss: 0.3504 - accuracy: 0.8711 - val_loss: 0.3474 - val_accuracy: 0.8789\n",
            "Epoch 7/40\n",
            "25/25 [==============================] - 101s 4s/step - loss: 0.2946 - accuracy: 0.8909 - val_loss: 0.3280 - val_accuracy: 0.8851\n",
            "Epoch 8/40\n",
            "25/25 [==============================] - 100s 4s/step - loss: 0.2573 - accuracy: 0.9029 - val_loss: 0.3132 - val_accuracy: 0.8904\n",
            "Epoch 9/40\n",
            "25/25 [==============================] - 99s 4s/step - loss: 0.2285 - accuracy: 0.9135 - val_loss: 0.3055 - val_accuracy: 0.8931\n",
            "Epoch 10/40\n",
            "25/25 [==============================] - 99s 4s/step - loss: 0.2027 - accuracy: 0.9210 - val_loss: 0.2920 - val_accuracy: 0.8977\n",
            "Epoch 11/40\n",
            "25/25 [==============================] - 102s 4s/step - loss: 0.1797 - accuracy: 0.9296 - val_loss: 0.2891 - val_accuracy: 0.8998\n",
            "Epoch 12/40\n",
            "25/25 [==============================] - 102s 4s/step - loss: 0.1590 - accuracy: 0.9370 - val_loss: 0.2878 - val_accuracy: 0.9036\n",
            "Epoch 13/40\n",
            "25/25 [==============================] - 103s 4s/step - loss: 0.1402 - accuracy: 0.9449 - val_loss: 0.2838 - val_accuracy: 0.9070\n",
            "Epoch 14/40\n",
            "25/25 [==============================] - 103s 4s/step - loss: 0.1229 - accuracy: 0.9522 - val_loss: 0.2805 - val_accuracy: 0.9091\n",
            "Epoch 15/40\n",
            "25/25 [==============================] - 102s 4s/step - loss: 0.1070 - accuracy: 0.9601 - val_loss: 0.2841 - val_accuracy: 0.9118\n",
            "Epoch 16/40\n",
            "25/25 [==============================] - 102s 4s/step - loss: 0.0944 - accuracy: 0.9659 - val_loss: 0.2845 - val_accuracy: 0.9117\n",
            "Epoch 17/40\n",
            "25/25 [==============================] - 101s 4s/step - loss: 0.0834 - accuracy: 0.9703 - val_loss: 0.2893 - val_accuracy: 0.9132\n",
            "Epoch 18/40\n",
            "25/25 [==============================] - 102s 4s/step - loss: 0.0716 - accuracy: 0.9753 - val_loss: 0.2863 - val_accuracy: 0.9144\n",
            "Epoch 19/40\n",
            "25/25 [==============================] - 101s 4s/step - loss: 0.0598 - accuracy: 0.9806 - val_loss: 0.2878 - val_accuracy: 0.9165\n"
          ]
        }
      ]
    },
    {
      "cell_type": "code",
      "source": [
        "# Helper function to plot the data\n",
        "# Plot the loss of the model\n",
        "plt.rcParams[\"figure.figsize\"] = (10,8)\n",
        "plt.title(\"Early stop model\")\n",
        "plt.semilogy(history_bidirectional_lstm.history['loss'], label='Train Loss', color='#FF9A98', linewidth=2)\n",
        "plt.semilogy(history_bidirectional_lstm.history['val_loss'],  label='Validation Loss', color='#75B594', linewidth=2)\n",
        "plt.legend()\n",
        "\n",
        "# Set the axes labels\n",
        "plt.xlabel('Epochs')\n",
        "plt.ylabel('Log MSE Loss')\n",
        "plt.legend()\n",
        "plt.show()"
      ],
      "metadata": {
        "colab": {
          "base_uri": "https://localhost:8080/",
          "height": 513
        },
        "outputId": "f41f0694-44d7-498f-d6f7-d17af9a91aa4",
        "id": "hZ69szSvIaor"
      },
      "execution_count": null,
      "outputs": [
        {
          "output_type": "display_data",
          "data": {
            "text/plain": [
              "<Figure size 720x576 with 1 Axes>"
            ],
            "image/png": "[encoded data removed]"
          },
          "metadata": {
            "needs_background": "light"
          }
        }
      ]
    },
    {
      "cell_type": "code",
      "source": [
        "# Helper function to plot the data\n",
        "# Plot the loss of the model\n",
        "plt.rcParams[\"figure.figsize\"] = (10,8)\n",
        "plt.title(\"Early stop model\")\n",
        "plt.semilogy(history_bidirectional_lstm.history['accuracy'], label='Train accuracy', color='#FF9A98', linewidth=2)\n",
        "plt.semilogy(history_bidirectional_lstm.history['val_accuracy'],  label='Validation accuracy', color='#75B594', linewidth=2)\n",
        "plt.legend()\n",
        "\n",
        "# Set the axes labels\n",
        "plt.xlabel('Epochs')\n",
        "plt.ylabel('accuracy')\n",
        "plt.legend()\n",
        "plt.show()"
      ],
      "metadata": {
        "colab": {
          "base_uri": "https://localhost:8080/",
          "height": 513
        },
        "outputId": "1d0be23f-02f0-4daf-dd30-ac24430d1f9f",
        "id": "MgbSO_DEIaor"
      },
      "execution_count": null,
      "outputs": [
        {
          "output_type": "display_data",
          "data": {
            "text/plain": [
              "<Figure size 720x576 with 1 Axes>"
            ],
            "image/png": "[encoded data removed]"
          },
          "metadata": {
            "needs_background": "light"
          }
        }
      ]
    },
    {
      "cell_type": "code",
      "source": [
        "# Evaluating on test set\n",
        "model_bidirectional_lstm.evaluate(x_test,y_test)"
      ],
      "metadata": {
        "colab": {
          "base_uri": "https://localhost:8080/"
        },
        "outputId": "6f3d6cc1-19ca-4846-bb62-c6f190d19ae4",
        "id": "5B3idDEiIaor"
      },
      "execution_count": null,
      "outputs": [
        {
          "output_type": "stream",
          "name": "stdout",
          "text": [
            "17/17 [==============================] - 13s 705ms/step - loss: 0.2789 - accuracy: 0.9075\n"
          ]
        },
        {
          "output_type": "execute_result",
          "data": {
            "text/plain": [
              "[0.27887770533561707, 0.9074718952178955]"
            ]
          },
          "metadata": {},
          "execution_count": 425
        }
      ]
    },
    {
      "cell_type": "code",
      "source": [
        "model_bidirectional_lstm.save_weights('/content/gdrive/MyDrive/AI3 Project/model_lstm.h5')"
      ],
      "metadata": {
        "id": "sJAEVIJXIaor"
      },
      "execution_count": null,
      "outputs": []
    },
    {
      "cell_type": "code",
      "source": [
        "model_bidirectional_lstm.load_weights('/content/gdrive/MyDrive/AI3 Project/model_lstm.h5')"
      ],
      "metadata": {
        "id": "amr5spWqIaor"
      },
      "execution_count": null,
      "outputs": []
    },
    {
      "cell_type": "markdown",
      "source": [
        "**To evaluate on a test sample**"
      ],
      "metadata": {
        "id": "KEyIQjQYIaor"
      }
    },
    {
      "cell_type": "code",
      "source": [
        "for i in range(5):\n",
        "  y_pred = model_bidirectional_lstm.predict(np.array([x_test[i]]))\n",
        "  pred = np.argmax(np.array(y_pred), axis=-1)\n",
        "  print(\"Original  : \",[*map(Tokenizer_for_tags.index_word.get, y_test[i])])\n",
        "  print(\"predicted : \",[*map(Tokenizer_for_tags.index_word.get, pred[0])])\n",
        "  print(\"-\"*100)"
      ],
      "metadata": {
        "colab": {
          "base_uri": "https://localhost:8080/"
        },
        "outputId": "21619e44-caba-4684-a9e0-bdd6034f59f8",
        "id": "jKrTdTpWIaor"
      },
      "execution_count": null,
      "outputs": [
        {
          "output_type": "stream",
          "name": "stdout",
          "text": [
            "Original  :  ['o', 'o', 'o', 'o', 'o', 'o', 'o', 'o', 'o', 'o', 'o', 'o', 'o', 'o', 'o', 'o', 'b-celestialobject', 'o', 'o', 'o', 'o', 'o', 'o', 'o', 'o', 'o', 'o', 'o', 'o', 'o', 'o', 'o', 'o', 'o', 'o', 'o', 'o', 'o', 'o', 'o', 'o', 'o', 'o', 'o', 'o', 'o', 'o', 'o', 'o', 'o', 'o', 'o', 'o', 'o', 'o', 'o', 'o', 'o', 'o', 'o', 'o', 'o', 'o', 'o', 'o', 'o', 'o', 'o', 'o', 'o', 'o', 'o', 'b-model', 'i-model', 'o', 'o', 'o', 'o', 'o', 'o', 'o', 'o', 'o', 'o', 'o', 'o', 'o', 'o', 'o', 'o', 'o', 'o', 'o', 'o', 'o', 'o', 'o', 'o', 'o', 'o', 'o', 'o', 'o', 'o', 'o', 'o', 'o', 'o', 'o', 'o', 'o', 'o', 'o', 'o', 'o', 'o', 'o', 'o', 'o', 'o', 'o', 'o', 'o', 'o', 'o', 'o', 'o', 'o', 'o', 'o', 'o', 'o', 'o', 'o', 'o', 'o', 'o', 'o', 'o', 'o', 'o', 'o', 'o', 'o', 'o', 'o', 'o', 'o', 'o', 'o', 'o', 'o', 'o', 'o', 'o', 'o', 'o', 'o', 'o', 'o', 'o', 'o', 'o', 'o', 'o', 'o', 'o', 'o', 'o', 'o', 'o', 'o', 'o', 'o', 'o', 'o', 'o', 'o', 'o', 'o', 'o', 'o', 'o', 'o', 'o', 'o', 'o', 'o', 'o', 'o', 'o', 'o', 'o', 'o', 'o', 'o', 'o', 'o', 'o', 'o', 'o', 'o', 'o', 'o', 'o', 'o', 'o', 'o', 'o', 'o', 'o', 'o', 'o', 'o', 'o', 'o', 'o', 'o', 'o', 'o', 'o', 'o', 'o', 'o', 'o', 'o', 'o', 'o', 'o', 'o', 'o', 'o', 'o', 'o', 'o', 'o', 'o', 'o', 'b-celestialobject', 'o', 'o', 'o', 'o', 'o', 'o', 'o', 'o', 'o', 'o', 'b-celestialobject', 'o', 'o', 'o', 'b-citation', 'i-citation', 'i-citation', 'i-citation', 'o', 'b-citation', 'i-citation', 'i-citation', 'i-citation', 'o', 'b-citation', 'i-citation', 'i-citation', 'i-citation', 'o', 'o', 'o', 'o', 'o', 'o', 'o', 'o', 'o', 'o', 'o', 'o', 'o', 'o', 'o', 'o', 'o', 'b-celestialobject', 'i-celestialobject', 'o', 'o', 'o', 'o', 'o', 'o', 'o', 'b-telescope', 'i-telescope', 'i-telescope', 'i-telescope', 'b-telescope', 'o', 'b-telescope', 'i-telescope', 'i-telescope', 'b-telescope', 'o', 'o', 'b-location', 'b-telescope', 'i-telescope', 'i-telescope', 'i-telescope', 'i-telescope', 'i-telescope', 'b-telescope', 'o', 'o', 'o', 'o', 'o', 'o', 'o', 'b-citation', 'i-citation', 'i-citation', 'i-citation', 'o', 'o', 'o', 'o', 'o', 'o', 'o', 'o', 'o', 'o', 'o', 'o', 'o', 'o', 'o', 'o', 'o', 'o', 'o', 'o', 'o', 'o', 'o', 'o', 'o', 'o', 'o', 'o', 'o', 'o', 'o', 'o', 'o', 'o', 'o', 'o', 'o', 'o', 'b-celestialobjectregion', 'i-celestialobjectregion', 'o', 'o', 'o', 'o', 'o', 'o', 'o', 'o', 'o', 'o', 'o', 'o', 'o', 'o', 'o', 'o', 'o', 'b-celestialobjectregion', 'i-celestialobjectregion', 'o', 'o', 'o', 'o', 'o', 'o', 'o', 'o', 'o', 'o', 'o', 'o', 'b-celestialregion', 'i-celestialregion', 'i-celestialregion', 'i-celestialregion', 'i-celestialregion']\n",
            "predicted :  ['o', 'o', 'o', 'o', 'o', 'o', 'o', 'o', 'o', 'o', 'o', 'o', 'o', 'o', 'o', 'o', 'b-celestialobject', 'i-celestialobject', 'o', 'o', 'o', 'o', 'o', 'o', 'o', 'o', 'o', 'o', 'o', 'o', 'o', 'o', 'o', 'o', 'o', 'o', 'o', 'o', 'o', 'o', 'o', 'o', 'o', 'o', 'o', 'o', 'o', 'o', 'b-wavelength', 'o', 'b-wavelength', 'o', 'o', 'o', 'o', 'o', 'o', 'o', 'o', 'o', 'o', 'o', 'o', 'o', 'o', 'o', 'o', 'o', 'o', 'o', 'o', 'o', 'b-telescope', 'i-celestialobject', 'o', 'o', 'o', 'o', 'o', 'o', 'o', 'o', 'o', 'o', 'o', 'o', 'o', 'o', 'o', 'b-wavelength', 'o', 'o', 'o', 'o', 'o', 'o', 'o', 'o', 'o', 'o', 'o', 'o', 'o', 'o', 'o', 'o', 'o', 'o', 'o', 'o', 'o', 'o', 'o', 'o', 'o', 'o', 'o', 'o', 'o', 'o', 'o', 'o', 'o', 'o', 'o', 'o', 'o', 'o', 'o', 'o', 'o', 'o', 'o', 'o', 'o', 'o', 'o', 'o', 'o', 'o', 'o', 'o', 'o', 'o', 'o', 'o', 'o', 'o', 'o', 'o', 'o', 'o', 'o', 'o', 'o', 'o', 'o', 'o', 'o', 'o', 'o', 'o', 'o', 'o', 'o', 'o', 'o', 'o', 'o', 'o', 'o', 'o', 'o', 'o', 'o', 'o', 'o', 'o', 'o', 'o', 'o', 'o', 'o', 'o', 'o', 'o', 'o', 'o', 'o', 'o', 'o', 'o', 'o', 'o', 'o', 'o', 'o', 'o', 'o', 'o', 'o', 'o', 'o', 'o', 'o', 'o', 'o', 'o', 'o', 'o', 'o', 'o', 'o', 'o', 'o', 'o', 'o', 'o', 'o', 'o', 'o', 'o', 'o', 'o', 'o', 'o', 'o', 'o', 'o', 'o', 'o', 'o', 'o', 'o', 'o', 'o', 'o', 'o', 'b-telescope', 'i-wavelength', 'o', 'o', 'o', 'o', 'o', 'o', 'o', 'o', 'o', 'b-celestialobject', 'i-celestialobject', 'o', 'o', 'b-citation', 'i-citation', 'i-citation', 'i-citation', 'o', 'b-citation', 'i-citation', 'i-citation', 'i-citation', 'o', 'b-citation', 'i-citation', 'i-citation', 'i-citation', 'o', 'o', 'o', 'o', 'o', 'o', 'o', 'o', 'o', 'o', 'o', 'o', 'o', 'o', 'o', 'o', 'o', 'b-celestialobject', 'i-celestialobject', 'i-celestialobject', 'o', 'o', 'o', 'o', 'o', 'o', 'o', 'o', 'i-celestialobject', 'i-celestialobject', 'o', 'o', 'b-observatory', 'i-observatory', 'i-telescope', 'o', 'o', 'o', 'b-organization', 'b-organization', 'i-organization', 'i-organization', 'i-organization', 'i-organization', 'o', 'o', 'o', 'o', 'o', 'o', 'o', 'o', 'o', 'b-citation', 'i-citation', 'i-citation', 'i-citation', 'o', 'o', 'o', 'o', 'o', 'o', 'o', 'o', 'o', 'o', 'o', 'o', 'o', 'o', 'o', 'o', 'o', 'o', 'o', 'o', 'o', 'o', 'o', 'o', 'o', 'o', 'o', 'o', 'o', 'o', 'o', 'o', 'o', 'o', 'o', 'o', 'o', 'o', 'b-wavelength', 'i-wavelength', 'o', 'o', 'o', 'o', 'o', 'o', 'i-formula', 'i-formula', 'i-formula', 'o', 'o', 'o', 'b-wavelength', 'o', 'o', 'o', 'o', 'b-telescope', 'i-wavelength', 'o', 'o', 'o', 'o', 'o', 'o', 'o', 'o', 'o', 'o', 'o', 'o', 'o', 'i-formula', 'i-formula', 'i-formula', 'o']\n",
            "----------------------------------------------------------------------------------------------------\n",
            "Original  :  ['o', 'o', 'o', 'o', 'o', 'o', 'o', 'o', 'o', 'o', 'o', 'o', 'o', 'o', 'o', 'o', 'o', 'o', 'o', 'o', 'o', 'o', 'o', 'o', 'o', 'o', 'o', 'o', 'b-citation', 'i-citation', 'i-citation', 'i-citation', 'o', 'b-citation', 'i-citation', 'i-citation', 'o', 'o', 'o', 'o', 'o', 'o', 'o', 'o', 'o', 'o', 'o', 'o', 'o', 'b-celestialobject', 'o', 'o', 'o', 'o', 'o', 'o', 'o', 'o', 'o', 'o', 'o', 'o', 'o', 'o', 'o', 'o', 'o', 'o', 'o', 'o', 'o', 'o', 'o', 'o', 'o', 'b-celestialobject', 'i-celestialobject', 'o', 'o', 'o', 'o', 'b-celestialobject', 'i-celestialobject', 'o', 'o', 'o', 'o', 'b-celestialobject', 'o', 'b-celestialobject', 'o', 'o', 'o', 'o', 'o', 'o', 'o', 'o', 'o', 'o', 'o', 'o', 'o', 'o', 'o', 'o', 'o', 'o', 'o', 'o', 'b-celestialobject', 'i-celestialobject', 'o', 'o', 'o', 'o', 'o', 'o', 'o', 'o', 'o', 'o', 'o', 'o', 'o', 'o', 'o', 'b-celestialobject', 'o', 'o', 'o', 'o', 'o', 'o', 'o', 'o', 'o', 'o', 'b-celestialobject', 'o', 'o', 'o', 'o', 'o', 'b-celestialobject', 'o', 'o', 'o', 'o', 'o', 'o', 'b-celestialobject', 'i-celestialobject', 'o', 'o', 'o', 'o', 'o', 'o', 'o', 'o', 'o', 'o', 'o', 'o', 'o', 'o', 'o', 'o', 'o', 'o', 'o', 'b-celestialobject', 'i-celestialobject', 'o', 'o', 'o', 'o', 'o', 'o', 'o', 'o', 'o', 'b-celestialobject', 'o', 'o', 'o', 'o', 'o', 'o', 'o', 'o', 'b-celestialobject', 'i-celestialobject', 'o', 'o', 'o', 'o', 'o', 'b-celestialobject', 'o', 'o', 'o', 'b-citation', 'i-citation', 'i-citation', 'o', 'b-citation', 'i-citation', 'i-citation', 'o', 'o', 'o', 'b-celestialobject', 'o', 'o', 'o', 'o', 'o', 'o', 'o', 'o', 'o', 'o', 'b-celestialobject', 'o', 'o', 'o', 'o', 'o', 'o', 'o', 'o', 'o', 'o', 'o', 'o', 'o', 'o', 'o', 'o', 'o', 'o', 'o', 'o', 'o', 'o', 'b-celestialobject', 'b-citation', 'i-citation', 'i-citation', 'o', 'o', 'o', 'o', 'o', 'o', 'o', 'o', 'b-celestialobject', 'i-celestialobject', 'o', 'o', 'o', 'o', 'o', 'o', 'o', 'o', 'o', 'o', 'o', 'o', 'o', 'o', 'o', 'o', 'o', 'o', 'o', 'o', 'o', 'o', 'o', 'o', 'o', 'o', 'o', 'o', 'o', 'o', 'o', 'o', 'o', 'b-celestialobject', 'o', 'o', 'o', 'o', 'o', 'o', 'o', 'o', 'o', 'o', 'o', 'o', 'o', 'b-celestialobject', 'i-celestialobject', 'o', 'o', 'o', 'o', 'o', 'o', 'o', 'o', 'o', 'o', 'o', 'o', 'o', 'o', 'o', 'o', 'o', 'o', 'o', 'o', 'o', 'o', 'o', 'o', 'o', 'o', 'o', 'o', 'o', 'o', 'o', 'o', 'o', 'o', 'o', 'o', 'o', 'o', 'o', 'o', 'o', 'o', 'o', 'o', 'o', 'o', 'o', 'o', 'o', 'o', 'o', 'o', 'o', 'o', 'o', 'o', 'o', 'o', 'o', 'b-celestialobject', 'i-celestialobject', 'o', 'o', 'o', 'o', 'o', 'o', 'o', 'o', 'o', 'o', 'b-celestialobject', 'o', 'o', 'o', 'o', 'o', 'o', 'o', 'o', 'o', 'o', 'o', 'b-celestialobject', 'i-celestialobject', 'b-citation', 'i-citation', 'i-citation', 'i-citation', 'o']\n",
            "predicted :  ['o', 'o', 'o', 'o', 'o', 'o', 'o', 'o', 'o', 'o', 'o', 'o', 'o', 'o', 'o', 'o', 'o', 'o', 'o', 'o', 'o', 'o', 'o', 'o', 'o', 'o', 'o', 'o', 'b-citation', 'i-citation', 'i-citation', 'i-citation', 'o', 'b-citation', 'b-citation', 'i-citation', 'o', 'o', 'o', 'o', 'o', 'o', 'o', 'o', 'o', 'o', 'o', 'o', 'o', 'b-celestialobject', 'o', 'o', 'o', 'o', 'o', 'o', 'o', 'o', 'o', 'o', 'o', 'o', 'o', 'o', 'o', 'o', 'o', 'o', 'o', 'o', 'o', 'o', 'o', 'o', 'o', 'o', 'o', 'o', 'o', 'o', 'o', 'o', 'o', 'o', 'o', 'o', 'o', 'b-observatory', 'i-celestialobject', 'i-citation', 'o', 'o', 'o', 'o', 'o', 'o', 'o', 'o', 'o', 'b-wavelength', 'o', 'o', 'o', 'o', 'o', 'o', 'o', 'o', 'o', 'o', 'i-wavelength', 'o', 'o', 'o', 'b-wavelength', 'o', 'o', 'o', 'b-wavelength', 'o', 'o', 'o', 'o', 'o', 'o', 'o', 'o', 'b-celestialobject', 'o', 'o', 'o', 'o', 'o', 'o', 'o', 'o', 'o', 'o', 'b-celestialobject', 'o', 'o', 'o', 'o', 'o', 'b-celestialobject', 'i-celestialobject', 'o', 'o', 'o', 'o', 'o', 'o', 'o', 'o', 'o', 'o', 'o', 'o', 'o', 'o', 'o', 'o', 'o', 'o', 'o', 'o', 'o', 'o', 'o', 'o', 'o', 'o', 'o', 'o', 'o', 'o', 'o', 'o', 'o', 'o', 'o', 'o', 'o', 'b-celestialobject', 'o', 'o', 'o', 'o', 'o', 'o', 'o', 'o', 'o', 'o', 'o', 'o', 'o', 'o', 'o', 'b-celestialobject', 'i-celestialobject', 'o', 'o', 'o', 'b-citation', 'i-citation', 'o', 'b-citation', 'i-citation', 'i-citation', 'o', 'o', 'o', 'b-celestialobject', 'o', 'o', 'o', 'o', 'o', 'o', 'o', 'o', 'o', 'o', 'b-celestialobject', 'o', 'o', 'o', 'o', 'o', 'o', 'o', 'o', 'o', 'o', 'o', 'o', 'o', 'o', 'o', 'o', 'o', 'o', 'o', 'o', 'o', 'o', 'b-citation', 'i-citation', 'i-citation', 'i-citation', 'o', 'o', 'o', 'o', 'o', 'o', 'o', 'o', 'o', 'o', 'o', 'o', 'o', 'o', 'o', 'o', 'o', 'o', 'o', 'o', 'b-formula', 'i-formula', 'i-formula', 'i-formula', 'i-formula', 'o', 'o', 'o', 'o', 'o', 'o', 'o', 'o', 'o', 'o', 'o', 'o', 'o', 'o', 'o', 'o', 'o', 'o', 'b-wavelength', 'i-formula', 'i-wavelength', 'o', 'o', 'o', 'o', 'o', 'o', 'o', 'o', 'o', 'o', 'o', 'o', 'o', 'o', 'o', 'o', 'o', 'o', 'o', 'o', 'o', 'o', 'o', 'o', 'o', 'o', 'o', 'o', 'o', 'o', 'o', 'o', 'o', 'o', 'o', 'o', 'o', 'o', 'o', 'o', 'o', 'o', 'o', 'o', 'o', 'o', 'o', 'o', 'o', 'o', 'o', 'o', 'o', 'o', 'o', 'o', 'o', 'o', 'o', 'o', 'o', 'o', 'o', 'o', 'o', 'o', 'o', 'o', 'o', 'o', 'o', 'o', 'o', 'o', 'o', 'o', 'o', 'o', 'o', 'o', 'o', 'o', 'o', 'o', 'o', 'o', 'o', 'o', 'o', 'o', 'o', 'o', 'o', 'o', 'o', 'o', 'b-citation', 'i-citation', 'b-citation', 'i-citation', 'i-citation', 'i-citation', 'i-citation']\n",
            "----------------------------------------------------------------------------------------------------\n",
            "Original  :  ['b-person', 'b-person', 'o', 'b-person', 'o', 'o', 'o', 'o', 'o', 'o', 'b-organization', 'o', 'o', 'b-grant', 'i-grant', 'i-grant', 'i-grant', 'i-grant', 'i-grant', 'o', 'b-grant', 'i-grant', 'b-grant', 'i-grant', 'o', 'b-grant', 'i-grant', 'b-person', 'o', 'o', 'b-organization', 'i-organization', 'i-organization', 'i-organization', 'i-organization', 'i-organization', 'o', 'o', 'o', 'b-organization', 'i-organization', 'i-organization', 'i-organization', 'b-person', 'o', 'o', 'o', 'o', 'o', 'b-organization', 'o', 'o', 'o', 'b-grant', 'o', 'o', 'o', 'b-grant', 'i-grant', 'i-grant', 'i-grant', 'i-grant', 'i-grant', 'i-grant', 'o', 'o', 'b-grant', 'b-person', 'o', 'o', 'o', 'o', 'o', 'b-grant', 'i-grant', 'i-grant', 'o', 'o', 'b-person', 'o', 'o', 'o', 'o', 'o', 'o', 'o', 'b-organization', 'i-organization', 'i-organization', 'i-organization', 'i-organization', 'b-organization', 'o', 'o', 'o', 'o', 'o', 'o', 'o', 'b-person', 'i-person', 'b-person', 'i-person', 'o', 'b-person', 'i-person', 'o', 'o', 'o', 'o', 'o', 'o', 'o', 'o', 'o', 'o', 'b-person', 'i-person', 'o', 'o', 'o', 'o', 'o', 'o', 'o', 'o', 'o', 'o', 'o', 'o', 'o', 'o', 'o', 'o', 'o', 'o', 'b-organization', 'i-organization', 'i-organization', 'o', 'o', 'o', 'b-organization', 'b-grant', 'o', 'o', 'o', 'o', 'o', 'o', 'o', 'o', 'o', 'o', 'o', 'b-software', 'i-software', 'b-citation', 'i-citation', 'i-citation', 'i-citation', 'o', 'o', 'o', 'o', 'o', 'o', 'o', 'o', 'b-computingfacility', 'i-computingfacility', 'i-computingfacility', 'o', 'o', 'o', 'b-grant', None, None, None, None, None, None, None, None, None, None, None, None, None, None, None, None, None, None, None, None, None, None, None, None, None, None, None, None, None, None, None, None, None, None, None, None, None, None, None, None, None, None, None, None, None, None, None, None, None, None, None, None, None, None, None, None, None, None, None, None, None, None, None, None, None, None, None, None, None, None, None, None, None, None, None, None, None, None, None, None, None, None, None, None, None, None, None, None, None, None, None, None, None, None, None, None, None, None, None, None, None, None, None, None, None, None, None, None, None, None, None, None, None, None, None, None, None, None, None, None, None, None, None, None, None, None, None, None, None, None, None, None, None, None, None, None, None, None, None, None, None, None, None, None, None, None, None, None, None, None, None, None, None, None, None, None, None, None, None, None, None, None, None, None, None, None, None, None, None, None, None, None, None, None, None, None, None, None, None, None, None, None, None, None, None, None, None, None, None, None, None, None, None, None, None, None, None, None, None, None, None, None, None, None, None, None, None, None, None, None, None, None, None, None, None, None, None, None, None, None, None, None, None, None]\n",
            "predicted :  ['b-person', 'b-person', 'o', 'b-person', 'o', 'o', 'o', 'o', 'o', 'o', 'b-organization', 'i-grant', 'i-grant', 'i-grant', 'i-grant', 'i-grant', 'i-grant', 'i-grant', 'i-grant', 'o', 'b-grant', 'i-grant', 'b-grant', 'i-grant', 'o', 'b-grant', 'b-person', 'b-person', 'o', 'o', 'b-organization', 'i-organization', 'i-organization', 'i-grant', 'i-grant', 'i-grant', 'o', 'o', 'o', 'b-organization', 'i-organization', 'i-organization', 'i-organization', 'b-person', 'o', 'o', 'o', 'o', 'o', 'b-organization', 'o', 'o', 'o', 'b-grant', 'o', 'o', 'o', 'b-grant', 'i-grant', 'i-grant', 'i-grant', 'i-grant', 'i-grant', 'i-grant', 'o', 'o', 'b-grant', 'b-person', 'o', 'o', 'o', 'o', 'o', 'b-grant', 'b-grant', 'i-grant', 'o', 'o', 'b-person', 'o', 'o', 'o', 'o', 'o', 'o', 'o', 'b-organization', 'i-organization', 'i-organization', 'i-organization', 'i-organization', 'i-organization', 'o', 'o', 'o', 'o', 'o', 'o', 'o', 'b-person', 'i-person', 'b-person', 'i-person', 'o', 'b-person', 'i-person', 'o', 'o', 'o', 'o', 'o', 'o', 'o', 'o', 'o', 'o', 'b-person', 'i-person', 'o', 'o', 'o', 'o', 'o', 'o', 'o', 'o', 'o', 'o', 'o', 'o', 'o', 'o', 'o', 'o', 'o', 'o', 'b-organization', 'i-organization', 'i-organization', 'o', 'o', 'o', 'b-organization', 'o', 'o', 'o', 'o', 'o', 'o', 'o', 'o', 'o', 'o', 'o', 'o', 'b-software', 'i-software', 'b-citation', 'i-citation', 'i-citation', 'i-citation', 'o', 'o', 'o', 'o', 'o', 'o', 'o', 'o', 'b-telescope', 'i-telescope', 'o', 'o', 'o', 'o', 'b-grant', 'b-organization', 'b-organization', 'b-organization', 'b-organization', 'b-organization', 'b-organization', 'b-organization', 'b-organization', 'b-organization', 'b-organization', 'b-organization', 'b-organization', 'b-organization', 'b-organization', 'b-organization', 'b-organization', 'b-organization', 'b-organization', 'b-organization', 'b-organization', 'b-organization', 'b-organization', 'b-organization', 'b-organization', 'b-organization', 'b-organization', 'b-organization', 'b-organization', 'b-organization', 'b-organization', 'b-organization', 'b-organization', 'b-organization', 'b-organization', 'b-organization', 'b-organization', 'b-organization', 'b-organization', 'b-organization', 'b-organization', 'b-organization', 'b-organization', 'b-organization', 'b-organization', 'b-organization', 'b-organization', 'b-organization', 'b-organization', 'b-organization', 'b-organization', 'b-organization', 'b-organization', 'b-organization', 'b-organization', 'b-organization', 'b-organization', 'b-organization', 'b-organization', 'b-organization', 'b-organization', 'b-organization', 'b-organization', 'b-organization', 'b-organization', 'b-organization', 'b-organization', 'b-organization', 'b-organization', 'b-organization', 'b-organization', 'b-organization', 'b-organization', 'b-organization', 'b-organization', 'b-organization', 'b-organization', 'b-organization', 'b-organization', 'b-organization', 'b-organization', 'b-organization', 'b-organization', 'b-organization', 'b-organization', 'b-organization', 'b-organization', 'b-organization', 'b-organization', 'b-organization', 'b-organization', 'b-organization', 'b-organization', 'b-organization', 'b-organization', 'b-organization', 'b-organization', 'b-organization', 'b-organization', 'b-organization', 'b-organization', 'b-organization', 'b-organization', 'b-organization', 'b-organization', 'b-organization', 'b-organization', 'b-organization', 'b-organization', 'b-organization', 'b-organization', 'b-organization', 'b-organization', 'b-organization', 'b-organization', 'b-organization', 'b-organization', 'b-organization', 'b-organization', 'b-organization', 'b-organization', 'b-organization', 'b-organization', 'b-organization', 'b-organization', 'b-organization', 'b-organization', 'b-organization', 'b-organization', 'b-organization', 'b-organization', 'b-organization', 'b-organization', 'b-organization', 'b-organization', 'b-organization', 'b-organization', 'b-organization', 'b-organization', 'b-organization', 'b-organization', 'b-organization', 'b-organization', 'b-organization', 'b-organization', 'b-organization', 'b-organization', 'b-organization', 'b-organization', 'b-organization', 'b-organization', 'b-organization', 'b-organization', 'b-organization', 'b-organization', 'b-organization', 'b-organization', 'b-organization', 'b-organization', 'b-organization', 'b-organization', 'b-organization', 'b-organization', 'b-organization', 'b-organization', 'b-organization', 'b-organization', 'b-organization', 'b-organization', 'b-organization', 'b-organization', 'b-organization', 'b-organization', 'b-organization', 'b-organization', 'b-organization', 'b-organization', 'b-organization', 'b-organization', 'b-organization', 'b-organization', 'b-organization', 'b-organization', 'b-organization', 'b-organization', 'b-organization', 'b-organization', 'b-organization', 'b-organization', 'b-organization', 'b-organization', 'b-organization', 'b-organization', 'b-organization', 'b-organization', 'b-organization', 'b-organization', 'b-organization', 'b-organization', 'b-organization', 'b-organization', 'b-organization', 'b-organization', 'b-organization', 'b-organization', 'b-organization', 'b-organization', 'b-organization', 'b-organization', 'b-organization', 'b-organization', 'b-organization', 'b-organization', 'b-organization', 'b-organization', 'b-organization', 'b-organization', 'b-organization', 'b-organization', 'b-organization', 'b-organization', 'b-organization', 'b-organization', 'b-organization', 'b-organization']\n",
            "----------------------------------------------------------------------------------------------------\n",
            "Original  :  ['o', 'o', 'o', 'o', 'o', 'b-organization', 'o', 'b-grant', 'i-grant', 'i-grant', 'i-grant', 'i-grant', 'o', 'b-grant', 'o', 'o', 'o', 'o', 'o', 'o', 'o', 'o', 'o', 'o', 'o', 'o', 'o', 'o', 'o', 'o', 'o', 'o', None, None, None, None, None, None, None, None, None, None, None, None, None, None, None, None, None, None, None, None, None, None, None, None, None, None, None, None, None, None, None, None, None, None, None, None, None, None, None, None, None, None, None, None, None, None, None, None, None, None, None, None, None, None, None, None, None, None, None, None, None, None, None, None, None, None, None, None, None, None, None, None, None, None, None, None, None, None, None, None, None, None, None, None, None, None, None, None, None, None, None, None, None, None, None, None, None, None, None, None, None, None, None, None, None, None, None, None, None, None, None, None, None, None, None, None, None, None, None, None, None, None, None, None, None, None, None, None, None, None, None, None, None, None, None, None, None, None, None, None, None, None, None, None, None, None, None, None, None, None, None, None, None, None, None, None, None, None, None, None, None, None, None, None, None, None, None, None, None, None, None, None, None, None, None, None, None, None, None, None, None, None, None, None, None, None, None, None, None, None, None, None, None, None, None, None, None, None, None, None, None, None, None, None, None, None, None, None, None, None, None, None, None, None, None, None, None, None, None, None, None, None, None, None, None, None, None, None, None, None, None, None, None, None, None, None, None, None, None, None, None, None, None, None, None, None, None, None, None, None, None, None, None, None, None, None, None, None, None, None, None, None, None, None, None, None, None, None, None, None, None, None, None, None, None, None, None, None, None, None, None, None, None, None, None, None, None, None, None, None, None, None, None, None, None, None, None, None, None, None, None, None, None, None, None, None, None, None, None, None, None, None, None, None, None, None, None, None, None, None, None, None, None, None, None, None, None, None, None, None, None, None, None, None, None, None, None, None, None, None, None, None, None, None, None, None, None, None, None, None, None, None, None, None, None, None, None, None, None, None, None, None, None, None, None, None, None, None]\n",
            "predicted :  ['o', 'o', 'o', 'o', 'o', 'b-organization', 'o', 'b-organization', 'i-organization', 'i-grant', 'o', 'b-grant', 'o', 'o', 'o', 'o', 'o', 'o', 'o', 'o', 'o', 'o', 'o', 'o', 'o', 'o', 'o', 'o', 'o', 'o', 'o', 'o', 'b-organization', 'b-organization', 'b-organization', 'b-organization', 'b-organization', 'b-organization', 'b-organization', 'b-organization', 'b-organization', 'b-organization', 'b-organization', 'b-organization', 'b-organization', 'b-organization', 'b-organization', 'b-organization', 'b-organization', 'b-organization', 'b-organization', 'b-organization', 'b-organization', 'b-organization', 'b-organization', 'b-organization', 'b-organization', 'b-organization', 'b-organization', 'b-organization', 'b-organization', 'b-organization', 'b-organization', 'b-organization', 'b-organization', 'b-organization', 'b-organization', 'b-organization', 'b-organization', 'b-organization', 'b-organization', 'b-organization', 'b-organization', 'b-organization', 'b-organization', 'b-organization', 'b-organization', 'b-organization', 'b-organization', 'b-organization', 'b-organization', 'b-organization', 'b-organization', 'b-organization', 'b-organization', 'b-organization', 'b-organization', 'b-organization', 'b-organization', 'b-organization', 'b-organization', 'b-organization', 'b-organization', 'b-organization', 'b-organization', 'b-organization', 'b-organization', 'b-organization', 'b-organization', 'b-organization', 'b-organization', 'b-organization', 'b-organization', 'b-organization', 'b-organization', 'b-organization', 'b-organization', 'b-organization', 'b-organization', 'b-organization', 'b-organization', 'b-organization', 'b-organization', 'b-organization', 'b-organization', 'b-organization', 'b-organization', 'b-organization', 'b-organization', 'b-organization', 'b-organization', 'b-organization', 'b-organization', 'b-organization', 'b-organization', 'b-organization', 'b-organization', 'b-organization', 'b-organization', 'b-organization', 'b-organization', 'b-organization', 'b-organization', 'b-organization', 'b-organization', 'b-organization', 'b-organization', 'b-organization', 'b-organization', 'b-organization', 'b-organization', 'b-organization', 'b-organization', 'b-organization', 'b-organization', 'b-organization', 'b-organization', 'b-organization', 'b-organization', 'b-organization', 'b-organization', 'b-organization', 'b-organization', 'b-organization', 'b-organization', 'b-organization', 'b-organization', 'b-organization', 'b-organization', 'b-organization', 'b-organization', 'b-organization', 'b-organization', 'b-organization', 'b-organization', 'b-organization', 'b-organization', 'b-organization', 'b-organization', 'b-organization', 'b-organization', 'b-organization', 'b-organization', 'b-organization', 'b-organization', 'b-organization', 'b-organization', 'b-organization', 'b-organization', 'b-organization', 'b-organization', 'b-organization', 'b-organization', 'b-organization', 'b-organization', 'b-organization', 'b-organization', 'b-organization', 'b-organization', 'b-organization', 'b-organization', 'b-organization', 'b-organization', 'b-organization', 'b-organization', 'b-organization', 'b-organization', 'b-organization', 'b-organization', 'b-organization', 'b-organization', 'b-organization', 'b-organization', 'b-organization', 'b-organization', 'b-organization', 'b-organization', 'b-organization', 'b-organization', 'b-organization', 'b-organization', 'b-organization', 'b-organization', 'b-organization', 'b-organization', 'b-organization', 'b-organization', 'b-organization', 'b-organization', 'b-organization', 'b-organization', 'b-organization', 'b-organization', 'b-organization', 'b-organization', 'b-organization', 'b-organization', 'b-organization', 'b-organization', 'b-organization', 'b-organization', 'b-organization', 'b-organization', 'b-organization', 'b-organization', 'b-organization', 'b-organization', 'b-organization', 'b-organization', 'b-organization', 'b-organization', 'b-organization', 'b-organization', 'b-organization', 'b-organization', 'b-organization', 'b-organization', 'b-organization', 'b-organization', 'b-organization', 'b-organization', 'b-organization', 'b-organization', 'b-organization', 'b-organization', 'b-organization', 'b-organization', 'b-organization', 'b-organization', 'b-organization', 'b-organization', 'b-organization', 'b-organization', 'b-organization', 'b-organization', 'b-organization', 'b-organization', 'b-organization', 'b-organization', 'b-organization', 'b-organization', 'b-organization', 'b-organization', 'b-organization', 'b-organization', 'b-organization', 'b-organization', 'b-organization', 'b-organization', 'b-organization', 'b-organization', 'b-organization', 'b-organization', 'b-organization', 'b-organization', 'b-organization', 'b-organization', 'b-organization', 'b-organization', 'b-organization', 'b-organization', 'b-organization', 'b-organization', 'b-organization', 'b-organization', 'b-organization', 'b-organization', 'b-organization', 'b-organization', 'b-organization', 'b-organization', 'b-organization', 'b-organization', 'b-organization', 'b-organization', 'b-organization', 'b-organization', 'b-organization', 'b-organization', 'b-organization', 'b-organization', 'b-organization', 'b-organization', 'b-organization', 'b-organization', 'b-organization', 'b-organization', 'b-organization', 'b-organization', 'b-organization', 'b-organization', 'b-organization', 'b-organization', 'b-organization', 'b-organization', 'b-organization', 'b-organization', 'b-organization', 'b-organization', 'b-organization', 'b-organization', 'b-organization', 'b-organization', 'b-organization', 'b-organization', 'b-organization', 'b-organization', 'b-organization', 'b-organization', 'b-organization', 'b-organization', 'b-organization', 'b-organization', 'b-organization', 'b-organization', 'b-organization', 'b-organization', 'b-organization', 'b-organization', 'b-organization', 'b-organization', 'b-organization', 'b-organization', 'b-organization', 'b-organization', 'b-organization', 'b-organization', 'b-organization', 'b-organization', 'b-organization', 'b-organization', 'b-organization', 'b-organization', 'b-organization', 'b-organization', 'b-organization', 'b-organization', 'b-organization', 'b-organization', 'b-organization', 'b-organization', 'b-organization', 'b-organization', 'b-organization', 'b-organization', 'b-organization', 'b-organization', 'b-organization', 'b-organization', 'b-organization', 'b-organization', 'b-organization', 'b-organization', 'b-organization', 'b-organization', 'b-organization', 'b-organization', 'b-organization', 'b-organization', 'b-organization', 'b-organization', 'b-organization', 'b-organization', 'b-organization', 'b-organization', 'b-organization', 'b-organization', 'b-organization', 'b-organization', 'b-organization']\n",
            "----------------------------------------------------------------------------------------------------\n",
            "Original  :  ['o', 'o', 'o', 'o', 'o', 'o', 'o', 'o', 'o', 'o', 'o', 'o', 'o', 'o', 'b-database', 'i-database', 'i-database', 'o', 'o', 'o', 'o', 'o', 'o', 'b-organization', 'o', 'o', 'o', 'o', 'o', 'o', 'o', 'o', 'o', 'o', 'o', 'o', 'o', 'o', 'o', 'o', 'o', 'b-archive', 'i-archive', 'i-archive', 'i-archive', 'o', 'o', 'o', 'o', 'o', 'o', 'o', 'o', 'b-person', 'i-person', 'b-person', 'i-person', 'b-person', 'i-person', 'b-person', 'i-person', 'b-person', 'i-person', 'b-person', 'i-person', 'b-person', 'i-person', 'b-person', 'i-person', 'b-person', 'i-person', 'b-person', 'i-person', 'b-person', 'i-person', 'b-person', 'i-person', 'o', 'b-person', 'i-person', 'o', 'o', 'o', 'o', 'o', 'o', 'o', 'o', 'o', 'o', 'o', 'o', 'b-person', 'i-person', 'i-person', 'o', 'o', 'o', 'o', 'o', 'o', 'o', 'o', 'o', 'o', 'o', 'o', 'o', None, None, None, None, None, None, None, None, None, None, None, None, None, None, None, None, None, None, None, None, None, None, None, None, None, None, None, None, None, None, None, None, None, None, None, None, None, None, None, None, None, None, None, None, None, None, None, None, None, None, None, None, None, None, None, None, None, None, None, None, None, None, None, None, None, None, None, None, None, None, None, None, None, None, None, None, None, None, None, None, None, None, None, None, None, None, None, None, None, None, None, None, None, None, None, None, None, None, None, None, None, None, None, None, None, None, None, None, None, None, None, None, None, None, None, None, None, None, None, None, None, None, None, None, None, None, None, None, None, None, None, None, None, None, None, None, None, None, None, None, None, None, None, None, None, None, None, None, None, None, None, None, None, None, None, None, None, None, None, None, None, None, None, None, None, None, None, None, None, None, None, None, None, None, None, None, None, None, None, None, None, None, None, None, None, None, None, None, None, None, None, None, None, None, None, None, None, None, None, None, None, None, None, None, None, None, None, None, None, None, None, None, None, None, None, None, None, None, None, None, None, None, None, None, None, None, None, None, None, None, None, None, None, None, None, None, None, None, None, None, None, None, None, None, None, None, None, None, None, None, None, None, None, None, None, None, None, None, None, None, None, None, None, None, None, None, None, None, None, None, None, None, None, None, None, None, None, None, None, None, None, None, None, None, None, None, None, None, None, None, None, None]\n",
            "predicted :  ['o', 'o', 'o', 'o', 'o', 'o', 'o', 'o', 'o', 'o', 'o', 'o', 'o', 'o', 'b-person', 'i-person', 'i-person', 'o', 'o', 'o', 'o', 'o', 'o', 'o', 'o', 'o', 'o', 'o', 'o', 'o', 'o', 'o', 'o', 'o', 'o', 'o', 'o', 'o', 'o', 'o', 'o', 'o', 'o', 'i-survey', 'i-survey', 'o', 'o', 'b-grant', 'o', 'b-person', 'o', 'o', 'o', 'b-person', 'i-person', 'i-person', 'i-person', 'i-person', 'i-person', 'i-person', 'i-person', 'b-person', 'i-person', 'b-person', 'i-person', 'b-person', 'b-person', 'b-person', 'b-person', 'b-person', 'i-person', 'b-person', 'b-person', 'b-person', 'i-person', 'i-person', 'i-person', 'o', 'b-person', 'i-person', 'o', 'o', 'o', 'o', 'o', 'o', 'o', 'o', 'o', 'o', 'o', 'o', 'b-person', 'i-person', 'i-person', 'o', 'o', 'o', 'o', 'o', 'o', 'o', 'o', 'o', 'o', 'o', 'o', 'o', 'b-organization', 'b-organization', 'b-organization', 'b-organization', 'b-organization', 'b-organization', 'b-organization', 'b-organization', 'b-organization', 'b-organization', 'b-organization', 'b-organization', 'b-organization', 'b-organization', 'b-organization', 'b-organization', 'b-organization', 'b-organization', 'b-organization', 'b-organization', 'b-organization', 'b-organization', 'b-organization', 'b-organization', 'b-organization', 'b-organization', 'b-organization', 'b-organization', 'b-organization', 'b-organization', 'b-organization', 'b-organization', 'b-organization', 'b-organization', 'b-organization', 'b-organization', 'b-organization', 'b-organization', 'b-organization', 'b-organization', 'b-organization', 'b-organization', 'b-organization', 'b-organization', 'b-organization', 'b-organization', 'b-organization', 'b-organization', 'b-organization', 'b-organization', 'b-organization', 'b-organization', 'b-organization', 'b-organization', 'b-organization', 'b-organization', 'b-organization', 'b-organization', 'b-organization', 'b-organization', 'b-organization', 'b-organization', 'b-organization', 'b-organization', 'b-organization', 'b-organization', 'b-organization', 'b-organization', 'b-organization', 'b-organization', 'b-organization', 'b-organization', 'b-organization', 'b-organization', 'b-organization', 'b-organization', 'b-organization', 'b-organization', 'b-organization', 'b-organization', 'b-organization', 'b-organization', 'b-organization', 'b-organization', 'b-organization', 'b-organization', 'b-organization', 'b-organization', 'b-organization', 'b-organization', 'b-organization', 'b-organization', 'b-organization', 'b-organization', 'b-organization', 'b-organization', 'b-organization', 'b-organization', 'b-organization', 'b-organization', 'b-organization', 'b-organization', 'b-organization', 'b-organization', 'b-organization', 'b-organization', 'b-organization', 'b-organization', 'b-organization', 'b-organization', 'b-organization', 'b-organization', 'b-organization', 'b-organization', 'b-organization', 'b-organization', 'b-organization', 'b-organization', 'b-organization', 'b-organization', 'b-organization', 'b-organization', 'b-organization', 'b-organization', 'b-organization', 'b-organization', 'b-organization', 'b-organization', 'b-organization', 'b-organization', 'b-organization', 'b-organization', 'b-organization', 'b-organization', 'b-organization', 'b-organization', 'b-organization', 'b-organization', 'b-organization', 'b-organization', 'b-organization', 'b-organization', 'b-organization', 'b-organization', 'b-organization', 'b-organization', 'b-organization', 'b-organization', 'b-organization', 'b-organization', 'b-organization', 'b-organization', 'b-organization', 'b-organization', 'b-organization', 'b-organization', 'b-organization', 'b-organization', 'b-organization', 'b-organization', 'b-organization', 'b-organization', 'b-organization', 'b-organization', 'b-organization', 'b-organization', 'b-organization', 'b-organization', 'b-organization', 'b-organization', 'b-organization', 'b-organization', 'b-organization', 'b-organization', 'b-organization', 'b-organization', 'b-organization', 'b-organization', 'b-organization', 'b-organization', 'b-organization', 'b-organization', 'b-organization', 'b-organization', 'b-organization', 'b-organization', 'b-organization', 'b-organization', 'b-organization', 'b-organization', 'b-organization', 'b-organization', 'b-organization', 'b-organization', 'b-organization', 'b-organization', 'b-organization', 'b-organization', 'b-organization', 'b-organization', 'b-organization', 'b-organization', 'b-organization', 'b-organization', 'b-organization', 'b-organization', 'b-organization', 'b-organization', 'b-organization', 'b-organization', 'b-organization', 'b-organization', 'b-organization', 'b-organization', 'b-organization', 'b-organization', 'b-organization', 'b-organization', 'b-organization', 'b-organization', 'b-organization', 'b-organization', 'b-organization', 'b-organization', 'b-organization', 'b-organization', 'b-organization', 'b-organization', 'b-organization', 'b-organization', 'b-organization', 'b-organization', 'b-organization', 'b-organization', 'b-organization', 'b-organization', 'b-organization', 'b-organization', 'b-organization', 'b-organization', 'b-organization', 'b-organization', 'b-organization', 'b-organization', 'b-organization', 'b-organization', 'b-organization', 'b-organization', 'b-organization', 'b-organization', 'b-organization', 'b-organization', 'b-organization', 'b-organization', 'b-organization', 'b-organization', 'b-organization', 'b-organization', 'b-organization', 'b-organization', 'b-organization', 'b-organization', 'b-organization', 'b-organization', 'b-organization', 'b-organization', 'b-organization', 'b-organization', 'b-organization', 'b-organization', 'b-organization', 'b-organization', 'b-organization', 'b-organization', 'b-organization', 'b-organization', 'b-organization', 'b-organization', 'b-organization', 'b-organization', 'b-organization', 'b-organization', 'b-organization', 'b-organization', 'b-organization', 'b-organization', 'b-organization', 'b-organization', 'b-organization', 'b-organization', 'b-organization', 'b-organization']\n",
            "----------------------------------------------------------------------------------------------------\n"
          ]
        }
      ]
    },
    {
      "cell_type": "markdown",
      "source": [
        "### Bi Directional GRU :"
      ],
      "metadata": {
        "id": "9_tPQtJWIcGG"
      }
    },
    {
      "cell_type": "code",
      "source": [
        "model_bidirectional_gru = tf.keras.models.Sequential([\n",
        "    tf.keras.layers.Embedding(input_dim=len(unique_vocab)+1,output_dim=400,mask_zero=True),\n",
        "    tf.keras.layers.Bidirectional(tf.keras.layers.GRU(units=100, activation='tanh', return_sequences=True)),\n",
        "    tf.keras.layers.Bidirectional(tf.keras.layers.GRU(units=100, activation='tanh', return_sequences=True)),\n",
        "    tf.keras.layers.TimeDistributed(tf.keras.layers.Dense(63, activation='softmax'))\n",
        "])"
      ],
      "metadata": {
        "id": "-dgbDuTDInfO"
      },
      "execution_count": null,
      "outputs": []
    },
    {
      "cell_type": "code",
      "source": [
        "model_bidirectional_gru.compile(loss='sparse_categorical_crossentropy',\n",
        "              optimizer='adam',\n",
        "              metrics=['accuracy'])"
      ],
      "metadata": {
        "id": "jcJbZbSoInfO"
      },
      "execution_count": null,
      "outputs": []
    },
    {
      "cell_type": "code",
      "source": [
        "history_bidirectional_gru = model_bidirectional_gru.fit(x_train,y_train,epochs=40,batch_size=40,validation_split=0.2,callbacks=my_callbacks)"
      ],
      "metadata": {
        "colab": {
          "base_uri": "https://localhost:8080/"
        },
        "outputId": "9f3ebbf4-080b-441a-c475-c9e1ee12b82e",
        "id": "raoBeyDQInfO"
      },
      "execution_count": null,
      "outputs": [
        {
          "output_type": "stream",
          "name": "stdout",
          "text": [
            "Epoch 1/40\n",
            "25/25 [==============================] - 100s 3s/step - loss: 1.3837 - accuracy: 0.7708 - val_loss: 0.6673 - val_accuracy: 0.8207\n",
            "Epoch 2/40\n",
            "25/25 [==============================] - 77s 3s/step - loss: 0.5849 - accuracy: 0.8144 - val_loss: 0.5030 - val_accuracy: 0.8393\n",
            "Epoch 3/40\n",
            "25/25 [==============================] - 75s 3s/step - loss: 0.4620 - accuracy: 0.8416 - val_loss: 0.4160 - val_accuracy: 0.8585\n",
            "Epoch 4/40\n",
            "25/25 [==============================] - 75s 3s/step - loss: 0.3602 - accuracy: 0.8690 - val_loss: 0.3563 - val_accuracy: 0.8785\n",
            "Epoch 5/40\n",
            "25/25 [==============================] - 76s 3s/step - loss: 0.2884 - accuracy: 0.8900 - val_loss: 0.3264 - val_accuracy: 0.8868\n",
            "Epoch 6/40\n",
            "25/25 [==============================] - 75s 3s/step - loss: 0.2381 - accuracy: 0.9082 - val_loss: 0.3146 - val_accuracy: 0.8952\n",
            "Epoch 7/40\n",
            "25/25 [==============================] - 75s 3s/step - loss: 0.2008 - accuracy: 0.9227 - val_loss: 0.3003 - val_accuracy: 0.9017\n",
            "Epoch 8/40\n",
            "25/25 [==============================] - 75s 3s/step - loss: 0.1668 - accuracy: 0.9363 - val_loss: 0.2862 - val_accuracy: 0.9084\n",
            "Epoch 9/40\n",
            "25/25 [==============================] - 75s 3s/step - loss: 0.1361 - accuracy: 0.9485 - val_loss: 0.2834 - val_accuracy: 0.9134\n",
            "Epoch 10/40\n",
            "25/25 [==============================] - 74s 3s/step - loss: 0.1100 - accuracy: 0.9596 - val_loss: 0.2807 - val_accuracy: 0.9171\n",
            "Epoch 11/40\n",
            "25/25 [==============================] - 75s 3s/step - loss: 0.0893 - accuracy: 0.9683 - val_loss: 0.2765 - val_accuracy: 0.9195\n",
            "Epoch 12/40\n",
            "25/25 [==============================] - 75s 3s/step - loss: 0.0732 - accuracy: 0.9743 - val_loss: 0.2850 - val_accuracy: 0.9207\n",
            "Epoch 13/40\n",
            "25/25 [==============================] - 75s 3s/step - loss: 0.0603 - accuracy: 0.9790 - val_loss: 0.2876 - val_accuracy: 0.9213\n",
            "Epoch 14/40\n",
            "25/25 [==============================] - 75s 3s/step - loss: 0.0508 - accuracy: 0.9826 - val_loss: 0.2940 - val_accuracy: 0.9232\n",
            "Epoch 15/40\n",
            "25/25 [==============================] - 76s 3s/step - loss: 0.0429 - accuracy: 0.9855 - val_loss: 0.3029 - val_accuracy: 0.9215\n",
            "Epoch 16/40\n",
            "25/25 [==============================] - 75s 3s/step - loss: 0.0363 - accuracy: 0.9882 - val_loss: 0.3160 - val_accuracy: 0.9226\n"
          ]
        }
      ]
    },
    {
      "cell_type": "code",
      "source": [
        "model_bidirectional_gru.evaluate(x_test,y_test)"
      ],
      "metadata": {
        "colab": {
          "base_uri": "https://localhost:8080/"
        },
        "outputId": "1459065e-fdf2-4f03-9104-d1d6fb2d4398",
        "id": "wFCn_gSpInfO"
      },
      "execution_count": null,
      "outputs": [
        {
          "output_type": "stream",
          "name": "stdout",
          "text": [
            "17/17 [==============================] - 14s 790ms/step - loss: 0.2700 - accuracy: 0.9190\n"
          ]
        },
        {
          "output_type": "execute_result",
          "data": {
            "text/plain": [
              "[0.27000704407691956, 0.9190235137939453]"
            ]
          },
          "metadata": {},
          "execution_count": 430
        }
      ]
    },
    {
      "cell_type": "code",
      "source": [
        "# Helper function to plot the data\n",
        "# Plot the loss of the model\n",
        "plt.rcParams[\"figure.figsize\"] = (10,8)\n",
        "plt.title(\"Early stop model\")\n",
        "plt.semilogy(history_bidirectional_gru.history['accuracy'], label='Train accuracy', color='#FF9A98', linewidth=2)\n",
        "plt.semilogy(history_bidirectional_gru.history['val_accuracy'],  label='Validation accuracy', color='#75B594', linewidth=2)\n",
        "plt.legend()\n",
        "\n",
        "# Set the axes labels\n",
        "plt.xlabel('Epochs')\n",
        "plt.ylabel('accuracy')\n",
        "plt.legend()\n",
        "plt.show()"
      ],
      "metadata": {
        "colab": {
          "base_uri": "https://localhost:8080/",
          "height": 513
        },
        "outputId": "6828b09e-477b-4a20-e327-5557adbae089",
        "id": "_xD3vWWNInfP"
      },
      "execution_count": null,
      "outputs": [
        {
          "output_type": "display_data",
          "data": {
            "text/plain": [
              "<Figure size 720x576 with 1 Axes>"
            ],
            "image/png": "[encoded data removed]"
          },
          "metadata": {
            "needs_background": "light"
          }
        }
      ]
    },
    {
      "cell_type": "code",
      "source": [
        "# Helper function to plot the data\n",
        "# Plot the loss of the model\n",
        "plt.rcParams[\"figure.figsize\"] = (10,8)\n",
        "plt.title(\"Early stop model\")\n",
        "plt.semilogy(history_bidirectional_lstm.history['loss'], label='Train loss', color='#FF9A98', linewidth=2)\n",
        "plt.semilogy(history_bidirectional_lstm.history['val_loss'],  label='Validation loss', color='#75B594', linewidth=2)\n",
        "plt.legend()\n",
        "\n",
        "# Set the axes labels\n",
        "plt.xlabel('Epochs')\n",
        "plt.ylabel('loss')\n",
        "plt.legend()\n",
        "plt.show()"
      ],
      "metadata": {
        "colab": {
          "base_uri": "https://localhost:8080/",
          "height": 513
        },
        "outputId": "40996d22-5729-44d1-824a-a968d3b778cf",
        "id": "Fo8ghmXMInfP"
      },
      "execution_count": null,
      "outputs": [
        {
          "output_type": "display_data",
          "data": {
            "text/plain": [
              "<Figure size 720x576 with 1 Axes>"
            ],
            "image/png": "[encoded data removed]"
          },
          "metadata": {
            "needs_background": "light"
          }
        }
      ]
    },
    {
      "cell_type": "code",
      "source": [
        "model_bidirectional_gru.save_weights('/content/gdrive/MyDrive/AI3 Project/model_gru_weights.h5')"
      ],
      "metadata": {
        "id": "Aqt8UM53InfP"
      },
      "execution_count": null,
      "outputs": []
    },
    {
      "cell_type": "code",
      "source": [
        "model_bidirectional_gru.load_weights('/content/gdrive/MyDrive/AI3 Project/model_gru_weights.h5')"
      ],
      "metadata": {
        "id": "XHaz2WHHInfP"
      },
      "execution_count": null,
      "outputs": []
    },
    {
      "cell_type": "code",
      "source": [
        "for i in range(5):\n",
        "  y_pred = model_bidirectional_gru.predict(np.array([x_test[i]]))\n",
        "  pred = np.argmax(np.array(y_pred), axis=-1)\n",
        "  print(\"Original  : \",[*map(Tokenizer_for_tags.index_word.get, y_test[i])])\n",
        "  print(\"predicted : \",[*map(Tokenizer_for_tags.index_word.get, pred[0])])\n",
        "  print(\"-\"*100)"
      ],
      "metadata": {
        "colab": {
          "base_uri": "https://localhost:8080/"
        },
        "outputId": "2fccdbfc-9cb8-4b82-dcf0-f3acd5d32378",
        "id": "YKfHWyEqInfP"
      },
      "execution_count": null,
      "outputs": [
        {
          "output_type": "stream",
          "name": "stdout",
          "text": [
            "Original  :  ['o', 'o', 'o', 'o', 'o', 'o', 'o', 'o', 'o', 'o', 'o', 'o', 'o', 'o', 'o', 'o', 'b-celestialobject', 'o', 'o', 'o', 'o', 'o', 'o', 'o', 'o', 'o', 'o', 'o', 'o', 'o', 'o', 'o', 'o', 'o', 'o', 'o', 'o', 'o', 'o', 'o', 'o', 'o', 'o', 'o', 'o', 'o', 'o', 'o', 'o', 'o', 'o', 'o', 'o', 'o', 'o', 'o', 'o', 'o', 'o', 'o', 'o', 'o', 'o', 'o', 'o', 'o', 'o', 'o', 'o', 'o', 'o', 'o', 'b-model', 'i-model', 'o', 'o', 'o', 'o', 'o', 'o', 'o', 'o', 'o', 'o', 'o', 'o', 'o', 'o', 'o', 'o', 'o', 'o', 'o', 'o', 'o', 'o', 'o', 'o', 'o', 'o', 'o', 'o', 'o', 'o', 'o', 'o', 'o', 'o', 'o', 'o', 'o', 'o', 'o', 'o', 'o', 'o', 'o', 'o', 'o', 'o', 'o', 'o', 'o', 'o', 'o', 'o', 'o', 'o', 'o', 'o', 'o', 'o', 'o', 'o', 'o', 'o', 'o', 'o', 'o', 'o', 'o', 'o', 'o', 'o', 'o', 'o', 'o', 'o', 'o', 'o', 'o', 'o', 'o', 'o', 'o', 'o', 'o', 'o', 'o', 'o', 'o', 'o', 'o', 'o', 'o', 'o', 'o', 'o', 'o', 'o', 'o', 'o', 'o', 'o', 'o', 'o', 'o', 'o', 'o', 'o', 'o', 'o', 'o', 'o', 'o', 'o', 'o', 'o', 'o', 'o', 'o', 'o', 'o', 'o', 'o', 'o', 'o', 'o', 'o', 'o', 'o', 'o', 'o', 'o', 'o', 'o', 'o', 'o', 'o', 'o', 'o', 'o', 'o', 'o', 'o', 'o', 'o', 'o', 'o', 'o', 'o', 'o', 'o', 'o', 'o', 'o', 'o', 'o', 'o', 'o', 'o', 'o', 'o', 'o', 'o', 'o', 'o', 'o', 'b-celestialobject', 'o', 'o', 'o', 'o', 'o', 'o', 'o', 'o', 'o', 'o', 'b-celestialobject', 'o', 'o', 'o', 'b-citation', 'i-citation', 'i-citation', 'i-citation', 'o', 'b-citation', 'i-citation', 'i-citation', 'i-citation', 'o', 'b-citation', 'i-citation', 'i-citation', 'i-citation', 'o', 'o', 'o', 'o', 'o', 'o', 'o', 'o', 'o', 'o', 'o', 'o', 'o', 'o', 'o', 'o', 'o', 'b-celestialobject', 'i-celestialobject', 'o', 'o', 'o', 'o', 'o', 'o', 'o', 'b-telescope', 'i-telescope', 'i-telescope', 'i-telescope', 'b-telescope', 'o', 'b-telescope', 'i-telescope', 'i-telescope', 'b-telescope', 'o', 'o', 'b-location', 'b-telescope', 'i-telescope', 'i-telescope', 'i-telescope', 'i-telescope', 'i-telescope', 'b-telescope', 'o', 'o', 'o', 'o', 'o', 'o', 'o', 'b-citation', 'i-citation', 'i-citation', 'i-citation', 'o', 'o', 'o', 'o', 'o', 'o', 'o', 'o', 'o', 'o', 'o', 'o', 'o', 'o', 'o', 'o', 'o', 'o', 'o', 'o', 'o', 'o', 'o', 'o', 'o', 'o', 'o', 'o', 'o', 'o', 'o', 'o', 'o', 'o', 'o', 'o', 'o', 'o', 'b-celestialobjectregion', 'i-celestialobjectregion', 'o', 'o', 'o', 'o', 'o', 'o', 'o', 'o', 'o', 'o', 'o', 'o', 'o', 'o', 'o', 'o', 'o', 'b-celestialobjectregion', 'i-celestialobjectregion', 'o', 'o', 'o', 'o', 'o', 'o', 'o', 'o', 'o', 'o', 'o', 'o', 'b-celestialregion', 'i-celestialregion', 'i-celestialregion', 'i-celestialregion', 'i-celestialregion']\n",
            "predicted :  ['o', 'o', 'o', 'o', 'o', 'o', 'o', 'o', 'o', 'o', 'o', 'o', 'o', 'o', 'o', 'o', 'b-model', 'i-model', 'o', 'o', 'o', 'o', 'o', 'o', 'o', 'o', 'o', 'o', 'o', 'o', 'o', 'o', 'o', 'o', 'o', 'o', 'o', 'o', 'o', 'o', 'o', 'o', 'o', 'o', 'o', 'o', 'o', 'o', 'b-model', 'o', 'b-model', 'o', 'o', 'o', 'o', 'o', 'o', 'o', 'o', 'o', 'o', 'o', 'o', 'o', 'o', 'o', 'o', 'o', 'o', 'o', 'o', 'o', 'b-organization', 'o', 'o', 'o', 'o', 'o', 'o', 'o', 'o', 'o', 'o', 'o', 'o', 'o', 'o', 'o', 'o', 'b-model', 'o', 'b-model', 'o', 'o', 'o', 'o', 'o', 'o', 'o', 'o', 'o', 'o', 'o', 'o', 'o', 'o', 'o', 'o', 'o', 'o', 'o', 'o', 'o', 'o', 'o', 'o', 'o', 'o', 'o', 'o', 'o', 'o', 'o', 'o', 'o', 'o', 'o', 'o', 'o', 'o', 'o', 'o', 'o', 'o', 'o', 'o', 'o', 'o', 'o', 'o', 'o', 'o', 'o', 'o', 'o', 'o', 'o', 'o', 'o', 'o', 'o', 'o', 'o', 'o', 'o', 'o', 'o', 'o', 'o', 'o', 'o', 'o', 'o', 'o', 'o', 'o', 'o', 'o', 'o', 'o', 'o', 'o', 'o', 'o', 'o', 'o', 'o', 'o', 'o', 'o', 'o', 'o', 'o', 'o', 'o', 'o', 'o', 'o', 'o', 'o', 'o', 'o', 'o', 'o', 'o', 'o', 'o', 'o', 'o', 'o', 'o', 'o', 'o', 'o', 'o', 'o', 'o', 'o', 'o', 'o', 'o', 'o', 'o', 'o', 'o', 'o', 'o', 'o', 'o', 'o', 'o', 'o', 'o', 'o', 'o', 'o', 'o', 'o', 'o', 'o', 'o', 'o', 'o', 'o', 'o', 'o', 'o', 'o', 'b-celestialobject', 'i-person', 'o', 'o', 'o', 'o', 'o', 'o', 'o', 'o', 'o', 'b-celestialobject', 'o', 'o', 'o', 'b-citation', 'i-citation', 'i-citation', 'i-citation', 'o', 'b-citation', 'i-citation', 'i-citation', 'i-citation', 'o', 'b-citation', 'i-citation', 'i-citation', 'i-citation', 'o', 'o', 'o', 'o', 'o', 'o', 'o', 'o', 'o', 'o', 'o', 'o', 'o', 'o', 'o', 'o', 'o', 'b-celestialobject', 'i-celestialobject', 'i-celestialobject', 'o', 'o', 'o', 'o', 'o', 'o', 'b-citation', 'i-telescope', 'i-telescope', 'i-telescope', 'o', 'o', 'b-location', 'i-collaboration', 'i-collaboration', 'o', 'o', 'o', 'b-organization', 'i-organization', 'i-organization', 'i-organization', 'i-organization', 'i-organization', 'o', 'o', 'o', 'o', 'o', 'o', 'o', 'o', 'o', 'b-citation', 'i-citation', 'i-citation', 'i-citation', 'o', 'o', 'o', 'o', 'o', 'o', 'o', 'o', 'o', 'o', 'o', 'o', 'o', 'o', 'o', 'o', 'o', 'o', 'o', 'o', 'o', 'o', 'o', 'o', 'o', 'o', 'o', 'o', 'o', 'o', 'o', 'o', 'o', 'o', 'o', 'o', 'o', 'o', 'b-person', 'i-person', 'o', 'o', 'o', 'o', 'o', 'o', 'o', 'o', 'o', 'o', 'o', 'o', 'b-celestialobject', 'o', 'o', 'o', 'o', 'b-organization', 'i-organization', 'o', 'o', 'o', 'o', 'o', 'o', 'o', 'o', 'o', 'o', 'o', 'o', 'b-wavelength', 'o', 'i-formula', 'o', 'o']\n",
            "----------------------------------------------------------------------------------------------------\n",
            "Original  :  ['o', 'o', 'o', 'o', 'o', 'o', 'o', 'o', 'o', 'o', 'o', 'o', 'o', 'o', 'o', 'o', 'o', 'o', 'o', 'o', 'o', 'o', 'o', 'o', 'o', 'o', 'o', 'o', 'b-citation', 'i-citation', 'i-citation', 'i-citation', 'o', 'b-citation', 'i-citation', 'i-citation', 'o', 'o', 'o', 'o', 'o', 'o', 'o', 'o', 'o', 'o', 'o', 'o', 'o', 'b-celestialobject', 'o', 'o', 'o', 'o', 'o', 'o', 'o', 'o', 'o', 'o', 'o', 'o', 'o', 'o', 'o', 'o', 'o', 'o', 'o', 'o', 'o', 'o', 'o', 'o', 'o', 'b-celestialobject', 'i-celestialobject', 'o', 'o', 'o', 'o', 'b-celestialobject', 'i-celestialobject', 'o', 'o', 'o', 'o', 'b-celestialobject', 'o', 'b-celestialobject', 'o', 'o', 'o', 'o', 'o', 'o', 'o', 'o', 'o', 'o', 'o', 'o', 'o', 'o', 'o', 'o', 'o', 'o', 'o', 'o', 'b-celestialobject', 'i-celestialobject', 'o', 'o', 'o', 'o', 'o', 'o', 'o', 'o', 'o', 'o', 'o', 'o', 'o', 'o', 'o', 'b-celestialobject', 'o', 'o', 'o', 'o', 'o', 'o', 'o', 'o', 'o', 'o', 'b-celestialobject', 'o', 'o', 'o', 'o', 'o', 'b-celestialobject', 'o', 'o', 'o', 'o', 'o', 'o', 'b-celestialobject', 'i-celestialobject', 'o', 'o', 'o', 'o', 'o', 'o', 'o', 'o', 'o', 'o', 'o', 'o', 'o', 'o', 'o', 'o', 'o', 'o', 'o', 'b-celestialobject', 'i-celestialobject', 'o', 'o', 'o', 'o', 'o', 'o', 'o', 'o', 'o', 'b-celestialobject', 'o', 'o', 'o', 'o', 'o', 'o', 'o', 'o', 'b-celestialobject', 'i-celestialobject', 'o', 'o', 'o', 'o', 'o', 'b-celestialobject', 'o', 'o', 'o', 'b-citation', 'i-citation', 'i-citation', 'o', 'b-citation', 'i-citation', 'i-citation', 'o', 'o', 'o', 'b-celestialobject', 'o', 'o', 'o', 'o', 'o', 'o', 'o', 'o', 'o', 'o', 'b-celestialobject', 'o', 'o', 'o', 'o', 'o', 'o', 'o', 'o', 'o', 'o', 'o', 'o', 'o', 'o', 'o', 'o', 'o', 'o', 'o', 'o', 'o', 'o', 'b-celestialobject', 'b-citation', 'i-citation', 'i-citation', 'o', 'o', 'o', 'o', 'o', 'o', 'o', 'o', 'b-celestialobject', 'i-celestialobject', 'o', 'o', 'o', 'o', 'o', 'o', 'o', 'o', 'o', 'o', 'o', 'o', 'o', 'o', 'o', 'o', 'o', 'o', 'o', 'o', 'o', 'o', 'o', 'o', 'o', 'o', 'o', 'o', 'o', 'o', 'o', 'o', 'o', 'b-celestialobject', 'o', 'o', 'o', 'o', 'o', 'o', 'o', 'o', 'o', 'o', 'o', 'o', 'o', 'b-celestialobject', 'i-celestialobject', 'o', 'o', 'o', 'o', 'o', 'o', 'o', 'o', 'o', 'o', 'o', 'o', 'o', 'o', 'o', 'o', 'o', 'o', 'o', 'o', 'o', 'o', 'o', 'o', 'o', 'o', 'o', 'o', 'o', 'o', 'o', 'o', 'o', 'o', 'o', 'o', 'o', 'o', 'o', 'o', 'o', 'o', 'o', 'o', 'o', 'o', 'o', 'o', 'o', 'o', 'o', 'o', 'o', 'o', 'o', 'o', 'o', 'o', 'o', 'b-celestialobject', 'i-celestialobject', 'o', 'o', 'o', 'o', 'o', 'o', 'o', 'o', 'o', 'o', 'b-celestialobject', 'o', 'o', 'o', 'o', 'o', 'o', 'o', 'o', 'o', 'o', 'o', 'b-celestialobject', 'i-celestialobject', 'b-citation', 'i-citation', 'i-citation', 'i-citation', 'o']\n",
            "predicted :  ['o', 'o', 'o', 'o', 'o', 'o', 'o', 'o', 'o', 'o', 'o', 'o', 'o', 'o', 'o', 'o', 'o', 'o', 'o', 'o', 'o', 'o', 'o', 'o', 'o', 'o', 'o', 'o', 'b-citation', 'i-citation', 'i-citation', 'i-citation', 'o', 'o', 'b-citation', 'i-citation', 'o', 'o', 'o', 'o', 'o', 'o', 'o', 'o', 'o', 'o', 'o', 'o', 'o', 'b-celestialobject', 'o', 'o', 'o', 'o', 'o', 'o', 'o', 'o', 'o', 'o', 'o', 'o', 'o', 'o', 'o', 'o', 'o', 'o', 'o', 'o', 'o', 'o', 'o', 'o', 'o', 'o', 'o', 'o', 'o', 'o', 'o', 'o', 'o', 'o', 'o', 'o', 'o', 'b-celestialobject', 'o', 'b-celestialobject', 'o', 'o', 'o', 'o', 'o', 'o', 'o', 'o', 'o', 'o', 'o', 'o', 'o', 'o', 'o', 'o', 'o', 'o', 'o', 'o', 'o', 'o', 'o', 'o', 'o', 'o', 'o', 'o', 'o', 'o', 'o', 'o', 'o', 'o', 'o', 'o', 'o', 'b-celestialobject', 'o', 'o', 'o', 'o', 'o', 'o', 'o', 'o', 'o', 'o', 'b-celestialobject', 'o', 'o', 'o', 'o', 'o', 'b-celestialobject', 'i-celestialobject', 'o', 'o', 'o', 'o', 'o', 'o', 'o', 'o', 'o', 'o', 'o', 'o', 'o', 'o', 'o', 'o', 'o', 'o', 'o', 'o', 'o', 'o', 'o', 'o', 'o', 'o', 'o', 'o', 'o', 'o', 'o', 'o', 'o', 'o', 'o', 'o', 'o', 'b-celestialobject', 'o', 'o', 'o', 'o', 'o', 'o', 'o', 'o', 'o', 'o', 'o', 'o', 'o', 'o', 'o', 'b-celestialobject', 'i-celestialobject', 'o', 'o', 'b-citation', 'b-citation', 'i-citation', 'o', 'b-citation', 'b-citation', 'i-citation', 'o', 'o', 'o', 'b-celestialobject', 'o', 'o', 'o', 'o', 'o', 'o', 'o', 'o', 'o', 'o', 'b-celestialobject', 'o', 'o', 'o', 'o', 'o', 'o', 'o', 'o', 'o', 'o', 'o', 'o', 'o', 'o', 'o', 'o', 'o', 'o', 'o', 'o', 'o', 'o', 'b-celestialobject', 'i-celestialobject', 'b-citation', 'i-citation', 'o', 'o', 'o', 'o', 'o', 'o', 'o', 'o', 'o', 'o', 'o', 'o', 'o', 'o', 'o', 'o', 'o', 'o', 'b-formula', 'i-formula', 'i-formula', 'i-formula', 'i-formula', 'i-formula', 'i-formula', 'i-formula', 'o', 'o', 'o', 'o', 'o', 'o', 'o', 'o', 'o', 'o', 'o', 'o', 'o', 'o', 'o', 'o', 'o', 'b-model', 'i-dataset', 'o', 'o', 'o', 'o', 'o', 'o', 'o', 'o', 'o', 'o', 'o', 'o', 'o', 'o', 'o', 'o', 'o', 'o', 'o', 'o', 'o', 'o', 'o', 'o', 'o', 'o', 'o', 'o', 'o', 'o', 'o', 'o', 'o', 'o', 'o', 'o', 'o', 'o', 'o', 'o', 'o', 'o', 'o', 'o', 'o', 'o', 'o', 'o', 'o', 'o', 'o', 'o', 'o', 'o', 'o', 'o', 'o', 'o', 'o', 'o', 'o', 'o', 'o', 'o', 'o', 'o', 'o', 'o', 'o', 'o', 'o', 'o', 'o', 'o', 'o', 'o', 'o', 'o', 'o', 'o', 'o', 'o', 'o', 'o', 'o', 'o', 'o', 'o', 'o', 'o', 'o', 'o', 'o', 'o', 'o', 'o', 'o', 'b-telescope', 'i-survey', 'b-citation', 'i-citation', 'i-citation', 'i-citation', 'i-citation']\n",
            "----------------------------------------------------------------------------------------------------\n",
            "Original  :  ['b-person', 'b-person', 'o', 'b-person', 'o', 'o', 'o', 'o', 'o', 'o', 'b-organization', 'o', 'o', 'b-grant', 'i-grant', 'i-grant', 'i-grant', 'i-grant', 'i-grant', 'o', 'b-grant', 'i-grant', 'b-grant', 'i-grant', 'o', 'b-grant', 'i-grant', 'b-person', 'o', 'o', 'b-organization', 'i-organization', 'i-organization', 'i-organization', 'i-organization', 'i-organization', 'o', 'o', 'o', 'b-organization', 'i-organization', 'i-organization', 'i-organization', 'b-person', 'o', 'o', 'o', 'o', 'o', 'b-organization', 'o', 'o', 'o', 'b-grant', 'o', 'o', 'o', 'b-grant', 'i-grant', 'i-grant', 'i-grant', 'i-grant', 'i-grant', 'i-grant', 'o', 'o', 'b-grant', 'b-person', 'o', 'o', 'o', 'o', 'o', 'b-grant', 'i-grant', 'i-grant', 'o', 'o', 'b-person', 'o', 'o', 'o', 'o', 'o', 'o', 'o', 'b-organization', 'i-organization', 'i-organization', 'i-organization', 'i-organization', 'b-organization', 'o', 'o', 'o', 'o', 'o', 'o', 'o', 'b-person', 'i-person', 'b-person', 'i-person', 'o', 'b-person', 'i-person', 'o', 'o', 'o', 'o', 'o', 'o', 'o', 'o', 'o', 'o', 'b-person', 'i-person', 'o', 'o', 'o', 'o', 'o', 'o', 'o', 'o', 'o', 'o', 'o', 'o', 'o', 'o', 'o', 'o', 'o', 'o', 'b-organization', 'i-organization', 'i-organization', 'o', 'o', 'o', 'b-organization', 'b-grant', 'o', 'o', 'o', 'o', 'o', 'o', 'o', 'o', 'o', 'o', 'o', 'b-software', 'i-software', 'b-citation', 'i-citation', 'i-citation', 'i-citation', 'o', 'o', 'o', 'o', 'o', 'o', 'o', 'o', 'b-computingfacility', 'i-computingfacility', 'i-computingfacility', 'o', 'o', 'o', 'b-grant', None, None, None, None, None, None, None, None, None, None, None, None, None, None, None, None, None, None, None, None, None, None, None, None, None, None, None, None, None, None, None, None, None, None, None, None, None, None, None, None, None, None, None, None, None, None, None, None, None, None, None, None, None, None, None, None, None, None, None, None, None, None, None, None, None, None, None, None, None, None, None, None, None, None, None, None, None, None, None, None, None, None, None, None, None, None, None, None, None, None, None, None, None, None, None, None, None, None, None, None, None, None, None, None, None, None, None, None, None, None, None, None, None, None, None, None, None, None, None, None, None, None, None, None, None, None, None, None, None, None, None, None, None, None, None, None, None, None, None, None, None, None, None, None, None, None, None, None, None, None, None, None, None, None, None, None, None, None, None, None, None, None, None, None, None, None, None, None, None, None, None, None, None, None, None, None, None, None, None, None, None, None, None, None, None, None, None, None, None, None, None, None, None, None, None, None, None, None, None, None, None, None, None, None, None, None, None, None, None, None, None, None, None, None, None, None, None, None, None, None, None, None, None, None]\n",
            "predicted :  ['b-person', 'b-person', 'o', 'b-person', 'o', 'o', 'o', 'o', 'o', 'o', 'b-organization', 'i-grant', 'i-grant', 'i-grant', 'i-grant', 'i-grant', 'i-grant', 'i-grant', 'i-grant', 'o', 'b-grant', 'i-grant', 'b-grant', 'i-grant', 'o', 'b-grant', 'i-grant', 'b-person', 'o', 'o', 'b-organization', 'i-organization', 'i-organization', 'i-organization', 'i-organization', 'i-organization', 'o', 'o', 'o', 'b-organization', 'i-organization', 'i-organization', 'i-organization', 'b-person', 'o', 'o', 'o', 'o', 'o', 'b-organization', 'o', 'o', 'o', 'b-grant', 'o', 'o', 'o', 'b-grant', 'i-grant', 'i-grant', 'i-grant', 'i-grant', 'i-grant', 'i-grant', 'o', 'o', 'b-grant', 'b-person', 'o', 'o', 'o', 'o', 'o', 'b-grant', 'i-grant', 'i-grant', 'o', 'o', 'b-person', 'o', 'o', 'o', 'o', 'o', 'o', 'o', 'b-organization', 'i-organization', 'i-organization', 'i-organization', 'i-organization', 'i-organization', 'o', 'o', 'o', 'o', 'o', 'o', 'o', 'b-person', 'i-person', 'b-person', 'i-person', 'o', 'b-person', 'i-person', 'o', 'o', 'o', 'o', 'o', 'o', 'o', 'o', 'o', 'o', 'b-person', 'i-person', 'o', 'o', 'o', 'o', 'o', 'o', 'o', 'o', 'o', 'o', 'o', 'o', 'o', 'o', 'o', 'o', 'o', 'o', 'b-organization', 'i-organization', 'i-organization', 'o', 'o', 'o', 'b-organization', 'i-grant', 'o', 'o', 'o', 'o', 'o', 'o', 'o', 'o', 'o', 'o', 'o', 'b-software', 'i-software', 'b-citation', 'i-citation', 'i-citation', 'i-citation', 'o', 'o', 'o', 'o', 'o', 'o', 'o', 'o', 'b-organization', 'i-computingfacility', 'i-computingfacility', 'o', 'o', 'o', 'b-grant', 'i-organization', 'i-organization', 'i-organization', 'i-organization', 'i-organization', 'i-organization', 'i-organization', 'i-organization', 'i-organization', 'i-organization', 'i-organization', 'i-organization', 'i-organization', 'i-organization', 'i-organization', 'i-organization', 'i-organization', 'i-organization', 'i-organization', 'i-organization', 'i-organization', 'i-organization', 'i-organization', 'i-organization', 'i-organization', 'i-organization', 'i-organization', 'i-organization', 'i-organization', 'i-organization', 'i-organization', 'i-organization', 'i-organization', 'i-organization', 'i-organization', 'i-organization', 'i-organization', 'i-organization', 'i-organization', 'i-organization', 'i-organization', 'i-organization', 'i-organization', 'i-organization', 'i-organization', 'i-organization', 'i-organization', 'i-organization', 'i-organization', 'i-organization', 'i-organization', 'i-organization', 'i-organization', 'i-organization', 'i-organization', 'i-organization', 'i-organization', 'i-organization', 'i-organization', 'i-organization', 'i-organization', 'i-organization', 'i-organization', 'i-organization', 'i-organization', 'i-organization', 'i-organization', 'i-organization', 'i-organization', 'i-organization', 'i-organization', 'i-organization', 'i-organization', 'i-organization', 'i-organization', 'i-organization', 'i-organization', 'i-organization', 'i-organization', 'i-organization', 'i-organization', 'i-organization', 'i-organization', 'i-organization', 'i-organization', 'i-organization', 'i-organization', 'i-organization', 'i-organization', 'i-organization', 'i-organization', 'i-organization', 'i-organization', 'i-organization', 'i-organization', 'i-organization', 'i-organization', 'i-organization', 'i-organization', 'i-organization', 'i-organization', 'i-organization', 'i-organization', 'i-organization', 'i-organization', 'i-organization', 'i-organization', 'i-organization', 'i-organization', 'i-organization', 'i-organization', 'i-organization', 'i-organization', 'i-organization', 'i-organization', 'i-organization', 'i-organization', 'i-organization', 'i-organization', 'i-organization', 'i-organization', 'i-organization', 'i-organization', 'i-organization', 'i-organization', 'i-organization', 'i-organization', 'i-organization', 'i-organization', 'i-organization', 'i-organization', 'i-organization', 'i-organization', 'i-organization', 'i-organization', 'i-organization', 'i-organization', 'i-organization', 'i-organization', 'i-organization', 'i-organization', 'i-organization', 'i-organization', 'i-organization', 'i-organization', 'i-organization', 'i-organization', 'i-organization', 'i-organization', 'i-organization', 'i-organization', 'i-organization', 'i-organization', 'i-organization', 'i-organization', 'i-organization', 'i-organization', 'i-organization', 'i-organization', 'i-organization', 'i-organization', 'i-organization', 'i-organization', 'i-organization', 'i-organization', 'i-organization', 'i-organization', 'i-organization', 'i-organization', 'i-organization', 'i-organization', 'i-organization', 'i-organization', 'i-organization', 'i-organization', 'i-organization', 'i-organization', 'i-organization', 'i-organization', 'i-organization', 'i-organization', 'i-organization', 'i-organization', 'i-organization', 'i-organization', 'i-organization', 'i-organization', 'i-organization', 'i-organization', 'i-organization', 'i-organization', 'i-organization', 'i-organization', 'i-organization', 'i-organization', 'i-organization', 'i-organization', 'i-organization', 'i-organization', 'i-organization', 'i-organization', 'i-organization', 'i-organization', 'i-organization', 'i-organization', 'i-organization', 'i-organization', 'i-organization', 'i-organization', 'i-organization', 'i-organization', 'i-organization', 'i-organization', 'i-organization', 'i-organization', 'i-organization', 'i-organization', 'i-organization', 'i-organization', 'i-organization', 'i-organization', 'i-organization', 'i-organization', 'i-organization']\n",
            "----------------------------------------------------------------------------------------------------\n",
            "Original  :  ['o', 'o', 'o', 'o', 'o', 'b-organization', 'o', 'b-grant', 'i-grant', 'i-grant', 'i-grant', 'i-grant', 'o', 'b-grant', 'o', 'o', 'o', 'o', 'o', 'o', 'o', 'o', 'o', 'o', 'o', 'o', 'o', 'o', 'o', 'o', 'o', 'o', None, None, None, None, None, None, None, None, None, None, None, None, None, None, None, None, None, None, None, None, None, None, None, None, None, None, None, None, None, None, None, None, None, None, None, None, None, None, None, None, None, None, None, None, None, None, None, None, None, None, None, None, None, None, None, None, None, None, None, None, None, None, None, None, None, None, None, None, None, None, None, None, None, None, None, None, None, None, None, None, None, None, None, None, None, None, None, None, None, None, None, None, None, None, None, None, None, None, None, None, None, None, None, None, None, None, None, None, None, None, None, None, None, None, None, None, None, None, None, None, None, None, None, None, None, None, None, None, None, None, None, None, None, None, None, None, None, None, None, None, None, None, None, None, None, None, None, None, None, None, None, None, None, None, None, None, None, None, None, None, None, None, None, None, None, None, None, None, None, None, None, None, None, None, None, None, None, None, None, None, None, None, None, None, None, None, None, None, None, None, None, None, None, None, None, None, None, None, None, None, None, None, None, None, None, None, None, None, None, None, None, None, None, None, None, None, None, None, None, None, None, None, None, None, None, None, None, None, None, None, None, None, None, None, None, None, None, None, None, None, None, None, None, None, None, None, None, None, None, None, None, None, None, None, None, None, None, None, None, None, None, None, None, None, None, None, None, None, None, None, None, None, None, None, None, None, None, None, None, None, None, None, None, None, None, None, None, None, None, None, None, None, None, None, None, None, None, None, None, None, None, None, None, None, None, None, None, None, None, None, None, None, None, None, None, None, None, None, None, None, None, None, None, None, None, None, None, None, None, None, None, None, None, None, None, None, None, None, None, None, None, None, None, None, None, None, None, None, None, None, None, None, None, None, None, None, None, None, None, None, None, None, None, None, None, None, None, None]\n",
            "predicted :  ['o', 'o', 'o', 'o', 'o', 'b-organization', 'o', 'b-computingfacility', 'i-grant', 'i-grant', 'o', 'b-grant', 'o', 'o', 'o', 'o', 'o', 'o', 'o', 'o', 'o', 'o', 'o', 'o', 'o', 'o', 'o', 'o', 'o', 'o', 'o', 'o', 'i-organization', 'i-organization', 'i-organization', 'i-organization', 'i-organization', 'i-organization', 'i-organization', 'i-organization', 'i-organization', 'i-organization', 'i-organization', 'i-organization', 'i-organization', 'i-organization', 'i-organization', 'i-organization', 'i-organization', 'i-organization', 'i-organization', 'i-organization', 'i-organization', 'i-organization', 'i-organization', 'i-organization', 'i-organization', 'i-organization', 'i-organization', 'i-organization', 'i-organization', 'i-organization', 'i-organization', 'i-organization', 'i-organization', 'i-organization', 'i-organization', 'i-organization', 'i-organization', 'i-organization', 'i-organization', 'i-organization', 'i-organization', 'i-organization', 'i-organization', 'i-organization', 'i-organization', 'i-organization', 'i-organization', 'i-organization', 'i-organization', 'i-organization', 'i-organization', 'i-organization', 'i-organization', 'i-organization', 'i-organization', 'i-organization', 'i-organization', 'i-organization', 'i-organization', 'i-organization', 'i-organization', 'i-organization', 'i-organization', 'i-organization', 'i-organization', 'i-organization', 'i-organization', 'i-organization', 'i-organization', 'i-organization', 'i-organization', 'i-organization', 'i-organization', 'i-organization', 'i-organization', 'i-organization', 'i-organization', 'i-organization', 'i-organization', 'i-organization', 'i-organization', 'i-organization', 'i-organization', 'i-organization', 'i-organization', 'i-organization', 'i-organization', 'i-organization', 'i-organization', 'i-organization', 'i-organization', 'i-organization', 'i-organization', 'i-organization', 'i-organization', 'i-organization', 'i-organization', 'i-organization', 'i-organization', 'i-organization', 'i-organization', 'i-organization', 'i-organization', 'i-organization', 'i-organization', 'i-organization', 'i-organization', 'i-organization', 'i-organization', 'i-organization', 'i-organization', 'i-organization', 'i-organization', 'i-organization', 'i-organization', 'i-organization', 'i-organization', 'i-organization', 'i-organization', 'i-organization', 'i-organization', 'i-organization', 'i-organization', 'i-organization', 'i-organization', 'i-organization', 'i-organization', 'i-organization', 'i-organization', 'i-organization', 'i-organization', 'i-organization', 'i-organization', 'i-organization', 'i-organization', 'i-organization', 'i-organization', 'i-organization', 'i-organization', 'i-organization', 'i-organization', 'i-organization', 'i-organization', 'i-organization', 'i-organization', 'i-organization', 'i-organization', 'i-organization', 'i-organization', 'i-organization', 'i-organization', 'i-organization', 'i-organization', 'i-organization', 'i-organization', 'i-organization', 'i-organization', 'i-organization', 'i-organization', 'i-organization', 'i-organization', 'i-organization', 'i-organization', 'i-organization', 'i-organization', 'i-organization', 'i-organization', 'i-organization', 'i-organization', 'i-organization', 'i-organization', 'i-organization', 'i-organization', 'i-organization', 'i-organization', 'i-organization', 'i-organization', 'i-organization', 'i-organization', 'i-organization', 'i-organization', 'i-organization', 'i-organization', 'i-organization', 'i-organization', 'i-organization', 'i-organization', 'i-organization', 'i-organization', 'i-organization', 'i-organization', 'i-organization', 'i-organization', 'i-organization', 'i-organization', 'i-organization', 'i-organization', 'i-organization', 'i-organization', 'i-organization', 'i-organization', 'i-organization', 'i-organization', 'i-organization', 'i-organization', 'i-organization', 'i-organization', 'i-organization', 'i-organization', 'i-organization', 'i-organization', 'i-organization', 'i-organization', 'i-organization', 'i-organization', 'i-organization', 'i-organization', 'i-organization', 'i-organization', 'i-organization', 'i-organization', 'i-organization', 'i-organization', 'i-organization', 'i-organization', 'i-organization', 'i-organization', 'i-organization', 'i-organization', 'i-organization', 'i-organization', 'i-organization', 'i-organization', 'i-organization', 'i-organization', 'i-organization', 'i-organization', 'i-organization', 'i-organization', 'i-organization', 'i-organization', 'i-organization', 'i-organization', 'i-organization', 'i-organization', 'i-organization', 'i-organization', 'i-organization', 'i-organization', 'i-organization', 'i-organization', 'i-organization', 'i-organization', 'i-organization', 'i-organization', 'i-organization', 'i-organization', 'i-organization', 'i-organization', 'i-organization', 'i-organization', 'i-organization', 'i-organization', 'i-organization', 'i-organization', 'i-organization', 'i-organization', 'i-organization', 'i-organization', 'i-organization', 'i-organization', 'i-organization', 'i-organization', 'i-organization', 'i-organization', 'i-organization', 'i-organization', 'i-organization', 'i-organization', 'i-organization', 'i-organization', 'i-organization', 'i-organization', 'i-organization', 'i-organization', 'i-organization', 'i-organization', 'i-organization', 'i-organization', 'i-organization', 'i-organization', 'i-organization', 'i-organization', 'i-organization', 'i-organization', 'i-organization', 'i-organization', 'i-organization', 'i-organization', 'i-organization', 'i-organization', 'i-organization', 'i-organization', 'i-organization', 'i-organization', 'i-organization', 'i-organization', 'i-organization', 'i-organization', 'i-organization', 'i-organization', 'i-organization', 'i-organization', 'i-organization', 'i-organization', 'i-organization', 'i-organization', 'i-organization', 'i-organization', 'i-organization', 'i-organization', 'i-organization', 'i-organization', 'i-organization', 'i-organization', 'i-organization', 'i-organization', 'i-organization', 'i-organization', 'i-organization', 'i-organization', 'i-organization', 'i-organization', 'i-organization', 'i-organization', 'i-organization', 'i-organization', 'i-organization', 'i-organization', 'i-organization', 'i-organization', 'i-organization', 'i-organization', 'i-organization', 'i-organization', 'i-organization', 'i-organization', 'i-organization', 'i-organization', 'i-organization', 'i-organization', 'i-organization', 'i-organization', 'i-organization', 'i-organization', 'i-organization', 'i-organization', 'i-organization', 'i-organization', 'i-organization', 'i-organization', 'i-organization', 'i-organization', 'i-organization', 'i-organization', 'i-organization', 'i-organization', 'i-organization']\n",
            "----------------------------------------------------------------------------------------------------\n",
            "Original  :  ['o', 'o', 'o', 'o', 'o', 'o', 'o', 'o', 'o', 'o', 'o', 'o', 'o', 'o', 'b-database', 'i-database', 'i-database', 'o', 'o', 'o', 'o', 'o', 'o', 'b-organization', 'o', 'o', 'o', 'o', 'o', 'o', 'o', 'o', 'o', 'o', 'o', 'o', 'o', 'o', 'o', 'o', 'o', 'b-archive', 'i-archive', 'i-archive', 'i-archive', 'o', 'o', 'o', 'o', 'o', 'o', 'o', 'o', 'b-person', 'i-person', 'b-person', 'i-person', 'b-person', 'i-person', 'b-person', 'i-person', 'b-person', 'i-person', 'b-person', 'i-person', 'b-person', 'i-person', 'b-person', 'i-person', 'b-person', 'i-person', 'b-person', 'i-person', 'b-person', 'i-person', 'b-person', 'i-person', 'o', 'b-person', 'i-person', 'o', 'o', 'o', 'o', 'o', 'o', 'o', 'o', 'o', 'o', 'o', 'o', 'b-person', 'i-person', 'i-person', 'o', 'o', 'o', 'o', 'o', 'o', 'o', 'o', 'o', 'o', 'o', 'o', 'o', None, None, None, None, None, None, None, None, None, None, None, None, None, None, None, None, None, None, None, None, None, None, None, None, None, None, None, None, None, None, None, None, None, None, None, None, None, None, None, None, None, None, None, None, None, None, None, None, None, None, None, None, None, None, None, None, None, None, None, None, None, None, None, None, None, None, None, None, None, None, None, None, None, None, None, None, None, None, None, None, None, None, None, None, None, None, None, None, None, None, None, None, None, None, None, None, None, None, None, None, None, None, None, None, None, None, None, None, None, None, None, None, None, None, None, None, None, None, None, None, None, None, None, None, None, None, None, None, None, None, None, None, None, None, None, None, None, None, None, None, None, None, None, None, None, None, None, None, None, None, None, None, None, None, None, None, None, None, None, None, None, None, None, None, None, None, None, None, None, None, None, None, None, None, None, None, None, None, None, None, None, None, None, None, None, None, None, None, None, None, None, None, None, None, None, None, None, None, None, None, None, None, None, None, None, None, None, None, None, None, None, None, None, None, None, None, None, None, None, None, None, None, None, None, None, None, None, None, None, None, None, None, None, None, None, None, None, None, None, None, None, None, None, None, None, None, None, None, None, None, None, None, None, None, None, None, None, None, None, None, None, None, None, None, None, None, None, None, None, None, None, None, None, None, None, None, None, None, None, None, None, None, None, None, None, None, None, None, None, None, None, None]\n",
            "predicted :  ['o', 'o', 'o', 'o', 'o', 'o', 'o', 'o', 'o', 'o', 'o', 'o', 'o', 'o', 'b-database', 'i-database', 'i-database', 'o', 'o', 'o', 'o', 'o', 'o', 'b-dataset', 'i-database', 'i-database', 'i-wavelength', 'i-model', 'o', 'o', 'o', 'o', 'o', 'o', 'o', 'o', 'o', 'o', 'o', 'o', 'o', 'b-wavelength', 'i-wavelength', 'i-wavelength', 'i-wavelength', 'o', 'o', 'o', 'o', 'o', 'o', 'o', 'o', 'b-person', 'i-person', 'i-person', 'i-person', 'b-person', 'i-person', 'i-person', 'i-person', 'b-person', 'i-person', 'i-person', 'i-person', 'i-person', 'i-person', 'i-person', 'i-person', 'b-person', 'i-person', 'i-person', 'i-person', 'b-person', 'i-person', 'b-person', 'i-person', 'o', 'b-person', 'i-person', 'o', 'o', 'o', 'o', 'o', 'o', 'o', 'o', 'o', 'o', 'o', 'o', 'b-person', 'i-person', 'i-person', 'o', 'o', 'o', 'o', 'o', 'o', 'o', 'o', 'o', 'o', 'o', 'o', 'o', 'i-organization', 'i-organization', 'i-organization', 'i-organization', 'i-organization', 'i-organization', 'i-organization', 'i-organization', 'i-organization', 'i-organization', 'i-organization', 'i-organization', 'i-organization', 'i-organization', 'i-organization', 'i-organization', 'i-organization', 'i-organization', 'i-organization', 'i-organization', 'i-organization', 'i-organization', 'i-organization', 'i-organization', 'i-organization', 'i-organization', 'i-organization', 'i-organization', 'i-organization', 'i-organization', 'i-organization', 'i-organization', 'i-organization', 'i-organization', 'i-organization', 'i-organization', 'i-organization', 'i-organization', 'i-organization', 'i-organization', 'i-organization', 'i-organization', 'i-organization', 'i-organization', 'i-organization', 'i-organization', 'i-organization', 'i-organization', 'i-organization', 'i-organization', 'i-organization', 'i-organization', 'i-organization', 'i-organization', 'i-organization', 'i-organization', 'i-organization', 'i-organization', 'i-organization', 'i-organization', 'i-organization', 'i-organization', 'i-organization', 'i-organization', 'i-organization', 'i-organization', 'i-organization', 'i-organization', 'i-organization', 'i-organization', 'i-organization', 'i-organization', 'i-organization', 'i-organization', 'i-organization', 'i-organization', 'i-organization', 'i-organization', 'i-organization', 'i-organization', 'i-organization', 'i-organization', 'i-organization', 'i-organization', 'i-organization', 'i-organization', 'i-organization', 'i-organization', 'i-organization', 'i-organization', 'i-organization', 'i-organization', 'i-organization', 'i-organization', 'i-organization', 'i-organization', 'i-organization', 'i-organization', 'i-organization', 'i-organization', 'i-organization', 'i-organization', 'i-organization', 'i-organization', 'i-organization', 'i-organization', 'i-organization', 'i-organization', 'i-organization', 'i-organization', 'i-organization', 'i-organization', 'i-organization', 'i-organization', 'i-organization', 'i-organization', 'i-organization', 'i-organization', 'i-organization', 'i-organization', 'i-organization', 'i-organization', 'i-organization', 'i-organization', 'i-organization', 'i-organization', 'i-organization', 'i-organization', 'i-organization', 'i-organization', 'i-organization', 'i-organization', 'i-organization', 'i-organization', 'i-organization', 'i-organization', 'i-organization', 'i-organization', 'i-organization', 'i-organization', 'i-organization', 'i-organization', 'i-organization', 'i-organization', 'i-organization', 'i-organization', 'i-organization', 'i-organization', 'i-organization', 'i-organization', 'i-organization', 'i-organization', 'i-organization', 'i-organization', 'i-organization', 'i-organization', 'i-organization', 'i-organization', 'i-organization', 'i-organization', 'i-organization', 'i-organization', 'i-organization', 'i-organization', 'i-organization', 'i-organization', 'i-organization', 'i-organization', 'i-organization', 'i-organization', 'i-organization', 'i-organization', 'i-organization', 'i-organization', 'i-organization', 'i-organization', 'i-organization', 'i-organization', 'i-organization', 'i-organization', 'i-organization', 'i-organization', 'i-organization', 'i-organization', 'i-organization', 'i-organization', 'i-organization', 'i-organization', 'i-organization', 'i-organization', 'i-organization', 'i-organization', 'i-organization', 'i-organization', 'i-organization', 'i-organization', 'i-organization', 'i-organization', 'i-organization', 'i-organization', 'i-organization', 'i-organization', 'i-organization', 'i-organization', 'i-organization', 'i-organization', 'i-organization', 'i-organization', 'i-organization', 'i-organization', 'i-organization', 'i-organization', 'i-organization', 'i-organization', 'i-organization', 'i-organization', 'i-organization', 'i-organization', 'i-organization', 'i-organization', 'i-organization', 'i-organization', 'i-organization', 'i-organization', 'i-organization', 'i-organization', 'i-organization', 'i-organization', 'i-organization', 'i-organization', 'i-organization', 'i-organization', 'i-organization', 'i-organization', 'i-organization', 'i-organization', 'i-organization', 'i-organization', 'i-organization', 'i-organization', 'i-organization', 'i-organization', 'i-organization', 'i-organization', 'i-organization', 'i-organization', 'i-organization', 'i-organization', 'i-organization', 'i-organization', 'i-organization', 'i-organization', 'i-organization', 'i-organization', 'i-organization', 'i-organization', 'i-organization', 'i-organization', 'i-organization', 'i-organization', 'i-organization', 'i-organization', 'i-organization', 'i-organization', 'i-organization', 'i-organization', 'i-organization', 'i-organization', 'i-organization', 'i-organization', 'i-organization', 'i-organization', 'i-organization', 'i-organization', 'i-organization', 'i-organization', 'i-organization', 'i-organization', 'i-organization', 'i-organization', 'i-organization', 'i-organization', 'i-organization', 'i-organization', 'i-organization', 'i-organization', 'i-organization', 'i-organization', 'i-organization', 'i-organization', 'i-organization', 'i-organization']\n",
            "----------------------------------------------------------------------------------------------------\n"
          ]
        }
      ]
    },
    {
      "cell_type": "markdown",
      "source": [
        "## Step C Transfer Learning model : Bert base cased using simple transformer** "
      ],
      "metadata": {
        "id": "eAAUx7QKInfP"
      }
    },
    {
      "cell_type": "markdown",
      "source": [
        "We have taken help from : https://www.youtube.com/watch?v=uKPBkendlxw&t=712s and also followed: https://github.com/karndeepsingh/Named-Entity-Recognition/blob/main/NAMED%20ENTITY%20RECOGNITION.ipynb"
      ],
      "metadata": {
        "id": "IMsgXFzaI1OX"
      }
    },
    {
      "cell_type": "code",
      "source": [
        "!pip install simpletransformers"
      ],
      "metadata": {
        "colab": {
          "base_uri": "https://localhost:8080/",
          "height": 1000
        },
        "outputId": "2d5beb81-0185-47b7-d41b-8c2e074ac476",
        "id": "nV_bs6osI1OY"
      },
      "execution_count": null,
      "outputs": [
        {
          "output_type": "stream",
          "name": "stdout",
          "text": [
            "Looking in indexes: https://pypi.org/simple, https://us-python.pkg.dev/colab-wheels/public/simple/\n",
            "Collecting simpletransformers\n",
            "  Downloading simpletransformers-0.63.9-py3-none-any.whl (250 kB)\n",
            "\u001b[K     |████████████████████████████████| 250 kB 35.0 MB/s \n",
            "\u001b[?25hRequirement already satisfied: requests in /usr/local/lib/python3.7/dist-packages (from simpletransformers) (2.23.0)\n",
            "Requirement already satisfied: tqdm>=4.47.0 in /usr/local/lib/python3.7/dist-packages (from simpletransformers) (4.64.1)\n",
            "Requirement already satisfied: pandas in /usr/local/lib/python3.7/dist-packages (from simpletransformers) (1.3.5)\n",
            "Requirement already satisfied: numpy in /usr/local/lib/python3.7/dist-packages (from simpletransformers) (1.21.6)\n",
            "Collecting transformers>=4.6.0\n",
            "  Downloading transformers-4.24.0-py3-none-any.whl (5.5 MB)\n",
            "\u001b[K     |████████████████████████████████| 5.5 MB 39.1 MB/s \n",
            "\u001b[?25hRequirement already satisfied: scipy in /usr/local/lib/python3.7/dist-packages (from simpletransformers) (1.7.3)\n",
            "Collecting sentencepiece\n",
            "  Downloading sentencepiece-0.1.97-cp37-cp37m-manylinux_2_17_x86_64.manylinux2014_x86_64.whl (1.3 MB)\n",
            "\u001b[K     |████████████████████████████████| 1.3 MB 49.2 MB/s \n",
            "\u001b[?25hCollecting datasets\n",
            "  Downloading datasets-2.7.0-py3-none-any.whl (451 kB)\n",
            "\u001b[K     |████████████████████████████████| 451 kB 69.3 MB/s \n",
            "\u001b[?25hRequirement already satisfied: scikit-learn in /usr/local/lib/python3.7/dist-packages (from simpletransformers) (1.0.2)\n",
            "Collecting seqeval\n",
            "  Downloading seqeval-1.2.2.tar.gz (43 kB)\n",
            "\u001b[K     |████████████████████████████████| 43 kB 2.2 MB/s \n",
            "\u001b[?25hCollecting streamlit\n",
            "  Downloading streamlit-1.15.0-py2.py3-none-any.whl (9.2 MB)\n",
            "\u001b[K     |████████████████████████████████| 9.2 MB 44.4 MB/s \n",
            "\u001b[?25hRequirement already satisfied: regex in /usr/local/lib/python3.7/dist-packages (from simpletransformers) (2022.6.2)\n",
            "Collecting tokenizers\n",
            "  Downloading tokenizers-0.13.2-cp37-cp37m-manylinux_2_17_x86_64.manylinux2014_x86_64.whl (7.6 MB)\n",
            "\u001b[K     |████████████████████████████████| 7.6 MB 48.8 MB/s \n",
            "\u001b[?25hCollecting wandb>=0.10.32\n",
            "  Downloading wandb-0.13.5-py2.py3-none-any.whl (1.9 MB)\n",
            "\u001b[K     |████████████████████████████████| 1.9 MB 48.8 MB/s \n",
            "\u001b[?25hRequirement already satisfied: tensorboard in /usr/local/lib/python3.7/dist-packages (from simpletransformers) (2.9.1)\n",
            "Requirement already satisfied: filelock in /usr/local/lib/python3.7/dist-packages (from transformers>=4.6.0->simpletransformers) (3.8.0)\n",
            "Requirement already satisfied: pyyaml>=5.1 in /usr/local/lib/python3.7/dist-packages (from transformers>=4.6.0->simpletransformers) (6.0)\n",
            "Collecting huggingface-hub<1.0,>=0.10.0\n",
            "  Downloading huggingface_hub-0.11.0-py3-none-any.whl (182 kB)\n",
            "\u001b[K     |████████████████████████████████| 182 kB 73.1 MB/s \n",
            "\u001b[?25hRequirement already satisfied: packaging>=20.0 in /usr/local/lib/python3.7/dist-packages (from transformers>=4.6.0->simpletransformers) (21.3)\n",
            "Requirement already satisfied: importlib-metadata in /usr/local/lib/python3.7/dist-packages (from transformers>=4.6.0->simpletransformers) (4.13.0)\n",
            "Requirement already satisfied: typing-extensions>=3.7.4.3 in /usr/local/lib/python3.7/dist-packages (from huggingface-hub<1.0,>=0.10.0->transformers>=4.6.0->simpletransformers) (4.1.1)\n",
            "Requirement already satisfied: pyparsing!=3.0.5,>=2.0.2 in /usr/local/lib/python3.7/dist-packages (from packaging>=20.0->transformers>=4.6.0->simpletransformers) (3.0.9)\n",
            "Collecting pathtools\n",
            "  Downloading pathtools-0.1.2.tar.gz (11 kB)\n",
            "Collecting sentry-sdk>=1.0.0\n",
            "  Downloading sentry_sdk-1.11.0-py2.py3-none-any.whl (168 kB)\n",
            "\u001b[K     |████████████████████████████████| 168 kB 70.6 MB/s \n",
            "\u001b[?25hRequirement already satisfied: six>=1.13.0 in /usr/local/lib/python3.7/dist-packages (from wandb>=0.10.32->simpletransformers) (1.15.0)\n",
            "Collecting setproctitle\n",
            "  Downloading setproctitle-1.3.2-cp37-cp37m-manylinux_2_5_x86_64.manylinux1_x86_64.manylinux_2_17_x86_64.manylinux2014_x86_64.whl (30 kB)\n",
            "Requirement already satisfied: Click!=8.0.0,>=7.0 in /usr/local/lib/python3.7/dist-packages (from wandb>=0.10.32->simpletransformers) (7.1.2)\n",
            "Requirement already satisfied: promise<3,>=2.0 in /usr/local/lib/python3.7/dist-packages (from wandb>=0.10.32->simpletransformers) (2.3)\n",
            "Requirement already satisfied: protobuf!=4.0.*,!=4.21.0,<5,>=3.12.0 in /usr/local/lib/python3.7/dist-packages (from wandb>=0.10.32->simpletransformers) (3.19.6)\n",
            "Requirement already satisfied: psutil>=5.0.0 in /usr/local/lib/python3.7/dist-packages (from wandb>=0.10.32->simpletransformers) (5.4.8)\n",
            "Requirement already satisfied: setuptools in /usr/local/lib/python3.7/dist-packages (from wandb>=0.10.32->simpletransformers) (57.4.0)\n",
            "Collecting GitPython>=1.0.0\n",
            "  Downloading GitPython-3.1.29-py3-none-any.whl (182 kB)\n",
            "\u001b[K     |████████████████████████████████| 182 kB 73.6 MB/s \n",
            "\u001b[?25hCollecting docker-pycreds>=0.4.0\n",
            "  Downloading docker_pycreds-0.4.0-py2.py3-none-any.whl (9.0 kB)\n",
            "Collecting shortuuid>=0.5.0\n",
            "  Downloading shortuuid-1.0.11-py3-none-any.whl (10 kB)\n",
            "Collecting gitdb<5,>=4.0.1\n",
            "  Downloading gitdb-4.0.9-py3-none-any.whl (63 kB)\n",
            "\u001b[K     |████████████████████████████████| 63 kB 1.6 MB/s \n",
            "\u001b[?25hCollecting smmap<6,>=3.0.1\n",
            "  Downloading smmap-5.0.0-py3-none-any.whl (24 kB)\n",
            "Requirement already satisfied: chardet<4,>=3.0.2 in /usr/local/lib/python3.7/dist-packages (from requests->simpletransformers) (3.0.4)\n",
            "Requirement already satisfied: urllib3!=1.25.0,!=1.25.1,<1.26,>=1.21.1 in /usr/local/lib/python3.7/dist-packages (from requests->simpletransformers) (1.24.3)\n",
            "Requirement already satisfied: certifi>=2017.4.17 in /usr/local/lib/python3.7/dist-packages (from requests->simpletransformers) (2022.9.24)\n",
            "Requirement already satisfied: idna<3,>=2.5 in /usr/local/lib/python3.7/dist-packages (from requests->simpletransformers) (2.10)\n",
            "Collecting sentry-sdk>=1.0.0\n",
            "  Downloading sentry_sdk-1.10.1-py2.py3-none-any.whl (166 kB)\n",
            "\u001b[K     |████████████████████████████████| 166 kB 67.9 MB/s \n",
            "\u001b[?25h  Downloading sentry_sdk-1.10.0-py2.py3-none-any.whl (166 kB)\n",
            "\u001b[K     |████████████████████████████████| 166 kB 71.8 MB/s \n",
            "\u001b[?25h  Downloading sentry_sdk-1.9.10-py2.py3-none-any.whl (162 kB)\n",
            "\u001b[K     |████████████████████████████████| 162 kB 75.3 MB/s \n",
            "\u001b[?25h  Downloading sentry_sdk-1.9.9-py2.py3-none-any.whl (162 kB)\n",
            "\u001b[K     |████████████████████████████████| 162 kB 68.4 MB/s \n",
            "\u001b[?25h  Downloading sentry_sdk-1.9.8-py2.py3-none-any.whl (158 kB)\n",
            "\u001b[K     |████████████████████████████████| 158 kB 68.2 MB/s \n",
            "\u001b[?25h  Downloading sentry_sdk-1.9.7-py2.py3-none-any.whl (157 kB)\n",
            "\u001b[K     |████████████████████████████████| 157 kB 79.6 MB/s \n",
            "\u001b[?25h  Downloading sentry_sdk-1.9.6-py2.py3-none-any.whl (157 kB)\n",
            "\u001b[K     |████████████████████████████████| 157 kB 77.7 MB/s \n",
            "\u001b[?25h  Downloading sentry_sdk-1.9.5-py2.py3-none-any.whl (157 kB)\n",
            "\u001b[K     |████████████████████████████████| 157 kB 69.0 MB/s \n",
            "\u001b[?25h  Downloading sentry_sdk-1.9.4-py2.py3-none-any.whl (157 kB)\n",
            "\u001b[K     |████████████████████████████████| 157 kB 71.3 MB/s \n",
            "\u001b[?25h  Downloading sentry_sdk-1.9.3-py2.py3-none-any.whl (157 kB)\n",
            "\u001b[K     |████████████████████████████████| 157 kB 81.2 MB/s \n",
            "\u001b[?25h  Downloading sentry_sdk-1.9.2-py2.py3-none-any.whl (157 kB)\n",
            "\u001b[K     |████████████████████████████████| 157 kB 83.2 MB/s \n",
            "\u001b[?25h  Downloading sentry_sdk-1.9.1-py2.py3-none-any.whl (157 kB)\n",
            "\u001b[K     |████████████████████████████████| 157 kB 83.2 MB/s \n",
            "\u001b[?25h  Downloading sentry_sdk-1.9.0-py2.py3-none-any.whl (156 kB)\n",
            "\u001b[K     |████████████████████████████████| 156 kB 81.8 MB/s \n",
            "\u001b[?25hCollecting multiprocess\n",
            "  Downloading multiprocess-0.70.14-py37-none-any.whl (115 kB)\n",
            "\u001b[K     |████████████████████████████████| 115 kB 73.7 MB/s \n",
            "\u001b[?25hRequirement already satisfied: fsspec[http]>=2021.11.1 in /usr/local/lib/python3.7/dist-packages (from datasets->simpletransformers) (2022.10.0)\n",
            "Collecting xxhash\n",
            "  Downloading xxhash-3.1.0-cp37-cp37m-manylinux_2_17_x86_64.manylinux2014_x86_64.whl (212 kB)\n",
            "\u001b[K     |████████████████████████████████| 212 kB 70.7 MB/s \n",
            "\u001b[?25hCollecting responses<0.19\n",
            "  Downloading responses-0.18.0-py3-none-any.whl (38 kB)\n",
            "Requirement already satisfied: dill<0.3.7 in /usr/local/lib/python3.7/dist-packages (from datasets->simpletransformers) (0.3.6)\n",
            "Requirement already satisfied: aiohttp in /usr/local/lib/python3.7/dist-packages (from datasets->simpletransformers) (3.8.3)\n",
            "Requirement already satisfied: pyarrow>=6.0.0 in /usr/local/lib/python3.7/dist-packages (from datasets->simpletransformers) (6.0.1)\n",
            "Requirement already satisfied: frozenlist>=1.1.1 in /usr/local/lib/python3.7/dist-packages (from aiohttp->datasets->simpletransformers) (1.3.3)\n",
            "Requirement already satisfied: yarl<2.0,>=1.0 in /usr/local/lib/python3.7/dist-packages (from aiohttp->datasets->simpletransformers) (1.8.1)\n",
            "Requirement already satisfied: asynctest==0.13.0 in /usr/local/lib/python3.7/dist-packages (from aiohttp->datasets->simpletransformers) (0.13.0)\n",
            "Requirement already satisfied: async-timeout<5.0,>=4.0.0a3 in /usr/local/lib/python3.7/dist-packages (from aiohttp->datasets->simpletransformers) (4.0.2)\n",
            "Requirement already satisfied: attrs>=17.3.0 in /usr/local/lib/python3.7/dist-packages (from aiohttp->datasets->simpletransformers) (22.1.0)\n",
            "Requirement already satisfied: aiosignal>=1.1.2 in /usr/local/lib/python3.7/dist-packages (from aiohttp->datasets->simpletransformers) (1.3.1)\n",
            "Requirement already satisfied: charset-normalizer<3.0,>=2.0 in /usr/local/lib/python3.7/dist-packages (from aiohttp->datasets->simpletransformers) (2.1.1)\n",
            "Requirement already satisfied: multidict<7.0,>=4.5 in /usr/local/lib/python3.7/dist-packages (from aiohttp->datasets->simpletransformers) (6.0.2)\n",
            "Collecting urllib3!=1.25.0,!=1.25.1,<1.26,>=1.21.1\n",
            "  Downloading urllib3-1.25.11-py2.py3-none-any.whl (127 kB)\n",
            "\u001b[K     |████████████████████████████████| 127 kB 76.3 MB/s \n",
            "\u001b[?25hRequirement already satisfied: zipp>=0.5 in /usr/local/lib/python3.7/dist-packages (from importlib-metadata->transformers>=4.6.0->simpletransformers) (3.10.0)\n",
            "Requirement already satisfied: python-dateutil>=2.7.3 in /usr/local/lib/python3.7/dist-packages (from pandas->simpletransformers) (2.8.2)\n",
            "Requirement already satisfied: pytz>=2017.3 in /usr/local/lib/python3.7/dist-packages (from pandas->simpletransformers) (2022.6)\n",
            "Requirement already satisfied: joblib>=0.11 in /usr/local/lib/python3.7/dist-packages (from scikit-learn->simpletransformers) (1.2.0)\n",
            "Requirement already satisfied: threadpoolctl>=2.0.0 in /usr/local/lib/python3.7/dist-packages (from scikit-learn->simpletransformers) (3.1.0)\n",
            "Collecting semver\n",
            "  Downloading semver-2.13.0-py2.py3-none-any.whl (12 kB)\n",
            "Collecting rich>=10.11.0\n",
            "  Downloading rich-12.6.0-py3-none-any.whl (237 kB)\n",
            "\u001b[K     |████████████████████████████████| 237 kB 76.7 MB/s \n",
            "\u001b[?25hCollecting watchdog\n",
            "  Downloading watchdog-2.1.9-py3-none-manylinux2014_x86_64.whl (78 kB)\n",
            "\u001b[K     |████████████████████████████████| 78 kB 7.9 MB/s \n",
            "\u001b[?25hRequirement already satisfied: tornado>=5.0 in /usr/local/lib/python3.7/dist-packages (from streamlit->simpletransformers) (6.0.4)\n",
            "Requirement already satisfied: tzlocal>=1.1 in /usr/local/lib/python3.7/dist-packages (from streamlit->simpletransformers) (1.5.1)\n",
            "Collecting pydeck>=0.1.dev5\n",
            "  Downloading pydeck-0.8.0-py2.py3-none-any.whl (4.7 MB)\n",
            "\u001b[K     |████████████████████████████████| 4.7 MB 23.9 MB/s \n",
            "\u001b[?25hRequirement already satisfied: cachetools>=4.0 in /usr/local/lib/python3.7/dist-packages (from streamlit->simpletransformers) (5.2.0)\n",
            "Collecting pympler>=0.9\n",
            "  Downloading Pympler-1.0.1-py3-none-any.whl (164 kB)\n",
            "\u001b[K     |████████████████████████████████| 164 kB 75.9 MB/s \n",
            "\u001b[?25hRequirement already satisfied: toml in /usr/local/lib/python3.7/dist-packages (from streamlit->simpletransformers) (0.10.2)\n",
            "Collecting validators>=0.2\n",
            "  Downloading validators-0.20.0.tar.gz (30 kB)\n",
            "Requirement already satisfied: altair>=3.2.0 in /usr/local/lib/python3.7/dist-packages (from streamlit->simpletransformers) (4.2.0)\n",
            "Collecting blinker>=1.0.0\n",
            "  Downloading blinker-1.5-py2.py3-none-any.whl (12 kB)\n",
            "Requirement already satisfied: pillow>=6.2.0 in /usr/local/lib/python3.7/dist-packages (from streamlit->simpletransformers) (7.1.2)\n",
            "Requirement already satisfied: jsonschema>=3.0 in /usr/local/lib/python3.7/dist-packages (from altair>=3.2.0->streamlit->simpletransformers) (4.3.3)\n",
            "Requirement already satisfied: entrypoints in /usr/local/lib/python3.7/dist-packages (from altair>=3.2.0->streamlit->simpletransformers) (0.4)\n",
            "Requirement already satisfied: jinja2 in /usr/local/lib/python3.7/dist-packages (from altair>=3.2.0->streamlit->simpletransformers) (2.11.3)\n",
            "Requirement already satisfied: toolz in /usr/local/lib/python3.7/dist-packages (from altair>=3.2.0->streamlit->simpletransformers) (0.12.0)\n",
            "Requirement already satisfied: importlib-resources>=1.4.0 in /usr/local/lib/python3.7/dist-packages (from jsonschema>=3.0->altair>=3.2.0->streamlit->simpletransformers) (5.10.0)\n",
            "Requirement already satisfied: pyrsistent!=0.17.0,!=0.17.1,!=0.17.2,>=0.14.0 in /usr/local/lib/python3.7/dist-packages (from jsonschema>=3.0->altair>=3.2.0->streamlit->simpletransformers) (0.19.2)\n",
            "Requirement already satisfied: MarkupSafe>=0.23 in /usr/local/lib/python3.7/dist-packages (from jinja2->altair>=3.2.0->streamlit->simpletransformers) (2.0.1)\n",
            "Collecting commonmark<0.10.0,>=0.9.0\n",
            "  Downloading commonmark-0.9.1-py2.py3-none-any.whl (51 kB)\n",
            "\u001b[K     |████████████████████████████████| 51 kB 7.9 MB/s \n",
            "\u001b[?25hRequirement already satisfied: pygments<3.0.0,>=2.6.0 in /usr/local/lib/python3.7/dist-packages (from rich>=10.11.0->streamlit->simpletransformers) (2.6.1)\n",
            "Requirement already satisfied: decorator>=3.4.0 in /usr/local/lib/python3.7/dist-packages (from validators>=0.2->streamlit->simpletransformers) (4.4.2)\n",
            "Requirement already satisfied: markdown>=2.6.8 in /usr/local/lib/python3.7/dist-packages (from tensorboard->simpletransformers) (3.4.1)\n",
            "Requirement already satisfied: google-auth<3,>=1.6.3 in /usr/local/lib/python3.7/dist-packages (from tensorboard->simpletransformers) (2.14.1)\n",
            "Requirement already satisfied: tensorboard-plugin-wit>=1.6.0 in /usr/local/lib/python3.7/dist-packages (from tensorboard->simpletransformers) (1.8.1)\n",
            "Requirement already satisfied: werkzeug>=1.0.1 in /usr/local/lib/python3.7/dist-packages (from tensorboard->simpletransformers) (1.0.1)\n",
            "Requirement already satisfied: grpcio>=1.24.3 in /usr/local/lib/python3.7/dist-packages (from tensorboard->simpletransformers) (1.50.0)\n",
            "Requirement already satisfied: wheel>=0.26 in /usr/local/lib/python3.7/dist-packages (from tensorboard->simpletransformers) (0.38.3)\n",
            "Requirement already satisfied: absl-py>=0.4 in /usr/local/lib/python3.7/dist-packages (from tensorboard->simpletransformers) (1.3.0)\n",
            "Requirement already satisfied: tensorboard-data-server<0.7.0,>=0.6.0 in /usr/local/lib/python3.7/dist-packages (from tensorboard->simpletransformers) (0.6.1)\n",
            "Requirement already satisfied: google-auth-oauthlib<0.5,>=0.4.1 in /usr/local/lib/python3.7/dist-packages (from tensorboard->simpletransformers) (0.4.6)\n",
            "Requirement already satisfied: pyasn1-modules>=0.2.1 in /usr/local/lib/python3.7/dist-packages (from google-auth<3,>=1.6.3->tensorboard->simpletransformers) (0.2.8)\n",
            "Requirement already satisfied: rsa<5,>=3.1.4 in /usr/local/lib/python3.7/dist-packages (from google-auth<3,>=1.6.3->tensorboard->simpletransformers) (4.9)\n",
            "Requirement already satisfied: requests-oauthlib>=0.7.0 in /usr/local/lib/python3.7/dist-packages (from google-auth-oauthlib<0.5,>=0.4.1->tensorboard->simpletransformers) (1.3.1)\n",
            "Requirement already satisfied: pyasn1<0.5.0,>=0.4.6 in /usr/local/lib/python3.7/dist-packages (from pyasn1-modules>=0.2.1->google-auth<3,>=1.6.3->tensorboard->simpletransformers) (0.4.8)\n",
            "Requirement already satisfied: oauthlib>=3.0.0 in /usr/local/lib/python3.7/dist-packages (from requests-oauthlib>=0.7.0->google-auth-oauthlib<0.5,>=0.4.1->tensorboard->simpletransformers) (3.2.2)\n",
            "Building wheels for collected packages: pathtools, seqeval, validators\n",
            "  Building wheel for pathtools (setup.py) ... \u001b[?25l\u001b[?25hdone\n",
            "  Created wheel for pathtools: filename=pathtools-0.1.2-py3-none-any.whl size=8806 sha256=7b0bc3217d46bbb04a1b84d541b5f42906a9e785acff4c75595044b3bd9df96a\n",
            "  Stored in directory: /root/.cache/pip/wheels/3e/31/09/fa59cef12cdcfecc627b3d24273699f390e71828921b2cbba2\n",
            "  Building wheel for seqeval (setup.py) ... \u001b[?25l\u001b[?25hdone\n",
            "  Created wheel for seqeval: filename=seqeval-1.2.2-py3-none-any.whl size=16182 sha256=9097274c34bc8bc5779c702f2a56be2c8528b20587a5f53027515c58386e78c4\n",
            "  Stored in directory: /root/.cache/pip/wheels/05/96/ee/7cac4e74f3b19e3158dce26a20a1c86b3533c43ec72a549fd7\n",
            "  Building wheel for validators (setup.py) ... \u001b[?25l\u001b[?25hdone\n",
            "  Created wheel for validators: filename=validators-0.20.0-py3-none-any.whl size=19615 sha256=8895600e8a0fedc47fc697d8f2d75584932c016e43bcc99a42984ce29954b15d\n",
            "  Stored in directory: /root/.cache/pip/wheels/5f/55/ab/36a76989f7f88d9ca7b1f68da6d94252bb6a8d6ad4f18e04e9\n",
            "Successfully built pathtools seqeval validators\n",
            "Installing collected packages: urllib3, smmap, gitdb, commonmark, xxhash, watchdog, validators, tokenizers, shortuuid, setproctitle, sentry-sdk, semver, rich, responses, pympler, pydeck, pathtools, multiprocess, huggingface-hub, GitPython, docker-pycreds, blinker, wandb, transformers, streamlit, seqeval, sentencepiece, datasets, simpletransformers\n",
            "  Attempting uninstall: urllib3\n",
            "    Found existing installation: urllib3 1.24.3\n",
            "    Uninstalling urllib3-1.24.3:\n",
            "      Successfully uninstalled urllib3-1.24.3\n",
            "Successfully installed GitPython-3.1.29 blinker-1.5 commonmark-0.9.1 datasets-2.7.0 docker-pycreds-0.4.0 gitdb-4.0.9 huggingface-hub-0.11.0 multiprocess-0.70.14 pathtools-0.1.2 pydeck-0.8.0 pympler-1.0.1 responses-0.18.0 rich-12.6.0 semver-2.13.0 sentencepiece-0.1.97 sentry-sdk-1.9.0 seqeval-1.2.2 setproctitle-1.3.2 shortuuid-1.0.11 simpletransformers-0.63.9 smmap-5.0.0 streamlit-1.15.0 tokenizers-0.13.2 transformers-4.24.0 urllib3-1.25.11 validators-0.20.0 wandb-0.13.5 watchdog-2.1.9 xxhash-3.1.0\n"
          ]
        },
        {
          "output_type": "display_data",
          "data": {
            "application/vnd.colab-display-data+json": {
              "pip_warning": {
                "packages": [
                  "urllib3"
                ]
              }
            }
          },
          "metadata": {}
        }
      ]
    },
    {
      "cell_type": "code",
      "source": [
        "df_training_bert=df_training[['ner_ids','ner_tags','tokens','unique_id','section']]"
      ],
      "metadata": {
        "id": "EhBhxIBdI1OY"
      },
      "execution_count": null,
      "outputs": []
    },
    {
      "cell_type": "code",
      "source": [
        "df_training_bert_after_exploding=df_training_bert.set_index(['unique_id','section']).apply(pd.Series.explode).reset_index()"
      ],
      "metadata": {
        "id": "WKkqYix_I1OY"
      },
      "execution_count": null,
      "outputs": []
    },
    {
      "cell_type": "code",
      "source": [
        "df_training_bert_after_exploding.head()"
      ],
      "metadata": {
        "colab": {
          "base_uri": "https://localhost:8080/",
          "height": 206
        },
        "outputId": "30c4e444-0dd9-43e2-a38c-9c93fb6ae185",
        "id": "1FbZZmdPI1OY"
      },
      "execution_count": null,
      "outputs": [
        {
          "output_type": "execute_result",
          "data": {
            "text/plain": [
              "                          unique_id   section ner_ids ner_tags      tokens\n",
              "0  fulltext_487_2019MNRAS.486.5558S  fulltext      62        O      Whilst\n",
              "1  fulltext_487_2019MNRAS.486.5558S  fulltext      62        O           a\n",
              "2  fulltext_487_2019MNRAS.486.5558S  fulltext      62        O  reasonable\n",
              "3  fulltext_487_2019MNRAS.486.5558S  fulltext      62        O    harmonic\n",
              "4  fulltext_487_2019MNRAS.486.5558S  fulltext      62        O         fit"
            ],
            "text/html": [
              "\n",
              "  <div id=\"df-36ccc7d3-0b83-4f54-858c-3775ed5df920\">\n",
              "    <div class=\"colab-df-container\">\n",
              "      <div>\n",
              "<style scoped>\n",
              "    .dataframe tbody tr th:only-of-type {\n",
              "        vertical-align: middle;\n",
              "    }\n",
              "\n",
              "    .dataframe tbody tr th {\n",
              "        vertical-align: top;\n",
              "    }\n",
              "\n",
              "    .dataframe thead th {\n",
              "        text-align: right;\n",
              "    }\n",
              "</style>\n",
              "<table border=\"1\" class=\"dataframe\">\n",
              "  <thead>\n",
              "    <tr style=\"text-align: right;\">\n",
              "      <th></th>\n",
              "      <th>unique_id</th>\n",
              "      <th>section</th>\n",
              "      <th>ner_ids</th>\n",
              "      <th>ner_tags</th>\n",
              "      <th>tokens</th>\n",
              "    </tr>\n",
              "  </thead>\n",
              "  <tbody>\n",
              "    <tr>\n",
              "      <th>0</th>\n",
              "      <td>fulltext_487_2019MNRAS.486.5558S</td>\n",
              "      <td>fulltext</td>\n",
              "      <td>62</td>\n",
              "      <td>O</td>\n",
              "      <td>Whilst</td>\n",
              "    </tr>\n",
              "    <tr>\n",
              "      <th>1</th>\n",
              "      <td>fulltext_487_2019MNRAS.486.5558S</td>\n",
              "      <td>fulltext</td>\n",
              "      <td>62</td>\n",
              "      <td>O</td>\n",
              "      <td>a</td>\n",
              "    </tr>\n",
              "    <tr>\n",
              "      <th>2</th>\n",
              "      <td>fulltext_487_2019MNRAS.486.5558S</td>\n",
              "      <td>fulltext</td>\n",
              "      <td>62</td>\n",
              "      <td>O</td>\n",
              "      <td>reasonable</td>\n",
              "    </tr>\n",
              "    <tr>\n",
              "      <th>3</th>\n",
              "      <td>fulltext_487_2019MNRAS.486.5558S</td>\n",
              "      <td>fulltext</td>\n",
              "      <td>62</td>\n",
              "      <td>O</td>\n",
              "      <td>harmonic</td>\n",
              "    </tr>\n",
              "    <tr>\n",
              "      <th>4</th>\n",
              "      <td>fulltext_487_2019MNRAS.486.5558S</td>\n",
              "      <td>fulltext</td>\n",
              "      <td>62</td>\n",
              "      <td>O</td>\n",
              "      <td>fit</td>\n",
              "    </tr>\n",
              "  </tbody>\n",
              "</table>\n",
              "</div>\n",
              "      <button class=\"colab-df-convert\" onclick=\"convertToInteractive('df-36ccc7d3-0b83-4f54-858c-3775ed5df920')\"\n",
              "              title=\"Convert this dataframe to an interactive table.\"\n",
              "              style=\"display:none;\">\n",
              "        \n",
              "  <svg xmlns=\"http://www.w3.org/2000/svg\" height=\"24px\"viewBox=\"0 0 24 24\"\n",
              "       width=\"24px\">\n",
              "    <path d=\"M0 0h24v24H0V0z\" fill=\"none\"/>\n",
              "    <path d=\"M18.56 5.44l.94 2.06.94-2.06 2.06-.94-2.06-.94-.94-2.06-.94 2.06-2.06.94zm-11 1L8.5 8.5l.94-2.06 2.06-.94-2.06-.94L8.5 2.5l-.94 2.06-2.06.94zm10 10l.94 2.06.94-2.06 2.06-.94-2.06-.94-.94-2.06-.94 2.06-2.06.94z\"/><path d=\"M17.41 7.96l-1.37-1.37c-.4-.4-.92-.59-1.43-.59-.52 0-1.04.2-1.43.59L10.3 9.45l-7.72 7.72c-.78.78-.78 2.05 0 2.83L4 21.41c.39.39.9.59 1.41.59.51 0 1.02-.2 1.41-.59l7.78-7.78 2.81-2.81c.8-.78.8-2.07 0-2.86zM5.41 20L4 18.59l7.72-7.72 1.47 1.35L5.41 20z\"/>\n",
              "  </svg>\n",
              "      </button>\n",
              "      \n",
              "  <style>\n",
              "    .colab-df-container {\n",
              "      display:flex;\n",
              "      flex-wrap:wrap;\n",
              "      gap: 12px;\n",
              "    }\n",
              "\n",
              "    .colab-df-convert {\n",
              "      background-color: #E8F0FE;\n",
              "      border: none;\n",
              "      border-radius: 50%;\n",
              "      cursor: pointer;\n",
              "      display: none;\n",
              "      fill: #1967D2;\n",
              "      height: 32px;\n",
              "      padding: 0 0 0 0;\n",
              "      width: 32px;\n",
              "    }\n",
              "\n",
              "    .colab-df-convert:hover {\n",
              "      background-color: #E2EBFA;\n",
              "      box-shadow: 0px 1px 2px rgba(60, 64, 67, 0.3), 0px 1px 3px 1px rgba(60, 64, 67, 0.15);\n",
              "      fill: #174EA6;\n",
              "    }\n",
              "\n",
              "    [theme=dark] .colab-df-convert {\n",
              "      background-color: #3B4455;\n",
              "      fill: #D2E3FC;\n",
              "    }\n",
              "\n",
              "    [theme=dark] .colab-df-convert:hover {\n",
              "      background-color: #434B5C;\n",
              "      box-shadow: 0px 1px 3px 1px rgba(0, 0, 0, 0.15);\n",
              "      filter: drop-shadow(0px 1px 2px rgba(0, 0, 0, 0.3));\n",
              "      fill: #FFFFFF;\n",
              "    }\n",
              "  </style>\n",
              "\n",
              "      <script>\n",
              "        const buttonEl =\n",
              "          document.querySelector('#df-36ccc7d3-0b83-4f54-858c-3775ed5df920 button.colab-df-convert');\n",
              "        buttonEl.style.display =\n",
              "          google.colab.kernel.accessAllowed ? 'block' : 'none';\n",
              "\n",
              "        async function convertToInteractive(key) {\n",
              "          const element = document.querySelector('#df-36ccc7d3-0b83-4f54-858c-3775ed5df920');\n",
              "          const dataTable =\n",
              "            await google.colab.kernel.invokeFunction('convertToInteractive',\n",
              "                                                     [key], {});\n",
              "          if (!dataTable) return;\n",
              "\n",
              "          const docLinkHtml = 'Like what you see? Visit the ' +\n",
              "            '<a target=\"_blank\" href=https://colab.research.google.com/notebooks/data_table.ipynb>data table notebook</a>'\n",
              "            + ' to learn more about interactive tables.';\n",
              "          element.innerHTML = '';\n",
              "          dataTable['output_type'] = 'display_data';\n",
              "          await google.colab.output.renderOutput(dataTable, element);\n",
              "          const docLink = document.createElement('div');\n",
              "          docLink.innerHTML = docLinkHtml;\n",
              "          element.appendChild(docLink);\n",
              "        }\n",
              "      </script>\n",
              "    </div>\n",
              "  </div>\n",
              "  "
            ]
          },
          "metadata": {},
          "execution_count": 52
        }
      ]
    },
    {
      "cell_type": "code",
      "source": [
        "\n",
        "df_training_bert_after_exploding[\"unique_id\"] = LabelEncoder().fit_transform(df_training_bert_after_exploding[\"unique_id\"] )\n",
        "df_training_bert_after_exploding['section']=LabelEncoder().fit_transform(df_training_bert_after_exploding[\"section\"] )"
      ],
      "metadata": {
        "id": "zg8W3_pkI1OY"
      },
      "execution_count": null,
      "outputs": []
    },
    {
      "cell_type": "code",
      "source": [
        "df_training_bert_after_exploding.head()"
      ],
      "metadata": {
        "colab": {
          "base_uri": "https://localhost:8080/",
          "height": 206
        },
        "outputId": "aea7bd9c-981d-45d8-ab1f-0c17b5df6ad4",
        "id": "KAZN9dFGI1OY"
      },
      "execution_count": null,
      "outputs": [
        {
          "output_type": "execute_result",
          "data": {
            "text/plain": [
              "   unique_id  section ner_ids ner_tags      tokens\n",
              "0       1462        1      62        O      Whilst\n",
              "1       1462        1      62        O           a\n",
              "2       1462        1      62        O  reasonable\n",
              "3       1462        1      62        O    harmonic\n",
              "4       1462        1      62        O         fit"
            ],
            "text/html": [
              "\n",
              "  <div id=\"df-a0b5d0be-0bcb-4f4a-8f1e-92f78752c9dc\">\n",
              "    <div class=\"colab-df-container\">\n",
              "      <div>\n",
              "<style scoped>\n",
              "    .dataframe tbody tr th:only-of-type {\n",
              "        vertical-align: middle;\n",
              "    }\n",
              "\n",
              "    .dataframe tbody tr th {\n",
              "        vertical-align: top;\n",
              "    }\n",
              "\n",
              "    .dataframe thead th {\n",
              "        text-align: right;\n",
              "    }\n",
              "</style>\n",
              "<table border=\"1\" class=\"dataframe\">\n",
              "  <thead>\n",
              "    <tr style=\"text-align: right;\">\n",
              "      <th></th>\n",
              "      <th>unique_id</th>\n",
              "      <th>section</th>\n",
              "      <th>ner_ids</th>\n",
              "      <th>ner_tags</th>\n",
              "      <th>tokens</th>\n",
              "    </tr>\n",
              "  </thead>\n",
              "  <tbody>\n",
              "    <tr>\n",
              "      <th>0</th>\n",
              "      <td>1462</td>\n",
              "      <td>1</td>\n",
              "      <td>62</td>\n",
              "      <td>O</td>\n",
              "      <td>Whilst</td>\n",
              "    </tr>\n",
              "    <tr>\n",
              "      <th>1</th>\n",
              "      <td>1462</td>\n",
              "      <td>1</td>\n",
              "      <td>62</td>\n",
              "      <td>O</td>\n",
              "      <td>a</td>\n",
              "    </tr>\n",
              "    <tr>\n",
              "      <th>2</th>\n",
              "      <td>1462</td>\n",
              "      <td>1</td>\n",
              "      <td>62</td>\n",
              "      <td>O</td>\n",
              "      <td>reasonable</td>\n",
              "    </tr>\n",
              "    <tr>\n",
              "      <th>3</th>\n",
              "      <td>1462</td>\n",
              "      <td>1</td>\n",
              "      <td>62</td>\n",
              "      <td>O</td>\n",
              "      <td>harmonic</td>\n",
              "    </tr>\n",
              "    <tr>\n",
              "      <th>4</th>\n",
              "      <td>1462</td>\n",
              "      <td>1</td>\n",
              "      <td>62</td>\n",
              "      <td>O</td>\n",
              "      <td>fit</td>\n",
              "    </tr>\n",
              "  </tbody>\n",
              "</table>\n",
              "</div>\n",
              "      <button class=\"colab-df-convert\" onclick=\"convertToInteractive('df-a0b5d0be-0bcb-4f4a-8f1e-92f78752c9dc')\"\n",
              "              title=\"Convert this dataframe to an interactive table.\"\n",
              "              style=\"display:none;\">\n",
              "        \n",
              "  <svg xmlns=\"http://www.w3.org/2000/svg\" height=\"24px\"viewBox=\"0 0 24 24\"\n",
              "       width=\"24px\">\n",
              "    <path d=\"M0 0h24v24H0V0z\" fill=\"none\"/>\n",
              "    <path d=\"M18.56 5.44l.94 2.06.94-2.06 2.06-.94-2.06-.94-.94-2.06-.94 2.06-2.06.94zm-11 1L8.5 8.5l.94-2.06 2.06-.94-2.06-.94L8.5 2.5l-.94 2.06-2.06.94zm10 10l.94 2.06.94-2.06 2.06-.94-2.06-.94-.94-2.06-.94 2.06-2.06.94z\"/><path d=\"M17.41 7.96l-1.37-1.37c-.4-.4-.92-.59-1.43-.59-.52 0-1.04.2-1.43.59L10.3 9.45l-7.72 7.72c-.78.78-.78 2.05 0 2.83L4 21.41c.39.39.9.59 1.41.59.51 0 1.02-.2 1.41-.59l7.78-7.78 2.81-2.81c.8-.78.8-2.07 0-2.86zM5.41 20L4 18.59l7.72-7.72 1.47 1.35L5.41 20z\"/>\n",
              "  </svg>\n",
              "      </button>\n",
              "      \n",
              "  <style>\n",
              "    .colab-df-container {\n",
              "      display:flex;\n",
              "      flex-wrap:wrap;\n",
              "      gap: 12px;\n",
              "    }\n",
              "\n",
              "    .colab-df-convert {\n",
              "      background-color: #E8F0FE;\n",
              "      border: none;\n",
              "      border-radius: 50%;\n",
              "      cursor: pointer;\n",
              "      display: none;\n",
              "      fill: #1967D2;\n",
              "      height: 32px;\n",
              "      padding: 0 0 0 0;\n",
              "      width: 32px;\n",
              "    }\n",
              "\n",
              "    .colab-df-convert:hover {\n",
              "      background-color: #E2EBFA;\n",
              "      box-shadow: 0px 1px 2px rgba(60, 64, 67, 0.3), 0px 1px 3px 1px rgba(60, 64, 67, 0.15);\n",
              "      fill: #174EA6;\n",
              "    }\n",
              "\n",
              "    [theme=dark] .colab-df-convert {\n",
              "      background-color: #3B4455;\n",
              "      fill: #D2E3FC;\n",
              "    }\n",
              "\n",
              "    [theme=dark] .colab-df-convert:hover {\n",
              "      background-color: #434B5C;\n",
              "      box-shadow: 0px 1px 3px 1px rgba(0, 0, 0, 0.15);\n",
              "      filter: drop-shadow(0px 1px 2px rgba(0, 0, 0, 0.3));\n",
              "      fill: #FFFFFF;\n",
              "    }\n",
              "  </style>\n",
              "\n",
              "      <script>\n",
              "        const buttonEl =\n",
              "          document.querySelector('#df-a0b5d0be-0bcb-4f4a-8f1e-92f78752c9dc button.colab-df-convert');\n",
              "        buttonEl.style.display =\n",
              "          google.colab.kernel.accessAllowed ? 'block' : 'none';\n",
              "\n",
              "        async function convertToInteractive(key) {\n",
              "          const element = document.querySelector('#df-a0b5d0be-0bcb-4f4a-8f1e-92f78752c9dc');\n",
              "          const dataTable =\n",
              "            await google.colab.kernel.invokeFunction('convertToInteractive',\n",
              "                                                     [key], {});\n",
              "          if (!dataTable) return;\n",
              "\n",
              "          const docLinkHtml = 'Like what you see? Visit the ' +\n",
              "            '<a target=\"_blank\" href=https://colab.research.google.com/notebooks/data_table.ipynb>data table notebook</a>'\n",
              "            + ' to learn more about interactive tables.';\n",
              "          element.innerHTML = '';\n",
              "          dataTable['output_type'] = 'display_data';\n",
              "          await google.colab.output.renderOutput(dataTable, element);\n",
              "          const docLink = document.createElement('div');\n",
              "          docLink.innerHTML = docLinkHtml;\n",
              "          element.appendChild(docLink);\n",
              "        }\n",
              "      </script>\n",
              "    </div>\n",
              "  </div>\n",
              "  "
            ]
          },
          "metadata": {},
          "execution_count": 54
        }
      ]
    },
    {
      "cell_type": "code",
      "source": [
        "df_training_bert_after_exploding[\"ner_tags\"] = df_training_bert_after_exploding[\"ner_tags\"].str.upper()"
      ],
      "metadata": {
        "id": "__UR46gUI1OY"
      },
      "execution_count": null,
      "outputs": []
    },
    {
      "cell_type": "code",
      "source": [
        "predictors= df_training_bert_after_exploding[[\"unique_id\",\"tokens\",\"section\"]]\n",
        "training_tags =df_training_bert_after_exploding[\"ner_tags\"]"
      ],
      "metadata": {
        "id": "aHgmmpk7I1OZ"
      },
      "execution_count": null,
      "outputs": []
    },
    {
      "cell_type": "code",
      "source": [
        "x_train, x_test, y_train, y_test = train_test_split(predictors,training_tags, test_size =0.2,random_state=42)"
      ],
      "metadata": {
        "id": "vD0Q4JKiI1OZ"
      },
      "execution_count": null,
      "outputs": []
    },
    {
      "cell_type": "code",
      "source": [
        "x_train.head()"
      ],
      "metadata": {
        "colab": {
          "base_uri": "https://localhost:8080/",
          "height": 204
        },
        "outputId": "a0dddd7a-0505-47c8-c8c8-9a5e7370aab4",
        "id": "YIgvXG26I1OZ"
      },
      "execution_count": null,
      "outputs": [
        {
          "output_type": "execute_result",
          "data": {
            "text/plain": [
              "        unique_id      tokens  section\n",
              "531848       1629     results        1\n",
              "283071        967  likelihood        1\n",
              "377881       1088           a        1\n",
              "72099        1443    enriched        1\n",
              "31789        1153     cluster        1"
            ],
            "text/html": [
              "\n",
              "  <div id=\"df-9594de8f-3f4d-4075-9862-e0cdc0259b2c\">\n",
              "    <div class=\"colab-df-container\">\n",
              "      <div>\n",
              "<style scoped>\n",
              "    .dataframe tbody tr th:only-of-type {\n",
              "        vertical-align: middle;\n",
              "    }\n",
              "\n",
              "    .dataframe tbody tr th {\n",
              "        vertical-align: top;\n",
              "    }\n",
              "\n",
              "    .dataframe thead th {\n",
              "        text-align: right;\n",
              "    }\n",
              "</style>\n",
              "<table border=\"1\" class=\"dataframe\">\n",
              "  <thead>\n",
              "    <tr style=\"text-align: right;\">\n",
              "      <th></th>\n",
              "      <th>unique_id</th>\n",
              "      <th>tokens</th>\n",
              "      <th>section</th>\n",
              "    </tr>\n",
              "  </thead>\n",
              "  <tbody>\n",
              "    <tr>\n",
              "      <th>531848</th>\n",
              "      <td>1629</td>\n",
              "      <td>results</td>\n",
              "      <td>1</td>\n",
              "    </tr>\n",
              "    <tr>\n",
              "      <th>283071</th>\n",
              "      <td>967</td>\n",
              "      <td>likelihood</td>\n",
              "      <td>1</td>\n",
              "    </tr>\n",
              "    <tr>\n",
              "      <th>377881</th>\n",
              "      <td>1088</td>\n",
              "      <td>a</td>\n",
              "      <td>1</td>\n",
              "    </tr>\n",
              "    <tr>\n",
              "      <th>72099</th>\n",
              "      <td>1443</td>\n",
              "      <td>enriched</td>\n",
              "      <td>1</td>\n",
              "    </tr>\n",
              "    <tr>\n",
              "      <th>31789</th>\n",
              "      <td>1153</td>\n",
              "      <td>cluster</td>\n",
              "      <td>1</td>\n",
              "    </tr>\n",
              "  </tbody>\n",
              "</table>\n",
              "</div>\n",
              "      <button class=\"colab-df-convert\" onclick=\"convertToInteractive('df-9594de8f-3f4d-4075-9862-e0cdc0259b2c')\"\n",
              "              title=\"Convert this dataframe to an interactive table.\"\n",
              "              style=\"display:none;\">\n",
              "        \n",
              "  <svg xmlns=\"http://www.w3.org/2000/svg\" height=\"24px\"viewBox=\"0 0 24 24\"\n",
              "       width=\"24px\">\n",
              "    <path d=\"M0 0h24v24H0V0z\" fill=\"none\"/>\n",
              "    <path d=\"M18.56 5.44l.94 2.06.94-2.06 2.06-.94-2.06-.94-.94-2.06-.94 2.06-2.06.94zm-11 1L8.5 8.5l.94-2.06 2.06-.94-2.06-.94L8.5 2.5l-.94 2.06-2.06.94zm10 10l.94 2.06.94-2.06 2.06-.94-2.06-.94-.94-2.06-.94 2.06-2.06.94z\"/><path d=\"M17.41 7.96l-1.37-1.37c-.4-.4-.92-.59-1.43-.59-.52 0-1.04.2-1.43.59L10.3 9.45l-7.72 7.72c-.78.78-.78 2.05 0 2.83L4 21.41c.39.39.9.59 1.41.59.51 0 1.02-.2 1.41-.59l7.78-7.78 2.81-2.81c.8-.78.8-2.07 0-2.86zM5.41 20L4 18.59l7.72-7.72 1.47 1.35L5.41 20z\"/>\n",
              "  </svg>\n",
              "      </button>\n",
              "      \n",
              "  <style>\n",
              "    .colab-df-container {\n",
              "      display:flex;\n",
              "      flex-wrap:wrap;\n",
              "      gap: 12px;\n",
              "    }\n",
              "\n",
              "    .colab-df-convert {\n",
              "      background-color: #E8F0FE;\n",
              "      border: none;\n",
              "      border-radius: 50%;\n",
              "      cursor: pointer;\n",
              "      display: none;\n",
              "      fill: #1967D2;\n",
              "      height: 32px;\n",
              "      padding: 0 0 0 0;\n",
              "      width: 32px;\n",
              "    }\n",
              "\n",
              "    .colab-df-convert:hover {\n",
              "      background-color: #E2EBFA;\n",
              "      box-shadow: 0px 1px 2px rgba(60, 64, 67, 0.3), 0px 1px 3px 1px rgba(60, 64, 67, 0.15);\n",
              "      fill: #174EA6;\n",
              "    }\n",
              "\n",
              "    [theme=dark] .colab-df-convert {\n",
              "      background-color: #3B4455;\n",
              "      fill: #D2E3FC;\n",
              "    }\n",
              "\n",
              "    [theme=dark] .colab-df-convert:hover {\n",
              "      background-color: #434B5C;\n",
              "      box-shadow: 0px 1px 3px 1px rgba(0, 0, 0, 0.15);\n",
              "      filter: drop-shadow(0px 1px 2px rgba(0, 0, 0, 0.3));\n",
              "      fill: #FFFFFF;\n",
              "    }\n",
              "  </style>\n",
              "\n",
              "      <script>\n",
              "        const buttonEl =\n",
              "          document.querySelector('#df-9594de8f-3f4d-4075-9862-e0cdc0259b2c button.colab-df-convert');\n",
              "        buttonEl.style.display =\n",
              "          google.colab.kernel.accessAllowed ? 'block' : 'none';\n",
              "\n",
              "        async function convertToInteractive(key) {\n",
              "          const element = document.querySelector('#df-9594de8f-3f4d-4075-9862-e0cdc0259b2c');\n",
              "          const dataTable =\n",
              "            await google.colab.kernel.invokeFunction('convertToInteractive',\n",
              "                                                     [key], {});\n",
              "          if (!dataTable) return;\n",
              "\n",
              "          const docLinkHtml = 'Like what you see? Visit the ' +\n",
              "            '<a target=\"_blank\" href=https://colab.research.google.com/notebooks/data_table.ipynb>data table notebook</a>'\n",
              "            + ' to learn more about interactive tables.';\n",
              "          element.innerHTML = '';\n",
              "          dataTable['output_type'] = 'display_data';\n",
              "          await google.colab.output.renderOutput(dataTable, element);\n",
              "          const docLink = document.createElement('div');\n",
              "          docLink.innerHTML = docLinkHtml;\n",
              "          element.appendChild(docLink);\n",
              "        }\n",
              "      </script>\n",
              "    </div>\n",
              "  </div>\n",
              "  "
            ]
          },
          "metadata": {},
          "execution_count": 47
        }
      ]
    },
    {
      "cell_type": "code",
      "source": [
        "\n",
        "train_data = pd.DataFrame({\"sentence_id\":x_train[\"unique_id\"],\"words\":x_train[\"tokens\"],\"section\":x_train[\"section\"],\"labels\":y_train})\n",
        "test_data = pd.DataFrame({\"sentence_id\":x_test[\"unique_id\"],\"words\":x_test[\"tokens\"],\"section\":x_test[\"section\"],\"labels\":y_test})"
      ],
      "metadata": {
        "id": "mDZ6kI7VI1OZ"
      },
      "execution_count": null,
      "outputs": []
    },
    {
      "cell_type": "code",
      "source": [
        "train_data.head()"
      ],
      "metadata": {
        "colab": {
          "base_uri": "https://localhost:8080/",
          "height": 206
        },
        "outputId": "96305a71-ea48-47e5-ad75-228037226d0f",
        "id": "-PVooUkjI1OZ"
      },
      "execution_count": null,
      "outputs": [
        {
          "output_type": "execute_result",
          "data": {
            "text/plain": [
              "        sentence_id       words  section     labels\n",
              "92625          1226           a        1          O\n",
              "154550         1721          by        1          O\n",
              "264718         1020    vertical        1          O\n",
              "207472         1657  astrometry        1          O\n",
              "55137          1451       3000.        1  I-FORMULA"
            ],
            "text/html": [
              "\n",
              "  <div id=\"df-02bcef23-a10e-422b-aca9-eefeecaca78b\">\n",
              "    <div class=\"colab-df-container\">\n",
              "      <div>\n",
              "<style scoped>\n",
              "    .dataframe tbody tr th:only-of-type {\n",
              "        vertical-align: middle;\n",
              "    }\n",
              "\n",
              "    .dataframe tbody tr th {\n",
              "        vertical-align: top;\n",
              "    }\n",
              "\n",
              "    .dataframe thead th {\n",
              "        text-align: right;\n",
              "    }\n",
              "</style>\n",
              "<table border=\"1\" class=\"dataframe\">\n",
              "  <thead>\n",
              "    <tr style=\"text-align: right;\">\n",
              "      <th></th>\n",
              "      <th>sentence_id</th>\n",
              "      <th>words</th>\n",
              "      <th>section</th>\n",
              "      <th>labels</th>\n",
              "    </tr>\n",
              "  </thead>\n",
              "  <tbody>\n",
              "    <tr>\n",
              "      <th>92625</th>\n",
              "      <td>1226</td>\n",
              "      <td>a</td>\n",
              "      <td>1</td>\n",
              "      <td>O</td>\n",
              "    </tr>\n",
              "    <tr>\n",
              "      <th>154550</th>\n",
              "      <td>1721</td>\n",
              "      <td>by</td>\n",
              "      <td>1</td>\n",
              "      <td>O</td>\n",
              "    </tr>\n",
              "    <tr>\n",
              "      <th>264718</th>\n",
              "      <td>1020</td>\n",
              "      <td>vertical</td>\n",
              "      <td>1</td>\n",
              "      <td>O</td>\n",
              "    </tr>\n",
              "    <tr>\n",
              "      <th>207472</th>\n",
              "      <td>1657</td>\n",
              "      <td>astrometry</td>\n",
              "      <td>1</td>\n",
              "      <td>O</td>\n",
              "    </tr>\n",
              "    <tr>\n",
              "      <th>55137</th>\n",
              "      <td>1451</td>\n",
              "      <td>3000.</td>\n",
              "      <td>1</td>\n",
              "      <td>I-FORMULA</td>\n",
              "    </tr>\n",
              "  </tbody>\n",
              "</table>\n",
              "</div>\n",
              "      <button class=\"colab-df-convert\" onclick=\"convertToInteractive('df-02bcef23-a10e-422b-aca9-eefeecaca78b')\"\n",
              "              title=\"Convert this dataframe to an interactive table.\"\n",
              "              style=\"display:none;\">\n",
              "        \n",
              "  <svg xmlns=\"http://www.w3.org/2000/svg\" height=\"24px\"viewBox=\"0 0 24 24\"\n",
              "       width=\"24px\">\n",
              "    <path d=\"M0 0h24v24H0V0z\" fill=\"none\"/>\n",
              "    <path d=\"M18.56 5.44l.94 2.06.94-2.06 2.06-.94-2.06-.94-.94-2.06-.94 2.06-2.06.94zm-11 1L8.5 8.5l.94-2.06 2.06-.94-2.06-.94L8.5 2.5l-.94 2.06-2.06.94zm10 10l.94 2.06.94-2.06 2.06-.94-2.06-.94-.94-2.06-.94 2.06-2.06.94z\"/><path d=\"M17.41 7.96l-1.37-1.37c-.4-.4-.92-.59-1.43-.59-.52 0-1.04.2-1.43.59L10.3 9.45l-7.72 7.72c-.78.78-.78 2.05 0 2.83L4 21.41c.39.39.9.59 1.41.59.51 0 1.02-.2 1.41-.59l7.78-7.78 2.81-2.81c.8-.78.8-2.07 0-2.86zM5.41 20L4 18.59l7.72-7.72 1.47 1.35L5.41 20z\"/>\n",
              "  </svg>\n",
              "      </button>\n",
              "      \n",
              "  <style>\n",
              "    .colab-df-container {\n",
              "      display:flex;\n",
              "      flex-wrap:wrap;\n",
              "      gap: 12px;\n",
              "    }\n",
              "\n",
              "    .colab-df-convert {\n",
              "      background-color: #E8F0FE;\n",
              "      border: none;\n",
              "      border-radius: 50%;\n",
              "      cursor: pointer;\n",
              "      display: none;\n",
              "      fill: #1967D2;\n",
              "      height: 32px;\n",
              "      padding: 0 0 0 0;\n",
              "      width: 32px;\n",
              "    }\n",
              "\n",
              "    .colab-df-convert:hover {\n",
              "      background-color: #E2EBFA;\n",
              "      box-shadow: 0px 1px 2px rgba(60, 64, 67, 0.3), 0px 1px 3px 1px rgba(60, 64, 67, 0.15);\n",
              "      fill: #174EA6;\n",
              "    }\n",
              "\n",
              "    [theme=dark] .colab-df-convert {\n",
              "      background-color: #3B4455;\n",
              "      fill: #D2E3FC;\n",
              "    }\n",
              "\n",
              "    [theme=dark] .colab-df-convert:hover {\n",
              "      background-color: #434B5C;\n",
              "      box-shadow: 0px 1px 3px 1px rgba(0, 0, 0, 0.15);\n",
              "      filter: drop-shadow(0px 1px 2px rgba(0, 0, 0, 0.3));\n",
              "      fill: #FFFFFF;\n",
              "    }\n",
              "  </style>\n",
              "\n",
              "      <script>\n",
              "        const buttonEl =\n",
              "          document.querySelector('#df-02bcef23-a10e-422b-aca9-eefeecaca78b button.colab-df-convert');\n",
              "        buttonEl.style.display =\n",
              "          google.colab.kernel.accessAllowed ? 'block' : 'none';\n",
              "\n",
              "        async function convertToInteractive(key) {\n",
              "          const element = document.querySelector('#df-02bcef23-a10e-422b-aca9-eefeecaca78b');\n",
              "          const dataTable =\n",
              "            await google.colab.kernel.invokeFunction('convertToInteractive',\n",
              "                                                     [key], {});\n",
              "          if (!dataTable) return;\n",
              "\n",
              "          const docLinkHtml = 'Like what you see? Visit the ' +\n",
              "            '<a target=\"_blank\" href=https://colab.research.google.com/notebooks/data_table.ipynb>data table notebook</a>'\n",
              "            + ' to learn more about interactive tables.';\n",
              "          element.innerHTML = '';\n",
              "          dataTable['output_type'] = 'display_data';\n",
              "          await google.colab.output.renderOutput(dataTable, element);\n",
              "          const docLink = document.createElement('div');\n",
              "          docLink.innerHTML = docLinkHtml;\n",
              "          element.appendChild(docLink);\n",
              "        }\n",
              "      </script>\n",
              "    </div>\n",
              "  </div>\n",
              "  "
            ]
          },
          "metadata": {},
          "execution_count": 59
        }
      ]
    },
    {
      "cell_type": "code",
      "source": [
        "from simpletransformers.ner import NERModel,NERArgs"
      ],
      "metadata": {
        "id": "vnWSkhrYI1OZ"
      },
      "execution_count": null,
      "outputs": []
    },
    {
      "cell_type": "code",
      "source": [
        "\n",
        "label = train_data[\"labels\"].unique().tolist()\n",
        "label"
      ],
      "metadata": {
        "colab": {
          "base_uri": "https://localhost:8080/"
        },
        "outputId": "d6cdb850-0ab7-4c49-bcb7-9a4fb8d03510",
        "id": "yaappJLDI1OZ"
      },
      "execution_count": null,
      "outputs": [
        {
          "output_type": "execute_result",
          "data": {
            "text/plain": [
              "['O',\n",
              " 'I-FORMULA',\n",
              " 'I-TELESCOPE',\n",
              " 'I-GRANT',\n",
              " 'I-WAVELENGTH',\n",
              " 'I-CITATION',\n",
              " 'I-OBSERVATORY',\n",
              " 'B-SURVEY',\n",
              " 'B-CITATION',\n",
              " 'B-ORGANIZATION',\n",
              " 'B-MODEL',\n",
              " 'I-SURVEY',\n",
              " 'B-GRANT',\n",
              " 'B-PERSON',\n",
              " 'I-ORGANIZATION',\n",
              " 'I-CELESTIALOBJECT',\n",
              " 'B-OBSERVATIONALTECHNIQUES',\n",
              " 'B-TELESCOPE',\n",
              " 'I-COMPUTINGFACILITY',\n",
              " 'B-TEXTGARBAGE',\n",
              " 'B-INSTRUMENT',\n",
              " 'I-MODEL',\n",
              " 'I-FELLOWSHIP',\n",
              " 'I-ARCHIVE',\n",
              " 'B-WAVELENGTH',\n",
              " 'I-LOCATION',\n",
              " 'I-PERSON',\n",
              " 'B-CELESTIALOBJECT',\n",
              " 'B-OBSERVATORY',\n",
              " 'I-EVENT',\n",
              " 'B-LOCATION',\n",
              " 'B-URL',\n",
              " 'B-COLLABORATION',\n",
              " 'I-DATASET',\n",
              " 'B-ARCHIVE',\n",
              " 'I-CELESTIALOBJECTREGION',\n",
              " 'B-ENTITYOFFUTUREINTEREST',\n",
              " 'B-FORMULA',\n",
              " 'B-DATABASE',\n",
              " 'B-TAG',\n",
              " 'I-CELESTIALREGION',\n",
              " 'I-SOFTWARE',\n",
              " 'B-COMPUTINGFACILITY',\n",
              " 'B-SOFTWARE',\n",
              " 'B-IDENTIFIER',\n",
              " 'B-MISSION',\n",
              " 'B-FELLOWSHIP',\n",
              " 'I-COLLABORATION',\n",
              " 'B-CELESTIALREGION',\n",
              " 'I-TAG',\n",
              " 'B-DATASET',\n",
              " 'I-INSTRUMENT',\n",
              " 'B-PROPOSAL',\n",
              " 'I-DATABASE',\n",
              " 'B-CELESTIALOBJECTREGION',\n",
              " 'B-EVENT',\n",
              " 'I-PROPOSAL',\n",
              " 'I-URL',\n",
              " 'I-IDENTIFIER',\n",
              " 'I-OBSERVATIONALTECHNIQUES',\n",
              " 'I-TEXTGARBAGE',\n",
              " 'I-ENTITYOFFUTUREINTEREST',\n",
              " 'I-MISSION']"
            ]
          },
          "metadata": {},
          "execution_count": 61
        }
      ]
    },
    {
      "cell_type": "code",
      "source": [
        "args = NERArgs()\n",
        "args.num_train_epochs = 5\n",
        "args.learning_rate = 1e-4\n",
        "args.overwrite_output_dir =True\n",
        "args.train_batch_size = 32\n",
        "args.eval_batch_size = 32"
      ],
      "metadata": {
        "id": "g39kwacbI1OZ"
      },
      "execution_count": null,
      "outputs": []
    },
    {
      "cell_type": "code",
      "source": [],
      "metadata": {
        "id": "gXJX1d1RA4Zb"
      },
      "execution_count": null,
      "outputs": []
    },
    {
      "cell_type": "code",
      "source": [
        "model_bert = NERModel('bert', 'bert-base-cased',labels=label,args =args)"
      ],
      "metadata": {
        "colab": {
          "base_uri": "https://localhost:8080/"
        },
        "outputId": "af595a6c-f37c-4abe-c19d-d233faa4b801",
        "id": "xPc4OTELI1OZ"
      },
      "execution_count": null,
      "outputs": [
        {
          "output_type": "stream",
          "name": "stderr",
          "text": [
            "Some weights of the model checkpoint at bert-base-cased were not used when initializing BertForTokenClassification: ['cls.predictions.transform.dense.weight', 'cls.seq_relationship.bias', 'cls.predictions.transform.dense.bias', 'cls.predictions.bias', 'cls.predictions.decoder.weight', 'cls.predictions.transform.LayerNorm.bias', 'cls.seq_relationship.weight', 'cls.predictions.transform.LayerNorm.weight']\n",
            "- This IS expected if you are initializing BertForTokenClassification from the checkpoint of a model trained on another task or with another architecture (e.g. initializing a BertForSequenceClassification model from a BertForPreTraining model).\n",
            "- This IS NOT expected if you are initializing BertForTokenClassification from the checkpoint of a model that you expect to be exactly identical (initializing a BertForSequenceClassification model from a BertForSequenceClassification model).\n",
            "Some weights of BertForTokenClassification were not initialized from the model checkpoint at bert-base-cased and are newly initialized: ['classifier.bias', 'classifier.weight']\n",
            "You should probably TRAIN this model on a down-stream task to be able to use it for predictions and inference.\n"
          ]
        }
      ]
    },
    {
      "cell_type": "code",
      "source": [
        "model_bert.train_model(train_data,eval_data = test_data,acc=accuracy_score)"
      ],
      "metadata": {
        "colab": {
          "base_uri": "https://localhost:8080/",
          "height": 346,
          "referenced_widgets": [
            "f839c84331834b6b9ec15b93cb9ac101",
            "ed2c462ff43b491abda4951ec755e3a5",
            "45b212a182c646db89030390af75aa8b",
            "ce9b97ee817c464e9291fd70b1ed4b4c",
            "2e129869be654dee868b8d8dd6500823",
            "b021d7d919c34f119e38b805e5349a6c",
            "8e3416a6dc984edb91dff9da194ebe42",
            "df5be997703541c4aad351ef3ef56272",
            "81409d7bfba84a50b2afc318e6a094a6",
            "11dffc1e16174b1480a80e49ae39240d",
            "0b6e129e54dd415ea3674c0c8f061bda",
            "1c1f6cfae4a246c69d93b4ad55a519f6",
            "fdb598d6523846c48fc8a317077cc229",
            "b4d40e2334f84457bc61cea109428c40",
            "4044683dcc814a30a4b3eef43f173015",
            "c4d109e0e6e14ee399da30b9e6066b63",
            "30eedede510f4b0b958d8c5a66586f29",
            "c36aeafa4076412481879c6b0c87f684",
            "d42837171e794fbcab3e76508f3037d0",
            "8fc323d349f44550ab76da14a0628519",
            "190a8a8a72ce4eb8a12ad593287c6e57",
            "e81243c3c9be47bfb312018ad84dfb1f",
            "db0164f4ab5e4ae28d36bc63b6d769ca",
            "cafdb34b805549b1a9969149d43ab112",
            "ad4d3ac54fec4b1b895cbcd35bfb613d",
            "039b26d935ab4fd2863e908c9a7b250a",
            "f08e05adedbd46debef3bce8e4685519",
            "9930a7db3acd4910b3407c09d5556854",
            "0183717e5ecf430abbea8e517b1eaa0d",
            "059be03ea8e94f0795e6e6b406a309ae",
            "4af11aee42b642c2915aefe336cc3d9c",
            "23103fbc1c474615ae6df08063bcc3ff",
            "8fa55fbe1cae4285889ef11905d6b672",
            "20f2ddaf701e45e2b9be51d8e685f1d4",
            "96d0d031bbdc4d1fbe82a684e72dd336",
            "e489101e439f4c169c991e32ca66801c",
            "91a9f8f56e994d0a8c9020126bedb22b",
            "0d119b1be7e44a348e0a585f349f070f",
            "e199190152354e819ed661cc25ade8bf",
            "76197cd698724fb092362fe067acc89e",
            "2f137288b60f46c4ad05a519a383ab78",
            "824a5a174d22496ba153506394d583f5",
            "13e337fe09064c3c9bf41509166e6b8c",
            "d1d83b0dbef447e9beef643ae760ffa9",
            "094823e924874580b1acb11786908514",
            "1a5a08e31c4c4a4ea8c4aa2ffed8d19b",
            "6eade302fde840008df4e9d119ebaea8",
            "bdbbe6f8cd664b53b1b21cb80529af58",
            "818c2d9d6df6433cb0201b585e422d83",
            "512d204526a547d5a6fced7ed055ae35",
            "70f32a9bcc574142892656c337b1249e",
            "85ca34fe66c44d06aa06a9c87a6ff278",
            "6b8b3994d50e479897a8e08e293ca057",
            "eec9efce52024f1096260dae18b1b082",
            "ba304c759d1d4976ab28a2a0aa08c050",
            "276ee7a908954edd86acea6ce07c70fc",
            "77c94f6b9b4d447fb0a73cde83ff3f73",
            "60fa3f66749e4914a1532c3f6ef3855b",
            "f657ffe624af4ef0bf6aa6854b28a6e2",
            "687dc659d9a2483b8ac07cd89bbf561a",
            "3483bd92fed446278b4feace81c70611",
            "0c5e93abb3124cceac129bd85425789a",
            "ea9a207370714f5b9a1fd45e5d8ccd68",
            "3cfee86079f9483fbcb02c1c695db3bb",
            "1cefe42d25634f5d8af6d5947176031d",
            "1afe05de275f424fb2fea7d73d2834db",
            "83c6bf4ca62842a8bdaa5fae4e1821a9",
            "85815c9dc0a84f00b5f78e09ad009f56",
            "0b4e495b9c3e4ee79e6caec87540781f",
            "8af8c7cc7d624f20b7f0bdf8b5ea170a",
            "994c5c7b7b4645c4befdb91eb42a6546",
            "c1be37e6f3a84616bcdb74fcbc10fa41",
            "a31ee622a86d4b0ab6b80a1fdc00d636",
            "44f00af88bba4f19aaa3163a6b1e0d2b",
            "d0cff8b038d54a57a1235c60146f8ff6",
            "287d3fdc37b9476daf4729215bdb8abf",
            "5e4dc63a7ee943b7bb479242cb759531"
          ]
        },
        "outputId": "7610059e-6675-4029-b779-13e904b5b5bb",
        "id": "SLBiQN5DI1Oa"
      },
      "execution_count": null,
      "outputs": [
        {
          "output_type": "display_data",
          "data": {
            "text/plain": [
              "  0%|          | 0/3 [00:01<?, ?it/s]"
            ],
            "application/vnd.jupyter.widget-view+json": {
              "version_major": 2,
              "version_minor": 0,
              "model_id": "f839c84331834b6b9ec15b93cb9ac101"
            }
          },
          "metadata": {}
        },
        {
          "output_type": "stream",
          "name": "stderr",
          "text": [
            "/usr/local/lib/python3.7/dist-packages/transformers/optimization.py:310: FutureWarning: This implementation of AdamW is deprecated and will be removed in a future version. Use the PyTorch implementation torch.optim.AdamW instead, or set `no_deprecation_warning=True` to disable this warning\n",
            "  FutureWarning,\n"
          ]
        },
        {
          "output_type": "display_data",
          "data": {
            "text/plain": [
              "Epoch:   0%|          | 0/5 [00:00<?, ?it/s]"
            ],
            "application/vnd.jupyter.widget-view+json": {
              "version_major": 2,
              "version_minor": 0,
              "model_id": "1c1f6cfae4a246c69d93b4ad55a519f6"
            }
          },
          "metadata": {}
        },
        {
          "output_type": "display_data",
          "data": {
            "text/plain": [
              "Running Epoch 0 of 5:   0%|          | 0/55 [00:00<?, ?it/s]"
            ],
            "application/vnd.jupyter.widget-view+json": {
              "version_major": 2,
              "version_minor": 0,
              "model_id": "db0164f4ab5e4ae28d36bc63b6d769ca"
            }
          },
          "metadata": {}
        },
        {
          "output_type": "stream",
          "name": "stderr",
          "text": [
            "/usr/local/lib/python3.7/dist-packages/torch/optim/lr_scheduler.py:136: UserWarning: Detected call of `lr_scheduler.step()` before `optimizer.step()`. In PyTorch 1.1.0 and later, you should call them in the opposite order: `optimizer.step()` before `lr_scheduler.step()`.  Failure to do this will result in PyTorch skipping the first value of the learning rate schedule. See more details at https://pytorch.org/docs/stable/optim.html#how-to-adjust-learning-rate\n",
            "  \"https://pytorch.org/docs/stable/optim.html#how-to-adjust-learning-rate\", UserWarning)\n"
          ]
        },
        {
          "output_type": "display_data",
          "data": {
            "text/plain": [
              "Running Epoch 1 of 5:   0%|          | 0/55 [00:00<?, ?it/s]"
            ],
            "application/vnd.jupyter.widget-view+json": {
              "version_major": 2,
              "version_minor": 0,
              "model_id": "20f2ddaf701e45e2b9be51d8e685f1d4"
            }
          },
          "metadata": {}
        },
        {
          "output_type": "display_data",
          "data": {
            "text/plain": [
              "Running Epoch 2 of 5:   0%|          | 0/55 [00:00<?, ?it/s]"
            ],
            "application/vnd.jupyter.widget-view+json": {
              "version_major": 2,
              "version_minor": 0,
              "model_id": "094823e924874580b1acb11786908514"
            }
          },
          "metadata": {}
        },
        {
          "output_type": "display_data",
          "data": {
            "text/plain": [
              "Running Epoch 3 of 5:   0%|          | 0/55 [00:00<?, ?it/s]"
            ],
            "application/vnd.jupyter.widget-view+json": {
              "version_major": 2,
              "version_minor": 0,
              "model_id": "276ee7a908954edd86acea6ce07c70fc"
            }
          },
          "metadata": {}
        },
        {
          "output_type": "display_data",
          "data": {
            "text/plain": [
              "Running Epoch 4 of 5:   0%|          | 0/55 [00:00<?, ?it/s]"
            ],
            "application/vnd.jupyter.widget-view+json": {
              "version_major": 2,
              "version_minor": 0,
              "model_id": "83c6bf4ca62842a8bdaa5fae4e1821a9"
            }
          },
          "metadata": {}
        },
        {
          "output_type": "execute_result",
          "data": {
            "text/plain": [
              "(275, 0.5241156461563977)"
            ]
          },
          "metadata": {},
          "execution_count": 56
        }
      ]
    },
    {
      "cell_type": "code",
      "source": [
        "metric_result, model_outputs, prediction_list = model.eval_model(test_data)"
      ],
      "metadata": {
        "colab": {
          "base_uri": "https://localhost:8080/",
          "height": 81,
          "referenced_widgets": [
            "20876b9e90584bb3be765148060925f5",
            "a58658b8c7ef48df86e8da56423e3bca",
            "5835022b0ecb459995862f19629cde69",
            "85844e63a46241cea19823e7f2eece55",
            "d70fb1265fb0464e84340b1a4c92a6b2",
            "f34963f1227e49bda1d951302d320aa5",
            "42767f6d5e034891be7407a40afa1c0a",
            "be4f797778144914a7b1c9541e5919d8",
            "8828633a25344994b63462b1e31ffd80",
            "641b3259237044279b0ecc047e5ad033",
            "aa1bfdd1ac3c45b2ba760ad45a6438ec",
            "440731ea40f44b07af101f7c3b020d22",
            "51b48df9d9214e2cbe864b181dfcc8a7",
            "7d99371a3b83405dbf40c1da04b756f8",
            "d090237adbc04bd7bf657b899418ebda",
            "4bd19ddbf7cf4b77b7a5488fc70552d8",
            "8fd71378c1fe4cf2b28d59a72d226dc9",
            "e9fe9adc63804e63a315dca197be7277",
            "41134daaa84b4800987e8b1c2b291907",
            "a74b9c32847d459e953c6bf3ea2b9f67",
            "a1032111619242fab319401ca7013b67",
            "92f5f1ced62049028609a9a50d499af7"
          ]
        },
        "outputId": "13a14315-8d7f-4bf4-d26a-69fbbfe83625",
        "id": "sQJHkomlI1Oa"
      },
      "execution_count": null,
      "outputs": [
        {
          "output_type": "display_data",
          "data": {
            "text/plain": [
              "  0%|          | 0/3 [00:00<?, ?it/s]"
            ],
            "application/vnd.jupyter.widget-view+json": {
              "version_major": 2,
              "version_minor": 0,
              "model_id": "20876b9e90584bb3be765148060925f5"
            }
          },
          "metadata": {}
        },
        {
          "output_type": "display_data",
          "data": {
            "text/plain": [
              "Running Evaluation:   0%|          | 0/55 [00:00<?, ?it/s]"
            ],
            "application/vnd.jupyter.widget-view+json": {
              "version_major": 2,
              "version_minor": 0,
              "model_id": "440731ea40f44b07af101f7c3b020d22"
            }
          },
          "metadata": {}
        }
      ]
    },
    {
      "cell_type": "code",
      "source": [
        "metric_result"
      ],
      "metadata": {
        "colab": {
          "base_uri": "https://localhost:8080/"
        },
        "outputId": "1fc8b1c5-7feb-4629-992b-7fdba22c4a61",
        "id": "4bMiK4HII1Oa"
      },
      "execution_count": null,
      "outputs": [
        {
          "output_type": "execute_result",
          "data": {
            "text/plain": [
              "{'eval_loss': 0.41959052248434586,\n",
              " 'precision': 0.7092160302253407,\n",
              " 'recall': 0.6289338279286826,\n",
              " 'f1_score': 0.6666666666666666}"
            ]
          },
          "metadata": {},
          "execution_count": 58
        }
      ]
    },
    {
      "cell_type": "code",
      "source": [
        "prediction_weispdataset, model_output_weisp = model_bert.predict(test_data['words'])"
      ],
      "metadata": {
        "colab": {
          "base_uri": "https://localhost:8080/",
          "height": 186,
          "referenced_widgets": [
            "07951d1fe0c84d2a9bd4aee65f621e81",
            "0454d5ce0966471f974ae275ea48b1da",
            "3bb644f6b8ff4eba9276092509a10889",
            "d44d0b0f90ad4a2d810da58d32d132a6",
            "edfc228713af46b18cd16461d2ca5cd4",
            "42baf498d63d4e1998026548abc79008",
            "3d6072c259aa46138cc831bd78aec102",
            "b8c7028f59ce40e1a225e93f04ff80b6",
            "6948be5bfa304ec99eb385fd60035c76",
            "bbacd8fa335c446e95442aedd868383e",
            "11c9a0776c3544959dc4eecf9cb363dd",
            "22cdebc54bfe452887bfaf2d5976ba8e",
            "4fbd79d54b9b4efcbc4fb8553bb2c4cb",
            "85af33b87caf4fa3a0a56c1deb41601f",
            "66144e0d6b234f6c8cc6cc2c0071d05f",
            "5c9130b798ea4bd0bcb2ddb85eb10266",
            "bae9e8b15e314746bc649bef5c22abb3",
            "c7b7aac9a4f8467b971b16214cac8edc",
            "5102cf0d2fc14e0bb6af5b01bc5cf46d",
            "79bb12c151924acaa3a72833da3daf55",
            "632761c6d5c441e5b9cf45fad72e3a7f",
            "37b24d74af7148d193f957f549096c52"
          ]
        },
        "outputId": "672caa0c-2b66-4cc2-d82e-35e26c7243df",
        "id": "Xbv5PL5UI1Oa"
      },
      "execution_count": null,
      "outputs": [
        {
          "output_type": "display_data",
          "data": {
            "text/plain": [
              "  0%|          | 0/3 [00:00<?, ?it/s]"
            ],
            "application/vnd.jupyter.widget-view+json": {
              "version_major": 2,
              "version_minor": 0,
              "model_id": "07951d1fe0c84d2a9bd4aee65f621e81"
            }
          },
          "metadata": {}
        },
        {
          "output_type": "display_data",
          "data": {
            "text/plain": [
              "Running Prediction:   0%|          | 0/3583 [00:00<?, ?it/s]"
            ],
            "application/vnd.jupyter.widget-view+json": {
              "version_major": 2,
              "version_minor": 0,
              "model_id": "22cdebc54bfe452887bfaf2d5976ba8e"
            }
          },
          "metadata": {}
        },
        {
          "output_type": "stream",
          "name": "stderr",
          "text": [
            "tcmalloc: large alloc 1073995776 bytes == 0x176322000 @  0x7fb8f433d1e7 0x7fb8e60ad0ce 0x7fb8e6103cf5 0x7fb8e61ac86d 0x7fb8e61ad17f 0x7fb8e61ad2d0 0x4bc4ab 0x7fb8e60ee944 0x59371f 0x515244 0x549576 0x593fce 0x548ae9 0x5127f1 0x549576 0x4bca8a 0x7fb8e60ee944 0x59371f 0x515244 0x549576 0x593fce 0x548ae9 0x5127f1 0x549e0e 0x593fce 0x511e2c 0x549576 0x604173 0x62a809 0x59358d 0x515244\n",
            "tcmalloc: large alloc 1208180736 bytes == 0x13e3d8000 @  0x7fb8f433d1e7 0x7fb8e60ad0ce 0x7fb8e6103cf5 0x7fb8e61ac86d 0x7fb8e61ad17f 0x7fb8e61ad2d0 0x4bc4ab 0x7fb8e60ee944 0x59371f 0x515244 0x549576 0x593fce 0x548ae9 0x5127f1 0x549576 0x4bca8a 0x7fb8e60ee944 0x59371f 0x515244 0x549576 0x593fce 0x548ae9 0x5127f1 0x549e0e 0x593fce 0x511e2c 0x549576 0x604173 0x62a809 0x59358d 0x515244\n",
            "tcmalloc: large alloc 1359396864 bytes == 0xf6420000 @  0x7fb8f433d1e7 0x7fb8e60ad0ce 0x7fb8e6103cf5 0x7fb8e61ac86d 0x7fb8e61ad17f 0x7fb8e61ad2d0 0x4bc4ab 0x7fb8e60ee944 0x59371f 0x515244 0x549576 0x593fce 0x548ae9 0x5127f1 0x549576 0x4bca8a 0x7fb8e60ee944 0x59371f 0x515244 0x549576 0x593fce 0x548ae9 0x5127f1 0x549e0e 0x593fce 0x511e2c 0x549576 0x604173 0x62a809 0x59358d 0x515244\n",
            "tcmalloc: large alloc 1529192448 bytes == 0x7fb530bae000 @  0x7fb8f433d1e7 0x7fb8e60ad0ce 0x7fb8e6103cf5 0x7fb8e61ac86d 0x7fb8e61ad17f 0x7fb8e61ad2d0 0x4bc4ab 0x7fb8e60ee944 0x59371f 0x515244 0x549576 0x593fce 0x548ae9 0x5127f1 0x549576 0x4bca8a 0x7fb8e60ee944 0x59371f 0x515244 0x549576 0x593fce 0x548ae9 0x5127f1 0x549e0e 0x593fce 0x511e2c 0x549576 0x604173 0x62a809 0x59358d 0x515244\n",
            "tcmalloc: large alloc 1720147968 bytes == 0xf6420000 @  0x7fb8f433d1e7 0x7fb8e60ad0ce 0x7fb8e6103cf5 0x7fb8e61ac86d 0x7fb8e61ad17f 0x7fb8e61ad2d0 0x4bc4ab 0x7fb8e60ee944 0x59371f 0x515244 0x549576 0x593fce 0x548ae9 0x5127f1 0x549576 0x4bca8a 0x7fb8e60ee944 0x59371f 0x515244 0x549576 0x593fce 0x548ae9 0x5127f1 0x549e0e 0x593fce 0x511e2c 0x549576 0x604173 0x62a809 0x59358d 0x515244\n"
          ]
        }
      ]
    },
    {
      "cell_type": "code",
      "source": [
        "y_test[:40]"
      ],
      "metadata": {
        "colab": {
          "base_uri": "https://localhost:8080/"
        },
        "outputId": "695e0f5d-52bc-4be2-ec3f-56fdc8734ab5",
        "id": "F5uUBSSPI1Oa"
      },
      "execution_count": null,
      "outputs": [
        {
          "output_type": "execute_result",
          "data": {
            "text/plain": [
              "321574                 O\n",
              "137129                 O\n",
              "566656                 O\n",
              "98239                  O\n",
              "154820                 O\n",
              "67308                  O\n",
              "526370                 O\n",
              "249705                 O\n",
              "318240                 O\n",
              "555175                 O\n",
              "79994                  O\n",
              "247211    I-ORGANIZATION\n",
              "529543                 O\n",
              "355249                 O\n",
              "439294        I-CITATION\n",
              "411602                 O\n",
              "438694                 O\n",
              "483248                 O\n",
              "492035                 O\n",
              "138486                 O\n",
              "359424                 O\n",
              "472328                 O\n",
              "282605     B-OBSERVATORY\n",
              "301091         I-FORMULA\n",
              "95037                  O\n",
              "344197                 O\n",
              "415464           B-MODEL\n",
              "158737                 O\n",
              "403536                 O\n",
              "404933                 O\n",
              "186379                 O\n",
              "102086                 O\n",
              "98526                  O\n",
              "163903          B-PERSON\n",
              "417476                 O\n",
              "544963                 O\n",
              "127904                 O\n",
              "501430                 O\n",
              "114669                 O\n",
              "338804                 O\n",
              "Name: ner_tags, dtype: object"
            ]
          },
          "metadata": {},
          "execution_count": 71
        }
      ]
    },
    {
      "cell_type": "code",
      "source": [
        "prediction_weispdataset[:40]"
      ],
      "metadata": {
        "colab": {
          "base_uri": "https://localhost:8080/"
        },
        "outputId": "3fbad1c7-eae5-4ddd-96b6-d5a26c8ba5c8",
        "id": "hiFW7Tc7I1Oa"
      },
      "execution_count": null,
      "outputs": [
        {
          "output_type": "execute_result",
          "data": {
            "text/plain": [
              "[[{'1': 'O'}],\n",
              " [{'are': 'O'}],\n",
              " [{'of': 'O'}],\n",
              " [{'method.': 'O'}],\n",
              " [{'C': 'O'}],\n",
              " [{'larger': 'O'}],\n",
              " [{'also': 'O'}],\n",
              " [{'emission': 'O'}],\n",
              " [{'assumption': 'O'}],\n",
              " [{'early': 'O'}],\n",
              " [{'still': 'O'}],\n",
              " [{'Foundation.': 'I-ORGANIZATION'}],\n",
              " [{'the': 'O'}],\n",
              " [{'galaxies,': 'O'}],\n",
              " [{'et': 'I-CITATION'}],\n",
              " [{'gives': 'O'}],\n",
              " [{'ACKNOWLEDGEMENTS': 'O'}],\n",
              " [{'the': 'O'}],\n",
              " [{'the': 'O'}],\n",
              " [{'and': 'O'}],\n",
              " [{'overcrowding,': 'O'}],\n",
              " [{'this': 'O'}],\n",
              " [{'National': 'B-ORGANIZATION'}],\n",
              " [{'≈': 'I-FORMULA'}],\n",
              " [{'of': 'O'}],\n",
              " [{'are': 'O'}],\n",
              " [{'Markov': 'I-PERSON'}],\n",
              " [{'abundances': 'O'}],\n",
              " [{'of': 'O'}],\n",
              " [{'the': 'O'}],\n",
              " [{'HCO': 'O'}],\n",
              " [{'and': 'O'}],\n",
              " [{'we': 'O'}],\n",
              " [{'SWJ': 'B-PERSON'}],\n",
              " [{'improved': 'O'}],\n",
              " [{'linear': 'O'}],\n",
              " [{'model.': 'O'}],\n",
              " [{'eigenvalues': 'O'}],\n",
              " [{'not': 'O'}],\n",
              " [{'2': 'O'}]]"
            ]
          },
          "metadata": {},
          "execution_count": 70
        }
      ]
    },
    {
      "cell_type": "markdown",
      "source": [
        "The method to save this model was referred from here: https://stackoverflow.com/questions/59340061/saving-a-fine-tuned-bert-model"
      ],
      "metadata": {
        "id": "xoExyXprI1Oa"
      }
    },
    {
      "cell_type": "code",
      "source": [
        "import torch"
      ],
      "metadata": {
        "id": "19zMHvkEI1Oa"
      },
      "execution_count": null,
      "outputs": []
    },
    {
      "cell_type": "code",
      "source": [
        "\n",
        "torch.save(model_bert, '/content/gdrive/MyDrive/AI3 Project/model_bert.h5')\n",
        "\n",
        "#saved_model = torch.load('path/to/model')"
      ],
      "metadata": {
        "id": "Z5xcUr75I1Ob"
      },
      "execution_count": null,
      "outputs": []
    },
    {
      "cell_type": "code",
      "source": [
        "saved_model = torch.load('/content/gdrive/MyDrive/AI3 Project/model_bert.h5')"
      ],
      "metadata": {
        "id": "gAC-MaNpI1Ob"
      },
      "execution_count": null,
      "outputs": []
    },
    {
      "cell_type": "code",
      "source": [
        "# Example sentence and checking predictions\n",
        "pred,_=saved_model.predict(['USA has Tesla headquarters with amazing cars.'])"
      ],
      "metadata": {
        "colab": {
          "base_uri": "https://localhost:8080/",
          "height": 81,
          "referenced_widgets": [
            "7d5e275014384787b9f11d9af2f6f804",
            "82283700a9ba401fbc5453e2424e8278",
            "9d95ac32b996424ca86e22c39165ca9a",
            "50fbc8653c0944e7b7ef395e78e9ba00",
            "6e2e4d064c464ce08b86a93bfc07f4ac",
            "6bfdc22ace514fd2a421d34dbfe1e86b",
            "d7fe8e3f561c472c8a1b23f263d31c6e",
            "16caac149dbd4a469ae534e7c71595de",
            "ad5138f27c814c90a4ae112441d7ef54",
            "e3411a7fab1d49ffb795bc77557a9cd8",
            "35c3c46fa14e4ebc9e5c1fd420025962",
            "974301de53d64d738ec417a6edf4d215",
            "71e3b616c92840f09e8ef638339a182c",
            "025d0ca2341149919d2f679980149f1d",
            "0a1a11282b1240ab8b163fea67d585f2",
            "68159dfd56b548fa83fb8cd4f2b07ad6",
            "47c9d9891fea49669e06850fd81d1b09",
            "d2fde5d1ba814441948c4be9bbe791e4",
            "6ee1dd99820b45d2bd7b85c257ea2a7b",
            "bee73225063147a8a84e3320529aae8a",
            "37141805f24941a3a8364ca42918db3a",
            "0243c18c3f2744c896dd6b4e7768daf9"
          ]
        },
        "outputId": "b386016e-920a-45f3-abbe-8c8fec1d7728",
        "id": "TSkWJxH0I1Ob"
      },
      "execution_count": null,
      "outputs": [
        {
          "output_type": "display_data",
          "data": {
            "text/plain": [
              "  0%|          | 0/1 [00:00<?, ?it/s]"
            ],
            "application/vnd.jupyter.widget-view+json": {
              "version_major": 2,
              "version_minor": 0,
              "model_id": "7d5e275014384787b9f11d9af2f6f804"
            }
          },
          "metadata": {}
        },
        {
          "output_type": "display_data",
          "data": {
            "text/plain": [
              "Running Prediction:   0%|          | 0/1 [00:00<?, ?it/s]"
            ],
            "application/vnd.jupyter.widget-view+json": {
              "version_major": 2,
              "version_minor": 0,
              "model_id": "974301de53d64d738ec417a6edf4d215"
            }
          },
          "metadata": {}
        }
      ]
    },
    {
      "cell_type": "code",
      "source": [
        "pred"
      ],
      "metadata": {
        "colab": {
          "base_uri": "https://localhost:8080/"
        },
        "outputId": "77d294f5-2a83-45b8-e2b7-f3aaf0e8d57d",
        "id": "yGNR7F2xI1Ob"
      },
      "execution_count": null,
      "outputs": [
        {
          "output_type": "execute_result",
          "data": {
            "text/plain": [
              "[[{'USA': 'B-LOCATION'},\n",
              "  {'has': 'O'},\n",
              "  {'Tesla': 'B-ORGANIZATION'},\n",
              "  {'headquarters': 'I-ORGANIZATION'},\n",
              "  {'with': 'O'},\n",
              "  {'amazing': 'O'},\n",
              "  {'cars.': 'O'}]]"
            ]
          },
          "metadata": {},
          "execution_count": 80
        }
      ]
    },
    {
      "cell_type": "code",
      "source": [
        "prediction_ner,model_ner_output=saved_model.predict(test_data['words'])"
      ],
      "metadata": {
        "colab": {
          "base_uri": "https://localhost:8080/",
          "height": 186,
          "referenced_widgets": [
            "cf289e25f484464a9e9d3b56e9dfd80b",
            "7e25468bcdc84074a59a708bcc9e66f7",
            "caed330752964124bfaf896f75314e07",
            "c5ae8981b21b498d92283bcedf6b81c3",
            "bc2342ed5c9a4f148515b34d55c65b5b",
            "8eed676c827a49029a0d803e1b3ab3cd",
            "88b7937a7cf942c584cdea1e20cd3ddc",
            "0753c55294f945c68945423cb8f259de",
            "5a8bfc133f6a4349bd1c3a826b46012e",
            "88da45a482ba4fb09d0f103a85873813",
            "a12fa758665844a7925c286f075d6213",
            "6dab9d0b869a45dc8ac6bf2a162750e4",
            "4dd71c06b4ad45ec9bb04ef095f6b196",
            "5eca17664a4447fda145587997415e10",
            "b4efddcd58e0409db6f38df2d9dcc65f",
            "4975c1f9c89d4243826acbc7f4f6eaab",
            "24272a3e051f4ce298772e3ce6e22f3c",
            "f28813a6731b48428e9be97a13e78409",
            "90217bdb5393471c920e51068011347f",
            "6d0c4b69d9a3471fae824aa28dfad136",
            "48fc5354e77f4ed7b8e6158408c2edae",
            "c61b2b86447745679f542a17ddf44a2c"
          ]
        },
        "outputId": "2d3e1d62-455f-428f-fdd1-ad90f7727782",
        "id": "qagv0Fz8I1Ob"
      },
      "execution_count": null,
      "outputs": [
        {
          "output_type": "display_data",
          "data": {
            "text/plain": [
              "  0%|          | 0/3 [00:00<?, ?it/s]"
            ],
            "application/vnd.jupyter.widget-view+json": {
              "version_major": 2,
              "version_minor": 0,
              "model_id": "cf289e25f484464a9e9d3b56e9dfd80b"
            }
          },
          "metadata": {}
        },
        {
          "output_type": "display_data",
          "data": {
            "text/plain": [
              "Running Prediction:   0%|          | 0/3583 [00:00<?, ?it/s]"
            ],
            "application/vnd.jupyter.widget-view+json": {
              "version_major": 2,
              "version_minor": 0,
              "model_id": "6dab9d0b869a45dc8ac6bf2a162750e4"
            }
          },
          "metadata": {}
        },
        {
          "output_type": "stream",
          "name": "stderr",
          "text": [
            "tcmalloc: large alloc 1073995776 bytes == 0xfcc64000 @  0x7f9fc9eae1e7 0x7f9fbbc1e0ce 0x7f9fbbc74cf5 0x7f9fbbd1d86d 0x7f9fbbd1e17f 0x7f9fbbd1e2d0 0x4bc4ab 0x7f9fbbc5f944 0x59371f 0x515244 0x549576 0x593fce 0x548ae9 0x5127f1 0x549576 0x4bca8a 0x7f9fbbc5f944 0x59371f 0x515244 0x549576 0x593fce 0x548ae9 0x5127f1 0x549e0e 0x593fce 0x511e2c 0x549576 0x604173 0x62a809 0x59358d 0x515244\n",
            "tcmalloc: large alloc 1208180736 bytes == 0xfcc64000 @  0x7f9fc9eae1e7 0x7f9fbbc1e0ce 0x7f9fbbc74cf5 0x7f9fbbd1d86d 0x7f9fbbd1e17f 0x7f9fbbd1e2d0 0x4bc4ab 0x7f9fbbc5f944 0x59371f 0x515244 0x549576 0x593fce 0x548ae9 0x5127f1 0x549576 0x4bca8a 0x7f9fbbc5f944 0x59371f 0x515244 0x549576 0x593fce 0x548ae9 0x5127f1 0x549e0e 0x593fce 0x511e2c 0x549576 0x604173 0x62a809 0x59358d 0x515244\n",
            "tcmalloc: large alloc 1359396864 bytes == 0x96ab2000 @  0x7f9fc9eae1e7 0x7f9fbbc1e0ce 0x7f9fbbc74cf5 0x7f9fbbd1d86d 0x7f9fbbd1e17f 0x7f9fbbd1e2d0 0x4bc4ab 0x7f9fbbc5f944 0x59371f 0x515244 0x549576 0x593fce 0x548ae9 0x5127f1 0x549576 0x4bca8a 0x7f9fbbc5f944 0x59371f 0x515244 0x549576 0x593fce 0x548ae9 0x5127f1 0x549e0e 0x593fce 0x511e2c 0x549576 0x604173 0x62a809 0x59358d 0x515244\n",
            "tcmalloc: large alloc 1529192448 bytes == 0xfcc64000 @  0x7f9fc9eae1e7 0x7f9fbbc1e0ce 0x7f9fbbc74cf5 0x7f9fbbd1d86d 0x7f9fbbd1e17f 0x7f9fbbd1e2d0 0x4bc4ab 0x7f9fbbc5f944 0x59371f 0x515244 0x549576 0x593fce 0x548ae9 0x5127f1 0x549576 0x4bca8a 0x7f9fbbc5f944 0x59371f 0x515244 0x549576 0x593fce 0x548ae9 0x5127f1 0x549e0e 0x593fce 0x511e2c 0x549576 0x604173 0x62a809 0x59358d 0x515244\n",
            "tcmalloc: large alloc 1720147968 bytes == 0xfcc64000 @  0x7f9fc9eae1e7 0x7f9fbbc1e0ce 0x7f9fbbc74cf5 0x7f9fbbd1d86d 0x7f9fbbd1e17f 0x7f9fbbd1e2d0 0x4bc4ab 0x7f9fbbc5f944 0x59371f 0x515244 0x549576 0x593fce 0x548ae9 0x5127f1 0x549576 0x4bca8a 0x7f9fbbc5f944 0x59371f 0x515244 0x549576 0x593fce 0x548ae9 0x5127f1 0x549e0e 0x593fce 0x511e2c 0x549576 0x604173 0x62a809 0x59358d 0x515244\n"
          ]
        }
      ]
    },
    {
      "cell_type": "code",
      "source": [
        "prediction_ner[:2]"
      ],
      "metadata": {
        "colab": {
          "base_uri": "https://localhost:8080/"
        },
        "outputId": "937a203e-fe3a-42e8-cc0e-53978fdb0ceb",
        "id": "KgDoKTRhI1Ob"
      },
      "execution_count": null,
      "outputs": [
        {
          "output_type": "execute_result",
          "data": {
            "text/plain": [
              "[[{'emission,': 'O'}], [{'of': 'O'}]]"
            ]
          },
          "metadata": {},
          "execution_count": 35
        }
      ]
    },
    {
      "cell_type": "code",
      "source": [
        "predicted_list= []\n",
        "for l in prediction_ner: \n",
        "  for dictionary in l:\n",
        "    for k,v in dictionary.items():\n",
        "      predicted_list.append(v)"
      ],
      "metadata": {
        "id": "arZfKWPFI1Ob"
      },
      "execution_count": null,
      "outputs": []
    },
    {
      "cell_type": "code",
      "source": [
        "score=accuracy_score(test_data['labels'], predicted_list)"
      ],
      "metadata": {
        "id": "pFvZuLMeI1Ob"
      },
      "execution_count": null,
      "outputs": []
    },
    {
      "cell_type": "code",
      "source": [
        "print(f'The accuracy score is {score:.2f}')"
      ],
      "metadata": {
        "colab": {
          "base_uri": "https://localhost:8080/"
        },
        "outputId": "edc1c8f3-8476-44c7-a0de-8e4b63536ae4",
        "id": "x1d4c7afI1Ob"
      },
      "execution_count": null,
      "outputs": [
        {
          "output_type": "stream",
          "name": "stdout",
          "text": [
            "The accuracy score is 0.89\n"
          ]
        }
      ]
    },
    {
      "cell_type": "markdown",
      "source": [
        "## Step D : Results and Conclusion :"
      ],
      "metadata": {
        "id": "iVxNPEd4JQ-c"
      }
    },
    {
      "cell_type": "markdown",
      "source": [
        "In the field of print media  manually searching for tags in articles such as major places, organisations, people, or things can be time-consuming, so Named Entity Recognition automates the entire process. NER can also be combined with recommendation systems to provide\n",
        " more precise results.\n",
        "\n",
        "We examined four models in this project and we saw that bidirectional GRU gave the maximum accuracy of ner_tag prediction. We have used embedding layer in each model\n",
        "\n",
        "\n",
        "\n",
        "Since the data set is highly imbalanced\n",
        "So we have to work on data set balancing. \n"
      ],
      "metadata": {
        "id": "rIn6RFAEJZhE"
      }
    }
  ]
}